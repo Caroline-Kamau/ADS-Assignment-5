{
  "cells": [
    {
      "cell_type": "markdown",
      "source": [
        "# Assignment 5\r\n",
        "You have been provided with data from the Titanic Passenger Roaster,depicting if an individual survivedthe  sinking  of  the  ship  or  not. ‘Survived’ is denoted by (1) and ‘Did Not Survive’ isdenoted by (0). Only using Plotly,graph the following information from the data. Feel free to use any  of  the  Plotly  submodules  discussed (graph_objects,  plotly  express  or  iplot).Remember  to label  your  axis  and  name  your  plots  appropriately.  For  each  given  question,  only  one  figureis expected."
      ],
      "metadata": {
        "nteract": {
          "transient": {
            "deleting": false
          }
        }
      }
    },
    {
      "cell_type": "code",
      "source": [
        "#Imports\r\n",
        "import pandas as pd\r\n",
        "import plotly.graph_objects as go\r\n",
        "import plotly.express as px"
      ],
      "outputs": [],
      "execution_count": 3,
      "metadata": {
        "collapsed": true,
        "jupyter": {
          "source_hidden": false,
          "outputs_hidden": false
        },
        "nteract": {
          "transient": {
            "deleting": false
          }
        },
        "gather": {
          "logged": 1618335200582
        }
      }
    },
    {
      "cell_type": "markdown",
      "source": [
        "## Loading the Data"
      ],
      "metadata": {
        "nteract": {
          "transient": {
            "deleting": false
          }
        }
      }
    },
    {
      "cell_type": "code",
      "source": [
        "passengers = pd.read_csv('Titanic Data.csv')"
      ],
      "outputs": [],
      "execution_count": 5,
      "metadata": {
        "collapsed": true,
        "jupyter": {
          "source_hidden": false,
          "outputs_hidden": false
        },
        "nteract": {
          "transient": {
            "deleting": false
          }
        },
        "gather": {
          "logged": 1618335284004
        }
      }
    },
    {
      "cell_type": "code",
      "source": [
        "passengers.shape"
      ],
      "outputs": [
        {
          "output_type": "execute_result",
          "execution_count": 6,
          "data": {
            "text/plain": "(891, 12)"
          },
          "metadata": {}
        }
      ],
      "execution_count": 6,
      "metadata": {
        "collapsed": true,
        "jupyter": {
          "source_hidden": false,
          "outputs_hidden": false
        },
        "nteract": {
          "transient": {
            "deleting": false
          }
        },
        "gather": {
          "logged": 1618335298821
        }
      }
    },
    {
      "cell_type": "code",
      "source": [
        "passengers.info()"
      ],
      "outputs": [
        {
          "output_type": "stream",
          "name": "stdout",
          "text": [
            "<class 'pandas.core.frame.DataFrame'>\n",
            "RangeIndex: 891 entries, 0 to 890\n",
            "Data columns (total 12 columns):\n",
            "PassengerId    891 non-null int64\n",
            "Survived       891 non-null int64\n",
            "Pclass         891 non-null int64\n",
            "Name           891 non-null object\n",
            "Sex            891 non-null object\n",
            "Age            714 non-null float64\n",
            "SibSp          891 non-null int64\n",
            "Parch          891 non-null int64\n",
            "Ticket         891 non-null object\n",
            "Fare           891 non-null float64\n",
            "Cabin          204 non-null object\n",
            "Embarked       889 non-null object\n",
            "dtypes: float64(2), int64(5), object(5)\n",
            "memory usage: 83.7+ KB\n"
          ]
        }
      ],
      "execution_count": 7,
      "metadata": {
        "collapsed": true,
        "jupyter": {
          "source_hidden": false,
          "outputs_hidden": false
        },
        "nteract": {
          "transient": {
            "deleting": false
          }
        },
        "gather": {
          "logged": 1618335311832
        }
      }
    },
    {
      "cell_type": "code",
      "source": [
        "passengers.describe()"
      ],
      "outputs": [
        {
          "output_type": "execute_result",
          "execution_count": 9,
          "data": {
            "text/plain": "       PassengerId    Survived      Pclass         Age       SibSp  \\\ncount   891.000000  891.000000  891.000000  714.000000  891.000000   \nmean    446.000000    0.383838    2.308642   29.699118    0.523008   \nstd     257.353842    0.486592    0.836071   14.526497    1.102743   \nmin       1.000000    0.000000    1.000000    0.420000    0.000000   \n25%     223.500000    0.000000    2.000000   20.125000    0.000000   \n50%     446.000000    0.000000    3.000000   28.000000    0.000000   \n75%     668.500000    1.000000    3.000000   38.000000    1.000000   \nmax     891.000000    1.000000    3.000000   80.000000    8.000000   \n\n            Parch        Fare  \ncount  891.000000  891.000000  \nmean     0.381594   32.204208  \nstd      0.806057   49.693429  \nmin      0.000000    0.000000  \n25%      0.000000    7.910400  \n50%      0.000000   14.454200  \n75%      0.000000   31.000000  \nmax      6.000000  512.329200  ",
            "text/html": "<div>\n<style scoped>\n    .dataframe tbody tr th:only-of-type {\n        vertical-align: middle;\n    }\n\n    .dataframe tbody tr th {\n        vertical-align: top;\n    }\n\n    .dataframe thead th {\n        text-align: right;\n    }\n</style>\n<table border=\"1\" class=\"dataframe\">\n  <thead>\n    <tr style=\"text-align: right;\">\n      <th></th>\n      <th>PassengerId</th>\n      <th>Survived</th>\n      <th>Pclass</th>\n      <th>Age</th>\n      <th>SibSp</th>\n      <th>Parch</th>\n      <th>Fare</th>\n    </tr>\n  </thead>\n  <tbody>\n    <tr>\n      <th>count</th>\n      <td>891.000000</td>\n      <td>891.000000</td>\n      <td>891.000000</td>\n      <td>714.000000</td>\n      <td>891.000000</td>\n      <td>891.000000</td>\n      <td>891.000000</td>\n    </tr>\n    <tr>\n      <th>mean</th>\n      <td>446.000000</td>\n      <td>0.383838</td>\n      <td>2.308642</td>\n      <td>29.699118</td>\n      <td>0.523008</td>\n      <td>0.381594</td>\n      <td>32.204208</td>\n    </tr>\n    <tr>\n      <th>std</th>\n      <td>257.353842</td>\n      <td>0.486592</td>\n      <td>0.836071</td>\n      <td>14.526497</td>\n      <td>1.102743</td>\n      <td>0.806057</td>\n      <td>49.693429</td>\n    </tr>\n    <tr>\n      <th>min</th>\n      <td>1.000000</td>\n      <td>0.000000</td>\n      <td>1.000000</td>\n      <td>0.420000</td>\n      <td>0.000000</td>\n      <td>0.000000</td>\n      <td>0.000000</td>\n    </tr>\n    <tr>\n      <th>25%</th>\n      <td>223.500000</td>\n      <td>0.000000</td>\n      <td>2.000000</td>\n      <td>20.125000</td>\n      <td>0.000000</td>\n      <td>0.000000</td>\n      <td>7.910400</td>\n    </tr>\n    <tr>\n      <th>50%</th>\n      <td>446.000000</td>\n      <td>0.000000</td>\n      <td>3.000000</td>\n      <td>28.000000</td>\n      <td>0.000000</td>\n      <td>0.000000</td>\n      <td>14.454200</td>\n    </tr>\n    <tr>\n      <th>75%</th>\n      <td>668.500000</td>\n      <td>1.000000</td>\n      <td>3.000000</td>\n      <td>38.000000</td>\n      <td>1.000000</td>\n      <td>0.000000</td>\n      <td>31.000000</td>\n    </tr>\n    <tr>\n      <th>max</th>\n      <td>891.000000</td>\n      <td>1.000000</td>\n      <td>3.000000</td>\n      <td>80.000000</td>\n      <td>8.000000</td>\n      <td>6.000000</td>\n      <td>512.329200</td>\n    </tr>\n  </tbody>\n</table>\n</div>"
          },
          "metadata": {}
        }
      ],
      "execution_count": 9,
      "metadata": {
        "collapsed": true,
        "jupyter": {
          "source_hidden": false,
          "outputs_hidden": false
        },
        "nteract": {
          "transient": {
            "deleting": false
          }
        },
        "gather": {
          "logged": 1618335363139
        }
      }
    },
    {
      "cell_type": "markdown",
      "source": [
        "## 1. Show the age distribution in the data using a histogram."
      ],
      "metadata": {
        "nteract": {
          "transient": {
            "deleting": false
          }
        }
      }
    },
    {
      "cell_type": "code",
      "source": [
        "trace = go.Histogram(\r\n",
        "    x=passengers['Age'],\r\n",
        "    opacity=0.8,\r\n",
        "    name = \"Passengers Age\",\r\n",
        "    marker=dict(color='rgba(126, 50, 196, 0.6)'))\r\n",
        "\r\n",
        "data = [trace]\r\n",
        "layout = go.Layout(\r\n",
        "                   title=' Titanic Passengers Age Distribution',\r\n",
        "                   xaxis=dict(title='Age'),\r\n",
        "                   yaxis=dict( title='Passenger Count'),\r\n",
        ")\r\n",
        "fig = go.Figure(data=data, layout=layout)\r\n",
        "fig.show()"
      ],
      "outputs": [
        {
          "output_type": "display_data",
          "data": {
            "application/vnd.plotly.v1+json": {
              "config": {
                "plotlyServerURL": "https://plot.ly"
              },
              "data": [
                {
                  "marker": {
                    "color": "rgba(126, 50, 196, 0.6)"
                  },
                  "name": "Passengers Age",
                  "opacity": 0.8,
                  "type": "histogram",
                  "x": [
                    22,
                    38,
                    26,
                    35,
                    35,
                    null,
                    54,
                    2,
                    27,
                    14,
                    4,
                    58,
                    20,
                    39,
                    14,
                    55,
                    2,
                    null,
                    31,
                    null,
                    35,
                    34,
                    15,
                    28,
                    8,
                    38,
                    null,
                    19,
                    null,
                    null,
                    40,
                    null,
                    null,
                    66,
                    28,
                    42,
                    null,
                    21,
                    18,
                    14,
                    40,
                    27,
                    null,
                    3,
                    19,
                    null,
                    null,
                    null,
                    null,
                    18,
                    7,
                    21,
                    49,
                    29,
                    65,
                    null,
                    21,
                    28.5,
                    5,
                    11,
                    22,
                    38,
                    45,
                    4,
                    null,
                    null,
                    29,
                    19,
                    17,
                    26,
                    32,
                    16,
                    21,
                    26,
                    32,
                    25,
                    null,
                    null,
                    0.83,
                    30,
                    22,
                    29,
                    null,
                    28,
                    17,
                    33,
                    16,
                    null,
                    23,
                    24,
                    29,
                    20,
                    46,
                    26,
                    59,
                    null,
                    71,
                    23,
                    34,
                    34,
                    28,
                    null,
                    21,
                    33,
                    37,
                    28,
                    21,
                    null,
                    38,
                    null,
                    47,
                    14.5,
                    22,
                    20,
                    17,
                    21,
                    70.5,
                    29,
                    24,
                    2,
                    21,
                    null,
                    32.5,
                    32.5,
                    54,
                    12,
                    null,
                    24,
                    null,
                    45,
                    33,
                    20,
                    47,
                    29,
                    25,
                    23,
                    19,
                    37,
                    16,
                    24,
                    null,
                    22,
                    24,
                    19,
                    18,
                    19,
                    27,
                    9,
                    36.5,
                    42,
                    51,
                    22,
                    55.5,
                    40.5,
                    null,
                    51,
                    16,
                    30,
                    null,
                    null,
                    44,
                    40,
                    26,
                    17,
                    1,
                    9,
                    null,
                    45,
                    null,
                    28,
                    61,
                    4,
                    1,
                    21,
                    56,
                    18,
                    null,
                    50,
                    30,
                    36,
                    null,
                    null,
                    9,
                    1,
                    4,
                    null,
                    null,
                    45,
                    40,
                    36,
                    32,
                    19,
                    19,
                    3,
                    44,
                    58,
                    null,
                    42,
                    null,
                    24,
                    28,
                    null,
                    34,
                    45.5,
                    18,
                    2,
                    32,
                    26,
                    16,
                    40,
                    24,
                    35,
                    22,
                    30,
                    null,
                    31,
                    27,
                    42,
                    32,
                    30,
                    16,
                    27,
                    51,
                    null,
                    38,
                    22,
                    19,
                    20.5,
                    18,
                    null,
                    35,
                    29,
                    59,
                    5,
                    24,
                    null,
                    44,
                    8,
                    19,
                    33,
                    null,
                    null,
                    29,
                    22,
                    30,
                    44,
                    25,
                    24,
                    37,
                    54,
                    null,
                    29,
                    62,
                    30,
                    41,
                    29,
                    null,
                    30,
                    35,
                    50,
                    null,
                    3,
                    52,
                    40,
                    null,
                    36,
                    16,
                    25,
                    58,
                    35,
                    null,
                    25,
                    41,
                    37,
                    null,
                    63,
                    45,
                    null,
                    7,
                    35,
                    65,
                    28,
                    16,
                    19,
                    null,
                    33,
                    30,
                    22,
                    42,
                    22,
                    26,
                    19,
                    36,
                    24,
                    24,
                    null,
                    23.5,
                    2,
                    null,
                    50,
                    null,
                    null,
                    19,
                    null,
                    null,
                    0.92,
                    null,
                    17,
                    30,
                    30,
                    24,
                    18,
                    26,
                    28,
                    43,
                    26,
                    24,
                    54,
                    31,
                    40,
                    22,
                    27,
                    30,
                    22,
                    null,
                    36,
                    61,
                    36,
                    31,
                    16,
                    null,
                    45.5,
                    38,
                    16,
                    null,
                    null,
                    29,
                    41,
                    45,
                    45,
                    2,
                    24,
                    28,
                    25,
                    36,
                    24,
                    40,
                    null,
                    3,
                    42,
                    23,
                    null,
                    15,
                    25,
                    null,
                    28,
                    22,
                    38,
                    null,
                    null,
                    40,
                    29,
                    45,
                    35,
                    null,
                    30,
                    60,
                    null,
                    null,
                    24,
                    25,
                    18,
                    19,
                    22,
                    3,
                    null,
                    22,
                    27,
                    20,
                    19,
                    42,
                    1,
                    32,
                    35,
                    null,
                    18,
                    1,
                    36,
                    null,
                    17,
                    36,
                    21,
                    28,
                    23,
                    24,
                    22,
                    31,
                    46,
                    23,
                    28,
                    39,
                    26,
                    21,
                    28,
                    20,
                    34,
                    51,
                    3,
                    21,
                    null,
                    null,
                    null,
                    33,
                    null,
                    44,
                    null,
                    34,
                    18,
                    30,
                    10,
                    null,
                    21,
                    29,
                    28,
                    18,
                    null,
                    28,
                    19,
                    null,
                    32,
                    28,
                    null,
                    42,
                    17,
                    50,
                    14,
                    21,
                    24,
                    64,
                    31,
                    45,
                    20,
                    25,
                    28,
                    null,
                    4,
                    13,
                    34,
                    5,
                    52,
                    36,
                    null,
                    30,
                    49,
                    null,
                    29,
                    65,
                    null,
                    50,
                    null,
                    48,
                    34,
                    47,
                    48,
                    null,
                    38,
                    null,
                    56,
                    null,
                    0.75,
                    null,
                    38,
                    33,
                    23,
                    22,
                    null,
                    34,
                    29,
                    22,
                    2,
                    9,
                    null,
                    50,
                    63,
                    25,
                    null,
                    35,
                    58,
                    30,
                    9,
                    null,
                    21,
                    55,
                    71,
                    21,
                    null,
                    54,
                    null,
                    25,
                    24,
                    17,
                    21,
                    null,
                    37,
                    16,
                    18,
                    33,
                    null,
                    28,
                    26,
                    29,
                    null,
                    36,
                    54,
                    24,
                    47,
                    34,
                    null,
                    36,
                    32,
                    30,
                    22,
                    null,
                    44,
                    null,
                    40.5,
                    50,
                    null,
                    39,
                    23,
                    2,
                    null,
                    17,
                    null,
                    30,
                    7,
                    45,
                    30,
                    null,
                    22,
                    36,
                    9,
                    11,
                    32,
                    50,
                    64,
                    19,
                    null,
                    33,
                    8,
                    17,
                    27,
                    null,
                    22,
                    22,
                    62,
                    48,
                    null,
                    39,
                    36,
                    null,
                    40,
                    28,
                    null,
                    null,
                    24,
                    19,
                    29,
                    null,
                    32,
                    62,
                    53,
                    36,
                    null,
                    16,
                    19,
                    34,
                    39,
                    null,
                    32,
                    25,
                    39,
                    54,
                    36,
                    null,
                    18,
                    47,
                    60,
                    22,
                    null,
                    35,
                    52,
                    47,
                    null,
                    37,
                    36,
                    null,
                    49,
                    null,
                    49,
                    24,
                    null,
                    null,
                    44,
                    35,
                    36,
                    30,
                    27,
                    22,
                    40,
                    39,
                    null,
                    null,
                    null,
                    35,
                    24,
                    34,
                    26,
                    4,
                    26,
                    27,
                    42,
                    20,
                    21,
                    21,
                    61,
                    57,
                    21,
                    26,
                    null,
                    80,
                    51,
                    32,
                    null,
                    9,
                    28,
                    32,
                    31,
                    41,
                    null,
                    20,
                    24,
                    2,
                    null,
                    0.75,
                    48,
                    19,
                    56,
                    null,
                    23,
                    null,
                    18,
                    21,
                    null,
                    18,
                    24,
                    null,
                    32,
                    23,
                    58,
                    50,
                    40,
                    47,
                    36,
                    20,
                    32,
                    25,
                    null,
                    43,
                    null,
                    40,
                    31,
                    70,
                    31,
                    null,
                    18,
                    24.5,
                    18,
                    43,
                    36,
                    null,
                    27,
                    20,
                    14,
                    60,
                    25,
                    14,
                    19,
                    18,
                    15,
                    31,
                    4,
                    null,
                    25,
                    60,
                    52,
                    44,
                    null,
                    49,
                    42,
                    18,
                    35,
                    18,
                    25,
                    26,
                    39,
                    45,
                    42,
                    22,
                    null,
                    24,
                    null,
                    48,
                    29,
                    52,
                    19,
                    38,
                    27,
                    null,
                    33,
                    6,
                    17,
                    34,
                    50,
                    27,
                    20,
                    30,
                    null,
                    25,
                    25,
                    29,
                    11,
                    null,
                    23,
                    23,
                    28.5,
                    48,
                    35,
                    null,
                    null,
                    null,
                    36,
                    21,
                    24,
                    31,
                    70,
                    16,
                    30,
                    19,
                    31,
                    4,
                    6,
                    33,
                    23,
                    48,
                    0.67,
                    28,
                    18,
                    34,
                    33,
                    null,
                    41,
                    20,
                    36,
                    16,
                    51,
                    null,
                    30.5,
                    null,
                    32,
                    24,
                    48,
                    57,
                    null,
                    54,
                    18,
                    null,
                    5,
                    null,
                    43,
                    13,
                    17,
                    29,
                    null,
                    25,
                    25,
                    18,
                    8,
                    1,
                    46,
                    null,
                    16,
                    null,
                    null,
                    25,
                    39,
                    49,
                    31,
                    30,
                    30,
                    34,
                    31,
                    11,
                    0.42,
                    27,
                    31,
                    39,
                    18,
                    39,
                    33,
                    26,
                    39,
                    35,
                    6,
                    30.5,
                    null,
                    23,
                    31,
                    43,
                    10,
                    52,
                    27,
                    38,
                    27,
                    2,
                    null,
                    null,
                    1,
                    null,
                    62,
                    15,
                    0.83,
                    null,
                    23,
                    18,
                    39,
                    21,
                    null,
                    32,
                    null,
                    20,
                    16,
                    30,
                    34.5,
                    17,
                    42,
                    null,
                    35,
                    28,
                    null,
                    4,
                    74,
                    9,
                    16,
                    44,
                    18,
                    45,
                    51,
                    24,
                    null,
                    41,
                    21,
                    48,
                    null,
                    24,
                    42,
                    27,
                    31,
                    null,
                    4,
                    26,
                    47,
                    33,
                    47,
                    28,
                    15,
                    20,
                    19,
                    null,
                    56,
                    25,
                    33,
                    22,
                    28,
                    25,
                    39,
                    27,
                    19,
                    null,
                    26,
                    32
                  ]
                }
              ],
              "layout": {
                "template": {
                  "data": {
                    "bar": [
                      {
                        "error_x": {
                          "color": "#2a3f5f"
                        },
                        "error_y": {
                          "color": "#2a3f5f"
                        },
                        "marker": {
                          "line": {
                            "color": "#E5ECF6",
                            "width": 0.5
                          }
                        },
                        "type": "bar"
                      }
                    ],
                    "barpolar": [
                      {
                        "marker": {
                          "line": {
                            "color": "#E5ECF6",
                            "width": 0.5
                          }
                        },
                        "type": "barpolar"
                      }
                    ],
                    "carpet": [
                      {
                        "aaxis": {
                          "endlinecolor": "#2a3f5f",
                          "gridcolor": "white",
                          "linecolor": "white",
                          "minorgridcolor": "white",
                          "startlinecolor": "#2a3f5f"
                        },
                        "baxis": {
                          "endlinecolor": "#2a3f5f",
                          "gridcolor": "white",
                          "linecolor": "white",
                          "minorgridcolor": "white",
                          "startlinecolor": "#2a3f5f"
                        },
                        "type": "carpet"
                      }
                    ],
                    "choropleth": [
                      {
                        "colorbar": {
                          "outlinewidth": 0,
                          "ticks": ""
                        },
                        "type": "choropleth"
                      }
                    ],
                    "contour": [
                      {
                        "colorbar": {
                          "outlinewidth": 0,
                          "ticks": ""
                        },
                        "colorscale": [
                          [
                            0,
                            "#0d0887"
                          ],
                          [
                            0.1111111111111111,
                            "#46039f"
                          ],
                          [
                            0.2222222222222222,
                            "#7201a8"
                          ],
                          [
                            0.3333333333333333,
                            "#9c179e"
                          ],
                          [
                            0.4444444444444444,
                            "#bd3786"
                          ],
                          [
                            0.5555555555555556,
                            "#d8576b"
                          ],
                          [
                            0.6666666666666666,
                            "#ed7953"
                          ],
                          [
                            0.7777777777777778,
                            "#fb9f3a"
                          ],
                          [
                            0.8888888888888888,
                            "#fdca26"
                          ],
                          [
                            1,
                            "#f0f921"
                          ]
                        ],
                        "type": "contour"
                      }
                    ],
                    "contourcarpet": [
                      {
                        "colorbar": {
                          "outlinewidth": 0,
                          "ticks": ""
                        },
                        "type": "contourcarpet"
                      }
                    ],
                    "heatmap": [
                      {
                        "colorbar": {
                          "outlinewidth": 0,
                          "ticks": ""
                        },
                        "colorscale": [
                          [
                            0,
                            "#0d0887"
                          ],
                          [
                            0.1111111111111111,
                            "#46039f"
                          ],
                          [
                            0.2222222222222222,
                            "#7201a8"
                          ],
                          [
                            0.3333333333333333,
                            "#9c179e"
                          ],
                          [
                            0.4444444444444444,
                            "#bd3786"
                          ],
                          [
                            0.5555555555555556,
                            "#d8576b"
                          ],
                          [
                            0.6666666666666666,
                            "#ed7953"
                          ],
                          [
                            0.7777777777777778,
                            "#fb9f3a"
                          ],
                          [
                            0.8888888888888888,
                            "#fdca26"
                          ],
                          [
                            1,
                            "#f0f921"
                          ]
                        ],
                        "type": "heatmap"
                      }
                    ],
                    "heatmapgl": [
                      {
                        "colorbar": {
                          "outlinewidth": 0,
                          "ticks": ""
                        },
                        "colorscale": [
                          [
                            0,
                            "#0d0887"
                          ],
                          [
                            0.1111111111111111,
                            "#46039f"
                          ],
                          [
                            0.2222222222222222,
                            "#7201a8"
                          ],
                          [
                            0.3333333333333333,
                            "#9c179e"
                          ],
                          [
                            0.4444444444444444,
                            "#bd3786"
                          ],
                          [
                            0.5555555555555556,
                            "#d8576b"
                          ],
                          [
                            0.6666666666666666,
                            "#ed7953"
                          ],
                          [
                            0.7777777777777778,
                            "#fb9f3a"
                          ],
                          [
                            0.8888888888888888,
                            "#fdca26"
                          ],
                          [
                            1,
                            "#f0f921"
                          ]
                        ],
                        "type": "heatmapgl"
                      }
                    ],
                    "histogram": [
                      {
                        "marker": {
                          "colorbar": {
                            "outlinewidth": 0,
                            "ticks": ""
                          }
                        },
                        "type": "histogram"
                      }
                    ],
                    "histogram2d": [
                      {
                        "colorbar": {
                          "outlinewidth": 0,
                          "ticks": ""
                        },
                        "colorscale": [
                          [
                            0,
                            "#0d0887"
                          ],
                          [
                            0.1111111111111111,
                            "#46039f"
                          ],
                          [
                            0.2222222222222222,
                            "#7201a8"
                          ],
                          [
                            0.3333333333333333,
                            "#9c179e"
                          ],
                          [
                            0.4444444444444444,
                            "#bd3786"
                          ],
                          [
                            0.5555555555555556,
                            "#d8576b"
                          ],
                          [
                            0.6666666666666666,
                            "#ed7953"
                          ],
                          [
                            0.7777777777777778,
                            "#fb9f3a"
                          ],
                          [
                            0.8888888888888888,
                            "#fdca26"
                          ],
                          [
                            1,
                            "#f0f921"
                          ]
                        ],
                        "type": "histogram2d"
                      }
                    ],
                    "histogram2dcontour": [
                      {
                        "colorbar": {
                          "outlinewidth": 0,
                          "ticks": ""
                        },
                        "colorscale": [
                          [
                            0,
                            "#0d0887"
                          ],
                          [
                            0.1111111111111111,
                            "#46039f"
                          ],
                          [
                            0.2222222222222222,
                            "#7201a8"
                          ],
                          [
                            0.3333333333333333,
                            "#9c179e"
                          ],
                          [
                            0.4444444444444444,
                            "#bd3786"
                          ],
                          [
                            0.5555555555555556,
                            "#d8576b"
                          ],
                          [
                            0.6666666666666666,
                            "#ed7953"
                          ],
                          [
                            0.7777777777777778,
                            "#fb9f3a"
                          ],
                          [
                            0.8888888888888888,
                            "#fdca26"
                          ],
                          [
                            1,
                            "#f0f921"
                          ]
                        ],
                        "type": "histogram2dcontour"
                      }
                    ],
                    "mesh3d": [
                      {
                        "colorbar": {
                          "outlinewidth": 0,
                          "ticks": ""
                        },
                        "type": "mesh3d"
                      }
                    ],
                    "parcoords": [
                      {
                        "line": {
                          "colorbar": {
                            "outlinewidth": 0,
                            "ticks": ""
                          }
                        },
                        "type": "parcoords"
                      }
                    ],
                    "pie": [
                      {
                        "automargin": true,
                        "type": "pie"
                      }
                    ],
                    "scatter": [
                      {
                        "marker": {
                          "colorbar": {
                            "outlinewidth": 0,
                            "ticks": ""
                          }
                        },
                        "type": "scatter"
                      }
                    ],
                    "scatter3d": [
                      {
                        "line": {
                          "colorbar": {
                            "outlinewidth": 0,
                            "ticks": ""
                          }
                        },
                        "marker": {
                          "colorbar": {
                            "outlinewidth": 0,
                            "ticks": ""
                          }
                        },
                        "type": "scatter3d"
                      }
                    ],
                    "scattercarpet": [
                      {
                        "marker": {
                          "colorbar": {
                            "outlinewidth": 0,
                            "ticks": ""
                          }
                        },
                        "type": "scattercarpet"
                      }
                    ],
                    "scattergeo": [
                      {
                        "marker": {
                          "colorbar": {
                            "outlinewidth": 0,
                            "ticks": ""
                          }
                        },
                        "type": "scattergeo"
                      }
                    ],
                    "scattergl": [
                      {
                        "marker": {
                          "colorbar": {
                            "outlinewidth": 0,
                            "ticks": ""
                          }
                        },
                        "type": "scattergl"
                      }
                    ],
                    "scattermapbox": [
                      {
                        "marker": {
                          "colorbar": {
                            "outlinewidth": 0,
                            "ticks": ""
                          }
                        },
                        "type": "scattermapbox"
                      }
                    ],
                    "scatterpolar": [
                      {
                        "marker": {
                          "colorbar": {
                            "outlinewidth": 0,
                            "ticks": ""
                          }
                        },
                        "type": "scatterpolar"
                      }
                    ],
                    "scatterpolargl": [
                      {
                        "marker": {
                          "colorbar": {
                            "outlinewidth": 0,
                            "ticks": ""
                          }
                        },
                        "type": "scatterpolargl"
                      }
                    ],
                    "scatterternary": [
                      {
                        "marker": {
                          "colorbar": {
                            "outlinewidth": 0,
                            "ticks": ""
                          }
                        },
                        "type": "scatterternary"
                      }
                    ],
                    "surface": [
                      {
                        "colorbar": {
                          "outlinewidth": 0,
                          "ticks": ""
                        },
                        "colorscale": [
                          [
                            0,
                            "#0d0887"
                          ],
                          [
                            0.1111111111111111,
                            "#46039f"
                          ],
                          [
                            0.2222222222222222,
                            "#7201a8"
                          ],
                          [
                            0.3333333333333333,
                            "#9c179e"
                          ],
                          [
                            0.4444444444444444,
                            "#bd3786"
                          ],
                          [
                            0.5555555555555556,
                            "#d8576b"
                          ],
                          [
                            0.6666666666666666,
                            "#ed7953"
                          ],
                          [
                            0.7777777777777778,
                            "#fb9f3a"
                          ],
                          [
                            0.8888888888888888,
                            "#fdca26"
                          ],
                          [
                            1,
                            "#f0f921"
                          ]
                        ],
                        "type": "surface"
                      }
                    ],
                    "table": [
                      {
                        "cells": {
                          "fill": {
                            "color": "#EBF0F8"
                          },
                          "line": {
                            "color": "white"
                          }
                        },
                        "header": {
                          "fill": {
                            "color": "#C8D4E3"
                          },
                          "line": {
                            "color": "white"
                          }
                        },
                        "type": "table"
                      }
                    ]
                  },
                  "layout": {
                    "annotationdefaults": {
                      "arrowcolor": "#2a3f5f",
                      "arrowhead": 0,
                      "arrowwidth": 1
                    },
                    "autotypenumbers": "strict",
                    "coloraxis": {
                      "colorbar": {
                        "outlinewidth": 0,
                        "ticks": ""
                      }
                    },
                    "colorscale": {
                      "diverging": [
                        [
                          0,
                          "#8e0152"
                        ],
                        [
                          0.1,
                          "#c51b7d"
                        ],
                        [
                          0.2,
                          "#de77ae"
                        ],
                        [
                          0.3,
                          "#f1b6da"
                        ],
                        [
                          0.4,
                          "#fde0ef"
                        ],
                        [
                          0.5,
                          "#f7f7f7"
                        ],
                        [
                          0.6,
                          "#e6f5d0"
                        ],
                        [
                          0.7,
                          "#b8e186"
                        ],
                        [
                          0.8,
                          "#7fbc41"
                        ],
                        [
                          0.9,
                          "#4d9221"
                        ],
                        [
                          1,
                          "#276419"
                        ]
                      ],
                      "sequential": [
                        [
                          0,
                          "#0d0887"
                        ],
                        [
                          0.1111111111111111,
                          "#46039f"
                        ],
                        [
                          0.2222222222222222,
                          "#7201a8"
                        ],
                        [
                          0.3333333333333333,
                          "#9c179e"
                        ],
                        [
                          0.4444444444444444,
                          "#bd3786"
                        ],
                        [
                          0.5555555555555556,
                          "#d8576b"
                        ],
                        [
                          0.6666666666666666,
                          "#ed7953"
                        ],
                        [
                          0.7777777777777778,
                          "#fb9f3a"
                        ],
                        [
                          0.8888888888888888,
                          "#fdca26"
                        ],
                        [
                          1,
                          "#f0f921"
                        ]
                      ],
                      "sequentialminus": [
                        [
                          0,
                          "#0d0887"
                        ],
                        [
                          0.1111111111111111,
                          "#46039f"
                        ],
                        [
                          0.2222222222222222,
                          "#7201a8"
                        ],
                        [
                          0.3333333333333333,
                          "#9c179e"
                        ],
                        [
                          0.4444444444444444,
                          "#bd3786"
                        ],
                        [
                          0.5555555555555556,
                          "#d8576b"
                        ],
                        [
                          0.6666666666666666,
                          "#ed7953"
                        ],
                        [
                          0.7777777777777778,
                          "#fb9f3a"
                        ],
                        [
                          0.8888888888888888,
                          "#fdca26"
                        ],
                        [
                          1,
                          "#f0f921"
                        ]
                      ]
                    },
                    "colorway": [
                      "#636efa",
                      "#EF553B",
                      "#00cc96",
                      "#ab63fa",
                      "#FFA15A",
                      "#19d3f3",
                      "#FF6692",
                      "#B6E880",
                      "#FF97FF",
                      "#FECB52"
                    ],
                    "font": {
                      "color": "#2a3f5f"
                    },
                    "geo": {
                      "bgcolor": "white",
                      "lakecolor": "white",
                      "landcolor": "#E5ECF6",
                      "showlakes": true,
                      "showland": true,
                      "subunitcolor": "white"
                    },
                    "hoverlabel": {
                      "align": "left"
                    },
                    "hovermode": "closest",
                    "mapbox": {
                      "style": "light"
                    },
                    "paper_bgcolor": "white",
                    "plot_bgcolor": "#E5ECF6",
                    "polar": {
                      "angularaxis": {
                        "gridcolor": "white",
                        "linecolor": "white",
                        "ticks": ""
                      },
                      "bgcolor": "#E5ECF6",
                      "radialaxis": {
                        "gridcolor": "white",
                        "linecolor": "white",
                        "ticks": ""
                      }
                    },
                    "scene": {
                      "xaxis": {
                        "backgroundcolor": "#E5ECF6",
                        "gridcolor": "white",
                        "gridwidth": 2,
                        "linecolor": "white",
                        "showbackground": true,
                        "ticks": "",
                        "zerolinecolor": "white"
                      },
                      "yaxis": {
                        "backgroundcolor": "#E5ECF6",
                        "gridcolor": "white",
                        "gridwidth": 2,
                        "linecolor": "white",
                        "showbackground": true,
                        "ticks": "",
                        "zerolinecolor": "white"
                      },
                      "zaxis": {
                        "backgroundcolor": "#E5ECF6",
                        "gridcolor": "white",
                        "gridwidth": 2,
                        "linecolor": "white",
                        "showbackground": true,
                        "ticks": "",
                        "zerolinecolor": "white"
                      }
                    },
                    "shapedefaults": {
                      "line": {
                        "color": "#2a3f5f"
                      }
                    },
                    "ternary": {
                      "aaxis": {
                        "gridcolor": "white",
                        "linecolor": "white",
                        "ticks": ""
                      },
                      "baxis": {
                        "gridcolor": "white",
                        "linecolor": "white",
                        "ticks": ""
                      },
                      "bgcolor": "#E5ECF6",
                      "caxis": {
                        "gridcolor": "white",
                        "linecolor": "white",
                        "ticks": ""
                      }
                    },
                    "title": {
                      "x": 0.05
                    },
                    "xaxis": {
                      "automargin": true,
                      "gridcolor": "white",
                      "linecolor": "white",
                      "ticks": "",
                      "title": {
                        "standoff": 15
                      },
                      "zerolinecolor": "white",
                      "zerolinewidth": 2
                    },
                    "yaxis": {
                      "automargin": true,
                      "gridcolor": "white",
                      "linecolor": "white",
                      "ticks": "",
                      "title": {
                        "standoff": 15
                      },
                      "zerolinecolor": "white",
                      "zerolinewidth": 2
                    }
                  }
                },
                "title": {
                  "text": " Titanic Passengers Age Distribution"
                },
                "xaxis": {
                  "title": {
                    "text": "Age"
                  }
                },
                "yaxis": {
                  "title": {
                    "text": "Passenger Count"
                  }
                }
              }
            },
            "text/html": "<div>                            <div id=\"38176a60-3192-4c24-82a2-5d93194e165f\" class=\"plotly-graph-div\" style=\"height:525px; width:100%;\"></div>            <script type=\"text/javascript\">                require([\"plotly\"], function(Plotly) {                    window.PLOTLYENV=window.PLOTLYENV || {};                                    if (document.getElementById(\"38176a60-3192-4c24-82a2-5d93194e165f\")) {                    Plotly.newPlot(                        \"38176a60-3192-4c24-82a2-5d93194e165f\",                        [{\"marker\": {\"color\": \"rgba(126, 50, 196, 0.6)\"}, \"name\": \"Passengers Age\", \"opacity\": 0.8, \"type\": \"histogram\", \"x\": [22.0, 38.0, 26.0, 35.0, 35.0, null, 54.0, 2.0, 27.0, 14.0, 4.0, 58.0, 20.0, 39.0, 14.0, 55.0, 2.0, null, 31.0, null, 35.0, 34.0, 15.0, 28.0, 8.0, 38.0, null, 19.0, null, null, 40.0, null, null, 66.0, 28.0, 42.0, null, 21.0, 18.0, 14.0, 40.0, 27.0, null, 3.0, 19.0, null, null, null, null, 18.0, 7.0, 21.0, 49.0, 29.0, 65.0, null, 21.0, 28.5, 5.0, 11.0, 22.0, 38.0, 45.0, 4.0, null, null, 29.0, 19.0, 17.0, 26.0, 32.0, 16.0, 21.0, 26.0, 32.0, 25.0, null, null, 0.83, 30.0, 22.0, 29.0, null, 28.0, 17.0, 33.0, 16.0, null, 23.0, 24.0, 29.0, 20.0, 46.0, 26.0, 59.0, null, 71.0, 23.0, 34.0, 34.0, 28.0, null, 21.0, 33.0, 37.0, 28.0, 21.0, null, 38.0, null, 47.0, 14.5, 22.0, 20.0, 17.0, 21.0, 70.5, 29.0, 24.0, 2.0, 21.0, null, 32.5, 32.5, 54.0, 12.0, null, 24.0, null, 45.0, 33.0, 20.0, 47.0, 29.0, 25.0, 23.0, 19.0, 37.0, 16.0, 24.0, null, 22.0, 24.0, 19.0, 18.0, 19.0, 27.0, 9.0, 36.5, 42.0, 51.0, 22.0, 55.5, 40.5, null, 51.0, 16.0, 30.0, null, null, 44.0, 40.0, 26.0, 17.0, 1.0, 9.0, null, 45.0, null, 28.0, 61.0, 4.0, 1.0, 21.0, 56.0, 18.0, null, 50.0, 30.0, 36.0, null, null, 9.0, 1.0, 4.0, null, null, 45.0, 40.0, 36.0, 32.0, 19.0, 19.0, 3.0, 44.0, 58.0, null, 42.0, null, 24.0, 28.0, null, 34.0, 45.5, 18.0, 2.0, 32.0, 26.0, 16.0, 40.0, 24.0, 35.0, 22.0, 30.0, null, 31.0, 27.0, 42.0, 32.0, 30.0, 16.0, 27.0, 51.0, null, 38.0, 22.0, 19.0, 20.5, 18.0, null, 35.0, 29.0, 59.0, 5.0, 24.0, null, 44.0, 8.0, 19.0, 33.0, null, null, 29.0, 22.0, 30.0, 44.0, 25.0, 24.0, 37.0, 54.0, null, 29.0, 62.0, 30.0, 41.0, 29.0, null, 30.0, 35.0, 50.0, null, 3.0, 52.0, 40.0, null, 36.0, 16.0, 25.0, 58.0, 35.0, null, 25.0, 41.0, 37.0, null, 63.0, 45.0, null, 7.0, 35.0, 65.0, 28.0, 16.0, 19.0, null, 33.0, 30.0, 22.0, 42.0, 22.0, 26.0, 19.0, 36.0, 24.0, 24.0, null, 23.5, 2.0, null, 50.0, null, null, 19.0, null, null, 0.92, null, 17.0, 30.0, 30.0, 24.0, 18.0, 26.0, 28.0, 43.0, 26.0, 24.0, 54.0, 31.0, 40.0, 22.0, 27.0, 30.0, 22.0, null, 36.0, 61.0, 36.0, 31.0, 16.0, null, 45.5, 38.0, 16.0, null, null, 29.0, 41.0, 45.0, 45.0, 2.0, 24.0, 28.0, 25.0, 36.0, 24.0, 40.0, null, 3.0, 42.0, 23.0, null, 15.0, 25.0, null, 28.0, 22.0, 38.0, null, null, 40.0, 29.0, 45.0, 35.0, null, 30.0, 60.0, null, null, 24.0, 25.0, 18.0, 19.0, 22.0, 3.0, null, 22.0, 27.0, 20.0, 19.0, 42.0, 1.0, 32.0, 35.0, null, 18.0, 1.0, 36.0, null, 17.0, 36.0, 21.0, 28.0, 23.0, 24.0, 22.0, 31.0, 46.0, 23.0, 28.0, 39.0, 26.0, 21.0, 28.0, 20.0, 34.0, 51.0, 3.0, 21.0, null, null, null, 33.0, null, 44.0, null, 34.0, 18.0, 30.0, 10.0, null, 21.0, 29.0, 28.0, 18.0, null, 28.0, 19.0, null, 32.0, 28.0, null, 42.0, 17.0, 50.0, 14.0, 21.0, 24.0, 64.0, 31.0, 45.0, 20.0, 25.0, 28.0, null, 4.0, 13.0, 34.0, 5.0, 52.0, 36.0, null, 30.0, 49.0, null, 29.0, 65.0, null, 50.0, null, 48.0, 34.0, 47.0, 48.0, null, 38.0, null, 56.0, null, 0.75, null, 38.0, 33.0, 23.0, 22.0, null, 34.0, 29.0, 22.0, 2.0, 9.0, null, 50.0, 63.0, 25.0, null, 35.0, 58.0, 30.0, 9.0, null, 21.0, 55.0, 71.0, 21.0, null, 54.0, null, 25.0, 24.0, 17.0, 21.0, null, 37.0, 16.0, 18.0, 33.0, null, 28.0, 26.0, 29.0, null, 36.0, 54.0, 24.0, 47.0, 34.0, null, 36.0, 32.0, 30.0, 22.0, null, 44.0, null, 40.5, 50.0, null, 39.0, 23.0, 2.0, null, 17.0, null, 30.0, 7.0, 45.0, 30.0, null, 22.0, 36.0, 9.0, 11.0, 32.0, 50.0, 64.0, 19.0, null, 33.0, 8.0, 17.0, 27.0, null, 22.0, 22.0, 62.0, 48.0, null, 39.0, 36.0, null, 40.0, 28.0, null, null, 24.0, 19.0, 29.0, null, 32.0, 62.0, 53.0, 36.0, null, 16.0, 19.0, 34.0, 39.0, null, 32.0, 25.0, 39.0, 54.0, 36.0, null, 18.0, 47.0, 60.0, 22.0, null, 35.0, 52.0, 47.0, null, 37.0, 36.0, null, 49.0, null, 49.0, 24.0, null, null, 44.0, 35.0, 36.0, 30.0, 27.0, 22.0, 40.0, 39.0, null, null, null, 35.0, 24.0, 34.0, 26.0, 4.0, 26.0, 27.0, 42.0, 20.0, 21.0, 21.0, 61.0, 57.0, 21.0, 26.0, null, 80.0, 51.0, 32.0, null, 9.0, 28.0, 32.0, 31.0, 41.0, null, 20.0, 24.0, 2.0, null, 0.75, 48.0, 19.0, 56.0, null, 23.0, null, 18.0, 21.0, null, 18.0, 24.0, null, 32.0, 23.0, 58.0, 50.0, 40.0, 47.0, 36.0, 20.0, 32.0, 25.0, null, 43.0, null, 40.0, 31.0, 70.0, 31.0, null, 18.0, 24.5, 18.0, 43.0, 36.0, null, 27.0, 20.0, 14.0, 60.0, 25.0, 14.0, 19.0, 18.0, 15.0, 31.0, 4.0, null, 25.0, 60.0, 52.0, 44.0, null, 49.0, 42.0, 18.0, 35.0, 18.0, 25.0, 26.0, 39.0, 45.0, 42.0, 22.0, null, 24.0, null, 48.0, 29.0, 52.0, 19.0, 38.0, 27.0, null, 33.0, 6.0, 17.0, 34.0, 50.0, 27.0, 20.0, 30.0, null, 25.0, 25.0, 29.0, 11.0, null, 23.0, 23.0, 28.5, 48.0, 35.0, null, null, null, 36.0, 21.0, 24.0, 31.0, 70.0, 16.0, 30.0, 19.0, 31.0, 4.0, 6.0, 33.0, 23.0, 48.0, 0.67, 28.0, 18.0, 34.0, 33.0, null, 41.0, 20.0, 36.0, 16.0, 51.0, null, 30.5, null, 32.0, 24.0, 48.0, 57.0, null, 54.0, 18.0, null, 5.0, null, 43.0, 13.0, 17.0, 29.0, null, 25.0, 25.0, 18.0, 8.0, 1.0, 46.0, null, 16.0, null, null, 25.0, 39.0, 49.0, 31.0, 30.0, 30.0, 34.0, 31.0, 11.0, 0.42, 27.0, 31.0, 39.0, 18.0, 39.0, 33.0, 26.0, 39.0, 35.0, 6.0, 30.5, null, 23.0, 31.0, 43.0, 10.0, 52.0, 27.0, 38.0, 27.0, 2.0, null, null, 1.0, null, 62.0, 15.0, 0.83, null, 23.0, 18.0, 39.0, 21.0, null, 32.0, null, 20.0, 16.0, 30.0, 34.5, 17.0, 42.0, null, 35.0, 28.0, null, 4.0, 74.0, 9.0, 16.0, 44.0, 18.0, 45.0, 51.0, 24.0, null, 41.0, 21.0, 48.0, null, 24.0, 42.0, 27.0, 31.0, null, 4.0, 26.0, 47.0, 33.0, 47.0, 28.0, 15.0, 20.0, 19.0, null, 56.0, 25.0, 33.0, 22.0, 28.0, 25.0, 39.0, 27.0, 19.0, null, 26.0, 32.0]}],                        {\"template\": {\"data\": {\"bar\": [{\"error_x\": {\"color\": \"#2a3f5f\"}, \"error_y\": {\"color\": \"#2a3f5f\"}, \"marker\": {\"line\": {\"color\": \"#E5ECF6\", \"width\": 0.5}}, \"type\": \"bar\"}], \"barpolar\": [{\"marker\": {\"line\": {\"color\": \"#E5ECF6\", \"width\": 0.5}}, \"type\": \"barpolar\"}], \"carpet\": [{\"aaxis\": {\"endlinecolor\": \"#2a3f5f\", \"gridcolor\": \"white\", \"linecolor\": \"white\", \"minorgridcolor\": \"white\", \"startlinecolor\": \"#2a3f5f\"}, \"baxis\": {\"endlinecolor\": \"#2a3f5f\", \"gridcolor\": \"white\", \"linecolor\": \"white\", \"minorgridcolor\": \"white\", \"startlinecolor\": \"#2a3f5f\"}, \"type\": \"carpet\"}], \"choropleth\": [{\"colorbar\": {\"outlinewidth\": 0, \"ticks\": \"\"}, \"type\": \"choropleth\"}], \"contour\": [{\"colorbar\": {\"outlinewidth\": 0, \"ticks\": \"\"}, \"colorscale\": [[0.0, \"#0d0887\"], [0.1111111111111111, \"#46039f\"], [0.2222222222222222, \"#7201a8\"], [0.3333333333333333, \"#9c179e\"], [0.4444444444444444, \"#bd3786\"], [0.5555555555555556, \"#d8576b\"], [0.6666666666666666, \"#ed7953\"], [0.7777777777777778, \"#fb9f3a\"], [0.8888888888888888, \"#fdca26\"], [1.0, \"#f0f921\"]], \"type\": \"contour\"}], \"contourcarpet\": [{\"colorbar\": {\"outlinewidth\": 0, \"ticks\": \"\"}, \"type\": \"contourcarpet\"}], \"heatmap\": [{\"colorbar\": {\"outlinewidth\": 0, \"ticks\": \"\"}, \"colorscale\": [[0.0, \"#0d0887\"], [0.1111111111111111, \"#46039f\"], [0.2222222222222222, \"#7201a8\"], [0.3333333333333333, \"#9c179e\"], [0.4444444444444444, \"#bd3786\"], [0.5555555555555556, \"#d8576b\"], [0.6666666666666666, \"#ed7953\"], [0.7777777777777778, \"#fb9f3a\"], [0.8888888888888888, \"#fdca26\"], [1.0, \"#f0f921\"]], \"type\": \"heatmap\"}], \"heatmapgl\": [{\"colorbar\": {\"outlinewidth\": 0, \"ticks\": \"\"}, \"colorscale\": [[0.0, \"#0d0887\"], [0.1111111111111111, \"#46039f\"], [0.2222222222222222, \"#7201a8\"], [0.3333333333333333, \"#9c179e\"], [0.4444444444444444, \"#bd3786\"], [0.5555555555555556, \"#d8576b\"], [0.6666666666666666, \"#ed7953\"], [0.7777777777777778, \"#fb9f3a\"], [0.8888888888888888, \"#fdca26\"], [1.0, \"#f0f921\"]], \"type\": \"heatmapgl\"}], \"histogram\": [{\"marker\": {\"colorbar\": {\"outlinewidth\": 0, \"ticks\": \"\"}}, \"type\": \"histogram\"}], \"histogram2d\": [{\"colorbar\": {\"outlinewidth\": 0, \"ticks\": \"\"}, \"colorscale\": [[0.0, \"#0d0887\"], [0.1111111111111111, \"#46039f\"], [0.2222222222222222, \"#7201a8\"], [0.3333333333333333, \"#9c179e\"], [0.4444444444444444, \"#bd3786\"], [0.5555555555555556, \"#d8576b\"], [0.6666666666666666, \"#ed7953\"], [0.7777777777777778, \"#fb9f3a\"], [0.8888888888888888, \"#fdca26\"], [1.0, \"#f0f921\"]], \"type\": \"histogram2d\"}], \"histogram2dcontour\": [{\"colorbar\": {\"outlinewidth\": 0, \"ticks\": \"\"}, \"colorscale\": [[0.0, \"#0d0887\"], [0.1111111111111111, \"#46039f\"], [0.2222222222222222, \"#7201a8\"], [0.3333333333333333, \"#9c179e\"], [0.4444444444444444, \"#bd3786\"], [0.5555555555555556, \"#d8576b\"], [0.6666666666666666, \"#ed7953\"], [0.7777777777777778, \"#fb9f3a\"], [0.8888888888888888, \"#fdca26\"], [1.0, \"#f0f921\"]], \"type\": \"histogram2dcontour\"}], \"mesh3d\": [{\"colorbar\": {\"outlinewidth\": 0, \"ticks\": \"\"}, \"type\": \"mesh3d\"}], \"parcoords\": [{\"line\": {\"colorbar\": {\"outlinewidth\": 0, \"ticks\": \"\"}}, \"type\": \"parcoords\"}], \"pie\": [{\"automargin\": true, \"type\": \"pie\"}], \"scatter\": [{\"marker\": {\"colorbar\": {\"outlinewidth\": 0, \"ticks\": \"\"}}, \"type\": \"scatter\"}], \"scatter3d\": [{\"line\": {\"colorbar\": {\"outlinewidth\": 0, \"ticks\": \"\"}}, \"marker\": {\"colorbar\": {\"outlinewidth\": 0, \"ticks\": \"\"}}, \"type\": \"scatter3d\"}], \"scattercarpet\": [{\"marker\": {\"colorbar\": {\"outlinewidth\": 0, \"ticks\": \"\"}}, \"type\": \"scattercarpet\"}], \"scattergeo\": [{\"marker\": {\"colorbar\": {\"outlinewidth\": 0, \"ticks\": \"\"}}, \"type\": \"scattergeo\"}], \"scattergl\": [{\"marker\": {\"colorbar\": {\"outlinewidth\": 0, \"ticks\": \"\"}}, \"type\": \"scattergl\"}], \"scattermapbox\": [{\"marker\": {\"colorbar\": {\"outlinewidth\": 0, \"ticks\": \"\"}}, \"type\": \"scattermapbox\"}], \"scatterpolar\": [{\"marker\": {\"colorbar\": {\"outlinewidth\": 0, \"ticks\": \"\"}}, \"type\": \"scatterpolar\"}], \"scatterpolargl\": [{\"marker\": {\"colorbar\": {\"outlinewidth\": 0, \"ticks\": \"\"}}, \"type\": \"scatterpolargl\"}], \"scatterternary\": [{\"marker\": {\"colorbar\": {\"outlinewidth\": 0, \"ticks\": \"\"}}, \"type\": \"scatterternary\"}], \"surface\": [{\"colorbar\": {\"outlinewidth\": 0, \"ticks\": \"\"}, \"colorscale\": [[0.0, \"#0d0887\"], [0.1111111111111111, \"#46039f\"], [0.2222222222222222, \"#7201a8\"], [0.3333333333333333, \"#9c179e\"], [0.4444444444444444, \"#bd3786\"], [0.5555555555555556, \"#d8576b\"], [0.6666666666666666, \"#ed7953\"], [0.7777777777777778, \"#fb9f3a\"], [0.8888888888888888, \"#fdca26\"], [1.0, \"#f0f921\"]], \"type\": \"surface\"}], \"table\": [{\"cells\": {\"fill\": {\"color\": \"#EBF0F8\"}, \"line\": {\"color\": \"white\"}}, \"header\": {\"fill\": {\"color\": \"#C8D4E3\"}, \"line\": {\"color\": \"white\"}}, \"type\": \"table\"}]}, \"layout\": {\"annotationdefaults\": {\"arrowcolor\": \"#2a3f5f\", \"arrowhead\": 0, \"arrowwidth\": 1}, \"autotypenumbers\": \"strict\", \"coloraxis\": {\"colorbar\": {\"outlinewidth\": 0, \"ticks\": \"\"}}, \"colorscale\": {\"diverging\": [[0, \"#8e0152\"], [0.1, \"#c51b7d\"], [0.2, \"#de77ae\"], [0.3, \"#f1b6da\"], [0.4, \"#fde0ef\"], [0.5, \"#f7f7f7\"], [0.6, \"#e6f5d0\"], [0.7, \"#b8e186\"], [0.8, \"#7fbc41\"], [0.9, \"#4d9221\"], [1, \"#276419\"]], \"sequential\": [[0.0, \"#0d0887\"], [0.1111111111111111, \"#46039f\"], [0.2222222222222222, \"#7201a8\"], [0.3333333333333333, \"#9c179e\"], [0.4444444444444444, \"#bd3786\"], [0.5555555555555556, \"#d8576b\"], [0.6666666666666666, \"#ed7953\"], [0.7777777777777778, \"#fb9f3a\"], [0.8888888888888888, \"#fdca26\"], [1.0, \"#f0f921\"]], \"sequentialminus\": [[0.0, \"#0d0887\"], [0.1111111111111111, \"#46039f\"], [0.2222222222222222, \"#7201a8\"], [0.3333333333333333, \"#9c179e\"], [0.4444444444444444, \"#bd3786\"], [0.5555555555555556, \"#d8576b\"], [0.6666666666666666, \"#ed7953\"], [0.7777777777777778, \"#fb9f3a\"], [0.8888888888888888, \"#fdca26\"], [1.0, \"#f0f921\"]]}, \"colorway\": [\"#636efa\", \"#EF553B\", \"#00cc96\", \"#ab63fa\", \"#FFA15A\", \"#19d3f3\", \"#FF6692\", \"#B6E880\", \"#FF97FF\", \"#FECB52\"], \"font\": {\"color\": \"#2a3f5f\"}, \"geo\": {\"bgcolor\": \"white\", \"lakecolor\": \"white\", \"landcolor\": \"#E5ECF6\", \"showlakes\": true, \"showland\": true, \"subunitcolor\": \"white\"}, \"hoverlabel\": {\"align\": \"left\"}, \"hovermode\": \"closest\", \"mapbox\": {\"style\": \"light\"}, \"paper_bgcolor\": \"white\", \"plot_bgcolor\": \"#E5ECF6\", \"polar\": {\"angularaxis\": {\"gridcolor\": \"white\", \"linecolor\": \"white\", \"ticks\": \"\"}, \"bgcolor\": \"#E5ECF6\", \"radialaxis\": {\"gridcolor\": \"white\", \"linecolor\": \"white\", \"ticks\": \"\"}}, \"scene\": {\"xaxis\": {\"backgroundcolor\": \"#E5ECF6\", \"gridcolor\": \"white\", \"gridwidth\": 2, \"linecolor\": \"white\", \"showbackground\": true, \"ticks\": \"\", \"zerolinecolor\": \"white\"}, \"yaxis\": {\"backgroundcolor\": \"#E5ECF6\", \"gridcolor\": \"white\", \"gridwidth\": 2, \"linecolor\": \"white\", \"showbackground\": true, \"ticks\": \"\", \"zerolinecolor\": \"white\"}, \"zaxis\": {\"backgroundcolor\": \"#E5ECF6\", \"gridcolor\": \"white\", \"gridwidth\": 2, \"linecolor\": \"white\", \"showbackground\": true, \"ticks\": \"\", \"zerolinecolor\": \"white\"}}, \"shapedefaults\": {\"line\": {\"color\": \"#2a3f5f\"}}, \"ternary\": {\"aaxis\": {\"gridcolor\": \"white\", \"linecolor\": \"white\", \"ticks\": \"\"}, \"baxis\": {\"gridcolor\": \"white\", \"linecolor\": \"white\", \"ticks\": \"\"}, \"bgcolor\": \"#E5ECF6\", \"caxis\": {\"gridcolor\": \"white\", \"linecolor\": \"white\", \"ticks\": \"\"}}, \"title\": {\"x\": 0.05}, \"xaxis\": {\"automargin\": true, \"gridcolor\": \"white\", \"linecolor\": \"white\", \"ticks\": \"\", \"title\": {\"standoff\": 15}, \"zerolinecolor\": \"white\", \"zerolinewidth\": 2}, \"yaxis\": {\"automargin\": true, \"gridcolor\": \"white\", \"linecolor\": \"white\", \"ticks\": \"\", \"title\": {\"standoff\": 15}, \"zerolinecolor\": \"white\", \"zerolinewidth\": 2}}}, \"title\": {\"text\": \" Titanic Passengers Age Distribution\"}, \"xaxis\": {\"title\": {\"text\": \"Age\"}}, \"yaxis\": {\"title\": {\"text\": \"Passenger Count\"}}},                        {\"responsive\": true}                    ).then(function(){\n                            \nvar gd = document.getElementById('38176a60-3192-4c24-82a2-5d93194e165f');\nvar x = new MutationObserver(function (mutations, observer) {{\n        var display = window.getComputedStyle(gd).display;\n        if (!display || display === 'none') {{\n            console.log([gd, 'removed!']);\n            Plotly.purge(gd);\n            observer.disconnect();\n        }}\n}});\n\n// Listen for the removal of the full notebook cells\nvar notebookContainer = gd.closest('#notebook-container');\nif (notebookContainer) {{\n    x.observe(notebookContainer, {childList: true});\n}}\n\n// Listen for the clearing of the current output cell\nvar outputEl = gd.closest('.output');\nif (outputEl) {{\n    x.observe(outputEl, {childList: true});\n}}\n\n                        })                };                });            </script>        </div>"
          },
          "metadata": {}
        }
      ],
      "execution_count": 15,
      "metadata": {
        "collapsed": true,
        "jupyter": {
          "source_hidden": false,
          "outputs_hidden": false
        },
        "nteract": {
          "transient": {
            "deleting": false
          }
        },
        "gather": {
          "logged": 1618335885332
        }
      }
    },
    {
      "cell_type": "markdown",
      "source": [
        "## 2.Show the age distribution based on gender using a histogram"
      ],
      "metadata": {
        "nteract": {
          "transient": {
            "deleting": false
          }
        }
      }
    },
    {
      "cell_type": "code",
      "source": [
        "df = px.data.tips()\r\n",
        "fig = px.histogram(passengers, x=\"Age\", color=\"Sex\",\r\n",
        "                         hover_data=passengers.columns)\r\n",
        "fig.show()"
      ],
      "outputs": [
        {
          "output_type": "display_data",
          "data": {
            "application/vnd.plotly.v1+json": {
              "config": {
                "plotlyServerURL": "https://plot.ly"
              },
              "data": [
                {
                  "alignmentgroup": "True",
                  "bingroup": "x",
                  "hovertemplate": "Sex=male<br>Age=%{x}<br>count=%{y}<extra></extra>",
                  "legendgroup": "male",
                  "marker": {
                    "color": "#636efa"
                  },
                  "name": "male",
                  "offsetgroup": "male",
                  "orientation": "v",
                  "showlegend": true,
                  "type": "histogram",
                  "x": [
                    22,
                    35,
                    null,
                    54,
                    2,
                    20,
                    39,
                    2,
                    null,
                    35,
                    34,
                    28,
                    null,
                    19,
                    null,
                    40,
                    66,
                    28,
                    42,
                    null,
                    21,
                    null,
                    null,
                    null,
                    null,
                    7,
                    21,
                    65,
                    null,
                    28.5,
                    11,
                    22,
                    45,
                    4,
                    null,
                    null,
                    19,
                    26,
                    32,
                    21,
                    26,
                    32,
                    25,
                    null,
                    null,
                    0.83,
                    22,
                    29,
                    28,
                    16,
                    null,
                    24,
                    29,
                    20,
                    46,
                    26,
                    59,
                    null,
                    71,
                    23,
                    34,
                    null,
                    21,
                    33,
                    37,
                    28,
                    null,
                    38,
                    47,
                    22,
                    21,
                    70.5,
                    29,
                    24,
                    21,
                    null,
                    32.5,
                    54,
                    12,
                    null,
                    24,
                    45,
                    33,
                    20,
                    25,
                    23,
                    37,
                    16,
                    24,
                    19,
                    18,
                    19,
                    27,
                    36.5,
                    42,
                    51,
                    55.5,
                    40.5,
                    null,
                    51,
                    30,
                    null,
                    null,
                    44,
                    26,
                    17,
                    1,
                    9,
                    null,
                    28,
                    61,
                    4,
                    21,
                    56,
                    18,
                    null,
                    30,
                    36,
                    null,
                    9,
                    1,
                    null,
                    45,
                    40,
                    36,
                    19,
                    3,
                    null,
                    42,
                    28,
                    null,
                    34,
                    45.5,
                    18,
                    32,
                    26,
                    40,
                    24,
                    22,
                    30,
                    null,
                    42,
                    30,
                    16,
                    27,
                    51,
                    null,
                    38,
                    22,
                    19,
                    20.5,
                    18,
                    29,
                    59,
                    24,
                    44,
                    19,
                    33,
                    29,
                    22,
                    30,
                    44,
                    37,
                    54,
                    null,
                    62,
                    30,
                    null,
                    3,
                    52,
                    40,
                    36,
                    16,
                    25,
                    null,
                    25,
                    37,
                    null,
                    7,
                    65,
                    28,
                    16,
                    19,
                    null,
                    33,
                    30,
                    22,
                    42,
                    36,
                    24,
                    null,
                    23.5,
                    null,
                    null,
                    19,
                    null,
                    0.92,
                    30,
                    28,
                    43,
                    54,
                    22,
                    27,
                    null,
                    61,
                    45.5,
                    38,
                    16,
                    null,
                    29,
                    45,
                    45,
                    2,
                    28,
                    25,
                    36,
                    3,
                    42,
                    23,
                    null,
                    15,
                    25,
                    null,
                    28,
                    40,
                    29,
                    35,
                    null,
                    30,
                    25,
                    18,
                    19,
                    22,
                    27,
                    20,
                    19,
                    32,
                    null,
                    18,
                    1,
                    null,
                    36,
                    21,
                    28,
                    22,
                    46,
                    23,
                    39,
                    26,
                    28,
                    34,
                    51,
                    3,
                    21,
                    null,
                    null,
                    null,
                    44,
                    30,
                    null,
                    21,
                    29,
                    18,
                    null,
                    null,
                    32,
                    28,
                    17,
                    50,
                    64,
                    31,
                    20,
                    25,
                    null,
                    4,
                    34,
                    52,
                    36,
                    null,
                    30,
                    49,
                    null,
                    29,
                    65,
                    null,
                    48,
                    34,
                    47,
                    48,
                    null,
                    38,
                    null,
                    56,
                    null,
                    null,
                    38,
                    null,
                    34,
                    29,
                    22,
                    9,
                    null,
                    50,
                    25,
                    58,
                    30,
                    9,
                    null,
                    21,
                    55,
                    71,
                    21,
                    null,
                    null,
                    24,
                    17,
                    18,
                    null,
                    28,
                    26,
                    29,
                    null,
                    36,
                    24,
                    47,
                    null,
                    32,
                    22,
                    null,
                    null,
                    40.5,
                    null,
                    39,
                    23,
                    null,
                    17,
                    45,
                    null,
                    32,
                    50,
                    64,
                    null,
                    33,
                    8,
                    17,
                    27,
                    null,
                    22,
                    62,
                    null,
                    null,
                    40,
                    28,
                    null,
                    24,
                    19,
                    null,
                    32,
                    62,
                    36,
                    16,
                    19,
                    32,
                    54,
                    36,
                    null,
                    47,
                    60,
                    22,
                    null,
                    35,
                    47,
                    37,
                    36,
                    49,
                    null,
                    49,
                    null,
                    null,
                    44,
                    35,
                    36,
                    30,
                    27,
                    null,
                    null,
                    35,
                    34,
                    26,
                    27,
                    42,
                    20,
                    21,
                    21,
                    61,
                    57,
                    26,
                    null,
                    80,
                    51,
                    32,
                    null,
                    32,
                    31,
                    null,
                    20,
                    null,
                    48,
                    19,
                    56,
                    null,
                    null,
                    21,
                    24,
                    null,
                    23,
                    58,
                    50,
                    40,
                    47,
                    36,
                    20,
                    32,
                    25,
                    null,
                    43,
                    31,
                    70,
                    31,
                    null,
                    18,
                    24.5,
                    36,
                    27,
                    20,
                    14,
                    60,
                    25,
                    14,
                    19,
                    18,
                    31,
                    null,
                    25,
                    60,
                    52,
                    44,
                    49,
                    42,
                    35,
                    25,
                    26,
                    39,
                    42,
                    null,
                    null,
                    48,
                    29,
                    52,
                    19,
                    null,
                    33,
                    17,
                    34,
                    50,
                    27,
                    20,
                    25,
                    11,
                    null,
                    23,
                    23,
                    28.5,
                    35,
                    null,
                    null,
                    null,
                    36,
                    24,
                    31,
                    70,
                    16,
                    19,
                    31,
                    6,
                    33,
                    23,
                    0.67,
                    28,
                    18,
                    34,
                    null,
                    41,
                    20,
                    16,
                    null,
                    null,
                    32,
                    24,
                    48,
                    null,
                    18,
                    null,
                    null,
                    29,
                    null,
                    25,
                    25,
                    8,
                    1,
                    46,
                    null,
                    16,
                    null,
                    25,
                    39,
                    30,
                    34,
                    11,
                    0.42,
                    27,
                    31,
                    39,
                    39,
                    26,
                    39,
                    35,
                    30.5,
                    null,
                    31,
                    43,
                    10,
                    27,
                    38,
                    2,
                    null,
                    null,
                    1,
                    null,
                    0.83,
                    null,
                    23,
                    18,
                    21,
                    null,
                    32,
                    null,
                    20,
                    16,
                    34.5,
                    17,
                    42,
                    null,
                    35,
                    28,
                    4,
                    74,
                    51,
                    null,
                    41,
                    21,
                    24,
                    31,
                    null,
                    4,
                    26,
                    33,
                    47,
                    20,
                    19,
                    null,
                    33,
                    28,
                    25,
                    27,
                    26,
                    32
                  ],
                  "xaxis": "x",
                  "yaxis": "y"
                },
                {
                  "alignmentgroup": "True",
                  "bingroup": "x",
                  "hovertemplate": "Sex=female<br>Age=%{x}<br>count=%{y}<extra></extra>",
                  "legendgroup": "female",
                  "marker": {
                    "color": "#EF553B"
                  },
                  "name": "female",
                  "offsetgroup": "female",
                  "orientation": "v",
                  "showlegend": true,
                  "type": "histogram",
                  "x": [
                    38,
                    26,
                    35,
                    27,
                    14,
                    4,
                    58,
                    14,
                    55,
                    31,
                    null,
                    15,
                    8,
                    38,
                    null,
                    null,
                    null,
                    18,
                    14,
                    40,
                    27,
                    3,
                    19,
                    null,
                    18,
                    49,
                    29,
                    21,
                    5,
                    38,
                    29,
                    17,
                    16,
                    30,
                    null,
                    17,
                    33,
                    23,
                    34,
                    28,
                    21,
                    null,
                    14.5,
                    20,
                    17,
                    2,
                    32.5,
                    null,
                    47,
                    29,
                    19,
                    null,
                    22,
                    24,
                    9,
                    22,
                    16,
                    40,
                    null,
                    45,
                    1,
                    50,
                    null,
                    4,
                    null,
                    32,
                    19,
                    44,
                    58,
                    null,
                    24,
                    2,
                    16,
                    35,
                    31,
                    27,
                    32,
                    null,
                    35,
                    5,
                    null,
                    8,
                    null,
                    null,
                    25,
                    24,
                    29,
                    41,
                    29,
                    null,
                    30,
                    35,
                    50,
                    null,
                    58,
                    35,
                    41,
                    null,
                    63,
                    45,
                    35,
                    22,
                    26,
                    19,
                    24,
                    2,
                    50,
                    null,
                    null,
                    null,
                    17,
                    30,
                    24,
                    18,
                    26,
                    26,
                    24,
                    31,
                    40,
                    30,
                    22,
                    36,
                    36,
                    31,
                    16,
                    null,
                    null,
                    41,
                    24,
                    24,
                    40,
                    null,
                    22,
                    38,
                    null,
                    null,
                    45,
                    60,
                    null,
                    null,
                    24,
                    3,
                    null,
                    22,
                    42,
                    1,
                    35,
                    36,
                    17,
                    23,
                    24,
                    31,
                    28,
                    21,
                    20,
                    null,
                    33,
                    null,
                    34,
                    18,
                    10,
                    28,
                    28,
                    19,
                    null,
                    42,
                    14,
                    21,
                    24,
                    45,
                    28,
                    13,
                    5,
                    null,
                    50,
                    0.75,
                    33,
                    23,
                    22,
                    2,
                    63,
                    null,
                    35,
                    54,
                    25,
                    21,
                    null,
                    37,
                    16,
                    33,
                    54,
                    34,
                    36,
                    30,
                    44,
                    50,
                    2,
                    null,
                    30,
                    7,
                    30,
                    22,
                    36,
                    9,
                    11,
                    19,
                    22,
                    48,
                    39,
                    36,
                    null,
                    29,
                    53,
                    null,
                    34,
                    39,
                    null,
                    25,
                    39,
                    18,
                    52,
                    null,
                    null,
                    24,
                    22,
                    40,
                    39,
                    null,
                    24,
                    26,
                    4,
                    21,
                    9,
                    28,
                    41,
                    24,
                    2,
                    0.75,
                    23,
                    18,
                    null,
                    18,
                    32,
                    null,
                    40,
                    18,
                    43,
                    null,
                    15,
                    4,
                    null,
                    18,
                    18,
                    45,
                    22,
                    24,
                    38,
                    27,
                    6,
                    30,
                    null,
                    25,
                    29,
                    48,
                    21,
                    30,
                    4,
                    48,
                    33,
                    36,
                    51,
                    30.5,
                    57,
                    54,
                    5,
                    43,
                    13,
                    17,
                    18,
                    null,
                    49,
                    31,
                    30,
                    31,
                    18,
                    33,
                    6,
                    23,
                    52,
                    27,
                    62,
                    15,
                    39,
                    30,
                    null,
                    9,
                    16,
                    44,
                    18,
                    45,
                    24,
                    48,
                    null,
                    42,
                    27,
                    47,
                    28,
                    15,
                    56,
                    25,
                    22,
                    39,
                    19,
                    null
                  ],
                  "xaxis": "x",
                  "yaxis": "y"
                }
              ],
              "layout": {
                "barmode": "relative",
                "legend": {
                  "title": {
                    "text": "Sex"
                  },
                  "tracegroupgap": 0
                },
                "margin": {
                  "t": 60
                },
                "template": {
                  "data": {
                    "bar": [
                      {
                        "error_x": {
                          "color": "#2a3f5f"
                        },
                        "error_y": {
                          "color": "#2a3f5f"
                        },
                        "marker": {
                          "line": {
                            "color": "#E5ECF6",
                            "width": 0.5
                          }
                        },
                        "type": "bar"
                      }
                    ],
                    "barpolar": [
                      {
                        "marker": {
                          "line": {
                            "color": "#E5ECF6",
                            "width": 0.5
                          }
                        },
                        "type": "barpolar"
                      }
                    ],
                    "carpet": [
                      {
                        "aaxis": {
                          "endlinecolor": "#2a3f5f",
                          "gridcolor": "white",
                          "linecolor": "white",
                          "minorgridcolor": "white",
                          "startlinecolor": "#2a3f5f"
                        },
                        "baxis": {
                          "endlinecolor": "#2a3f5f",
                          "gridcolor": "white",
                          "linecolor": "white",
                          "minorgridcolor": "white",
                          "startlinecolor": "#2a3f5f"
                        },
                        "type": "carpet"
                      }
                    ],
                    "choropleth": [
                      {
                        "colorbar": {
                          "outlinewidth": 0,
                          "ticks": ""
                        },
                        "type": "choropleth"
                      }
                    ],
                    "contour": [
                      {
                        "colorbar": {
                          "outlinewidth": 0,
                          "ticks": ""
                        },
                        "colorscale": [
                          [
                            0,
                            "#0d0887"
                          ],
                          [
                            0.1111111111111111,
                            "#46039f"
                          ],
                          [
                            0.2222222222222222,
                            "#7201a8"
                          ],
                          [
                            0.3333333333333333,
                            "#9c179e"
                          ],
                          [
                            0.4444444444444444,
                            "#bd3786"
                          ],
                          [
                            0.5555555555555556,
                            "#d8576b"
                          ],
                          [
                            0.6666666666666666,
                            "#ed7953"
                          ],
                          [
                            0.7777777777777778,
                            "#fb9f3a"
                          ],
                          [
                            0.8888888888888888,
                            "#fdca26"
                          ],
                          [
                            1,
                            "#f0f921"
                          ]
                        ],
                        "type": "contour"
                      }
                    ],
                    "contourcarpet": [
                      {
                        "colorbar": {
                          "outlinewidth": 0,
                          "ticks": ""
                        },
                        "type": "contourcarpet"
                      }
                    ],
                    "heatmap": [
                      {
                        "colorbar": {
                          "outlinewidth": 0,
                          "ticks": ""
                        },
                        "colorscale": [
                          [
                            0,
                            "#0d0887"
                          ],
                          [
                            0.1111111111111111,
                            "#46039f"
                          ],
                          [
                            0.2222222222222222,
                            "#7201a8"
                          ],
                          [
                            0.3333333333333333,
                            "#9c179e"
                          ],
                          [
                            0.4444444444444444,
                            "#bd3786"
                          ],
                          [
                            0.5555555555555556,
                            "#d8576b"
                          ],
                          [
                            0.6666666666666666,
                            "#ed7953"
                          ],
                          [
                            0.7777777777777778,
                            "#fb9f3a"
                          ],
                          [
                            0.8888888888888888,
                            "#fdca26"
                          ],
                          [
                            1,
                            "#f0f921"
                          ]
                        ],
                        "type": "heatmap"
                      }
                    ],
                    "heatmapgl": [
                      {
                        "colorbar": {
                          "outlinewidth": 0,
                          "ticks": ""
                        },
                        "colorscale": [
                          [
                            0,
                            "#0d0887"
                          ],
                          [
                            0.1111111111111111,
                            "#46039f"
                          ],
                          [
                            0.2222222222222222,
                            "#7201a8"
                          ],
                          [
                            0.3333333333333333,
                            "#9c179e"
                          ],
                          [
                            0.4444444444444444,
                            "#bd3786"
                          ],
                          [
                            0.5555555555555556,
                            "#d8576b"
                          ],
                          [
                            0.6666666666666666,
                            "#ed7953"
                          ],
                          [
                            0.7777777777777778,
                            "#fb9f3a"
                          ],
                          [
                            0.8888888888888888,
                            "#fdca26"
                          ],
                          [
                            1,
                            "#f0f921"
                          ]
                        ],
                        "type": "heatmapgl"
                      }
                    ],
                    "histogram": [
                      {
                        "marker": {
                          "colorbar": {
                            "outlinewidth": 0,
                            "ticks": ""
                          }
                        },
                        "type": "histogram"
                      }
                    ],
                    "histogram2d": [
                      {
                        "colorbar": {
                          "outlinewidth": 0,
                          "ticks": ""
                        },
                        "colorscale": [
                          [
                            0,
                            "#0d0887"
                          ],
                          [
                            0.1111111111111111,
                            "#46039f"
                          ],
                          [
                            0.2222222222222222,
                            "#7201a8"
                          ],
                          [
                            0.3333333333333333,
                            "#9c179e"
                          ],
                          [
                            0.4444444444444444,
                            "#bd3786"
                          ],
                          [
                            0.5555555555555556,
                            "#d8576b"
                          ],
                          [
                            0.6666666666666666,
                            "#ed7953"
                          ],
                          [
                            0.7777777777777778,
                            "#fb9f3a"
                          ],
                          [
                            0.8888888888888888,
                            "#fdca26"
                          ],
                          [
                            1,
                            "#f0f921"
                          ]
                        ],
                        "type": "histogram2d"
                      }
                    ],
                    "histogram2dcontour": [
                      {
                        "colorbar": {
                          "outlinewidth": 0,
                          "ticks": ""
                        },
                        "colorscale": [
                          [
                            0,
                            "#0d0887"
                          ],
                          [
                            0.1111111111111111,
                            "#46039f"
                          ],
                          [
                            0.2222222222222222,
                            "#7201a8"
                          ],
                          [
                            0.3333333333333333,
                            "#9c179e"
                          ],
                          [
                            0.4444444444444444,
                            "#bd3786"
                          ],
                          [
                            0.5555555555555556,
                            "#d8576b"
                          ],
                          [
                            0.6666666666666666,
                            "#ed7953"
                          ],
                          [
                            0.7777777777777778,
                            "#fb9f3a"
                          ],
                          [
                            0.8888888888888888,
                            "#fdca26"
                          ],
                          [
                            1,
                            "#f0f921"
                          ]
                        ],
                        "type": "histogram2dcontour"
                      }
                    ],
                    "mesh3d": [
                      {
                        "colorbar": {
                          "outlinewidth": 0,
                          "ticks": ""
                        },
                        "type": "mesh3d"
                      }
                    ],
                    "parcoords": [
                      {
                        "line": {
                          "colorbar": {
                            "outlinewidth": 0,
                            "ticks": ""
                          }
                        },
                        "type": "parcoords"
                      }
                    ],
                    "pie": [
                      {
                        "automargin": true,
                        "type": "pie"
                      }
                    ],
                    "scatter": [
                      {
                        "marker": {
                          "colorbar": {
                            "outlinewidth": 0,
                            "ticks": ""
                          }
                        },
                        "type": "scatter"
                      }
                    ],
                    "scatter3d": [
                      {
                        "line": {
                          "colorbar": {
                            "outlinewidth": 0,
                            "ticks": ""
                          }
                        },
                        "marker": {
                          "colorbar": {
                            "outlinewidth": 0,
                            "ticks": ""
                          }
                        },
                        "type": "scatter3d"
                      }
                    ],
                    "scattercarpet": [
                      {
                        "marker": {
                          "colorbar": {
                            "outlinewidth": 0,
                            "ticks": ""
                          }
                        },
                        "type": "scattercarpet"
                      }
                    ],
                    "scattergeo": [
                      {
                        "marker": {
                          "colorbar": {
                            "outlinewidth": 0,
                            "ticks": ""
                          }
                        },
                        "type": "scattergeo"
                      }
                    ],
                    "scattergl": [
                      {
                        "marker": {
                          "colorbar": {
                            "outlinewidth": 0,
                            "ticks": ""
                          }
                        },
                        "type": "scattergl"
                      }
                    ],
                    "scattermapbox": [
                      {
                        "marker": {
                          "colorbar": {
                            "outlinewidth": 0,
                            "ticks": ""
                          }
                        },
                        "type": "scattermapbox"
                      }
                    ],
                    "scatterpolar": [
                      {
                        "marker": {
                          "colorbar": {
                            "outlinewidth": 0,
                            "ticks": ""
                          }
                        },
                        "type": "scatterpolar"
                      }
                    ],
                    "scatterpolargl": [
                      {
                        "marker": {
                          "colorbar": {
                            "outlinewidth": 0,
                            "ticks": ""
                          }
                        },
                        "type": "scatterpolargl"
                      }
                    ],
                    "scatterternary": [
                      {
                        "marker": {
                          "colorbar": {
                            "outlinewidth": 0,
                            "ticks": ""
                          }
                        },
                        "type": "scatterternary"
                      }
                    ],
                    "surface": [
                      {
                        "colorbar": {
                          "outlinewidth": 0,
                          "ticks": ""
                        },
                        "colorscale": [
                          [
                            0,
                            "#0d0887"
                          ],
                          [
                            0.1111111111111111,
                            "#46039f"
                          ],
                          [
                            0.2222222222222222,
                            "#7201a8"
                          ],
                          [
                            0.3333333333333333,
                            "#9c179e"
                          ],
                          [
                            0.4444444444444444,
                            "#bd3786"
                          ],
                          [
                            0.5555555555555556,
                            "#d8576b"
                          ],
                          [
                            0.6666666666666666,
                            "#ed7953"
                          ],
                          [
                            0.7777777777777778,
                            "#fb9f3a"
                          ],
                          [
                            0.8888888888888888,
                            "#fdca26"
                          ],
                          [
                            1,
                            "#f0f921"
                          ]
                        ],
                        "type": "surface"
                      }
                    ],
                    "table": [
                      {
                        "cells": {
                          "fill": {
                            "color": "#EBF0F8"
                          },
                          "line": {
                            "color": "white"
                          }
                        },
                        "header": {
                          "fill": {
                            "color": "#C8D4E3"
                          },
                          "line": {
                            "color": "white"
                          }
                        },
                        "type": "table"
                      }
                    ]
                  },
                  "layout": {
                    "annotationdefaults": {
                      "arrowcolor": "#2a3f5f",
                      "arrowhead": 0,
                      "arrowwidth": 1
                    },
                    "autotypenumbers": "strict",
                    "coloraxis": {
                      "colorbar": {
                        "outlinewidth": 0,
                        "ticks": ""
                      }
                    },
                    "colorscale": {
                      "diverging": [
                        [
                          0,
                          "#8e0152"
                        ],
                        [
                          0.1,
                          "#c51b7d"
                        ],
                        [
                          0.2,
                          "#de77ae"
                        ],
                        [
                          0.3,
                          "#f1b6da"
                        ],
                        [
                          0.4,
                          "#fde0ef"
                        ],
                        [
                          0.5,
                          "#f7f7f7"
                        ],
                        [
                          0.6,
                          "#e6f5d0"
                        ],
                        [
                          0.7,
                          "#b8e186"
                        ],
                        [
                          0.8,
                          "#7fbc41"
                        ],
                        [
                          0.9,
                          "#4d9221"
                        ],
                        [
                          1,
                          "#276419"
                        ]
                      ],
                      "sequential": [
                        [
                          0,
                          "#0d0887"
                        ],
                        [
                          0.1111111111111111,
                          "#46039f"
                        ],
                        [
                          0.2222222222222222,
                          "#7201a8"
                        ],
                        [
                          0.3333333333333333,
                          "#9c179e"
                        ],
                        [
                          0.4444444444444444,
                          "#bd3786"
                        ],
                        [
                          0.5555555555555556,
                          "#d8576b"
                        ],
                        [
                          0.6666666666666666,
                          "#ed7953"
                        ],
                        [
                          0.7777777777777778,
                          "#fb9f3a"
                        ],
                        [
                          0.8888888888888888,
                          "#fdca26"
                        ],
                        [
                          1,
                          "#f0f921"
                        ]
                      ],
                      "sequentialminus": [
                        [
                          0,
                          "#0d0887"
                        ],
                        [
                          0.1111111111111111,
                          "#46039f"
                        ],
                        [
                          0.2222222222222222,
                          "#7201a8"
                        ],
                        [
                          0.3333333333333333,
                          "#9c179e"
                        ],
                        [
                          0.4444444444444444,
                          "#bd3786"
                        ],
                        [
                          0.5555555555555556,
                          "#d8576b"
                        ],
                        [
                          0.6666666666666666,
                          "#ed7953"
                        ],
                        [
                          0.7777777777777778,
                          "#fb9f3a"
                        ],
                        [
                          0.8888888888888888,
                          "#fdca26"
                        ],
                        [
                          1,
                          "#f0f921"
                        ]
                      ]
                    },
                    "colorway": [
                      "#636efa",
                      "#EF553B",
                      "#00cc96",
                      "#ab63fa",
                      "#FFA15A",
                      "#19d3f3",
                      "#FF6692",
                      "#B6E880",
                      "#FF97FF",
                      "#FECB52"
                    ],
                    "font": {
                      "color": "#2a3f5f"
                    },
                    "geo": {
                      "bgcolor": "white",
                      "lakecolor": "white",
                      "landcolor": "#E5ECF6",
                      "showlakes": true,
                      "showland": true,
                      "subunitcolor": "white"
                    },
                    "hoverlabel": {
                      "align": "left"
                    },
                    "hovermode": "closest",
                    "mapbox": {
                      "style": "light"
                    },
                    "paper_bgcolor": "white",
                    "plot_bgcolor": "#E5ECF6",
                    "polar": {
                      "angularaxis": {
                        "gridcolor": "white",
                        "linecolor": "white",
                        "ticks": ""
                      },
                      "bgcolor": "#E5ECF6",
                      "radialaxis": {
                        "gridcolor": "white",
                        "linecolor": "white",
                        "ticks": ""
                      }
                    },
                    "scene": {
                      "xaxis": {
                        "backgroundcolor": "#E5ECF6",
                        "gridcolor": "white",
                        "gridwidth": 2,
                        "linecolor": "white",
                        "showbackground": true,
                        "ticks": "",
                        "zerolinecolor": "white"
                      },
                      "yaxis": {
                        "backgroundcolor": "#E5ECF6",
                        "gridcolor": "white",
                        "gridwidth": 2,
                        "linecolor": "white",
                        "showbackground": true,
                        "ticks": "",
                        "zerolinecolor": "white"
                      },
                      "zaxis": {
                        "backgroundcolor": "#E5ECF6",
                        "gridcolor": "white",
                        "gridwidth": 2,
                        "linecolor": "white",
                        "showbackground": true,
                        "ticks": "",
                        "zerolinecolor": "white"
                      }
                    },
                    "shapedefaults": {
                      "line": {
                        "color": "#2a3f5f"
                      }
                    },
                    "ternary": {
                      "aaxis": {
                        "gridcolor": "white",
                        "linecolor": "white",
                        "ticks": ""
                      },
                      "baxis": {
                        "gridcolor": "white",
                        "linecolor": "white",
                        "ticks": ""
                      },
                      "bgcolor": "#E5ECF6",
                      "caxis": {
                        "gridcolor": "white",
                        "linecolor": "white",
                        "ticks": ""
                      }
                    },
                    "title": {
                      "x": 0.05
                    },
                    "xaxis": {
                      "automargin": true,
                      "gridcolor": "white",
                      "linecolor": "white",
                      "ticks": "",
                      "title": {
                        "standoff": 15
                      },
                      "zerolinecolor": "white",
                      "zerolinewidth": 2
                    },
                    "yaxis": {
                      "automargin": true,
                      "gridcolor": "white",
                      "linecolor": "white",
                      "ticks": "",
                      "title": {
                        "standoff": 15
                      },
                      "zerolinecolor": "white",
                      "zerolinewidth": 2
                    }
                  }
                },
                "xaxis": {
                  "anchor": "y",
                  "domain": [
                    0,
                    1
                  ],
                  "title": {
                    "text": "Age"
                  }
                },
                "yaxis": {
                  "anchor": "x",
                  "domain": [
                    0,
                    1
                  ],
                  "title": {
                    "text": "count"
                  }
                }
              }
            },
            "text/html": "<div>                            <div id=\"e8e04c96-fffe-4daf-bf0d-b0207f1d6247\" class=\"plotly-graph-div\" style=\"height:525px; width:100%;\"></div>            <script type=\"text/javascript\">                require([\"plotly\"], function(Plotly) {                    window.PLOTLYENV=window.PLOTLYENV || {};                                    if (document.getElementById(\"e8e04c96-fffe-4daf-bf0d-b0207f1d6247\")) {                    Plotly.newPlot(                        \"e8e04c96-fffe-4daf-bf0d-b0207f1d6247\",                        [{\"alignmentgroup\": \"True\", \"bingroup\": \"x\", \"hovertemplate\": \"Sex=male<br>Age=%{x}<br>count=%{y}<extra></extra>\", \"legendgroup\": \"male\", \"marker\": {\"color\": \"#636efa\"}, \"name\": \"male\", \"offsetgroup\": \"male\", \"orientation\": \"v\", \"showlegend\": true, \"type\": \"histogram\", \"x\": [22.0, 35.0, null, 54.0, 2.0, 20.0, 39.0, 2.0, null, 35.0, 34.0, 28.0, null, 19.0, null, 40.0, 66.0, 28.0, 42.0, null, 21.0, null, null, null, null, 7.0, 21.0, 65.0, null, 28.5, 11.0, 22.0, 45.0, 4.0, null, null, 19.0, 26.0, 32.0, 21.0, 26.0, 32.0, 25.0, null, null, 0.83, 22.0, 29.0, 28.0, 16.0, null, 24.0, 29.0, 20.0, 46.0, 26.0, 59.0, null, 71.0, 23.0, 34.0, null, 21.0, 33.0, 37.0, 28.0, null, 38.0, 47.0, 22.0, 21.0, 70.5, 29.0, 24.0, 21.0, null, 32.5, 54.0, 12.0, null, 24.0, 45.0, 33.0, 20.0, 25.0, 23.0, 37.0, 16.0, 24.0, 19.0, 18.0, 19.0, 27.0, 36.5, 42.0, 51.0, 55.5, 40.5, null, 51.0, 30.0, null, null, 44.0, 26.0, 17.0, 1.0, 9.0, null, 28.0, 61.0, 4.0, 21.0, 56.0, 18.0, null, 30.0, 36.0, null, 9.0, 1.0, null, 45.0, 40.0, 36.0, 19.0, 3.0, null, 42.0, 28.0, null, 34.0, 45.5, 18.0, 32.0, 26.0, 40.0, 24.0, 22.0, 30.0, null, 42.0, 30.0, 16.0, 27.0, 51.0, null, 38.0, 22.0, 19.0, 20.5, 18.0, 29.0, 59.0, 24.0, 44.0, 19.0, 33.0, 29.0, 22.0, 30.0, 44.0, 37.0, 54.0, null, 62.0, 30.0, null, 3.0, 52.0, 40.0, 36.0, 16.0, 25.0, null, 25.0, 37.0, null, 7.0, 65.0, 28.0, 16.0, 19.0, null, 33.0, 30.0, 22.0, 42.0, 36.0, 24.0, null, 23.5, null, null, 19.0, null, 0.92, 30.0, 28.0, 43.0, 54.0, 22.0, 27.0, null, 61.0, 45.5, 38.0, 16.0, null, 29.0, 45.0, 45.0, 2.0, 28.0, 25.0, 36.0, 3.0, 42.0, 23.0, null, 15.0, 25.0, null, 28.0, 40.0, 29.0, 35.0, null, 30.0, 25.0, 18.0, 19.0, 22.0, 27.0, 20.0, 19.0, 32.0, null, 18.0, 1.0, null, 36.0, 21.0, 28.0, 22.0, 46.0, 23.0, 39.0, 26.0, 28.0, 34.0, 51.0, 3.0, 21.0, null, null, null, 44.0, 30.0, null, 21.0, 29.0, 18.0, null, null, 32.0, 28.0, 17.0, 50.0, 64.0, 31.0, 20.0, 25.0, null, 4.0, 34.0, 52.0, 36.0, null, 30.0, 49.0, null, 29.0, 65.0, null, 48.0, 34.0, 47.0, 48.0, null, 38.0, null, 56.0, null, null, 38.0, null, 34.0, 29.0, 22.0, 9.0, null, 50.0, 25.0, 58.0, 30.0, 9.0, null, 21.0, 55.0, 71.0, 21.0, null, null, 24.0, 17.0, 18.0, null, 28.0, 26.0, 29.0, null, 36.0, 24.0, 47.0, null, 32.0, 22.0, null, null, 40.5, null, 39.0, 23.0, null, 17.0, 45.0, null, 32.0, 50.0, 64.0, null, 33.0, 8.0, 17.0, 27.0, null, 22.0, 62.0, null, null, 40.0, 28.0, null, 24.0, 19.0, null, 32.0, 62.0, 36.0, 16.0, 19.0, 32.0, 54.0, 36.0, null, 47.0, 60.0, 22.0, null, 35.0, 47.0, 37.0, 36.0, 49.0, null, 49.0, null, null, 44.0, 35.0, 36.0, 30.0, 27.0, null, null, 35.0, 34.0, 26.0, 27.0, 42.0, 20.0, 21.0, 21.0, 61.0, 57.0, 26.0, null, 80.0, 51.0, 32.0, null, 32.0, 31.0, null, 20.0, null, 48.0, 19.0, 56.0, null, null, 21.0, 24.0, null, 23.0, 58.0, 50.0, 40.0, 47.0, 36.0, 20.0, 32.0, 25.0, null, 43.0, 31.0, 70.0, 31.0, null, 18.0, 24.5, 36.0, 27.0, 20.0, 14.0, 60.0, 25.0, 14.0, 19.0, 18.0, 31.0, null, 25.0, 60.0, 52.0, 44.0, 49.0, 42.0, 35.0, 25.0, 26.0, 39.0, 42.0, null, null, 48.0, 29.0, 52.0, 19.0, null, 33.0, 17.0, 34.0, 50.0, 27.0, 20.0, 25.0, 11.0, null, 23.0, 23.0, 28.5, 35.0, null, null, null, 36.0, 24.0, 31.0, 70.0, 16.0, 19.0, 31.0, 6.0, 33.0, 23.0, 0.67, 28.0, 18.0, 34.0, null, 41.0, 20.0, 16.0, null, null, 32.0, 24.0, 48.0, null, 18.0, null, null, 29.0, null, 25.0, 25.0, 8.0, 1.0, 46.0, null, 16.0, null, 25.0, 39.0, 30.0, 34.0, 11.0, 0.42, 27.0, 31.0, 39.0, 39.0, 26.0, 39.0, 35.0, 30.5, null, 31.0, 43.0, 10.0, 27.0, 38.0, 2.0, null, null, 1.0, null, 0.83, null, 23.0, 18.0, 21.0, null, 32.0, null, 20.0, 16.0, 34.5, 17.0, 42.0, null, 35.0, 28.0, 4.0, 74.0, 51.0, null, 41.0, 21.0, 24.0, 31.0, null, 4.0, 26.0, 33.0, 47.0, 20.0, 19.0, null, 33.0, 28.0, 25.0, 27.0, 26.0, 32.0], \"xaxis\": \"x\", \"yaxis\": \"y\"}, {\"alignmentgroup\": \"True\", \"bingroup\": \"x\", \"hovertemplate\": \"Sex=female<br>Age=%{x}<br>count=%{y}<extra></extra>\", \"legendgroup\": \"female\", \"marker\": {\"color\": \"#EF553B\"}, \"name\": \"female\", \"offsetgroup\": \"female\", \"orientation\": \"v\", \"showlegend\": true, \"type\": \"histogram\", \"x\": [38.0, 26.0, 35.0, 27.0, 14.0, 4.0, 58.0, 14.0, 55.0, 31.0, null, 15.0, 8.0, 38.0, null, null, null, 18.0, 14.0, 40.0, 27.0, 3.0, 19.0, null, 18.0, 49.0, 29.0, 21.0, 5.0, 38.0, 29.0, 17.0, 16.0, 30.0, null, 17.0, 33.0, 23.0, 34.0, 28.0, 21.0, null, 14.5, 20.0, 17.0, 2.0, 32.5, null, 47.0, 29.0, 19.0, null, 22.0, 24.0, 9.0, 22.0, 16.0, 40.0, null, 45.0, 1.0, 50.0, null, 4.0, null, 32.0, 19.0, 44.0, 58.0, null, 24.0, 2.0, 16.0, 35.0, 31.0, 27.0, 32.0, null, 35.0, 5.0, null, 8.0, null, null, 25.0, 24.0, 29.0, 41.0, 29.0, null, 30.0, 35.0, 50.0, null, 58.0, 35.0, 41.0, null, 63.0, 45.0, 35.0, 22.0, 26.0, 19.0, 24.0, 2.0, 50.0, null, null, null, 17.0, 30.0, 24.0, 18.0, 26.0, 26.0, 24.0, 31.0, 40.0, 30.0, 22.0, 36.0, 36.0, 31.0, 16.0, null, null, 41.0, 24.0, 24.0, 40.0, null, 22.0, 38.0, null, null, 45.0, 60.0, null, null, 24.0, 3.0, null, 22.0, 42.0, 1.0, 35.0, 36.0, 17.0, 23.0, 24.0, 31.0, 28.0, 21.0, 20.0, null, 33.0, null, 34.0, 18.0, 10.0, 28.0, 28.0, 19.0, null, 42.0, 14.0, 21.0, 24.0, 45.0, 28.0, 13.0, 5.0, null, 50.0, 0.75, 33.0, 23.0, 22.0, 2.0, 63.0, null, 35.0, 54.0, 25.0, 21.0, null, 37.0, 16.0, 33.0, 54.0, 34.0, 36.0, 30.0, 44.0, 50.0, 2.0, null, 30.0, 7.0, 30.0, 22.0, 36.0, 9.0, 11.0, 19.0, 22.0, 48.0, 39.0, 36.0, null, 29.0, 53.0, null, 34.0, 39.0, null, 25.0, 39.0, 18.0, 52.0, null, null, 24.0, 22.0, 40.0, 39.0, null, 24.0, 26.0, 4.0, 21.0, 9.0, 28.0, 41.0, 24.0, 2.0, 0.75, 23.0, 18.0, null, 18.0, 32.0, null, 40.0, 18.0, 43.0, null, 15.0, 4.0, null, 18.0, 18.0, 45.0, 22.0, 24.0, 38.0, 27.0, 6.0, 30.0, null, 25.0, 29.0, 48.0, 21.0, 30.0, 4.0, 48.0, 33.0, 36.0, 51.0, 30.5, 57.0, 54.0, 5.0, 43.0, 13.0, 17.0, 18.0, null, 49.0, 31.0, 30.0, 31.0, 18.0, 33.0, 6.0, 23.0, 52.0, 27.0, 62.0, 15.0, 39.0, 30.0, null, 9.0, 16.0, 44.0, 18.0, 45.0, 24.0, 48.0, null, 42.0, 27.0, 47.0, 28.0, 15.0, 56.0, 25.0, 22.0, 39.0, 19.0, null], \"xaxis\": \"x\", \"yaxis\": \"y\"}],                        {\"barmode\": \"relative\", \"legend\": {\"title\": {\"text\": \"Sex\"}, \"tracegroupgap\": 0}, \"margin\": {\"t\": 60}, \"template\": {\"data\": {\"bar\": [{\"error_x\": {\"color\": \"#2a3f5f\"}, \"error_y\": {\"color\": \"#2a3f5f\"}, \"marker\": {\"line\": {\"color\": \"#E5ECF6\", \"width\": 0.5}}, \"type\": \"bar\"}], \"barpolar\": [{\"marker\": {\"line\": {\"color\": \"#E5ECF6\", \"width\": 0.5}}, \"type\": \"barpolar\"}], \"carpet\": [{\"aaxis\": {\"endlinecolor\": \"#2a3f5f\", \"gridcolor\": \"white\", \"linecolor\": \"white\", \"minorgridcolor\": \"white\", \"startlinecolor\": \"#2a3f5f\"}, \"baxis\": {\"endlinecolor\": \"#2a3f5f\", \"gridcolor\": \"white\", \"linecolor\": \"white\", \"minorgridcolor\": \"white\", \"startlinecolor\": \"#2a3f5f\"}, \"type\": \"carpet\"}], \"choropleth\": [{\"colorbar\": {\"outlinewidth\": 0, \"ticks\": \"\"}, \"type\": \"choropleth\"}], \"contour\": [{\"colorbar\": {\"outlinewidth\": 0, \"ticks\": \"\"}, \"colorscale\": [[0.0, \"#0d0887\"], [0.1111111111111111, \"#46039f\"], [0.2222222222222222, \"#7201a8\"], [0.3333333333333333, \"#9c179e\"], [0.4444444444444444, \"#bd3786\"], [0.5555555555555556, \"#d8576b\"], [0.6666666666666666, \"#ed7953\"], [0.7777777777777778, \"#fb9f3a\"], [0.8888888888888888, \"#fdca26\"], [1.0, \"#f0f921\"]], \"type\": \"contour\"}], \"contourcarpet\": [{\"colorbar\": {\"outlinewidth\": 0, \"ticks\": \"\"}, \"type\": \"contourcarpet\"}], \"heatmap\": [{\"colorbar\": {\"outlinewidth\": 0, \"ticks\": \"\"}, \"colorscale\": [[0.0, \"#0d0887\"], [0.1111111111111111, \"#46039f\"], [0.2222222222222222, \"#7201a8\"], [0.3333333333333333, \"#9c179e\"], [0.4444444444444444, \"#bd3786\"], [0.5555555555555556, \"#d8576b\"], [0.6666666666666666, \"#ed7953\"], [0.7777777777777778, \"#fb9f3a\"], [0.8888888888888888, \"#fdca26\"], [1.0, \"#f0f921\"]], \"type\": \"heatmap\"}], \"heatmapgl\": [{\"colorbar\": {\"outlinewidth\": 0, \"ticks\": \"\"}, \"colorscale\": [[0.0, \"#0d0887\"], [0.1111111111111111, \"#46039f\"], [0.2222222222222222, \"#7201a8\"], [0.3333333333333333, \"#9c179e\"], [0.4444444444444444, \"#bd3786\"], [0.5555555555555556, \"#d8576b\"], [0.6666666666666666, \"#ed7953\"], [0.7777777777777778, \"#fb9f3a\"], [0.8888888888888888, \"#fdca26\"], [1.0, \"#f0f921\"]], \"type\": \"heatmapgl\"}], \"histogram\": [{\"marker\": {\"colorbar\": {\"outlinewidth\": 0, \"ticks\": \"\"}}, \"type\": \"histogram\"}], \"histogram2d\": [{\"colorbar\": {\"outlinewidth\": 0, \"ticks\": \"\"}, \"colorscale\": [[0.0, \"#0d0887\"], [0.1111111111111111, \"#46039f\"], [0.2222222222222222, \"#7201a8\"], [0.3333333333333333, \"#9c179e\"], [0.4444444444444444, \"#bd3786\"], [0.5555555555555556, \"#d8576b\"], [0.6666666666666666, \"#ed7953\"], [0.7777777777777778, \"#fb9f3a\"], [0.8888888888888888, \"#fdca26\"], [1.0, \"#f0f921\"]], \"type\": \"histogram2d\"}], \"histogram2dcontour\": [{\"colorbar\": {\"outlinewidth\": 0, \"ticks\": \"\"}, \"colorscale\": [[0.0, \"#0d0887\"], [0.1111111111111111, \"#46039f\"], [0.2222222222222222, \"#7201a8\"], [0.3333333333333333, \"#9c179e\"], [0.4444444444444444, \"#bd3786\"], [0.5555555555555556, \"#d8576b\"], [0.6666666666666666, \"#ed7953\"], [0.7777777777777778, \"#fb9f3a\"], [0.8888888888888888, \"#fdca26\"], [1.0, \"#f0f921\"]], \"type\": \"histogram2dcontour\"}], \"mesh3d\": [{\"colorbar\": {\"outlinewidth\": 0, \"ticks\": \"\"}, \"type\": \"mesh3d\"}], \"parcoords\": [{\"line\": {\"colorbar\": {\"outlinewidth\": 0, \"ticks\": \"\"}}, \"type\": \"parcoords\"}], \"pie\": [{\"automargin\": true, \"type\": \"pie\"}], \"scatter\": [{\"marker\": {\"colorbar\": {\"outlinewidth\": 0, \"ticks\": \"\"}}, \"type\": \"scatter\"}], \"scatter3d\": [{\"line\": {\"colorbar\": {\"outlinewidth\": 0, \"ticks\": \"\"}}, \"marker\": {\"colorbar\": {\"outlinewidth\": 0, \"ticks\": \"\"}}, \"type\": \"scatter3d\"}], \"scattercarpet\": [{\"marker\": {\"colorbar\": {\"outlinewidth\": 0, \"ticks\": \"\"}}, \"type\": \"scattercarpet\"}], \"scattergeo\": [{\"marker\": {\"colorbar\": {\"outlinewidth\": 0, \"ticks\": \"\"}}, \"type\": \"scattergeo\"}], \"scattergl\": [{\"marker\": {\"colorbar\": {\"outlinewidth\": 0, \"ticks\": \"\"}}, \"type\": \"scattergl\"}], \"scattermapbox\": [{\"marker\": {\"colorbar\": {\"outlinewidth\": 0, \"ticks\": \"\"}}, \"type\": \"scattermapbox\"}], \"scatterpolar\": [{\"marker\": {\"colorbar\": {\"outlinewidth\": 0, \"ticks\": \"\"}}, \"type\": \"scatterpolar\"}], \"scatterpolargl\": [{\"marker\": {\"colorbar\": {\"outlinewidth\": 0, \"ticks\": \"\"}}, \"type\": \"scatterpolargl\"}], \"scatterternary\": [{\"marker\": {\"colorbar\": {\"outlinewidth\": 0, \"ticks\": \"\"}}, \"type\": \"scatterternary\"}], \"surface\": [{\"colorbar\": {\"outlinewidth\": 0, \"ticks\": \"\"}, \"colorscale\": [[0.0, \"#0d0887\"], [0.1111111111111111, \"#46039f\"], [0.2222222222222222, \"#7201a8\"], [0.3333333333333333, \"#9c179e\"], [0.4444444444444444, \"#bd3786\"], [0.5555555555555556, \"#d8576b\"], [0.6666666666666666, \"#ed7953\"], [0.7777777777777778, \"#fb9f3a\"], [0.8888888888888888, \"#fdca26\"], [1.0, \"#f0f921\"]], \"type\": \"surface\"}], \"table\": [{\"cells\": {\"fill\": {\"color\": \"#EBF0F8\"}, \"line\": {\"color\": \"white\"}}, \"header\": {\"fill\": {\"color\": \"#C8D4E3\"}, \"line\": {\"color\": \"white\"}}, \"type\": \"table\"}]}, \"layout\": {\"annotationdefaults\": {\"arrowcolor\": \"#2a3f5f\", \"arrowhead\": 0, \"arrowwidth\": 1}, \"autotypenumbers\": \"strict\", \"coloraxis\": {\"colorbar\": {\"outlinewidth\": 0, \"ticks\": \"\"}}, \"colorscale\": {\"diverging\": [[0, \"#8e0152\"], [0.1, \"#c51b7d\"], [0.2, \"#de77ae\"], [0.3, \"#f1b6da\"], [0.4, \"#fde0ef\"], [0.5, \"#f7f7f7\"], [0.6, \"#e6f5d0\"], [0.7, \"#b8e186\"], [0.8, \"#7fbc41\"], [0.9, \"#4d9221\"], [1, \"#276419\"]], \"sequential\": [[0.0, \"#0d0887\"], [0.1111111111111111, \"#46039f\"], [0.2222222222222222, \"#7201a8\"], [0.3333333333333333, \"#9c179e\"], [0.4444444444444444, \"#bd3786\"], [0.5555555555555556, \"#d8576b\"], [0.6666666666666666, \"#ed7953\"], [0.7777777777777778, \"#fb9f3a\"], [0.8888888888888888, \"#fdca26\"], [1.0, \"#f0f921\"]], \"sequentialminus\": [[0.0, \"#0d0887\"], [0.1111111111111111, \"#46039f\"], [0.2222222222222222, \"#7201a8\"], [0.3333333333333333, \"#9c179e\"], [0.4444444444444444, \"#bd3786\"], [0.5555555555555556, \"#d8576b\"], [0.6666666666666666, \"#ed7953\"], [0.7777777777777778, \"#fb9f3a\"], [0.8888888888888888, \"#fdca26\"], [1.0, \"#f0f921\"]]}, \"colorway\": [\"#636efa\", \"#EF553B\", \"#00cc96\", \"#ab63fa\", \"#FFA15A\", \"#19d3f3\", \"#FF6692\", \"#B6E880\", \"#FF97FF\", \"#FECB52\"], \"font\": {\"color\": \"#2a3f5f\"}, \"geo\": {\"bgcolor\": \"white\", \"lakecolor\": \"white\", \"landcolor\": \"#E5ECF6\", \"showlakes\": true, \"showland\": true, \"subunitcolor\": \"white\"}, \"hoverlabel\": {\"align\": \"left\"}, \"hovermode\": \"closest\", \"mapbox\": {\"style\": \"light\"}, \"paper_bgcolor\": \"white\", \"plot_bgcolor\": \"#E5ECF6\", \"polar\": {\"angularaxis\": {\"gridcolor\": \"white\", \"linecolor\": \"white\", \"ticks\": \"\"}, \"bgcolor\": \"#E5ECF6\", \"radialaxis\": {\"gridcolor\": \"white\", \"linecolor\": \"white\", \"ticks\": \"\"}}, \"scene\": {\"xaxis\": {\"backgroundcolor\": \"#E5ECF6\", \"gridcolor\": \"white\", \"gridwidth\": 2, \"linecolor\": \"white\", \"showbackground\": true, \"ticks\": \"\", \"zerolinecolor\": \"white\"}, \"yaxis\": {\"backgroundcolor\": \"#E5ECF6\", \"gridcolor\": \"white\", \"gridwidth\": 2, \"linecolor\": \"white\", \"showbackground\": true, \"ticks\": \"\", \"zerolinecolor\": \"white\"}, \"zaxis\": {\"backgroundcolor\": \"#E5ECF6\", \"gridcolor\": \"white\", \"gridwidth\": 2, \"linecolor\": \"white\", \"showbackground\": true, \"ticks\": \"\", \"zerolinecolor\": \"white\"}}, \"shapedefaults\": {\"line\": {\"color\": \"#2a3f5f\"}}, \"ternary\": {\"aaxis\": {\"gridcolor\": \"white\", \"linecolor\": \"white\", \"ticks\": \"\"}, \"baxis\": {\"gridcolor\": \"white\", \"linecolor\": \"white\", \"ticks\": \"\"}, \"bgcolor\": \"#E5ECF6\", \"caxis\": {\"gridcolor\": \"white\", \"linecolor\": \"white\", \"ticks\": \"\"}}, \"title\": {\"x\": 0.05}, \"xaxis\": {\"automargin\": true, \"gridcolor\": \"white\", \"linecolor\": \"white\", \"ticks\": \"\", \"title\": {\"standoff\": 15}, \"zerolinecolor\": \"white\", \"zerolinewidth\": 2}, \"yaxis\": {\"automargin\": true, \"gridcolor\": \"white\", \"linecolor\": \"white\", \"ticks\": \"\", \"title\": {\"standoff\": 15}, \"zerolinecolor\": \"white\", \"zerolinewidth\": 2}}}, \"xaxis\": {\"anchor\": \"y\", \"domain\": [0.0, 1.0], \"title\": {\"text\": \"Age\"}}, \"yaxis\": {\"anchor\": \"x\", \"domain\": [0.0, 1.0], \"title\": {\"text\": \"count\"}}},                        {\"responsive\": true}                    ).then(function(){\n                            \nvar gd = document.getElementById('e8e04c96-fffe-4daf-bf0d-b0207f1d6247');\nvar x = new MutationObserver(function (mutations, observer) {{\n        var display = window.getComputedStyle(gd).display;\n        if (!display || display === 'none') {{\n            console.log([gd, 'removed!']);\n            Plotly.purge(gd);\n            observer.disconnect();\n        }}\n}});\n\n// Listen for the removal of the full notebook cells\nvar notebookContainer = gd.closest('#notebook-container');\nif (notebookContainer) {{\n    x.observe(notebookContainer, {childList: true});\n}}\n\n// Listen for the clearing of the current output cell\nvar outputEl = gd.closest('.output');\nif (outputEl) {{\n    x.observe(outputEl, {childList: true});\n}}\n\n                        })                };                });            </script>        </div>"
          },
          "metadata": {}
        }
      ],
      "execution_count": 17,
      "metadata": {
        "collapsed": true,
        "jupyter": {
          "source_hidden": false,
          "outputs_hidden": false
        },
        "nteract": {
          "transient": {
            "deleting": false
          }
        },
        "gather": {
          "logged": 1618336285184
        }
      }
    },
    {
      "cell_type": "markdown",
      "source": [
        "## 3. Using the function df.corr() to identify the correlation within the data, represent its results using a form of a matrix plot."
      ],
      "metadata": {
        "nteract": {
          "transient": {
            "deleting": false
          }
        }
      }
    },
    {
      "cell_type": "code",
      "source": [
        "passengers.corr()"
      ],
      "outputs": [
        {
          "output_type": "execute_result",
          "execution_count": 18,
          "data": {
            "text/plain": "             PassengerId  Survived    Pclass       Age     SibSp     Parch  \\\nPassengerId     1.000000 -0.005007 -0.035144  0.036847 -0.057527 -0.001652   \nSurvived       -0.005007  1.000000 -0.338481 -0.077221 -0.035322  0.081629   \nPclass         -0.035144 -0.338481  1.000000 -0.369226  0.083081  0.018443   \nAge             0.036847 -0.077221 -0.369226  1.000000 -0.308247 -0.189119   \nSibSp          -0.057527 -0.035322  0.083081 -0.308247  1.000000  0.414838   \nParch          -0.001652  0.081629  0.018443 -0.189119  0.414838  1.000000   \nFare            0.012658  0.257307 -0.549500  0.096067  0.159651  0.216225   \n\n                 Fare  \nPassengerId  0.012658  \nSurvived     0.257307  \nPclass      -0.549500  \nAge          0.096067  \nSibSp        0.159651  \nParch        0.216225  \nFare         1.000000  ",
            "text/html": "<div>\n<style scoped>\n    .dataframe tbody tr th:only-of-type {\n        vertical-align: middle;\n    }\n\n    .dataframe tbody tr th {\n        vertical-align: top;\n    }\n\n    .dataframe thead th {\n        text-align: right;\n    }\n</style>\n<table border=\"1\" class=\"dataframe\">\n  <thead>\n    <tr style=\"text-align: right;\">\n      <th></th>\n      <th>PassengerId</th>\n      <th>Survived</th>\n      <th>Pclass</th>\n      <th>Age</th>\n      <th>SibSp</th>\n      <th>Parch</th>\n      <th>Fare</th>\n    </tr>\n  </thead>\n  <tbody>\n    <tr>\n      <th>PassengerId</th>\n      <td>1.000000</td>\n      <td>-0.005007</td>\n      <td>-0.035144</td>\n      <td>0.036847</td>\n      <td>-0.057527</td>\n      <td>-0.001652</td>\n      <td>0.012658</td>\n    </tr>\n    <tr>\n      <th>Survived</th>\n      <td>-0.005007</td>\n      <td>1.000000</td>\n      <td>-0.338481</td>\n      <td>-0.077221</td>\n      <td>-0.035322</td>\n      <td>0.081629</td>\n      <td>0.257307</td>\n    </tr>\n    <tr>\n      <th>Pclass</th>\n      <td>-0.035144</td>\n      <td>-0.338481</td>\n      <td>1.000000</td>\n      <td>-0.369226</td>\n      <td>0.083081</td>\n      <td>0.018443</td>\n      <td>-0.549500</td>\n    </tr>\n    <tr>\n      <th>Age</th>\n      <td>0.036847</td>\n      <td>-0.077221</td>\n      <td>-0.369226</td>\n      <td>1.000000</td>\n      <td>-0.308247</td>\n      <td>-0.189119</td>\n      <td>0.096067</td>\n    </tr>\n    <tr>\n      <th>SibSp</th>\n      <td>-0.057527</td>\n      <td>-0.035322</td>\n      <td>0.083081</td>\n      <td>-0.308247</td>\n      <td>1.000000</td>\n      <td>0.414838</td>\n      <td>0.159651</td>\n    </tr>\n    <tr>\n      <th>Parch</th>\n      <td>-0.001652</td>\n      <td>0.081629</td>\n      <td>0.018443</td>\n      <td>-0.189119</td>\n      <td>0.414838</td>\n      <td>1.000000</td>\n      <td>0.216225</td>\n    </tr>\n    <tr>\n      <th>Fare</th>\n      <td>0.012658</td>\n      <td>0.257307</td>\n      <td>-0.549500</td>\n      <td>0.096067</td>\n      <td>0.159651</td>\n      <td>0.216225</td>\n      <td>1.000000</td>\n    </tr>\n  </tbody>\n</table>\n</div>"
          },
          "metadata": {}
        }
      ],
      "execution_count": 18,
      "metadata": {
        "collapsed": true,
        "jupyter": {
          "source_hidden": false,
          "outputs_hidden": false
        },
        "nteract": {
          "transient": {
            "deleting": false
          }
        },
        "gather": {
          "logged": 1618336439831
        }
      }
    },
    {
      "cell_type": "code",
      "source": [
        "\r\n",
        "corr = passengers.corr()\r\n",
        "\r\n",
        "trace = go.Heatmap(z=corr.values,\r\n",
        "                  x=corr.index.values,\r\n",
        "                  y=corr.columns.values)\r\n",
        "data=[trace]\r\n",
        "fig = go.Figure(data=data)\r\n",
        "fig.show()"
      ],
      "outputs": [
        {
          "output_type": "display_data",
          "data": {
            "application/vnd.plotly.v1+json": {
              "config": {
                "plotlyServerURL": "https://plot.ly"
              },
              "data": [
                {
                  "type": "heatmap",
                  "x": [
                    "PassengerId",
                    "Survived",
                    "Pclass",
                    "Age",
                    "SibSp",
                    "Parch",
                    "Fare"
                  ],
                  "y": [
                    "PassengerId",
                    "Survived",
                    "Pclass",
                    "Age",
                    "SibSp",
                    "Parch",
                    "Fare"
                  ],
                  "z": [
                    [
                      1,
                      -0.005006660767066476,
                      -0.03514399403037967,
                      0.03684719786132784,
                      -0.057526833784441705,
                      -0.0016520124027188286,
                      0.01265821928749123
                    ],
                    [
                      -0.005006660767066476,
                      1,
                      -0.33848103596101586,
                      -0.07722109457217737,
                      -0.03532249888573588,
                      0.08162940708348222,
                      0.2573065223849618
                    ],
                    [
                      -0.03514399403037967,
                      -0.33848103596101586,
                      1,
                      -0.36922601531551574,
                      0.0830813628456866,
                      0.01844267131074835,
                      -0.5494996199439061
                    ],
                    [
                      0.03684719786132784,
                      -0.07722109457217737,
                      -0.36922601531551574,
                      1,
                      -0.3082467589236574,
                      -0.18911926263203518,
                      0.09606669176903881
                    ],
                    [
                      -0.057526833784441705,
                      -0.03532249888573588,
                      0.0830813628456866,
                      -0.3082467589236574,
                      1,
                      0.41483769862015263,
                      0.15965104324216103
                    ],
                    [
                      -0.0016520124027188286,
                      0.08162940708348222,
                      0.01844267131074835,
                      -0.18911926263203518,
                      0.41483769862015263,
                      1,
                      0.21622494477076254
                    ],
                    [
                      0.01265821928749123,
                      0.2573065223849618,
                      -0.5494996199439061,
                      0.09606669176903881,
                      0.15965104324216103,
                      0.21622494477076254,
                      1
                    ]
                  ]
                }
              ],
              "layout": {
                "template": {
                  "data": {
                    "bar": [
                      {
                        "error_x": {
                          "color": "#2a3f5f"
                        },
                        "error_y": {
                          "color": "#2a3f5f"
                        },
                        "marker": {
                          "line": {
                            "color": "#E5ECF6",
                            "width": 0.5
                          }
                        },
                        "type": "bar"
                      }
                    ],
                    "barpolar": [
                      {
                        "marker": {
                          "line": {
                            "color": "#E5ECF6",
                            "width": 0.5
                          }
                        },
                        "type": "barpolar"
                      }
                    ],
                    "carpet": [
                      {
                        "aaxis": {
                          "endlinecolor": "#2a3f5f",
                          "gridcolor": "white",
                          "linecolor": "white",
                          "minorgridcolor": "white",
                          "startlinecolor": "#2a3f5f"
                        },
                        "baxis": {
                          "endlinecolor": "#2a3f5f",
                          "gridcolor": "white",
                          "linecolor": "white",
                          "minorgridcolor": "white",
                          "startlinecolor": "#2a3f5f"
                        },
                        "type": "carpet"
                      }
                    ],
                    "choropleth": [
                      {
                        "colorbar": {
                          "outlinewidth": 0,
                          "ticks": ""
                        },
                        "type": "choropleth"
                      }
                    ],
                    "contour": [
                      {
                        "colorbar": {
                          "outlinewidth": 0,
                          "ticks": ""
                        },
                        "colorscale": [
                          [
                            0,
                            "#0d0887"
                          ],
                          [
                            0.1111111111111111,
                            "#46039f"
                          ],
                          [
                            0.2222222222222222,
                            "#7201a8"
                          ],
                          [
                            0.3333333333333333,
                            "#9c179e"
                          ],
                          [
                            0.4444444444444444,
                            "#bd3786"
                          ],
                          [
                            0.5555555555555556,
                            "#d8576b"
                          ],
                          [
                            0.6666666666666666,
                            "#ed7953"
                          ],
                          [
                            0.7777777777777778,
                            "#fb9f3a"
                          ],
                          [
                            0.8888888888888888,
                            "#fdca26"
                          ],
                          [
                            1,
                            "#f0f921"
                          ]
                        ],
                        "type": "contour"
                      }
                    ],
                    "contourcarpet": [
                      {
                        "colorbar": {
                          "outlinewidth": 0,
                          "ticks": ""
                        },
                        "type": "contourcarpet"
                      }
                    ],
                    "heatmap": [
                      {
                        "colorbar": {
                          "outlinewidth": 0,
                          "ticks": ""
                        },
                        "colorscale": [
                          [
                            0,
                            "#0d0887"
                          ],
                          [
                            0.1111111111111111,
                            "#46039f"
                          ],
                          [
                            0.2222222222222222,
                            "#7201a8"
                          ],
                          [
                            0.3333333333333333,
                            "#9c179e"
                          ],
                          [
                            0.4444444444444444,
                            "#bd3786"
                          ],
                          [
                            0.5555555555555556,
                            "#d8576b"
                          ],
                          [
                            0.6666666666666666,
                            "#ed7953"
                          ],
                          [
                            0.7777777777777778,
                            "#fb9f3a"
                          ],
                          [
                            0.8888888888888888,
                            "#fdca26"
                          ],
                          [
                            1,
                            "#f0f921"
                          ]
                        ],
                        "type": "heatmap"
                      }
                    ],
                    "heatmapgl": [
                      {
                        "colorbar": {
                          "outlinewidth": 0,
                          "ticks": ""
                        },
                        "colorscale": [
                          [
                            0,
                            "#0d0887"
                          ],
                          [
                            0.1111111111111111,
                            "#46039f"
                          ],
                          [
                            0.2222222222222222,
                            "#7201a8"
                          ],
                          [
                            0.3333333333333333,
                            "#9c179e"
                          ],
                          [
                            0.4444444444444444,
                            "#bd3786"
                          ],
                          [
                            0.5555555555555556,
                            "#d8576b"
                          ],
                          [
                            0.6666666666666666,
                            "#ed7953"
                          ],
                          [
                            0.7777777777777778,
                            "#fb9f3a"
                          ],
                          [
                            0.8888888888888888,
                            "#fdca26"
                          ],
                          [
                            1,
                            "#f0f921"
                          ]
                        ],
                        "type": "heatmapgl"
                      }
                    ],
                    "histogram": [
                      {
                        "marker": {
                          "colorbar": {
                            "outlinewidth": 0,
                            "ticks": ""
                          }
                        },
                        "type": "histogram"
                      }
                    ],
                    "histogram2d": [
                      {
                        "colorbar": {
                          "outlinewidth": 0,
                          "ticks": ""
                        },
                        "colorscale": [
                          [
                            0,
                            "#0d0887"
                          ],
                          [
                            0.1111111111111111,
                            "#46039f"
                          ],
                          [
                            0.2222222222222222,
                            "#7201a8"
                          ],
                          [
                            0.3333333333333333,
                            "#9c179e"
                          ],
                          [
                            0.4444444444444444,
                            "#bd3786"
                          ],
                          [
                            0.5555555555555556,
                            "#d8576b"
                          ],
                          [
                            0.6666666666666666,
                            "#ed7953"
                          ],
                          [
                            0.7777777777777778,
                            "#fb9f3a"
                          ],
                          [
                            0.8888888888888888,
                            "#fdca26"
                          ],
                          [
                            1,
                            "#f0f921"
                          ]
                        ],
                        "type": "histogram2d"
                      }
                    ],
                    "histogram2dcontour": [
                      {
                        "colorbar": {
                          "outlinewidth": 0,
                          "ticks": ""
                        },
                        "colorscale": [
                          [
                            0,
                            "#0d0887"
                          ],
                          [
                            0.1111111111111111,
                            "#46039f"
                          ],
                          [
                            0.2222222222222222,
                            "#7201a8"
                          ],
                          [
                            0.3333333333333333,
                            "#9c179e"
                          ],
                          [
                            0.4444444444444444,
                            "#bd3786"
                          ],
                          [
                            0.5555555555555556,
                            "#d8576b"
                          ],
                          [
                            0.6666666666666666,
                            "#ed7953"
                          ],
                          [
                            0.7777777777777778,
                            "#fb9f3a"
                          ],
                          [
                            0.8888888888888888,
                            "#fdca26"
                          ],
                          [
                            1,
                            "#f0f921"
                          ]
                        ],
                        "type": "histogram2dcontour"
                      }
                    ],
                    "mesh3d": [
                      {
                        "colorbar": {
                          "outlinewidth": 0,
                          "ticks": ""
                        },
                        "type": "mesh3d"
                      }
                    ],
                    "parcoords": [
                      {
                        "line": {
                          "colorbar": {
                            "outlinewidth": 0,
                            "ticks": ""
                          }
                        },
                        "type": "parcoords"
                      }
                    ],
                    "pie": [
                      {
                        "automargin": true,
                        "type": "pie"
                      }
                    ],
                    "scatter": [
                      {
                        "marker": {
                          "colorbar": {
                            "outlinewidth": 0,
                            "ticks": ""
                          }
                        },
                        "type": "scatter"
                      }
                    ],
                    "scatter3d": [
                      {
                        "line": {
                          "colorbar": {
                            "outlinewidth": 0,
                            "ticks": ""
                          }
                        },
                        "marker": {
                          "colorbar": {
                            "outlinewidth": 0,
                            "ticks": ""
                          }
                        },
                        "type": "scatter3d"
                      }
                    ],
                    "scattercarpet": [
                      {
                        "marker": {
                          "colorbar": {
                            "outlinewidth": 0,
                            "ticks": ""
                          }
                        },
                        "type": "scattercarpet"
                      }
                    ],
                    "scattergeo": [
                      {
                        "marker": {
                          "colorbar": {
                            "outlinewidth": 0,
                            "ticks": ""
                          }
                        },
                        "type": "scattergeo"
                      }
                    ],
                    "scattergl": [
                      {
                        "marker": {
                          "colorbar": {
                            "outlinewidth": 0,
                            "ticks": ""
                          }
                        },
                        "type": "scattergl"
                      }
                    ],
                    "scattermapbox": [
                      {
                        "marker": {
                          "colorbar": {
                            "outlinewidth": 0,
                            "ticks": ""
                          }
                        },
                        "type": "scattermapbox"
                      }
                    ],
                    "scatterpolar": [
                      {
                        "marker": {
                          "colorbar": {
                            "outlinewidth": 0,
                            "ticks": ""
                          }
                        },
                        "type": "scatterpolar"
                      }
                    ],
                    "scatterpolargl": [
                      {
                        "marker": {
                          "colorbar": {
                            "outlinewidth": 0,
                            "ticks": ""
                          }
                        },
                        "type": "scatterpolargl"
                      }
                    ],
                    "scatterternary": [
                      {
                        "marker": {
                          "colorbar": {
                            "outlinewidth": 0,
                            "ticks": ""
                          }
                        },
                        "type": "scatterternary"
                      }
                    ],
                    "surface": [
                      {
                        "colorbar": {
                          "outlinewidth": 0,
                          "ticks": ""
                        },
                        "colorscale": [
                          [
                            0,
                            "#0d0887"
                          ],
                          [
                            0.1111111111111111,
                            "#46039f"
                          ],
                          [
                            0.2222222222222222,
                            "#7201a8"
                          ],
                          [
                            0.3333333333333333,
                            "#9c179e"
                          ],
                          [
                            0.4444444444444444,
                            "#bd3786"
                          ],
                          [
                            0.5555555555555556,
                            "#d8576b"
                          ],
                          [
                            0.6666666666666666,
                            "#ed7953"
                          ],
                          [
                            0.7777777777777778,
                            "#fb9f3a"
                          ],
                          [
                            0.8888888888888888,
                            "#fdca26"
                          ],
                          [
                            1,
                            "#f0f921"
                          ]
                        ],
                        "type": "surface"
                      }
                    ],
                    "table": [
                      {
                        "cells": {
                          "fill": {
                            "color": "#EBF0F8"
                          },
                          "line": {
                            "color": "white"
                          }
                        },
                        "header": {
                          "fill": {
                            "color": "#C8D4E3"
                          },
                          "line": {
                            "color": "white"
                          }
                        },
                        "type": "table"
                      }
                    ]
                  },
                  "layout": {
                    "annotationdefaults": {
                      "arrowcolor": "#2a3f5f",
                      "arrowhead": 0,
                      "arrowwidth": 1
                    },
                    "autotypenumbers": "strict",
                    "coloraxis": {
                      "colorbar": {
                        "outlinewidth": 0,
                        "ticks": ""
                      }
                    },
                    "colorscale": {
                      "diverging": [
                        [
                          0,
                          "#8e0152"
                        ],
                        [
                          0.1,
                          "#c51b7d"
                        ],
                        [
                          0.2,
                          "#de77ae"
                        ],
                        [
                          0.3,
                          "#f1b6da"
                        ],
                        [
                          0.4,
                          "#fde0ef"
                        ],
                        [
                          0.5,
                          "#f7f7f7"
                        ],
                        [
                          0.6,
                          "#e6f5d0"
                        ],
                        [
                          0.7,
                          "#b8e186"
                        ],
                        [
                          0.8,
                          "#7fbc41"
                        ],
                        [
                          0.9,
                          "#4d9221"
                        ],
                        [
                          1,
                          "#276419"
                        ]
                      ],
                      "sequential": [
                        [
                          0,
                          "#0d0887"
                        ],
                        [
                          0.1111111111111111,
                          "#46039f"
                        ],
                        [
                          0.2222222222222222,
                          "#7201a8"
                        ],
                        [
                          0.3333333333333333,
                          "#9c179e"
                        ],
                        [
                          0.4444444444444444,
                          "#bd3786"
                        ],
                        [
                          0.5555555555555556,
                          "#d8576b"
                        ],
                        [
                          0.6666666666666666,
                          "#ed7953"
                        ],
                        [
                          0.7777777777777778,
                          "#fb9f3a"
                        ],
                        [
                          0.8888888888888888,
                          "#fdca26"
                        ],
                        [
                          1,
                          "#f0f921"
                        ]
                      ],
                      "sequentialminus": [
                        [
                          0,
                          "#0d0887"
                        ],
                        [
                          0.1111111111111111,
                          "#46039f"
                        ],
                        [
                          0.2222222222222222,
                          "#7201a8"
                        ],
                        [
                          0.3333333333333333,
                          "#9c179e"
                        ],
                        [
                          0.4444444444444444,
                          "#bd3786"
                        ],
                        [
                          0.5555555555555556,
                          "#d8576b"
                        ],
                        [
                          0.6666666666666666,
                          "#ed7953"
                        ],
                        [
                          0.7777777777777778,
                          "#fb9f3a"
                        ],
                        [
                          0.8888888888888888,
                          "#fdca26"
                        ],
                        [
                          1,
                          "#f0f921"
                        ]
                      ]
                    },
                    "colorway": [
                      "#636efa",
                      "#EF553B",
                      "#00cc96",
                      "#ab63fa",
                      "#FFA15A",
                      "#19d3f3",
                      "#FF6692",
                      "#B6E880",
                      "#FF97FF",
                      "#FECB52"
                    ],
                    "font": {
                      "color": "#2a3f5f"
                    },
                    "geo": {
                      "bgcolor": "white",
                      "lakecolor": "white",
                      "landcolor": "#E5ECF6",
                      "showlakes": true,
                      "showland": true,
                      "subunitcolor": "white"
                    },
                    "hoverlabel": {
                      "align": "left"
                    },
                    "hovermode": "closest",
                    "mapbox": {
                      "style": "light"
                    },
                    "paper_bgcolor": "white",
                    "plot_bgcolor": "#E5ECF6",
                    "polar": {
                      "angularaxis": {
                        "gridcolor": "white",
                        "linecolor": "white",
                        "ticks": ""
                      },
                      "bgcolor": "#E5ECF6",
                      "radialaxis": {
                        "gridcolor": "white",
                        "linecolor": "white",
                        "ticks": ""
                      }
                    },
                    "scene": {
                      "xaxis": {
                        "backgroundcolor": "#E5ECF6",
                        "gridcolor": "white",
                        "gridwidth": 2,
                        "linecolor": "white",
                        "showbackground": true,
                        "ticks": "",
                        "zerolinecolor": "white"
                      },
                      "yaxis": {
                        "backgroundcolor": "#E5ECF6",
                        "gridcolor": "white",
                        "gridwidth": 2,
                        "linecolor": "white",
                        "showbackground": true,
                        "ticks": "",
                        "zerolinecolor": "white"
                      },
                      "zaxis": {
                        "backgroundcolor": "#E5ECF6",
                        "gridcolor": "white",
                        "gridwidth": 2,
                        "linecolor": "white",
                        "showbackground": true,
                        "ticks": "",
                        "zerolinecolor": "white"
                      }
                    },
                    "shapedefaults": {
                      "line": {
                        "color": "#2a3f5f"
                      }
                    },
                    "ternary": {
                      "aaxis": {
                        "gridcolor": "white",
                        "linecolor": "white",
                        "ticks": ""
                      },
                      "baxis": {
                        "gridcolor": "white",
                        "linecolor": "white",
                        "ticks": ""
                      },
                      "bgcolor": "#E5ECF6",
                      "caxis": {
                        "gridcolor": "white",
                        "linecolor": "white",
                        "ticks": ""
                      }
                    },
                    "title": {
                      "x": 0.05
                    },
                    "xaxis": {
                      "automargin": true,
                      "gridcolor": "white",
                      "linecolor": "white",
                      "ticks": "",
                      "title": {
                        "standoff": 15
                      },
                      "zerolinecolor": "white",
                      "zerolinewidth": 2
                    },
                    "yaxis": {
                      "automargin": true,
                      "gridcolor": "white",
                      "linecolor": "white",
                      "ticks": "",
                      "title": {
                        "standoff": 15
                      },
                      "zerolinecolor": "white",
                      "zerolinewidth": 2
                    }
                  }
                }
              }
            },
            "text/html": "<div>                            <div id=\"34069b18-666f-47ba-aa5f-46e661121048\" class=\"plotly-graph-div\" style=\"height:525px; width:100%;\"></div>            <script type=\"text/javascript\">                require([\"plotly\"], function(Plotly) {                    window.PLOTLYENV=window.PLOTLYENV || {};                                    if (document.getElementById(\"34069b18-666f-47ba-aa5f-46e661121048\")) {                    Plotly.newPlot(                        \"34069b18-666f-47ba-aa5f-46e661121048\",                        [{\"type\": \"heatmap\", \"x\": [\"PassengerId\", \"Survived\", \"Pclass\", \"Age\", \"SibSp\", \"Parch\", \"Fare\"], \"y\": [\"PassengerId\", \"Survived\", \"Pclass\", \"Age\", \"SibSp\", \"Parch\", \"Fare\"], \"z\": [[1.0, -0.005006660767066476, -0.03514399403037967, 0.03684719786132784, -0.057526833784441705, -0.0016520124027188286, 0.01265821928749123], [-0.005006660767066476, 1.0, -0.33848103596101586, -0.07722109457217737, -0.03532249888573588, 0.08162940708348222, 0.2573065223849618], [-0.03514399403037967, -0.33848103596101586, 1.0, -0.36922601531551574, 0.0830813628456866, 0.01844267131074835, -0.5494996199439061], [0.03684719786132784, -0.07722109457217737, -0.36922601531551574, 1.0, -0.3082467589236574, -0.18911926263203518, 0.09606669176903881], [-0.057526833784441705, -0.03532249888573588, 0.0830813628456866, -0.3082467589236574, 1.0, 0.41483769862015263, 0.15965104324216103], [-0.0016520124027188286, 0.08162940708348222, 0.01844267131074835, -0.18911926263203518, 0.41483769862015263, 1.0, 0.21622494477076254], [0.01265821928749123, 0.2573065223849618, -0.5494996199439061, 0.09606669176903881, 0.15965104324216103, 0.21622494477076254, 1.0]]}],                        {\"template\": {\"data\": {\"bar\": [{\"error_x\": {\"color\": \"#2a3f5f\"}, \"error_y\": {\"color\": \"#2a3f5f\"}, \"marker\": {\"line\": {\"color\": \"#E5ECF6\", \"width\": 0.5}}, \"type\": \"bar\"}], \"barpolar\": [{\"marker\": {\"line\": {\"color\": \"#E5ECF6\", \"width\": 0.5}}, \"type\": \"barpolar\"}], \"carpet\": [{\"aaxis\": {\"endlinecolor\": \"#2a3f5f\", \"gridcolor\": \"white\", \"linecolor\": \"white\", \"minorgridcolor\": \"white\", \"startlinecolor\": \"#2a3f5f\"}, \"baxis\": {\"endlinecolor\": \"#2a3f5f\", \"gridcolor\": \"white\", \"linecolor\": \"white\", \"minorgridcolor\": \"white\", \"startlinecolor\": \"#2a3f5f\"}, \"type\": \"carpet\"}], \"choropleth\": [{\"colorbar\": {\"outlinewidth\": 0, \"ticks\": \"\"}, \"type\": \"choropleth\"}], \"contour\": [{\"colorbar\": {\"outlinewidth\": 0, \"ticks\": \"\"}, \"colorscale\": [[0.0, \"#0d0887\"], [0.1111111111111111, \"#46039f\"], [0.2222222222222222, \"#7201a8\"], [0.3333333333333333, \"#9c179e\"], [0.4444444444444444, \"#bd3786\"], [0.5555555555555556, \"#d8576b\"], [0.6666666666666666, \"#ed7953\"], [0.7777777777777778, \"#fb9f3a\"], [0.8888888888888888, \"#fdca26\"], [1.0, \"#f0f921\"]], \"type\": \"contour\"}], \"contourcarpet\": [{\"colorbar\": {\"outlinewidth\": 0, \"ticks\": \"\"}, \"type\": \"contourcarpet\"}], \"heatmap\": [{\"colorbar\": {\"outlinewidth\": 0, \"ticks\": \"\"}, \"colorscale\": [[0.0, \"#0d0887\"], [0.1111111111111111, \"#46039f\"], [0.2222222222222222, \"#7201a8\"], [0.3333333333333333, \"#9c179e\"], [0.4444444444444444, \"#bd3786\"], [0.5555555555555556, \"#d8576b\"], [0.6666666666666666, \"#ed7953\"], [0.7777777777777778, \"#fb9f3a\"], [0.8888888888888888, \"#fdca26\"], [1.0, \"#f0f921\"]], \"type\": \"heatmap\"}], \"heatmapgl\": [{\"colorbar\": {\"outlinewidth\": 0, \"ticks\": \"\"}, \"colorscale\": [[0.0, \"#0d0887\"], [0.1111111111111111, \"#46039f\"], [0.2222222222222222, \"#7201a8\"], [0.3333333333333333, \"#9c179e\"], [0.4444444444444444, \"#bd3786\"], [0.5555555555555556, \"#d8576b\"], [0.6666666666666666, \"#ed7953\"], [0.7777777777777778, \"#fb9f3a\"], [0.8888888888888888, \"#fdca26\"], [1.0, \"#f0f921\"]], \"type\": \"heatmapgl\"}], \"histogram\": [{\"marker\": {\"colorbar\": {\"outlinewidth\": 0, \"ticks\": \"\"}}, \"type\": \"histogram\"}], \"histogram2d\": [{\"colorbar\": {\"outlinewidth\": 0, \"ticks\": \"\"}, \"colorscale\": [[0.0, \"#0d0887\"], [0.1111111111111111, \"#46039f\"], [0.2222222222222222, \"#7201a8\"], [0.3333333333333333, \"#9c179e\"], [0.4444444444444444, \"#bd3786\"], [0.5555555555555556, \"#d8576b\"], [0.6666666666666666, \"#ed7953\"], [0.7777777777777778, \"#fb9f3a\"], [0.8888888888888888, \"#fdca26\"], [1.0, \"#f0f921\"]], \"type\": \"histogram2d\"}], \"histogram2dcontour\": [{\"colorbar\": {\"outlinewidth\": 0, \"ticks\": \"\"}, \"colorscale\": [[0.0, \"#0d0887\"], [0.1111111111111111, \"#46039f\"], [0.2222222222222222, \"#7201a8\"], [0.3333333333333333, \"#9c179e\"], [0.4444444444444444, \"#bd3786\"], [0.5555555555555556, \"#d8576b\"], [0.6666666666666666, \"#ed7953\"], [0.7777777777777778, \"#fb9f3a\"], [0.8888888888888888, \"#fdca26\"], [1.0, \"#f0f921\"]], \"type\": \"histogram2dcontour\"}], \"mesh3d\": [{\"colorbar\": {\"outlinewidth\": 0, \"ticks\": \"\"}, \"type\": \"mesh3d\"}], \"parcoords\": [{\"line\": {\"colorbar\": {\"outlinewidth\": 0, \"ticks\": \"\"}}, \"type\": \"parcoords\"}], \"pie\": [{\"automargin\": true, \"type\": \"pie\"}], \"scatter\": [{\"marker\": {\"colorbar\": {\"outlinewidth\": 0, \"ticks\": \"\"}}, \"type\": \"scatter\"}], \"scatter3d\": [{\"line\": {\"colorbar\": {\"outlinewidth\": 0, \"ticks\": \"\"}}, \"marker\": {\"colorbar\": {\"outlinewidth\": 0, \"ticks\": \"\"}}, \"type\": \"scatter3d\"}], \"scattercarpet\": [{\"marker\": {\"colorbar\": {\"outlinewidth\": 0, \"ticks\": \"\"}}, \"type\": \"scattercarpet\"}], \"scattergeo\": [{\"marker\": {\"colorbar\": {\"outlinewidth\": 0, \"ticks\": \"\"}}, \"type\": \"scattergeo\"}], \"scattergl\": [{\"marker\": {\"colorbar\": {\"outlinewidth\": 0, \"ticks\": \"\"}}, \"type\": \"scattergl\"}], \"scattermapbox\": [{\"marker\": {\"colorbar\": {\"outlinewidth\": 0, \"ticks\": \"\"}}, \"type\": \"scattermapbox\"}], \"scatterpolar\": [{\"marker\": {\"colorbar\": {\"outlinewidth\": 0, \"ticks\": \"\"}}, \"type\": \"scatterpolar\"}], \"scatterpolargl\": [{\"marker\": {\"colorbar\": {\"outlinewidth\": 0, \"ticks\": \"\"}}, \"type\": \"scatterpolargl\"}], \"scatterternary\": [{\"marker\": {\"colorbar\": {\"outlinewidth\": 0, \"ticks\": \"\"}}, \"type\": \"scatterternary\"}], \"surface\": [{\"colorbar\": {\"outlinewidth\": 0, \"ticks\": \"\"}, \"colorscale\": [[0.0, \"#0d0887\"], [0.1111111111111111, \"#46039f\"], [0.2222222222222222, \"#7201a8\"], [0.3333333333333333, \"#9c179e\"], [0.4444444444444444, \"#bd3786\"], [0.5555555555555556, \"#d8576b\"], [0.6666666666666666, \"#ed7953\"], [0.7777777777777778, \"#fb9f3a\"], [0.8888888888888888, \"#fdca26\"], [1.0, \"#f0f921\"]], \"type\": \"surface\"}], \"table\": [{\"cells\": {\"fill\": {\"color\": \"#EBF0F8\"}, \"line\": {\"color\": \"white\"}}, \"header\": {\"fill\": {\"color\": \"#C8D4E3\"}, \"line\": {\"color\": \"white\"}}, \"type\": \"table\"}]}, \"layout\": {\"annotationdefaults\": {\"arrowcolor\": \"#2a3f5f\", \"arrowhead\": 0, \"arrowwidth\": 1}, \"autotypenumbers\": \"strict\", \"coloraxis\": {\"colorbar\": {\"outlinewidth\": 0, \"ticks\": \"\"}}, \"colorscale\": {\"diverging\": [[0, \"#8e0152\"], [0.1, \"#c51b7d\"], [0.2, \"#de77ae\"], [0.3, \"#f1b6da\"], [0.4, \"#fde0ef\"], [0.5, \"#f7f7f7\"], [0.6, \"#e6f5d0\"], [0.7, \"#b8e186\"], [0.8, \"#7fbc41\"], [0.9, \"#4d9221\"], [1, \"#276419\"]], \"sequential\": [[0.0, \"#0d0887\"], [0.1111111111111111, \"#46039f\"], [0.2222222222222222, \"#7201a8\"], [0.3333333333333333, \"#9c179e\"], [0.4444444444444444, \"#bd3786\"], [0.5555555555555556, \"#d8576b\"], [0.6666666666666666, \"#ed7953\"], [0.7777777777777778, \"#fb9f3a\"], [0.8888888888888888, \"#fdca26\"], [1.0, \"#f0f921\"]], \"sequentialminus\": [[0.0, \"#0d0887\"], [0.1111111111111111, \"#46039f\"], [0.2222222222222222, \"#7201a8\"], [0.3333333333333333, \"#9c179e\"], [0.4444444444444444, \"#bd3786\"], [0.5555555555555556, \"#d8576b\"], [0.6666666666666666, \"#ed7953\"], [0.7777777777777778, \"#fb9f3a\"], [0.8888888888888888, \"#fdca26\"], [1.0, \"#f0f921\"]]}, \"colorway\": [\"#636efa\", \"#EF553B\", \"#00cc96\", \"#ab63fa\", \"#FFA15A\", \"#19d3f3\", \"#FF6692\", \"#B6E880\", \"#FF97FF\", \"#FECB52\"], \"font\": {\"color\": \"#2a3f5f\"}, \"geo\": {\"bgcolor\": \"white\", \"lakecolor\": \"white\", \"landcolor\": \"#E5ECF6\", \"showlakes\": true, \"showland\": true, \"subunitcolor\": \"white\"}, \"hoverlabel\": {\"align\": \"left\"}, \"hovermode\": \"closest\", \"mapbox\": {\"style\": \"light\"}, \"paper_bgcolor\": \"white\", \"plot_bgcolor\": \"#E5ECF6\", \"polar\": {\"angularaxis\": {\"gridcolor\": \"white\", \"linecolor\": \"white\", \"ticks\": \"\"}, \"bgcolor\": \"#E5ECF6\", \"radialaxis\": {\"gridcolor\": \"white\", \"linecolor\": \"white\", \"ticks\": \"\"}}, \"scene\": {\"xaxis\": {\"backgroundcolor\": \"#E5ECF6\", \"gridcolor\": \"white\", \"gridwidth\": 2, \"linecolor\": \"white\", \"showbackground\": true, \"ticks\": \"\", \"zerolinecolor\": \"white\"}, \"yaxis\": {\"backgroundcolor\": \"#E5ECF6\", \"gridcolor\": \"white\", \"gridwidth\": 2, \"linecolor\": \"white\", \"showbackground\": true, \"ticks\": \"\", \"zerolinecolor\": \"white\"}, \"zaxis\": {\"backgroundcolor\": \"#E5ECF6\", \"gridcolor\": \"white\", \"gridwidth\": 2, \"linecolor\": \"white\", \"showbackground\": true, \"ticks\": \"\", \"zerolinecolor\": \"white\"}}, \"shapedefaults\": {\"line\": {\"color\": \"#2a3f5f\"}}, \"ternary\": {\"aaxis\": {\"gridcolor\": \"white\", \"linecolor\": \"white\", \"ticks\": \"\"}, \"baxis\": {\"gridcolor\": \"white\", \"linecolor\": \"white\", \"ticks\": \"\"}, \"bgcolor\": \"#E5ECF6\", \"caxis\": {\"gridcolor\": \"white\", \"linecolor\": \"white\", \"ticks\": \"\"}}, \"title\": {\"x\": 0.05}, \"xaxis\": {\"automargin\": true, \"gridcolor\": \"white\", \"linecolor\": \"white\", \"ticks\": \"\", \"title\": {\"standoff\": 15}, \"zerolinecolor\": \"white\", \"zerolinewidth\": 2}, \"yaxis\": {\"automargin\": true, \"gridcolor\": \"white\", \"linecolor\": \"white\", \"ticks\": \"\", \"title\": {\"standoff\": 15}, \"zerolinecolor\": \"white\", \"zerolinewidth\": 2}}}},                        {\"responsive\": true}                    ).then(function(){\n                            \nvar gd = document.getElementById('34069b18-666f-47ba-aa5f-46e661121048');\nvar x = new MutationObserver(function (mutations, observer) {{\n        var display = window.getComputedStyle(gd).display;\n        if (!display || display === 'none') {{\n            console.log([gd, 'removed!']);\n            Plotly.purge(gd);\n            observer.disconnect();\n        }}\n}});\n\n// Listen for the removal of the full notebook cells\nvar notebookContainer = gd.closest('#notebook-container');\nif (notebookContainer) {{\n    x.observe(notebookContainer, {childList: true});\n}}\n\n// Listen for the clearing of the current output cell\nvar outputEl = gd.closest('.output');\nif (outputEl) {{\n    x.observe(outputEl, {childList: true});\n}}\n\n                        })                };                });            </script>        </div>"
          },
          "metadata": {}
        }
      ],
      "execution_count": 21,
      "metadata": {
        "collapsed": true,
        "jupyter": {
          "source_hidden": false,
          "outputs_hidden": false
        },
        "nteract": {
          "transient": {
            "deleting": false
          }
        },
        "gather": {
          "logged": 1618337062624
        }
      }
    },
    {
      "cell_type": "markdown",
      "source": [
        "## 4.Pivot the data setting the column Pclass as the columns and Fare as the values. From the resulting structure, use a boxplot to show the distribution of the values in its 3 columns."
      ],
      "metadata": {
        "nteract": {
          "transient": {
            "deleting": false
          }
        }
      }
    },
    {
      "cell_type": "code",
      "source": [
        "pivoted_passengers = pd.pivot_table(passengers, values='Fare', columns=['Pclass'], index='PassengerId')\r\n",
        "pivoted_passengers.head(5)"
      ],
      "outputs": [
        {
          "output_type": "execute_result",
          "execution_count": 26,
          "data": {
            "text/plain": "Pclass             1   2      3\nPassengerId                    \n1                NaN NaN  7.250\n2            71.2833 NaN    NaN\n3                NaN NaN  7.925\n4            53.1000 NaN    NaN\n5                NaN NaN  8.050",
            "text/html": "<div>\n<style scoped>\n    .dataframe tbody tr th:only-of-type {\n        vertical-align: middle;\n    }\n\n    .dataframe tbody tr th {\n        vertical-align: top;\n    }\n\n    .dataframe thead th {\n        text-align: right;\n    }\n</style>\n<table border=\"1\" class=\"dataframe\">\n  <thead>\n    <tr style=\"text-align: right;\">\n      <th>Pclass</th>\n      <th>1</th>\n      <th>2</th>\n      <th>3</th>\n    </tr>\n    <tr>\n      <th>PassengerId</th>\n      <th></th>\n      <th></th>\n      <th></th>\n    </tr>\n  </thead>\n  <tbody>\n    <tr>\n      <th>1</th>\n      <td>NaN</td>\n      <td>NaN</td>\n      <td>7.250</td>\n    </tr>\n    <tr>\n      <th>2</th>\n      <td>71.2833</td>\n      <td>NaN</td>\n      <td>NaN</td>\n    </tr>\n    <tr>\n      <th>3</th>\n      <td>NaN</td>\n      <td>NaN</td>\n      <td>7.925</td>\n    </tr>\n    <tr>\n      <th>4</th>\n      <td>53.1000</td>\n      <td>NaN</td>\n      <td>NaN</td>\n    </tr>\n    <tr>\n      <th>5</th>\n      <td>NaN</td>\n      <td>NaN</td>\n      <td>8.050</td>\n    </tr>\n  </tbody>\n</table>\n</div>"
          },
          "metadata": {}
        }
      ],
      "execution_count": 26,
      "metadata": {
        "collapsed": true,
        "jupyter": {
          "source_hidden": false,
          "outputs_hidden": false
        },
        "nteract": {
          "transient": {
            "deleting": false
          }
        },
        "gather": {
          "logged": 1618338216118
        }
      }
    },
    {
      "cell_type": "code",
      "source": [
        "trace0 = go.Box(\r\n",
        "    y=pivoted_passengers[1],\r\n",
        "    name = 'PClass 1',\r\n",
        "    marker = dict(\r\n",
        "        color = 'rgb(12, 12, 140)',\r\n",
        "    )\r\n",
        ")\r\n",
        "trace1 = go.Box(\r\n",
        "    y=pivoted_passengers[2],\r\n",
        "    name = 'PClass 2',\r\n",
        "    marker = dict(\r\n",
        "        color = 'rgb(12, 128, 128)',\r\n",
        "    )\r\n",
        ")\r\n",
        "\r\n",
        "trace2 = go.Box(\r\n",
        "    y=pivoted_passengers[3],\r\n",
        "    name = 'PClass 3',\r\n",
        "    marker = dict(\r\n",
        "        color = 'rgb(12,100, 128)',\r\n",
        "    )\r\n",
        ")\r\n",
        "data = [trace0, trace1, trace2]\r\n",
        "\r\n",
        "\r\n",
        "fig = go.Figure(data=data)\r\n",
        "fig.update_layout(\r\n",
        "    autosize=False,\r\n",
        "    width=1000,\r\n",
        "    height=1000\r\n",
        ")\r\n",
        "fig.show()"
      ],
      "outputs": [
        {
          "output_type": "display_data",
          "data": {
            "application/vnd.plotly.v1+json": {
              "config": {
                "plotlyServerURL": "https://plot.ly"
              },
              "data": [
                {
                  "marker": {
                    "color": "rgb(12, 12, 140)"
                  },
                  "name": "PClass 1",
                  "type": "box",
                  "y": [
                    null,
                    71.2833,
                    null,
                    53.1,
                    null,
                    null,
                    51.8625,
                    null,
                    null,
                    null,
                    null,
                    26.55,
                    null,
                    null,
                    null,
                    null,
                    null,
                    null,
                    null,
                    null,
                    null,
                    null,
                    null,
                    35.5,
                    null,
                    null,
                    null,
                    263,
                    null,
                    null,
                    27.7208,
                    146.5208,
                    null,
                    null,
                    82.1708,
                    52,
                    null,
                    null,
                    null,
                    null,
                    null,
                    null,
                    null,
                    null,
                    null,
                    null,
                    null,
                    null,
                    null,
                    null,
                    null,
                    null,
                    76.7292,
                    null,
                    61.9792,
                    35.5,
                    null,
                    null,
                    null,
                    null,
                    null,
                    80,
                    83.475,
                    null,
                    27.7208,
                    null,
                    null,
                    null,
                    null,
                    null,
                    null,
                    null,
                    null,
                    null,
                    null,
                    null,
                    null,
                    null,
                    null,
                    null,
                    null,
                    null,
                    null,
                    47.1,
                    null,
                    null,
                    null,
                    null,
                    263,
                    null,
                    null,
                    null,
                    61.175,
                    null,
                    null,
                    null,
                    34.6542,
                    63.3583,
                    null,
                    null,
                    null,
                    null,
                    77.2875,
                    null,
                    null,
                    null,
                    null,
                    null,
                    null,
                    null,
                    52,
                    null,
                    null,
                    null,
                    null,
                    null,
                    null,
                    null,
                    247.5208,
                    null,
                    null,
                    null,
                    null,
                    null,
                    77.2875,
                    null,
                    null,
                    null,
                    null,
                    null,
                    null,
                    null,
                    null,
                    null,
                    null,
                    null,
                    26.2833,
                    53.1,
                    null,
                    79.2,
                    null,
                    null,
                    null,
                    null,
                    null,
                    null,
                    null,
                    null,
                    null,
                    null,
                    null,
                    66.6,
                    null,
                    null,
                    null,
                    61.3792,
                    null,
                    null,
                    null,
                    null,
                    null,
                    null,
                    null,
                    null,
                    null,
                    null,
                    55,
                    null,
                    25.925,
                    null,
                    33.5,
                    null,
                    null,
                    null,
                    30.6958,
                    null,
                    null,
                    28.7125,
                    null,
                    null,
                    null,
                    null,
                    null,
                    null,
                    null,
                    50,
                    null,
                    26.55,
                    null,
                    null,
                    null,
                    null,
                    null,
                    null,
                    27.7208,
                    146.5208,
                    null,
                    null,
                    null,
                    null,
                    null,
                    null,
                    null,
                    null,
                    null,
                    null,
                    null,
                    null,
                    null,
                    31,
                    null,
                    null,
                    null,
                    null,
                    null,
                    113.275,
                    null,
                    null,
                    76.2917,
                    null,
                    null,
                    null,
                    null,
                    null,
                    90,
                    null,
                    null,
                    null,
                    null,
                    null,
                    83.475,
                    null,
                    null,
                    null,
                    null,
                    null,
                    null,
                    null,
                    null,
                    null,
                    null,
                    null,
                    null,
                    null,
                    null,
                    90,
                    null,
                    null,
                    52.5542,
                    null,
                    null,
                    null,
                    26.55,
                    null,
                    null,
                    null,
                    79.2,
                    86.5,
                    512.3292,
                    null,
                    null,
                    null,
                    79.65,
                    0,
                    null,
                    null,
                    null,
                    null,
                    153.4625,
                    135.6333,
                    31,
                    null,
                    null,
                    29.7,
                    null,
                    77.9583,
                    null,
                    null,
                    null,
                    null,
                    null,
                    null,
                    null,
                    null,
                    26,
                    null,
                    null,
                    null,
                    null,
                    null,
                    78.85,
                    91.0792,
                    null,
                    null,
                    null,
                    27.7208,
                    null,
                    151.55,
                    30.5,
                    247.5208,
                    null,
                    null,
                    null,
                    null,
                    null,
                    151.55,
                    110.8833,
                    108.9,
                    null,
                    56.9292,
                    83.1583,
                    262.375,
                    null,
                    null,
                    null,
                    null,
                    null,
                    null,
                    164.8667,
                    134.5,
                    null,
                    null,
                    null,
                    null,
                    null,
                    135.6333,
                    null,
                    null,
                    null,
                    57.9792,
                    null,
                    28.5,
                    153.4625,
                    null,
                    133.65,
                    null,
                    66.6,
                    134.5,
                    null,
                    35.5,
                    null,
                    263,
                    null,
                    null,
                    null,
                    null,
                    null,
                    null,
                    null,
                    null,
                    null,
                    35,
                    null,
                    null,
                    null,
                    null,
                    55,
                    null,
                    null,
                    null,
                    null,
                    null,
                    null,
                    null,
                    null,
                    null,
                    75.25,
                    null,
                    null,
                    69.3,
                    55.4417,
                    null,
                    null,
                    135.6333,
                    null,
                    82.1708,
                    null,
                    211.5,
                    null,
                    null,
                    227.525,
                    null,
                    null,
                    52,
                    null,
                    null,
                    null,
                    null,
                    null,
                    null,
                    120,
                    null,
                    null,
                    113.275,
                    null,
                    null,
                    null,
                    null,
                    null,
                    null,
                    null,
                    null,
                    null,
                    null,
                    null,
                    null,
                    null,
                    null,
                    null,
                    null,
                    null,
                    null,
                    90,
                    null,
                    null,
                    null,
                    null,
                    null,
                    null,
                    null,
                    null,
                    null,
                    null,
                    null,
                    null,
                    null,
                    null,
                    null,
                    null,
                    null,
                    26.55,
                    null,
                    null,
                    null,
                    55.9,
                    120,
                    null,
                    null,
                    263,
                    null,
                    null,
                    null,
                    null,
                    null,
                    null,
                    81.8583,
                    null,
                    26.55,
                    null,
                    30.5,
                    null,
                    null,
                    27.75,
                    89.1042,
                    null,
                    null,
                    26.55,
                    51.8625,
                    null,
                    null,
                    26.55,
                    null,
                    38.5,
                    null,
                    null,
                    null,
                    null,
                    26.55,
                    null,
                    null,
                    null,
                    null,
                    null,
                    null,
                    null,
                    52,
                    null,
                    null,
                    null,
                    null,
                    null,
                    null,
                    null,
                    null,
                    91.0792,
                    null,
                    90,
                    29.7,
                    null,
                    null,
                    null,
                    null,
                    30.5,
                    49.5042,
                    null,
                    null,
                    78.2667,
                    null,
                    151.55,
                    null,
                    null,
                    null,
                    null,
                    null,
                    86.5,
                    108.9,
                    null,
                    26.55,
                    null,
                    null,
                    null,
                    null,
                    26.2875,
                    59.4,
                    null,
                    34.0208,
                    null,
                    null,
                    null,
                    null,
                    93.5,
                    null,
                    null,
                    57.9792,
                    null,
                    null,
                    null,
                    221.7792,
                    null,
                    null,
                    null,
                    null,
                    null,
                    null,
                    null,
                    null,
                    26.55,
                    106.425,
                    null,
                    49.5,
                    71,
                    null,
                    null,
                    null,
                    106.425,
                    26,
                    null,
                    null,
                    null,
                    null,
                    110.8833,
                    null,
                    null,
                    null,
                    null,
                    26.55,
                    39.6,
                    227.525,
                    79.65,
                    null,
                    null,
                    null,
                    null,
                    null,
                    null,
                    null,
                    null,
                    null,
                    null,
                    null,
                    null,
                    51.4792,
                    26.3875,
                    null,
                    null,
                    null,
                    null,
                    55.9,
                    null,
                    null,
                    null,
                    110.8833,
                    null,
                    40.125,
                    null,
                    79.65,
                    null,
                    79.2,
                    null,
                    null,
                    null,
                    78.2667,
                    null,
                    null,
                    null,
                    null,
                    null,
                    null,
                    null,
                    56.9292,
                    null,
                    null,
                    42.4,
                    null,
                    26.55,
                    null,
                    null,
                    30.5,
                    null,
                    153.4625,
                    null,
                    null,
                    null,
                    null,
                    null,
                    null,
                    null,
                    null,
                    null,
                    null,
                    null,
                    52.5542,
                    null,
                    null,
                    null,
                    32.3208,
                    null,
                    77.9583,
                    null,
                    null,
                    30,
                    null,
                    30.5,
                    0,
                    null,
                    null,
                    null,
                    null,
                    null,
                    null,
                    null,
                    69.3,
                    null,
                    null,
                    null,
                    76.7292,
                    null,
                    35.5,
                    null,
                    null,
                    null,
                    null,
                    null,
                    null,
                    null,
                    null,
                    null,
                    null,
                    null,
                    113.275,
                    133.65,
                    null,
                    25.5875,
                    null,
                    null,
                    null,
                    null,
                    null,
                    null,
                    52,
                    null,
                    52,
                    null,
                    null,
                    null,
                    null,
                    null,
                    null,
                    null,
                    512.3292,
                    null,
                    76.7292,
                    null,
                    null,
                    null,
                    null,
                    null,
                    null,
                    null,
                    211.3375,
                    57,
                    null,
                    null,
                    null,
                    26.55,
                    null,
                    null,
                    null,
                    110.8833,
                    null,
                    227.525,
                    26.2875,
                    null,
                    null,
                    null,
                    null,
                    null,
                    26.2875,
                    151.55,
                    null,
                    49.5042,
                    26.55,
                    52,
                    null,
                    null,
                    null,
                    227.525,
                    null,
                    null,
                    null,
                    null,
                    null,
                    null,
                    null,
                    53.1,
                    null,
                    null,
                    null,
                    null,
                    null,
                    211.3375,
                    null,
                    null,
                    null,
                    null,
                    null,
                    null,
                    512.3292,
                    null,
                    null,
                    30,
                    78.85,
                    262.375,
                    null,
                    null,
                    71,
                    null,
                    null,
                    53.1,
                    null,
                    null,
                    null,
                    null,
                    null,
                    null,
                    null,
                    null,
                    null,
                    null,
                    86.5,
                    null,
                    null,
                    null,
                    120,
                    null,
                    77.9583,
                    39.6,
                    null,
                    null,
                    null,
                    null,
                    null,
                    null,
                    null,
                    null,
                    null,
                    null,
                    null,
                    null,
                    211.3375,
                    null,
                    57,
                    30,
                    null,
                    null,
                    null,
                    null,
                    null,
                    null,
                    79.2,
                    null,
                    null,
                    null,
                    30.6958,
                    null,
                    null,
                    25.9292,
                    null,
                    null,
                    null,
                    null,
                    null,
                    120,
                    null,
                    null,
                    null,
                    0,
                    null,
                    null,
                    53.1,
                    null,
                    null,
                    null,
                    null,
                    null,
                    0,
                    null,
                    null,
                    null,
                    null,
                    93.5,
                    null,
                    0,
                    null,
                    null,
                    null,
                    null,
                    null,
                    null,
                    80,
                    null,
                    null,
                    null,
                    null,
                    null,
                    83.1583,
                    null,
                    null,
                    null,
                    29.7,
                    null,
                    null,
                    31,
                    null,
                    null,
                    null,
                    null,
                    null,
                    null,
                    89.1042,
                    null,
                    null,
                    null,
                    39.4,
                    null,
                    null,
                    164.8667,
                    26.55,
                    null,
                    null,
                    null,
                    null,
                    25.9292,
                    null,
                    null,
                    null,
                    null,
                    50.4958,
                    null,
                    null,
                    null,
                    52.5542,
                    5,
                    null,
                    null,
                    null,
                    null,
                    null,
                    null,
                    83.1583,
                    null,
                    null,
                    null,
                    null,
                    null,
                    null,
                    null,
                    30,
                    null,
                    30,
                    null
                  ]
                },
                {
                  "marker": {
                    "color": "rgb(12, 128, 128)"
                  },
                  "name": "PClass 2",
                  "type": "box",
                  "y": [
                    null,
                    null,
                    null,
                    null,
                    null,
                    null,
                    null,
                    null,
                    null,
                    30.0708,
                    null,
                    null,
                    null,
                    null,
                    null,
                    16,
                    null,
                    13,
                    null,
                    null,
                    26,
                    13,
                    null,
                    null,
                    null,
                    null,
                    null,
                    null,
                    null,
                    null,
                    null,
                    null,
                    null,
                    10.5,
                    null,
                    null,
                    null,
                    null,
                    null,
                    null,
                    null,
                    21,
                    null,
                    41.5792,
                    null,
                    null,
                    null,
                    null,
                    null,
                    null,
                    null,
                    null,
                    null,
                    26,
                    null,
                    null,
                    10.5,
                    null,
                    27.75,
                    null,
                    null,
                    null,
                    null,
                    null,
                    null,
                    null,
                    10.5,
                    null,
                    null,
                    null,
                    10.5,
                    null,
                    73.5,
                    null,
                    null,
                    null,
                    null,
                    null,
                    29,
                    null,
                    null,
                    null,
                    null,
                    null,
                    10.5,
                    null,
                    null,
                    null,
                    null,
                    null,
                    null,
                    null,
                    null,
                    null,
                    null,
                    null,
                    null,
                    null,
                    23,
                    26,
                    null,
                    null,
                    null,
                    null,
                    null,
                    null,
                    null,
                    null,
                    null,
                    null,
                    null,
                    null,
                    null,
                    null,
                    null,
                    null,
                    null,
                    21,
                    null,
                    null,
                    73.5,
                    null,
                    30.0708,
                    13,
                    null,
                    null,
                    null,
                    null,
                    null,
                    null,
                    null,
                    null,
                    null,
                    26,
                    13,
                    15.0458,
                    null,
                    null,
                    null,
                    null,
                    null,
                    null,
                    null,
                    null,
                    11.5,
                    36.75,
                    null,
                    null,
                    26,
                    13,
                    12.525,
                    null,
                    null,
                    null,
                    null,
                    null,
                    null,
                    null,
                    null,
                    null,
                    null,
                    15.75,
                    null,
                    null,
                    null,
                    null,
                    null,
                    null,
                    null,
                    null,
                    null,
                    null,
                    null,
                    null,
                    null,
                    null,
                    null,
                    null,
                    13,
                    null,
                    null,
                    15.05,
                    null,
                    39,
                    null,
                    null,
                    null,
                    null,
                    null,
                    null,
                    13,
                    13,
                    null,
                    26,
                    null,
                    null,
                    null,
                    null,
                    null,
                    13,
                    null,
                    null,
                    null,
                    null,
                    null,
                    null,
                    null,
                    null,
                    null,
                    null,
                    null,
                    21,
                    null,
                    13,
                    null,
                    null,
                    null,
                    27,
                    null,
                    10.5,
                    null,
                    13,
                    null,
                    null,
                    null,
                    null,
                    10.5,
                    null,
                    13,
                    null,
                    null,
                    null,
                    13.5,
                    null,
                    10.5,
                    null,
                    26,
                    26.25,
                    10.5,
                    12.275,
                    null,
                    null,
                    10.5,
                    null,
                    null,
                    null,
                    null,
                    14.5,
                    null,
                    26,
                    null,
                    null,
                    null,
                    null,
                    null,
                    null,
                    null,
                    null,
                    null,
                    26,
                    null,
                    null,
                    null,
                    null,
                    null,
                    10.5,
                    null,
                    null,
                    null,
                    null,
                    null,
                    null,
                    19.5,
                    null,
                    null,
                    null,
                    null,
                    0,
                    null,
                    null,
                    null,
                    null,
                    null,
                    null,
                    null,
                    null,
                    null,
                    null,
                    13,
                    null,
                    null,
                    null,
                    12.875,
                    null,
                    null,
                    null,
                    null,
                    null,
                    null,
                    null,
                    null,
                    null,
                    null,
                    12.35,
                    null,
                    null,
                    null,
                    null,
                    24,
                    null,
                    null,
                    null,
                    26,
                    null,
                    26.25,
                    null,
                    26,
                    14,
                    null,
                    null,
                    null,
                    null,
                    12.35,
                    29,
                    null,
                    null,
                    null,
                    13,
                    null,
                    null,
                    null,
                    null,
                    null,
                    null,
                    null,
                    null,
                    null,
                    null,
                    null,
                    null,
                    26,
                    null,
                    13,
                    13,
                    13,
                    13,
                    13,
                    null,
                    null,
                    null,
                    null,
                    null,
                    null,
                    null,
                    null,
                    null,
                    null,
                    13,
                    null,
                    null,
                    null,
                    27.7208,
                    null,
                    null,
                    null,
                    null,
                    null,
                    null,
                    null,
                    null,
                    null,
                    null,
                    null,
                    null,
                    null,
                    null,
                    null,
                    null,
                    null,
                    null,
                    null,
                    null,
                    null,
                    null,
                    null,
                    73.5,
                    null,
                    13,
                    null,
                    12,
                    null,
                    null,
                    null,
                    null,
                    null,
                    null,
                    null,
                    26,
                    10.5,
                    12.65,
                    null,
                    null,
                    null,
                    null,
                    null,
                    21,
                    null,
                    18.75,
                    null,
                    null,
                    null,
                    null,
                    null,
                    0,
                    null,
                    null,
                    32.5,
                    13,
                    13,
                    null,
                    null,
                    null,
                    null,
                    null,
                    null,
                    null,
                    26,
                    26,
                    null,
                    null,
                    null,
                    null,
                    26,
                    null,
                    null,
                    null,
                    null,
                    18.75,
                    null,
                    10.5,
                    26.25,
                    null,
                    null,
                    13,
                    null,
                    null,
                    19.5,
                    null,
                    null,
                    null,
                    27.75,
                    null,
                    null,
                    null,
                    null,
                    null,
                    null,
                    null,
                    10.5,
                    null,
                    null,
                    null,
                    null,
                    13,
                    null,
                    null,
                    0,
                    null,
                    null,
                    null,
                    null,
                    null,
                    27.75,
                    13.7917,
                    null,
                    null,
                    21,
                    null,
                    null,
                    null,
                    null,
                    0,
                    null,
                    null,
                    null,
                    null,
                    null,
                    null,
                    null,
                    null,
                    null,
                    null,
                    null,
                    null,
                    null,
                    null,
                    null,
                    null,
                    null,
                    null,
                    null,
                    null,
                    null,
                    null,
                    null,
                    null,
                    26,
                    null,
                    null,
                    null,
                    null,
                    null,
                    null,
                    null,
                    null,
                    null,
                    10.5,
                    null,
                    26,
                    null,
                    null,
                    null,
                    null,
                    null,
                    null,
                    null,
                    10.5,
                    null,
                    null,
                    11.5,
                    26,
                    null,
                    null,
                    null,
                    null,
                    26.25,
                    null,
                    null,
                    null,
                    null,
                    null,
                    null,
                    null,
                    26,
                    null,
                    null,
                    26,
                    13.8625,
                    null,
                    36.75,
                    null,
                    26,
                    null,
                    null,
                    null,
                    null,
                    null,
                    null,
                    null,
                    null,
                    null,
                    null,
                    13.5,
                    null,
                    null,
                    null,
                    null,
                    null,
                    null,
                    null,
                    10.5,
                    null,
                    null,
                    null,
                    null,
                    null,
                    13,
                    null,
                    null,
                    null,
                    30,
                    null,
                    26,
                    null,
                    null,
                    null,
                    15,
                    null,
                    null,
                    null,
                    null,
                    null,
                    null,
                    null,
                    26,
                    null,
                    33,
                    null,
                    null,
                    null,
                    27,
                    null,
                    null,
                    null,
                    null,
                    null,
                    null,
                    null,
                    41.5792,
                    null,
                    null,
                    null,
                    null,
                    null,
                    null,
                    65,
                    null,
                    null,
                    39,
                    10.5,
                    null,
                    null,
                    null,
                    null,
                    null,
                    null,
                    12.35,
                    null,
                    null,
                    null,
                    null,
                    null,
                    null,
                    null,
                    null,
                    13,
                    null,
                    26.25,
                    null,
                    null,
                    null,
                    null,
                    null,
                    null,
                    null,
                    null,
                    null,
                    null,
                    null,
                    null,
                    null,
                    23,
                    null,
                    null,
                    null,
                    73.5,
                    null,
                    null,
                    13,
                    null,
                    null,
                    null,
                    null,
                    null,
                    null,
                    73.5,
                    13,
                    null,
                    null,
                    null,
                    39,
                    null,
                    10.5,
                    13,
                    0,
                    null,
                    null,
                    null,
                    null,
                    null,
                    null,
                    null,
                    null,
                    null,
                    39,
                    41.5792,
                    null,
                    null,
                    null,
                    null,
                    null,
                    null,
                    null,
                    null,
                    null,
                    13.5,
                    null,
                    null,
                    null,
                    null,
                    null,
                    null,
                    null,
                    null,
                    null,
                    26,
                    13.5,
                    null,
                    null,
                    null,
                    null,
                    null,
                    null,
                    null,
                    13,
                    null,
                    null,
                    10.5,
                    null,
                    null,
                    33,
                    null,
                    13,
                    13,
                    null,
                    null,
                    21,
                    null,
                    26,
                    null,
                    null,
                    null,
                    0,
                    13,
                    13,
                    null,
                    null,
                    null,
                    null,
                    null,
                    null,
                    null,
                    null,
                    null,
                    null,
                    null,
                    null,
                    13,
                    null,
                    null,
                    23,
                    null,
                    null,
                    null,
                    65,
                    14.5,
                    null,
                    11.5,
                    null,
                    null,
                    null,
                    null,
                    null,
                    null,
                    null,
                    null,
                    null,
                    null,
                    null,
                    null,
                    null,
                    null,
                    10.5,
                    null,
                    23,
                    null,
                    null,
                    null,
                    null,
                    null,
                    null,
                    null,
                    null,
                    null,
                    null,
                    null,
                    null,
                    null,
                    null,
                    null,
                    null,
                    26,
                    null,
                    null,
                    null,
                    13,
                    null,
                    null,
                    null,
                    null,
                    13,
                    26.25,
                    null,
                    null,
                    null,
                    null,
                    null,
                    null,
                    13,
                    null,
                    null,
                    null,
                    10.5,
                    null,
                    null,
                    null,
                    null,
                    37.0042,
                    null,
                    null,
                    null,
                    null,
                    null,
                    null,
                    null,
                    null,
                    null,
                    37.0042,
                    null,
                    null,
                    null,
                    18.75,
                    null,
                    null,
                    null,
                    null,
                    null,
                    null,
                    null,
                    null,
                    null,
                    10.5,
                    null,
                    null,
                    null,
                    null,
                    null,
                    null,
                    33,
                    null,
                    null,
                    null,
                    null,
                    null,
                    26,
                    null,
                    null,
                    null,
                    null,
                    null,
                    null,
                    11.5,
                    null,
                    null,
                    13,
                    13,
                    13.8583,
                    null,
                    null,
                    null,
                    null,
                    null,
                    null,
                    null,
                    24,
                    null,
                    null,
                    null,
                    null,
                    null,
                    26,
                    null,
                    null,
                    10.5,
                    null,
                    null,
                    13,
                    null,
                    null,
                    null,
                    null
                  ]
                },
                {
                  "marker": {
                    "color": "rgb(12,100, 128)"
                  },
                  "name": "PClass 3",
                  "type": "box",
                  "y": [
                    7.25,
                    null,
                    7.925,
                    null,
                    8.05,
                    8.4583,
                    null,
                    21.075,
                    11.1333,
                    null,
                    16.7,
                    null,
                    8.05,
                    31.275,
                    7.8542,
                    null,
                    29.125,
                    null,
                    18,
                    7.225,
                    null,
                    null,
                    8.0292,
                    null,
                    21.075,
                    31.3875,
                    7.225,
                    null,
                    7.8792,
                    7.8958,
                    null,
                    null,
                    7.75,
                    null,
                    null,
                    null,
                    7.2292,
                    8.05,
                    18,
                    11.2417,
                    9.475,
                    null,
                    7.8958,
                    null,
                    7.8792,
                    8.05,
                    15.5,
                    7.75,
                    21.6792,
                    17.8,
                    39.6875,
                    7.8,
                    null,
                    null,
                    null,
                    null,
                    null,
                    7.2292,
                    null,
                    46.9,
                    7.2292,
                    null,
                    null,
                    27.9,
                    null,
                    15.2458,
                    null,
                    8.1583,
                    7.925,
                    8.6625,
                    null,
                    46.9,
                    null,
                    14.4542,
                    56.4958,
                    7.65,
                    7.8958,
                    8.05,
                    null,
                    12.475,
                    9,
                    9.5,
                    7.7875,
                    null,
                    null,
                    15.85,
                    34.375,
                    8.05,
                    null,
                    8.05,
                    8.05,
                    7.8542,
                    null,
                    20.575,
                    7.25,
                    8.05,
                    null,
                    null,
                    null,
                    null,
                    7.8958,
                    7.8958,
                    null,
                    8.6542,
                    7.925,
                    7.8958,
                    7.65,
                    7.775,
                    7.8958,
                    24.15,
                    null,
                    14.4542,
                    8.05,
                    9.825,
                    14.4583,
                    7.925,
                    7.75,
                    null,
                    null,
                    31.275,
                    null,
                    8.05,
                    null,
                    null,
                    null,
                    11.2417,
                    7.75,
                    7.1417,
                    22.3583,
                    6.975,
                    7.8958,
                    7.05,
                    14.5,
                    null,
                    null,
                    null,
                    null,
                    null,
                    9.2167,
                    null,
                    15.2458,
                    7.75,
                    15.85,
                    6.75,
                    null,
                    null,
                    7.7958,
                    34.375,
                    null,
                    null,
                    null,
                    null,
                    8.05,
                    14.5,
                    7.3125,
                    null,
                    7.7333,
                    8.05,
                    8.6625,
                    69.55,
                    16.1,
                    null,
                    7.775,
                    8.6625,
                    39.6875,
                    20.525,
                    null,
                    27.9,
                    null,
                    56.4958,
                    null,
                    29.125,
                    11.1333,
                    7.925,
                    null,
                    7.8542,
                    25.4667,
                    null,
                    null,
                    0,
                    69.55,
                    null,
                    31.3875,
                    null,
                    22.025,
                    null,
                    15.5,
                    null,
                    15.5,
                    7.8958,
                    null,
                    null,
                    7.8542,
                    null,
                    null,
                    null,
                    7.75,
                    8.4042,
                    7.75,
                    null,
                    9.5,
                    69.55,
                    6.4958,
                    7.225,
                    8.05,
                    10.4625,
                    15.85,
                    18.7875,
                    7.75,
                    null,
                    7.05,
                    null,
                    7.25,
                    null,
                    7.75,
                    null,
                    7.925,
                    null,
                    null,
                    null,
                    8.05,
                    null,
                    8.05,
                    7.8958,
                    null,
                    9.35,
                    null,
                    7.25,
                    null,
                    25.4667,
                    null,
                    7.775,
                    null,
                    31.3875,
                    null,
                    7.55,
                    null,
                    null,
                    null,
                    null,
                    14.4542,
                    15.5,
                    null,
                    7.125,
                    7.225,
                    null,
                    7.775,
                    null,
                    null,
                    null,
                    7.25,
                    10.4625,
                    null,
                    16.1,
                    20.2125,
                    15.2458,
                    null,
                    null,
                    null,
                    null,
                    7.75,
                    31.3875,
                    null,
                    null,
                    7.75,
                    null,
                    39.6875,
                    7.775,
                    null,
                    null,
                    null,
                    0,
                    null,
                    null,
                    7.75,
                    null,
                    7.75,
                    null,
                    29.125,
                    20.25,
                    7.75,
                    7.8542,
                    9.5,
                    8.05,
                    null,
                    8.6625,
                    9.5,
                    7.8958,
                    null,
                    7.75,
                    null,
                    null,
                    null,
                    8.85,
                    7.8958,
                    null,
                    7.2292,
                    null,
                    null,
                    null,
                    7.75,
                    23.25,
                    0,
                    null,
                    8.05,
                    null,
                    null,
                    null,
                    null,
                    null,
                    null,
                    null,
                    null,
                    7.8958,
                    null,
                    7.8542,
                    null,
                    null,
                    null,
                    null,
                    7.25,
                    7.8958,
                    null,
                    null,
                    69.55,
                    null,
                    6.2375,
                    null,
                    20.525,
                    null,
                    23.25,
                    null,
                    null,
                    18,
                    null,
                    7.8958,
                    null,
                    null,
                    8.05,
                    null,
                    null,
                    null,
                    null,
                    null,
                    null,
                    null,
                    null,
                    16.1,
                    15.9,
                    8.6625,
                    9.225,
                    null,
                    7.2292,
                    17.8,
                    7.225,
                    9.5,
                    null,
                    null,
                    7.8792,
                    7.8792,
                    27.9,
                    null,
                    14.4542,
                    7.05,
                    15.5,
                    7.25,
                    null,
                    7.2292,
                    7.75,
                    null,
                    null,
                    6.4958,
                    8.05,
                    null,
                    21.075,
                    null,
                    7.25,
                    null,
                    4.0125,
                    7.775,
                    null,
                    15.7417,
                    7.925,
                    null,
                    7.8958,
                    null,
                    46.9,
                    null,
                    7.7292,
                    null,
                    null,
                    7.7958,
                    7.925,
                    null,
                    16.7,
                    7.7958,
                    7.8542,
                    null,
                    null,
                    null,
                    7.925,
                    8.05,
                    9.825,
                    15.85,
                    8.6625,
                    null,
                    7.75,
                    null,
                    7.775,
                    25.4667,
                    7.8958,
                    6.8583,
                    null,
                    null,
                    7.925,
                    8.05,
                    null,
                    null,
                    null,
                    24.15,
                    7.8958,
                    7.7333,
                    7.875,
                    14.4,
                    20.2125,
                    7.25,
                    null,
                    null,
                    7.75,
                    8.05,
                    null,
                    16.1,
                    null,
                    7.125,
                    null,
                    null,
                    34.375,
                    null,
                    null,
                    null,
                    null,
                    9.5,
                    7.775,
                    null,
                    8.1125,
                    null,
                    null,
                    null,
                    19.2583,
                    null,
                    null,
                    19.9667,
                    null,
                    null,
                    8.05,
                    7.8958,
                    null,
                    null,
                    null,
                    7.75,
                    null,
                    8.05,
                    null,
                    null,
                    8.05,
                    7.05,
                    null,
                    null,
                    7.725,
                    19.2583,
                    7.25,
                    8.6625,
                    null,
                    null,
                    9.8375,
                    null,
                    null,
                    7.0458,
                    7.5208,
                    12.2875,
                    46.9,
                    null,
                    8.05,
                    9.5875,
                    null,
                    25.4667,
                    null,
                    null,
                    8.05,
                    15.9,
                    19.9667,
                    7.25,
                    null,
                    null,
                    8.05,
                    14.4583,
                    null,
                    15.1,
                    null,
                    7.7958,
                    8.6625,
                    7.75,
                    7.6292,
                    9.5875,
                    null,
                    null,
                    null,
                    null,
                    22.525,
                    56.4958,
                    7.75,
                    8.05,
                    null,
                    null,
                    7.4958,
                    null,
                    null,
                    24.15,
                    null,
                    7.8958,
                    null,
                    7.8958,
                    7.225,
                    null,
                    7.2292,
                    7.75,
                    null,
                    null,
                    7.925,
                    null,
                    null,
                    7.2292,
                    7.2292,
                    22.3583,
                    8.6625,
                    null,
                    null,
                    null,
                    14.5,
                    null,
                    null,
                    31.275,
                    31.275,
                    null,
                    null,
                    null,
                    null,
                    null,
                    20.525,
                    null,
                    null,
                    null,
                    7.8292,
                    7.225,
                    7.775,
                    null,
                    null,
                    null,
                    null,
                    17.4,
                    7.75,
                    7.8958,
                    null,
                    8.05,
                    8.05,
                    24.15,
                    7.8958,
                    21.075,
                    7.2292,
                    7.8542,
                    null,
                    null,
                    null,
                    7.75,
                    8.05,
                    14.5,
                    null,
                    null,
                    14.4583,
                    7.925,
                    null,
                    null,
                    null,
                    null,
                    8.7125,
                    null,
                    null,
                    null,
                    8.05,
                    8.05,
                    7.125,
                    null,
                    7.25,
                    7.75,
                    null,
                    24.15,
                    null,
                    0,
                    7.225,
                    null,
                    null,
                    7.8958,
                    null,
                    8.05,
                    null,
                    15.55,
                    7.8958,
                    null,
                    null,
                    null,
                    31.275,
                    7.05,
                    15.5,
                    7.75,
                    8.05,
                    null,
                    14.4,
                    16.1,
                    null,
                    null,
                    14.4542,
                    null,
                    15.7417,
                    7.8542,
                    16.1,
                    null,
                    null,
                    null,
                    7.8958,
                    7.7333,
                    null,
                    7.0542,
                    null,
                    null,
                    27.9,
                    null,
                    7.925,
                    null,
                    39.6875,
                    16.1,
                    7.8542,
                    null,
                    27.9,
                    56.4958,
                    19.2583,
                    null,
                    7.8958,
                    null,
                    7.55,
                    7.55,
                    7.8958,
                    null,
                    8.4333,
                    7.8292,
                    6.75,
                    null,
                    7.8958,
                    15.5,
                    null,
                    null,
                    null,
                    7.225,
                    null,
                    7.4958,
                    7.925,
                    null,
                    null,
                    7.775,
                    8.05,
                    null,
                    null,
                    null,
                    null,
                    null,
                    null,
                    7.775,
                    8.05,
                    9.8417,
                    46.9,
                    null,
                    8.1375,
                    null,
                    9.225,
                    46.9,
                    null,
                    null,
                    39.6875,
                    10.1708,
                    7.7958,
                    null,
                    null,
                    13.4167,
                    56.4958,
                    7.225,
                    null,
                    null,
                    8.05,
                    7.7333,
                    null,
                    7.65,
                    null,
                    null,
                    14.4542,
                    7.7417,
                    7.8542,
                    null,
                    null,
                    null,
                    null,
                    15.2458,
                    null,
                    null,
                    null,
                    9.4833,
                    null,
                    7.65,
                    null,
                    null,
                    15.5,
                    7.775,
                    null,
                    7.0542,
                    null,
                    null,
                    null,
                    8.6625,
                    null,
                    7.7375,
                    null,
                    7.925,
                    null,
                    18.7875,
                    null,
                    null,
                    null,
                    16.1,
                    34.375,
                    null,
                    7.8958,
                    7.8958,
                    null,
                    null,
                    null,
                    16.1,
                    7.925,
                    null,
                    20.25,
                    null,
                    null,
                    7.75,
                    null,
                    12.475,
                    9.5,
                    7.8958,
                    null,
                    null,
                    7.7958,
                    null,
                    8.05,
                    null,
                    14.5,
                    7.125,
                    7.2292,
                    null,
                    7.775,
                    null,
                    null,
                    7.75,
                    24.15,
                    8.3625,
                    9.5,
                    7.8542,
                    null,
                    7.225,
                    null,
                    7.75,
                    7.75,
                    12.475,
                    7.7375,
                    null,
                    7.2292,
                    null,
                    null,
                    23.45,
                    7.05,
                    7.25,
                    7.4958,
                    29.125,
                    20.575,
                    null,
                    7.75,
                    null,
                    69.55,
                    null,
                    7.8958,
                    null,
                    null,
                    8.6833,
                    7.2292,
                    24.15,
                    null,
                    null,
                    null,
                    8.5167,
                    6.975,
                    7.775,
                    null,
                    7.775,
                    null,
                    null,
                    7.8875,
                    24.15,
                    null,
                    31.275,
                    8.05,
                    null,
                    7.925,
                    null,
                    6.45,
                    27.9,
                    null,
                    8.6625,
                    null,
                    12.475,
                    39.6875,
                    6.95,
                    56.4958,
                    null,
                    7.75,
                    null,
                    14.4542,
                    null,
                    7.2292,
                    7.8542,
                    8.3,
                    null,
                    8.6625,
                    8.05,
                    56.4958,
                    null,
                    7.925,
                    null,
                    null,
                    6.4375,
                    8.6625,
                    7.55,
                    69.55,
                    7.8958,
                    null,
                    null,
                    31.275,
                    7.775,
                    15.2458,
                    null,
                    null,
                    9.35,
                    null,
                    null,
                    19.2583,
                    7.2292,
                    14.1083,
                    null,
                    null,
                    69.55,
                    null,
                    null,
                    null,
                    null,
                    9.5,
                    11.1333,
                    7.8958,
                    null,
                    null,
                    9,
                    null,
                    7.225,
                    9.8458,
                    7.8958,
                    7.8958,
                    null,
                    null,
                    7.8958,
                    10.5167,
                    null,
                    7.05,
                    29.125,
                    null,
                    null,
                    23.45,
                    null,
                    7.75
                  ]
                }
              ],
              "layout": {
                "autosize": false,
                "height": 1000,
                "template": {
                  "data": {
                    "bar": [
                      {
                        "error_x": {
                          "color": "#2a3f5f"
                        },
                        "error_y": {
                          "color": "#2a3f5f"
                        },
                        "marker": {
                          "line": {
                            "color": "#E5ECF6",
                            "width": 0.5
                          }
                        },
                        "type": "bar"
                      }
                    ],
                    "barpolar": [
                      {
                        "marker": {
                          "line": {
                            "color": "#E5ECF6",
                            "width": 0.5
                          }
                        },
                        "type": "barpolar"
                      }
                    ],
                    "carpet": [
                      {
                        "aaxis": {
                          "endlinecolor": "#2a3f5f",
                          "gridcolor": "white",
                          "linecolor": "white",
                          "minorgridcolor": "white",
                          "startlinecolor": "#2a3f5f"
                        },
                        "baxis": {
                          "endlinecolor": "#2a3f5f",
                          "gridcolor": "white",
                          "linecolor": "white",
                          "minorgridcolor": "white",
                          "startlinecolor": "#2a3f5f"
                        },
                        "type": "carpet"
                      }
                    ],
                    "choropleth": [
                      {
                        "colorbar": {
                          "outlinewidth": 0,
                          "ticks": ""
                        },
                        "type": "choropleth"
                      }
                    ],
                    "contour": [
                      {
                        "colorbar": {
                          "outlinewidth": 0,
                          "ticks": ""
                        },
                        "colorscale": [
                          [
                            0,
                            "#0d0887"
                          ],
                          [
                            0.1111111111111111,
                            "#46039f"
                          ],
                          [
                            0.2222222222222222,
                            "#7201a8"
                          ],
                          [
                            0.3333333333333333,
                            "#9c179e"
                          ],
                          [
                            0.4444444444444444,
                            "#bd3786"
                          ],
                          [
                            0.5555555555555556,
                            "#d8576b"
                          ],
                          [
                            0.6666666666666666,
                            "#ed7953"
                          ],
                          [
                            0.7777777777777778,
                            "#fb9f3a"
                          ],
                          [
                            0.8888888888888888,
                            "#fdca26"
                          ],
                          [
                            1,
                            "#f0f921"
                          ]
                        ],
                        "type": "contour"
                      }
                    ],
                    "contourcarpet": [
                      {
                        "colorbar": {
                          "outlinewidth": 0,
                          "ticks": ""
                        },
                        "type": "contourcarpet"
                      }
                    ],
                    "heatmap": [
                      {
                        "colorbar": {
                          "outlinewidth": 0,
                          "ticks": ""
                        },
                        "colorscale": [
                          [
                            0,
                            "#0d0887"
                          ],
                          [
                            0.1111111111111111,
                            "#46039f"
                          ],
                          [
                            0.2222222222222222,
                            "#7201a8"
                          ],
                          [
                            0.3333333333333333,
                            "#9c179e"
                          ],
                          [
                            0.4444444444444444,
                            "#bd3786"
                          ],
                          [
                            0.5555555555555556,
                            "#d8576b"
                          ],
                          [
                            0.6666666666666666,
                            "#ed7953"
                          ],
                          [
                            0.7777777777777778,
                            "#fb9f3a"
                          ],
                          [
                            0.8888888888888888,
                            "#fdca26"
                          ],
                          [
                            1,
                            "#f0f921"
                          ]
                        ],
                        "type": "heatmap"
                      }
                    ],
                    "heatmapgl": [
                      {
                        "colorbar": {
                          "outlinewidth": 0,
                          "ticks": ""
                        },
                        "colorscale": [
                          [
                            0,
                            "#0d0887"
                          ],
                          [
                            0.1111111111111111,
                            "#46039f"
                          ],
                          [
                            0.2222222222222222,
                            "#7201a8"
                          ],
                          [
                            0.3333333333333333,
                            "#9c179e"
                          ],
                          [
                            0.4444444444444444,
                            "#bd3786"
                          ],
                          [
                            0.5555555555555556,
                            "#d8576b"
                          ],
                          [
                            0.6666666666666666,
                            "#ed7953"
                          ],
                          [
                            0.7777777777777778,
                            "#fb9f3a"
                          ],
                          [
                            0.8888888888888888,
                            "#fdca26"
                          ],
                          [
                            1,
                            "#f0f921"
                          ]
                        ],
                        "type": "heatmapgl"
                      }
                    ],
                    "histogram": [
                      {
                        "marker": {
                          "colorbar": {
                            "outlinewidth": 0,
                            "ticks": ""
                          }
                        },
                        "type": "histogram"
                      }
                    ],
                    "histogram2d": [
                      {
                        "colorbar": {
                          "outlinewidth": 0,
                          "ticks": ""
                        },
                        "colorscale": [
                          [
                            0,
                            "#0d0887"
                          ],
                          [
                            0.1111111111111111,
                            "#46039f"
                          ],
                          [
                            0.2222222222222222,
                            "#7201a8"
                          ],
                          [
                            0.3333333333333333,
                            "#9c179e"
                          ],
                          [
                            0.4444444444444444,
                            "#bd3786"
                          ],
                          [
                            0.5555555555555556,
                            "#d8576b"
                          ],
                          [
                            0.6666666666666666,
                            "#ed7953"
                          ],
                          [
                            0.7777777777777778,
                            "#fb9f3a"
                          ],
                          [
                            0.8888888888888888,
                            "#fdca26"
                          ],
                          [
                            1,
                            "#f0f921"
                          ]
                        ],
                        "type": "histogram2d"
                      }
                    ],
                    "histogram2dcontour": [
                      {
                        "colorbar": {
                          "outlinewidth": 0,
                          "ticks": ""
                        },
                        "colorscale": [
                          [
                            0,
                            "#0d0887"
                          ],
                          [
                            0.1111111111111111,
                            "#46039f"
                          ],
                          [
                            0.2222222222222222,
                            "#7201a8"
                          ],
                          [
                            0.3333333333333333,
                            "#9c179e"
                          ],
                          [
                            0.4444444444444444,
                            "#bd3786"
                          ],
                          [
                            0.5555555555555556,
                            "#d8576b"
                          ],
                          [
                            0.6666666666666666,
                            "#ed7953"
                          ],
                          [
                            0.7777777777777778,
                            "#fb9f3a"
                          ],
                          [
                            0.8888888888888888,
                            "#fdca26"
                          ],
                          [
                            1,
                            "#f0f921"
                          ]
                        ],
                        "type": "histogram2dcontour"
                      }
                    ],
                    "mesh3d": [
                      {
                        "colorbar": {
                          "outlinewidth": 0,
                          "ticks": ""
                        },
                        "type": "mesh3d"
                      }
                    ],
                    "parcoords": [
                      {
                        "line": {
                          "colorbar": {
                            "outlinewidth": 0,
                            "ticks": ""
                          }
                        },
                        "type": "parcoords"
                      }
                    ],
                    "pie": [
                      {
                        "automargin": true,
                        "type": "pie"
                      }
                    ],
                    "scatter": [
                      {
                        "marker": {
                          "colorbar": {
                            "outlinewidth": 0,
                            "ticks": ""
                          }
                        },
                        "type": "scatter"
                      }
                    ],
                    "scatter3d": [
                      {
                        "line": {
                          "colorbar": {
                            "outlinewidth": 0,
                            "ticks": ""
                          }
                        },
                        "marker": {
                          "colorbar": {
                            "outlinewidth": 0,
                            "ticks": ""
                          }
                        },
                        "type": "scatter3d"
                      }
                    ],
                    "scattercarpet": [
                      {
                        "marker": {
                          "colorbar": {
                            "outlinewidth": 0,
                            "ticks": ""
                          }
                        },
                        "type": "scattercarpet"
                      }
                    ],
                    "scattergeo": [
                      {
                        "marker": {
                          "colorbar": {
                            "outlinewidth": 0,
                            "ticks": ""
                          }
                        },
                        "type": "scattergeo"
                      }
                    ],
                    "scattergl": [
                      {
                        "marker": {
                          "colorbar": {
                            "outlinewidth": 0,
                            "ticks": ""
                          }
                        },
                        "type": "scattergl"
                      }
                    ],
                    "scattermapbox": [
                      {
                        "marker": {
                          "colorbar": {
                            "outlinewidth": 0,
                            "ticks": ""
                          }
                        },
                        "type": "scattermapbox"
                      }
                    ],
                    "scatterpolar": [
                      {
                        "marker": {
                          "colorbar": {
                            "outlinewidth": 0,
                            "ticks": ""
                          }
                        },
                        "type": "scatterpolar"
                      }
                    ],
                    "scatterpolargl": [
                      {
                        "marker": {
                          "colorbar": {
                            "outlinewidth": 0,
                            "ticks": ""
                          }
                        },
                        "type": "scatterpolargl"
                      }
                    ],
                    "scatterternary": [
                      {
                        "marker": {
                          "colorbar": {
                            "outlinewidth": 0,
                            "ticks": ""
                          }
                        },
                        "type": "scatterternary"
                      }
                    ],
                    "surface": [
                      {
                        "colorbar": {
                          "outlinewidth": 0,
                          "ticks": ""
                        },
                        "colorscale": [
                          [
                            0,
                            "#0d0887"
                          ],
                          [
                            0.1111111111111111,
                            "#46039f"
                          ],
                          [
                            0.2222222222222222,
                            "#7201a8"
                          ],
                          [
                            0.3333333333333333,
                            "#9c179e"
                          ],
                          [
                            0.4444444444444444,
                            "#bd3786"
                          ],
                          [
                            0.5555555555555556,
                            "#d8576b"
                          ],
                          [
                            0.6666666666666666,
                            "#ed7953"
                          ],
                          [
                            0.7777777777777778,
                            "#fb9f3a"
                          ],
                          [
                            0.8888888888888888,
                            "#fdca26"
                          ],
                          [
                            1,
                            "#f0f921"
                          ]
                        ],
                        "type": "surface"
                      }
                    ],
                    "table": [
                      {
                        "cells": {
                          "fill": {
                            "color": "#EBF0F8"
                          },
                          "line": {
                            "color": "white"
                          }
                        },
                        "header": {
                          "fill": {
                            "color": "#C8D4E3"
                          },
                          "line": {
                            "color": "white"
                          }
                        },
                        "type": "table"
                      }
                    ]
                  },
                  "layout": {
                    "annotationdefaults": {
                      "arrowcolor": "#2a3f5f",
                      "arrowhead": 0,
                      "arrowwidth": 1
                    },
                    "autotypenumbers": "strict",
                    "coloraxis": {
                      "colorbar": {
                        "outlinewidth": 0,
                        "ticks": ""
                      }
                    },
                    "colorscale": {
                      "diverging": [
                        [
                          0,
                          "#8e0152"
                        ],
                        [
                          0.1,
                          "#c51b7d"
                        ],
                        [
                          0.2,
                          "#de77ae"
                        ],
                        [
                          0.3,
                          "#f1b6da"
                        ],
                        [
                          0.4,
                          "#fde0ef"
                        ],
                        [
                          0.5,
                          "#f7f7f7"
                        ],
                        [
                          0.6,
                          "#e6f5d0"
                        ],
                        [
                          0.7,
                          "#b8e186"
                        ],
                        [
                          0.8,
                          "#7fbc41"
                        ],
                        [
                          0.9,
                          "#4d9221"
                        ],
                        [
                          1,
                          "#276419"
                        ]
                      ],
                      "sequential": [
                        [
                          0,
                          "#0d0887"
                        ],
                        [
                          0.1111111111111111,
                          "#46039f"
                        ],
                        [
                          0.2222222222222222,
                          "#7201a8"
                        ],
                        [
                          0.3333333333333333,
                          "#9c179e"
                        ],
                        [
                          0.4444444444444444,
                          "#bd3786"
                        ],
                        [
                          0.5555555555555556,
                          "#d8576b"
                        ],
                        [
                          0.6666666666666666,
                          "#ed7953"
                        ],
                        [
                          0.7777777777777778,
                          "#fb9f3a"
                        ],
                        [
                          0.8888888888888888,
                          "#fdca26"
                        ],
                        [
                          1,
                          "#f0f921"
                        ]
                      ],
                      "sequentialminus": [
                        [
                          0,
                          "#0d0887"
                        ],
                        [
                          0.1111111111111111,
                          "#46039f"
                        ],
                        [
                          0.2222222222222222,
                          "#7201a8"
                        ],
                        [
                          0.3333333333333333,
                          "#9c179e"
                        ],
                        [
                          0.4444444444444444,
                          "#bd3786"
                        ],
                        [
                          0.5555555555555556,
                          "#d8576b"
                        ],
                        [
                          0.6666666666666666,
                          "#ed7953"
                        ],
                        [
                          0.7777777777777778,
                          "#fb9f3a"
                        ],
                        [
                          0.8888888888888888,
                          "#fdca26"
                        ],
                        [
                          1,
                          "#f0f921"
                        ]
                      ]
                    },
                    "colorway": [
                      "#636efa",
                      "#EF553B",
                      "#00cc96",
                      "#ab63fa",
                      "#FFA15A",
                      "#19d3f3",
                      "#FF6692",
                      "#B6E880",
                      "#FF97FF",
                      "#FECB52"
                    ],
                    "font": {
                      "color": "#2a3f5f"
                    },
                    "geo": {
                      "bgcolor": "white",
                      "lakecolor": "white",
                      "landcolor": "#E5ECF6",
                      "showlakes": true,
                      "showland": true,
                      "subunitcolor": "white"
                    },
                    "hoverlabel": {
                      "align": "left"
                    },
                    "hovermode": "closest",
                    "mapbox": {
                      "style": "light"
                    },
                    "paper_bgcolor": "white",
                    "plot_bgcolor": "#E5ECF6",
                    "polar": {
                      "angularaxis": {
                        "gridcolor": "white",
                        "linecolor": "white",
                        "ticks": ""
                      },
                      "bgcolor": "#E5ECF6",
                      "radialaxis": {
                        "gridcolor": "white",
                        "linecolor": "white",
                        "ticks": ""
                      }
                    },
                    "scene": {
                      "xaxis": {
                        "backgroundcolor": "#E5ECF6",
                        "gridcolor": "white",
                        "gridwidth": 2,
                        "linecolor": "white",
                        "showbackground": true,
                        "ticks": "",
                        "zerolinecolor": "white"
                      },
                      "yaxis": {
                        "backgroundcolor": "#E5ECF6",
                        "gridcolor": "white",
                        "gridwidth": 2,
                        "linecolor": "white",
                        "showbackground": true,
                        "ticks": "",
                        "zerolinecolor": "white"
                      },
                      "zaxis": {
                        "backgroundcolor": "#E5ECF6",
                        "gridcolor": "white",
                        "gridwidth": 2,
                        "linecolor": "white",
                        "showbackground": true,
                        "ticks": "",
                        "zerolinecolor": "white"
                      }
                    },
                    "shapedefaults": {
                      "line": {
                        "color": "#2a3f5f"
                      }
                    },
                    "ternary": {
                      "aaxis": {
                        "gridcolor": "white",
                        "linecolor": "white",
                        "ticks": ""
                      },
                      "baxis": {
                        "gridcolor": "white",
                        "linecolor": "white",
                        "ticks": ""
                      },
                      "bgcolor": "#E5ECF6",
                      "caxis": {
                        "gridcolor": "white",
                        "linecolor": "white",
                        "ticks": ""
                      }
                    },
                    "title": {
                      "x": 0.05
                    },
                    "xaxis": {
                      "automargin": true,
                      "gridcolor": "white",
                      "linecolor": "white",
                      "ticks": "",
                      "title": {
                        "standoff": 15
                      },
                      "zerolinecolor": "white",
                      "zerolinewidth": 2
                    },
                    "yaxis": {
                      "automargin": true,
                      "gridcolor": "white",
                      "linecolor": "white",
                      "ticks": "",
                      "title": {
                        "standoff": 15
                      },
                      "zerolinecolor": "white",
                      "zerolinewidth": 2
                    }
                  }
                },
                "width": 1000
              }
            },
            "text/html": "<div>                            <div id=\"ba0d508e-d295-4117-b27d-139e249c0bd5\" class=\"plotly-graph-div\" style=\"height:1000px; width:1000px;\"></div>            <script type=\"text/javascript\">                require([\"plotly\"], function(Plotly) {                    window.PLOTLYENV=window.PLOTLYENV || {};                                    if (document.getElementById(\"ba0d508e-d295-4117-b27d-139e249c0bd5\")) {                    Plotly.newPlot(                        \"ba0d508e-d295-4117-b27d-139e249c0bd5\",                        [{\"marker\": {\"color\": \"rgb(12, 12, 140)\"}, \"name\": \"PClass 1\", \"type\": \"box\", \"y\": [null, 71.2833, null, 53.1, null, null, 51.8625, null, null, null, null, 26.55, null, null, null, null, null, null, null, null, null, null, null, 35.5, null, null, null, 263.0, null, null, 27.7208, 146.5208, null, null, 82.1708, 52.0, null, null, null, null, null, null, null, null, null, null, null, null, null, null, null, null, 76.7292, null, 61.9792, 35.5, null, null, null, null, null, 80.0, 83.475, null, 27.7208, null, null, null, null, null, null, null, null, null, null, null, null, null, null, null, null, null, null, 47.1, null, null, null, null, 263.0, null, null, null, 61.175, null, null, null, 34.6542, 63.3583, null, null, null, null, 77.2875, null, null, null, null, null, null, null, 52.0, null, null, null, null, null, null, null, 247.5208, null, null, null, null, null, 77.2875, null, null, null, null, null, null, null, null, null, null, null, 26.2833, 53.1, null, 79.2, null, null, null, null, null, null, null, null, null, null, null, 66.6, null, null, null, 61.3792, null, null, null, null, null, null, null, null, null, null, 55.0, null, 25.925, null, 33.5, null, null, null, 30.6958, null, null, 28.7125, null, null, null, null, null, null, null, 50.0, null, 26.55, null, null, null, null, null, null, 27.7208, 146.5208, null, null, null, null, null, null, null, null, null, null, null, null, null, 31.0, null, null, null, null, null, 113.275, null, null, 76.2917, null, null, null, null, null, 90.0, null, null, null, null, null, 83.475, null, null, null, null, null, null, null, null, null, null, null, null, null, null, 90.0, null, null, 52.5542, null, null, null, 26.55, null, null, null, 79.2, 86.5, 512.3292, null, null, null, 79.65, 0.0, null, null, null, null, 153.4625, 135.6333, 31.0, null, null, 29.7, null, 77.9583, null, null, null, null, null, null, null, null, 26.0, null, null, null, null, null, 78.85, 91.0792, null, null, null, 27.7208, null, 151.55, 30.5, 247.5208, null, null, null, null, null, 151.55, 110.8833, 108.9, null, 56.9292, 83.1583, 262.375, null, null, null, null, null, null, 164.8667, 134.5, null, null, null, null, null, 135.6333, null, null, null, 57.9792, null, 28.5, 153.4625, null, 133.65, null, 66.6, 134.5, null, 35.5, null, 263.0, null, null, null, null, null, null, null, null, null, 35.0, null, null, null, null, 55.0, null, null, null, null, null, null, null, null, null, 75.25, null, null, 69.3, 55.4417, null, null, 135.6333, null, 82.1708, null, 211.5, null, null, 227.525, null, null, 52.0, null, null, null, null, null, null, 120.0, null, null, 113.275, null, null, null, null, null, null, null, null, null, null, null, null, null, null, null, null, null, null, 90.0, null, null, null, null, null, null, null, null, null, null, null, null, null, null, null, null, null, 26.55, null, null, null, 55.9, 120.0, null, null, 263.0, null, null, null, null, null, null, 81.8583, null, 26.55, null, 30.5, null, null, 27.75, 89.1042, null, null, 26.55, 51.8625, null, null, 26.55, null, 38.5, null, null, null, null, 26.55, null, null, null, null, null, null, null, 52.0, null, null, null, null, null, null, null, null, 91.0792, null, 90.0, 29.7, null, null, null, null, 30.5, 49.5042, null, null, 78.2667, null, 151.55, null, null, null, null, null, 86.5, 108.9, null, 26.55, null, null, null, null, 26.2875, 59.4, null, 34.0208, null, null, null, null, 93.5, null, null, 57.9792, null, null, null, 221.7792, null, null, null, null, null, null, null, null, 26.55, 106.425, null, 49.5, 71.0, null, null, null, 106.425, 26.0, null, null, null, null, 110.8833, null, null, null, null, 26.55, 39.6, 227.525, 79.65, null, null, null, null, null, null, null, null, null, null, null, null, 51.4792, 26.3875, null, null, null, null, 55.9, null, null, null, 110.8833, null, 40.125, null, 79.65, null, 79.2, null, null, null, 78.2667, null, null, null, null, null, null, null, 56.9292, null, null, 42.4, null, 26.55, null, null, 30.5, null, 153.4625, null, null, null, null, null, null, null, null, null, null, null, 52.5542, null, null, null, 32.3208, null, 77.9583, null, null, 30.0, null, 30.5, 0.0, null, null, null, null, null, null, null, 69.3, null, null, null, 76.7292, null, 35.5, null, null, null, null, null, null, null, null, null, null, null, 113.275, 133.65, null, 25.5875, null, null, null, null, null, null, 52.0, null, 52.0, null, null, null, null, null, null, null, 512.3292, null, 76.7292, null, null, null, null, null, null, null, 211.3375, 57.0, null, null, null, 26.55, null, null, null, 110.8833, null, 227.525, 26.2875, null, null, null, null, null, 26.2875, 151.55, null, 49.5042, 26.55, 52.0, null, null, null, 227.525, null, null, null, null, null, null, null, 53.1, null, null, null, null, null, 211.3375, null, null, null, null, null, null, 512.3292, null, null, 30.0, 78.85, 262.375, null, null, 71.0, null, null, 53.1, null, null, null, null, null, null, null, null, null, null, 86.5, null, null, null, 120.0, null, 77.9583, 39.6, null, null, null, null, null, null, null, null, null, null, null, null, 211.3375, null, 57.0, 30.0, null, null, null, null, null, null, 79.2, null, null, null, 30.6958, null, null, 25.9292, null, null, null, null, null, 120.0, null, null, null, 0.0, null, null, 53.1, null, null, null, null, null, 0.0, null, null, null, null, 93.5, null, 0.0, null, null, null, null, null, null, 80.0, null, null, null, null, null, 83.1583, null, null, null, 29.7, null, null, 31.0, null, null, null, null, null, null, 89.1042, null, null, null, 39.4, null, null, 164.8667, 26.55, null, null, null, null, 25.9292, null, null, null, null, 50.4958, null, null, null, 52.5542, 5.0, null, null, null, null, null, null, 83.1583, null, null, null, null, null, null, null, 30.0, null, 30.0, null]}, {\"marker\": {\"color\": \"rgb(12, 128, 128)\"}, \"name\": \"PClass 2\", \"type\": \"box\", \"y\": [null, null, null, null, null, null, null, null, null, 30.0708, null, null, null, null, null, 16.0, null, 13.0, null, null, 26.0, 13.0, null, null, null, null, null, null, null, null, null, null, null, 10.5, null, null, null, null, null, null, null, 21.0, null, 41.5792, null, null, null, null, null, null, null, null, null, 26.0, null, null, 10.5, null, 27.75, null, null, null, null, null, null, null, 10.5, null, null, null, 10.5, null, 73.5, null, null, null, null, null, 29.0, null, null, null, null, null, 10.5, null, null, null, null, null, null, null, null, null, null, null, null, null, 23.0, 26.0, null, null, null, null, null, null, null, null, null, null, null, null, null, null, null, null, null, 21.0, null, null, 73.5, null, 30.0708, 13.0, null, null, null, null, null, null, null, null, null, 26.0, 13.0, 15.0458, null, null, null, null, null, null, null, null, 11.5, 36.75, null, null, 26.0, 13.0, 12.525, null, null, null, null, null, null, null, null, null, null, 15.75, null, null, null, null, null, null, null, null, null, null, null, null, null, null, null, null, 13.0, null, null, 15.05, null, 39.0, null, null, null, null, null, null, 13.0, 13.0, null, 26.0, null, null, null, null, null, 13.0, null, null, null, null, null, null, null, null, null, null, null, 21.0, null, 13.0, null, null, null, 27.0, null, 10.5, null, 13.0, null, null, null, null, 10.5, null, 13.0, null, null, null, 13.5, null, 10.5, null, 26.0, 26.25, 10.5, 12.275, null, null, 10.5, null, null, null, null, 14.5, null, 26.0, null, null, null, null, null, null, null, null, null, 26.0, null, null, null, null, null, 10.5, null, null, null, null, null, null, 19.5, null, null, null, null, 0.0, null, null, null, null, null, null, null, null, null, null, 13.0, null, null, null, 12.875, null, null, null, null, null, null, null, null, null, null, 12.35, null, null, null, null, 24.0, null, null, null, 26.0, null, 26.25, null, 26.0, 14.0, null, null, null, null, 12.35, 29.0, null, null, null, 13.0, null, null, null, null, null, null, null, null, null, null, null, null, 26.0, null, 13.0, 13.0, 13.0, 13.0, 13.0, null, null, null, null, null, null, null, null, null, null, 13.0, null, null, null, 27.7208, null, null, null, null, null, null, null, null, null, null, null, null, null, null, null, null, null, null, null, null, null, null, null, 73.5, null, 13.0, null, 12.0, null, null, null, null, null, null, null, 26.0, 10.5, 12.65, null, null, null, null, null, 21.0, null, 18.75, null, null, null, null, null, 0.0, null, null, 32.5, 13.0, 13.0, null, null, null, null, null, null, null, 26.0, 26.0, null, null, null, null, 26.0, null, null, null, null, 18.75, null, 10.5, 26.25, null, null, 13.0, null, null, 19.5, null, null, null, 27.75, null, null, null, null, null, null, null, 10.5, null, null, null, null, 13.0, null, null, 0.0, null, null, null, null, null, 27.75, 13.7917, null, null, 21.0, null, null, null, null, 0.0, null, null, null, null, null, null, null, null, null, null, null, null, null, null, null, null, null, null, null, null, null, null, null, null, 26.0, null, null, null, null, null, null, null, null, null, 10.5, null, 26.0, null, null, null, null, null, null, null, 10.5, null, null, 11.5, 26.0, null, null, null, null, 26.25, null, null, null, null, null, null, null, 26.0, null, null, 26.0, 13.8625, null, 36.75, null, 26.0, null, null, null, null, null, null, null, null, null, null, 13.5, null, null, null, null, null, null, null, 10.5, null, null, null, null, null, 13.0, null, null, null, 30.0, null, 26.0, null, null, null, 15.0, null, null, null, null, null, null, null, 26.0, null, 33.0, null, null, null, 27.0, null, null, null, null, null, null, null, 41.5792, null, null, null, null, null, null, 65.0, null, null, 39.0, 10.5, null, null, null, null, null, null, 12.35, null, null, null, null, null, null, null, null, 13.0, null, 26.25, null, null, null, null, null, null, null, null, null, null, null, null, null, 23.0, null, null, null, 73.5, null, null, 13.0, null, null, null, null, null, null, 73.5, 13.0, null, null, null, 39.0, null, 10.5, 13.0, 0.0, null, null, null, null, null, null, null, null, null, 39.0, 41.5792, null, null, null, null, null, null, null, null, null, 13.5, null, null, null, null, null, null, null, null, null, 26.0, 13.5, null, null, null, null, null, null, null, 13.0, null, null, 10.5, null, null, 33.0, null, 13.0, 13.0, null, null, 21.0, null, 26.0, null, null, null, 0.0, 13.0, 13.0, null, null, null, null, null, null, null, null, null, null, null, null, 13.0, null, null, 23.0, null, null, null, 65.0, 14.5, null, 11.5, null, null, null, null, null, null, null, null, null, null, null, null, null, null, 10.5, null, 23.0, null, null, null, null, null, null, null, null, null, null, null, null, null, null, null, null, 26.0, null, null, null, 13.0, null, null, null, null, 13.0, 26.25, null, null, null, null, null, null, 13.0, null, null, null, 10.5, null, null, null, null, 37.0042, null, null, null, null, null, null, null, null, null, 37.0042, null, null, null, 18.75, null, null, null, null, null, null, null, null, null, 10.5, null, null, null, null, null, null, 33.0, null, null, null, null, null, 26.0, null, null, null, null, null, null, 11.5, null, null, 13.0, 13.0, 13.8583, null, null, null, null, null, null, null, 24.0, null, null, null, null, null, 26.0, null, null, 10.5, null, null, 13.0, null, null, null, null]}, {\"marker\": {\"color\": \"rgb(12,100, 128)\"}, \"name\": \"PClass 3\", \"type\": \"box\", \"y\": [7.25, null, 7.925, null, 8.05, 8.4583, null, 21.075, 11.1333, null, 16.7, null, 8.05, 31.275, 7.8542, null, 29.125, null, 18.0, 7.225, null, null, 8.0292, null, 21.075, 31.3875, 7.225, null, 7.8792, 7.8958, null, null, 7.75, null, null, null, 7.2292, 8.05, 18.0, 11.2417, 9.475, null, 7.8958, null, 7.8792, 8.05, 15.5, 7.75, 21.6792, 17.8, 39.6875, 7.8, null, null, null, null, null, 7.2292, null, 46.9, 7.2292, null, null, 27.9, null, 15.2458, null, 8.1583, 7.925, 8.6625, null, 46.9, null, 14.4542, 56.4958, 7.65, 7.8958, 8.05, null, 12.475, 9.0, 9.5, 7.7875, null, null, 15.85, 34.375, 8.05, null, 8.05, 8.05, 7.8542, null, 20.575, 7.25, 8.05, null, null, null, null, 7.8958, 7.8958, null, 8.6542, 7.925, 7.8958, 7.65, 7.775, 7.8958, 24.15, null, 14.4542, 8.05, 9.825, 14.4583, 7.925, 7.75, null, null, 31.275, null, 8.05, null, null, null, 11.2417, 7.75, 7.1417, 22.3583, 6.975, 7.8958, 7.05, 14.5, null, null, null, null, null, 9.2167, null, 15.2458, 7.75, 15.85, 6.75, null, null, 7.7958, 34.375, null, null, null, null, 8.05, 14.5, 7.3125, null, 7.7333, 8.05, 8.6625, 69.55, 16.1, null, 7.775, 8.6625, 39.6875, 20.525, null, 27.9, null, 56.4958, null, 29.125, 11.1333, 7.925, null, 7.8542, 25.4667, null, null, 0.0, 69.55, null, 31.3875, null, 22.025, null, 15.5, null, 15.5, 7.8958, null, null, 7.8542, null, null, null, 7.75, 8.4042, 7.75, null, 9.5, 69.55, 6.4958, 7.225, 8.05, 10.4625, 15.85, 18.7875, 7.75, null, 7.05, null, 7.25, null, 7.75, null, 7.925, null, null, null, 8.05, null, 8.05, 7.8958, null, 9.35, null, 7.25, null, 25.4667, null, 7.775, null, 31.3875, null, 7.55, null, null, null, null, 14.4542, 15.5, null, 7.125, 7.225, null, 7.775, null, null, null, 7.25, 10.4625, null, 16.1, 20.2125, 15.2458, null, null, null, null, 7.75, 31.3875, null, null, 7.75, null, 39.6875, 7.775, null, null, null, 0.0, null, null, 7.75, null, 7.75, null, 29.125, 20.25, 7.75, 7.8542, 9.5, 8.05, null, 8.6625, 9.5, 7.8958, null, 7.75, null, null, null, 8.85, 7.8958, null, 7.2292, null, null, null, 7.75, 23.25, 0.0, null, 8.05, null, null, null, null, null, null, null, null, 7.8958, null, 7.8542, null, null, null, null, 7.25, 7.8958, null, null, 69.55, null, 6.2375, null, 20.525, null, 23.25, null, null, 18.0, null, 7.8958, null, null, 8.05, null, null, null, null, null, null, null, null, 16.1, 15.9, 8.6625, 9.225, null, 7.2292, 17.8, 7.225, 9.5, null, null, 7.8792, 7.8792, 27.9, null, 14.4542, 7.05, 15.5, 7.25, null, 7.2292, 7.75, null, null, 6.4958, 8.05, null, 21.075, null, 7.25, null, 4.0125, 7.775, null, 15.7417, 7.925, null, 7.8958, null, 46.9, null, 7.7292, null, null, 7.7958, 7.925, null, 16.7, 7.7958, 7.8542, null, null, null, 7.925, 8.05, 9.825, 15.85, 8.6625, null, 7.75, null, 7.775, 25.4667, 7.8958, 6.8583, null, null, 7.925, 8.05, null, null, null, 24.15, 7.8958, 7.7333, 7.875, 14.4, 20.2125, 7.25, null, null, 7.75, 8.05, null, 16.1, null, 7.125, null, null, 34.375, null, null, null, null, 9.5, 7.775, null, 8.1125, null, null, null, 19.2583, null, null, 19.9667, null, null, 8.05, 7.8958, null, null, null, 7.75, null, 8.05, null, null, 8.05, 7.05, null, null, 7.725, 19.2583, 7.25, 8.6625, null, null, 9.8375, null, null, 7.0458, 7.5208, 12.2875, 46.9, null, 8.05, 9.5875, null, 25.4667, null, null, 8.05, 15.9, 19.9667, 7.25, null, null, 8.05, 14.4583, null, 15.1, null, 7.7958, 8.6625, 7.75, 7.6292, 9.5875, null, null, null, null, 22.525, 56.4958, 7.75, 8.05, null, null, 7.4958, null, null, 24.15, null, 7.8958, null, 7.8958, 7.225, null, 7.2292, 7.75, null, null, 7.925, null, null, 7.2292, 7.2292, 22.3583, 8.6625, null, null, null, 14.5, null, null, 31.275, 31.275, null, null, null, null, null, 20.525, null, null, null, 7.8292, 7.225, 7.775, null, null, null, null, 17.4, 7.75, 7.8958, null, 8.05, 8.05, 24.15, 7.8958, 21.075, 7.2292, 7.8542, null, null, null, 7.75, 8.05, 14.5, null, null, 14.4583, 7.925, null, null, null, null, 8.7125, null, null, null, 8.05, 8.05, 7.125, null, 7.25, 7.75, null, 24.15, null, 0.0, 7.225, null, null, 7.8958, null, 8.05, null, 15.55, 7.8958, null, null, null, 31.275, 7.05, 15.5, 7.75, 8.05, null, 14.4, 16.1, null, null, 14.4542, null, 15.7417, 7.8542, 16.1, null, null, null, 7.8958, 7.7333, null, 7.0542, null, null, 27.9, null, 7.925, null, 39.6875, 16.1, 7.8542, null, 27.9, 56.4958, 19.2583, null, 7.8958, null, 7.55, 7.55, 7.8958, null, 8.4333, 7.8292, 6.75, null, 7.8958, 15.5, null, null, null, 7.225, null, 7.4958, 7.925, null, null, 7.775, 8.05, null, null, null, null, null, null, 7.775, 8.05, 9.8417, 46.9, null, 8.1375, null, 9.225, 46.9, null, null, 39.6875, 10.1708, 7.7958, null, null, 13.4167, 56.4958, 7.225, null, null, 8.05, 7.7333, null, 7.65, null, null, 14.4542, 7.7417, 7.8542, null, null, null, null, 15.2458, null, null, null, 9.4833, null, 7.65, null, null, 15.5, 7.775, null, 7.0542, null, null, null, 8.6625, null, 7.7375, null, 7.925, null, 18.7875, null, null, null, 16.1, 34.375, null, 7.8958, 7.8958, null, null, null, 16.1, 7.925, null, 20.25, null, null, 7.75, null, 12.475, 9.5, 7.8958, null, null, 7.7958, null, 8.05, null, 14.5, 7.125, 7.2292, null, 7.775, null, null, 7.75, 24.15, 8.3625, 9.5, 7.8542, null, 7.225, null, 7.75, 7.75, 12.475, 7.7375, null, 7.2292, null, null, 23.45, 7.05, 7.25, 7.4958, 29.125, 20.575, null, 7.75, null, 69.55, null, 7.8958, null, null, 8.6833, 7.2292, 24.15, null, null, null, 8.5167, 6.975, 7.775, null, 7.775, null, null, 7.8875, 24.15, null, 31.275, 8.05, null, 7.925, null, 6.45, 27.9, null, 8.6625, null, 12.475, 39.6875, 6.95, 56.4958, null, 7.75, null, 14.4542, null, 7.2292, 7.8542, 8.3, null, 8.6625, 8.05, 56.4958, null, 7.925, null, null, 6.4375, 8.6625, 7.55, 69.55, 7.8958, null, null, 31.275, 7.775, 15.2458, null, null, 9.35, null, null, 19.2583, 7.2292, 14.1083, null, null, 69.55, null, null, null, null, 9.5, 11.1333, 7.8958, null, null, 9.0, null, 7.225, 9.8458, 7.8958, 7.8958, null, null, 7.8958, 10.5167, null, 7.05, 29.125, null, null, 23.45, null, 7.75]}],                        {\"autosize\": false, \"height\": 1000, \"template\": {\"data\": {\"bar\": [{\"error_x\": {\"color\": \"#2a3f5f\"}, \"error_y\": {\"color\": \"#2a3f5f\"}, \"marker\": {\"line\": {\"color\": \"#E5ECF6\", \"width\": 0.5}}, \"type\": \"bar\"}], \"barpolar\": [{\"marker\": {\"line\": {\"color\": \"#E5ECF6\", \"width\": 0.5}}, \"type\": \"barpolar\"}], \"carpet\": [{\"aaxis\": {\"endlinecolor\": \"#2a3f5f\", \"gridcolor\": \"white\", \"linecolor\": \"white\", \"minorgridcolor\": \"white\", \"startlinecolor\": \"#2a3f5f\"}, \"baxis\": {\"endlinecolor\": \"#2a3f5f\", \"gridcolor\": \"white\", \"linecolor\": \"white\", \"minorgridcolor\": \"white\", \"startlinecolor\": \"#2a3f5f\"}, \"type\": \"carpet\"}], \"choropleth\": [{\"colorbar\": {\"outlinewidth\": 0, \"ticks\": \"\"}, \"type\": \"choropleth\"}], \"contour\": [{\"colorbar\": {\"outlinewidth\": 0, \"ticks\": \"\"}, \"colorscale\": [[0.0, \"#0d0887\"], [0.1111111111111111, \"#46039f\"], [0.2222222222222222, \"#7201a8\"], [0.3333333333333333, \"#9c179e\"], [0.4444444444444444, \"#bd3786\"], [0.5555555555555556, \"#d8576b\"], [0.6666666666666666, \"#ed7953\"], [0.7777777777777778, \"#fb9f3a\"], [0.8888888888888888, \"#fdca26\"], [1.0, \"#f0f921\"]], \"type\": \"contour\"}], \"contourcarpet\": [{\"colorbar\": {\"outlinewidth\": 0, \"ticks\": \"\"}, \"type\": \"contourcarpet\"}], \"heatmap\": [{\"colorbar\": {\"outlinewidth\": 0, \"ticks\": \"\"}, \"colorscale\": [[0.0, \"#0d0887\"], [0.1111111111111111, \"#46039f\"], [0.2222222222222222, \"#7201a8\"], [0.3333333333333333, \"#9c179e\"], [0.4444444444444444, \"#bd3786\"], [0.5555555555555556, \"#d8576b\"], [0.6666666666666666, \"#ed7953\"], [0.7777777777777778, \"#fb9f3a\"], [0.8888888888888888, \"#fdca26\"], [1.0, \"#f0f921\"]], \"type\": \"heatmap\"}], \"heatmapgl\": [{\"colorbar\": {\"outlinewidth\": 0, \"ticks\": \"\"}, \"colorscale\": [[0.0, \"#0d0887\"], [0.1111111111111111, \"#46039f\"], [0.2222222222222222, \"#7201a8\"], [0.3333333333333333, \"#9c179e\"], [0.4444444444444444, \"#bd3786\"], [0.5555555555555556, \"#d8576b\"], [0.6666666666666666, \"#ed7953\"], [0.7777777777777778, \"#fb9f3a\"], [0.8888888888888888, \"#fdca26\"], [1.0, \"#f0f921\"]], \"type\": \"heatmapgl\"}], \"histogram\": [{\"marker\": {\"colorbar\": {\"outlinewidth\": 0, \"ticks\": \"\"}}, \"type\": \"histogram\"}], \"histogram2d\": [{\"colorbar\": {\"outlinewidth\": 0, \"ticks\": \"\"}, \"colorscale\": [[0.0, \"#0d0887\"], [0.1111111111111111, \"#46039f\"], [0.2222222222222222, \"#7201a8\"], [0.3333333333333333, \"#9c179e\"], [0.4444444444444444, \"#bd3786\"], [0.5555555555555556, \"#d8576b\"], [0.6666666666666666, \"#ed7953\"], [0.7777777777777778, \"#fb9f3a\"], [0.8888888888888888, \"#fdca26\"], [1.0, \"#f0f921\"]], \"type\": \"histogram2d\"}], \"histogram2dcontour\": [{\"colorbar\": {\"outlinewidth\": 0, \"ticks\": \"\"}, \"colorscale\": [[0.0, \"#0d0887\"], [0.1111111111111111, \"#46039f\"], [0.2222222222222222, \"#7201a8\"], [0.3333333333333333, \"#9c179e\"], [0.4444444444444444, \"#bd3786\"], [0.5555555555555556, \"#d8576b\"], [0.6666666666666666, \"#ed7953\"], [0.7777777777777778, \"#fb9f3a\"], [0.8888888888888888, \"#fdca26\"], [1.0, \"#f0f921\"]], \"type\": \"histogram2dcontour\"}], \"mesh3d\": [{\"colorbar\": {\"outlinewidth\": 0, \"ticks\": \"\"}, \"type\": \"mesh3d\"}], \"parcoords\": [{\"line\": {\"colorbar\": {\"outlinewidth\": 0, \"ticks\": \"\"}}, \"type\": \"parcoords\"}], \"pie\": [{\"automargin\": true, \"type\": \"pie\"}], \"scatter\": [{\"marker\": {\"colorbar\": {\"outlinewidth\": 0, \"ticks\": \"\"}}, \"type\": \"scatter\"}], \"scatter3d\": [{\"line\": {\"colorbar\": {\"outlinewidth\": 0, \"ticks\": \"\"}}, \"marker\": {\"colorbar\": {\"outlinewidth\": 0, \"ticks\": \"\"}}, \"type\": \"scatter3d\"}], \"scattercarpet\": [{\"marker\": {\"colorbar\": {\"outlinewidth\": 0, \"ticks\": \"\"}}, \"type\": \"scattercarpet\"}], \"scattergeo\": [{\"marker\": {\"colorbar\": {\"outlinewidth\": 0, \"ticks\": \"\"}}, \"type\": \"scattergeo\"}], \"scattergl\": [{\"marker\": {\"colorbar\": {\"outlinewidth\": 0, \"ticks\": \"\"}}, \"type\": \"scattergl\"}], \"scattermapbox\": [{\"marker\": {\"colorbar\": {\"outlinewidth\": 0, \"ticks\": \"\"}}, \"type\": \"scattermapbox\"}], \"scatterpolar\": [{\"marker\": {\"colorbar\": {\"outlinewidth\": 0, \"ticks\": \"\"}}, \"type\": \"scatterpolar\"}], \"scatterpolargl\": [{\"marker\": {\"colorbar\": {\"outlinewidth\": 0, \"ticks\": \"\"}}, \"type\": \"scatterpolargl\"}], \"scatterternary\": [{\"marker\": {\"colorbar\": {\"outlinewidth\": 0, \"ticks\": \"\"}}, \"type\": \"scatterternary\"}], \"surface\": [{\"colorbar\": {\"outlinewidth\": 0, \"ticks\": \"\"}, \"colorscale\": [[0.0, \"#0d0887\"], [0.1111111111111111, \"#46039f\"], [0.2222222222222222, \"#7201a8\"], [0.3333333333333333, \"#9c179e\"], [0.4444444444444444, \"#bd3786\"], [0.5555555555555556, \"#d8576b\"], [0.6666666666666666, \"#ed7953\"], [0.7777777777777778, \"#fb9f3a\"], [0.8888888888888888, \"#fdca26\"], [1.0, \"#f0f921\"]], \"type\": \"surface\"}], \"table\": [{\"cells\": {\"fill\": {\"color\": \"#EBF0F8\"}, \"line\": {\"color\": \"white\"}}, \"header\": {\"fill\": {\"color\": \"#C8D4E3\"}, \"line\": {\"color\": \"white\"}}, \"type\": \"table\"}]}, \"layout\": {\"annotationdefaults\": {\"arrowcolor\": \"#2a3f5f\", \"arrowhead\": 0, \"arrowwidth\": 1}, \"autotypenumbers\": \"strict\", \"coloraxis\": {\"colorbar\": {\"outlinewidth\": 0, \"ticks\": \"\"}}, \"colorscale\": {\"diverging\": [[0, \"#8e0152\"], [0.1, \"#c51b7d\"], [0.2, \"#de77ae\"], [0.3, \"#f1b6da\"], [0.4, \"#fde0ef\"], [0.5, \"#f7f7f7\"], [0.6, \"#e6f5d0\"], [0.7, \"#b8e186\"], [0.8, \"#7fbc41\"], [0.9, \"#4d9221\"], [1, \"#276419\"]], \"sequential\": [[0.0, \"#0d0887\"], [0.1111111111111111, \"#46039f\"], [0.2222222222222222, \"#7201a8\"], [0.3333333333333333, \"#9c179e\"], [0.4444444444444444, \"#bd3786\"], [0.5555555555555556, \"#d8576b\"], [0.6666666666666666, \"#ed7953\"], [0.7777777777777778, \"#fb9f3a\"], [0.8888888888888888, \"#fdca26\"], [1.0, \"#f0f921\"]], \"sequentialminus\": [[0.0, \"#0d0887\"], [0.1111111111111111, \"#46039f\"], [0.2222222222222222, \"#7201a8\"], [0.3333333333333333, \"#9c179e\"], [0.4444444444444444, \"#bd3786\"], [0.5555555555555556, \"#d8576b\"], [0.6666666666666666, \"#ed7953\"], [0.7777777777777778, \"#fb9f3a\"], [0.8888888888888888, \"#fdca26\"], [1.0, \"#f0f921\"]]}, \"colorway\": [\"#636efa\", \"#EF553B\", \"#00cc96\", \"#ab63fa\", \"#FFA15A\", \"#19d3f3\", \"#FF6692\", \"#B6E880\", \"#FF97FF\", \"#FECB52\"], \"font\": {\"color\": \"#2a3f5f\"}, \"geo\": {\"bgcolor\": \"white\", \"lakecolor\": \"white\", \"landcolor\": \"#E5ECF6\", \"showlakes\": true, \"showland\": true, \"subunitcolor\": \"white\"}, \"hoverlabel\": {\"align\": \"left\"}, \"hovermode\": \"closest\", \"mapbox\": {\"style\": \"light\"}, \"paper_bgcolor\": \"white\", \"plot_bgcolor\": \"#E5ECF6\", \"polar\": {\"angularaxis\": {\"gridcolor\": \"white\", \"linecolor\": \"white\", \"ticks\": \"\"}, \"bgcolor\": \"#E5ECF6\", \"radialaxis\": {\"gridcolor\": \"white\", \"linecolor\": \"white\", \"ticks\": \"\"}}, \"scene\": {\"xaxis\": {\"backgroundcolor\": \"#E5ECF6\", \"gridcolor\": \"white\", \"gridwidth\": 2, \"linecolor\": \"white\", \"showbackground\": true, \"ticks\": \"\", \"zerolinecolor\": \"white\"}, \"yaxis\": {\"backgroundcolor\": \"#E5ECF6\", \"gridcolor\": \"white\", \"gridwidth\": 2, \"linecolor\": \"white\", \"showbackground\": true, \"ticks\": \"\", \"zerolinecolor\": \"white\"}, \"zaxis\": {\"backgroundcolor\": \"#E5ECF6\", \"gridcolor\": \"white\", \"gridwidth\": 2, \"linecolor\": \"white\", \"showbackground\": true, \"ticks\": \"\", \"zerolinecolor\": \"white\"}}, \"shapedefaults\": {\"line\": {\"color\": \"#2a3f5f\"}}, \"ternary\": {\"aaxis\": {\"gridcolor\": \"white\", \"linecolor\": \"white\", \"ticks\": \"\"}, \"baxis\": {\"gridcolor\": \"white\", \"linecolor\": \"white\", \"ticks\": \"\"}, \"bgcolor\": \"#E5ECF6\", \"caxis\": {\"gridcolor\": \"white\", \"linecolor\": \"white\", \"ticks\": \"\"}}, \"title\": {\"x\": 0.05}, \"xaxis\": {\"automargin\": true, \"gridcolor\": \"white\", \"linecolor\": \"white\", \"ticks\": \"\", \"title\": {\"standoff\": 15}, \"zerolinecolor\": \"white\", \"zerolinewidth\": 2}, \"yaxis\": {\"automargin\": true, \"gridcolor\": \"white\", \"linecolor\": \"white\", \"ticks\": \"\", \"title\": {\"standoff\": 15}, \"zerolinecolor\": \"white\", \"zerolinewidth\": 2}}}, \"width\": 1000},                        {\"responsive\": true}                    ).then(function(){\n                            \nvar gd = document.getElementById('ba0d508e-d295-4117-b27d-139e249c0bd5');\nvar x = new MutationObserver(function (mutations, observer) {{\n        var display = window.getComputedStyle(gd).display;\n        if (!display || display === 'none') {{\n            console.log([gd, 'removed!']);\n            Plotly.purge(gd);\n            observer.disconnect();\n        }}\n}});\n\n// Listen for the removal of the full notebook cells\nvar notebookContainer = gd.closest('#notebook-container');\nif (notebookContainer) {{\n    x.observe(notebookContainer, {childList: true});\n}}\n\n// Listen for the clearing of the current output cell\nvar outputEl = gd.closest('.output');\nif (outputEl) {{\n    x.observe(outputEl, {childList: true});\n}}\n\n                        })                };                });            </script>        </div>"
          },
          "metadata": {}
        }
      ],
      "execution_count": 33,
      "metadata": {
        "collapsed": true,
        "jupyter": {
          "source_hidden": false,
          "outputs_hidden": false
        },
        "nteract": {
          "transient": {
            "deleting": false
          }
        },
        "gather": {
          "logged": 1618339032325
        }
      }
    },
    {
      "cell_type": "markdown",
      "source": [
        "## 5. Graph the  value  counts of  the number  of passengers  who  survived  and did not  survive based on gender using a stacked bar graph."
      ],
      "metadata": {
        "nteract": {
          "transient": {
            "deleting": false
          }
        }
      }
    },
    {
      "cell_type": "code",
      "source": [
        "survival_gender = passengers.groupby(['Survived','Sex']).size().reset_index()\r\n",
        "survival_gender"
      ],
      "outputs": [
        {
          "output_type": "execute_result",
          "execution_count": 45,
          "data": {
            "text/plain": "   Survived     Sex    0\n0         0  female   81\n1         0    male  468\n2         1  female  233\n3         1    male  109",
            "text/html": "<div>\n<style scoped>\n    .dataframe tbody tr th:only-of-type {\n        vertical-align: middle;\n    }\n\n    .dataframe tbody tr th {\n        vertical-align: top;\n    }\n\n    .dataframe thead th {\n        text-align: right;\n    }\n</style>\n<table border=\"1\" class=\"dataframe\">\n  <thead>\n    <tr style=\"text-align: right;\">\n      <th></th>\n      <th>Survived</th>\n      <th>Sex</th>\n      <th>0</th>\n    </tr>\n  </thead>\n  <tbody>\n    <tr>\n      <th>0</th>\n      <td>0</td>\n      <td>female</td>\n      <td>81</td>\n    </tr>\n    <tr>\n      <th>1</th>\n      <td>0</td>\n      <td>male</td>\n      <td>468</td>\n    </tr>\n    <tr>\n      <th>2</th>\n      <td>1</td>\n      <td>female</td>\n      <td>233</td>\n    </tr>\n    <tr>\n      <th>3</th>\n      <td>1</td>\n      <td>male</td>\n      <td>109</td>\n    </tr>\n  </tbody>\n</table>\n</div>"
          },
          "metadata": {}
        }
      ],
      "execution_count": 45,
      "metadata": {
        "collapsed": true,
        "jupyter": {
          "source_hidden": false,
          "outputs_hidden": false
        },
        "nteract": {
          "transient": {
            "deleting": false
          }
        },
        "gather": {
          "logged": 1618339903574
        }
      }
    },
    {
      "cell_type": "code",
      "source": [
        "survival_gender.rename(columns = {0 : 'Count'}, inplace = True)\r\n",
        "survival_gender"
      ],
      "outputs": [
        {
          "output_type": "execute_result",
          "execution_count": 51,
          "data": {
            "text/plain": "   Survived     Sex  Count\n0         0  female     81\n1         0    male    468\n2         1  female    233\n3         1    male    109",
            "text/html": "<div>\n<style scoped>\n    .dataframe tbody tr th:only-of-type {\n        vertical-align: middle;\n    }\n\n    .dataframe tbody tr th {\n        vertical-align: top;\n    }\n\n    .dataframe thead th {\n        text-align: right;\n    }\n</style>\n<table border=\"1\" class=\"dataframe\">\n  <thead>\n    <tr style=\"text-align: right;\">\n      <th></th>\n      <th>Survived</th>\n      <th>Sex</th>\n      <th>Count</th>\n    </tr>\n  </thead>\n  <tbody>\n    <tr>\n      <th>0</th>\n      <td>0</td>\n      <td>female</td>\n      <td>81</td>\n    </tr>\n    <tr>\n      <th>1</th>\n      <td>0</td>\n      <td>male</td>\n      <td>468</td>\n    </tr>\n    <tr>\n      <th>2</th>\n      <td>1</td>\n      <td>female</td>\n      <td>233</td>\n    </tr>\n    <tr>\n      <th>3</th>\n      <td>1</td>\n      <td>male</td>\n      <td>109</td>\n    </tr>\n  </tbody>\n</table>\n</div>"
          },
          "metadata": {}
        }
      ],
      "execution_count": 51,
      "metadata": {
        "collapsed": true,
        "jupyter": {
          "source_hidden": false,
          "outputs_hidden": false
        },
        "nteract": {
          "transient": {
            "deleting": false
          }
        },
        "gather": {
          "logged": 1618340117063
        }
      }
    },
    {
      "cell_type": "code",
      "source": [
        "survival_gender.Survived = survival_gender.Survived.astype(\"category\")\r\n",
        "survival_gender.dtypes"
      ],
      "outputs": [
        {
          "output_type": "execute_result",
          "execution_count": 58,
          "data": {
            "text/plain": "Survived    category\nSex           object\nCount          int64\ndtype: object"
          },
          "metadata": {}
        }
      ],
      "execution_count": 58,
      "metadata": {
        "collapsed": true,
        "jupyter": {
          "source_hidden": false,
          "outputs_hidden": false
        },
        "nteract": {
          "transient": {
            "deleting": false
          }
        },
        "gather": {
          "logged": 1618340620943
        }
      }
    },
    {
      "cell_type": "code",
      "source": [
        "fig = px.bar(survival_gender, x = 'Survived', y = 'Count', color = \r\n",
        "    'Sex', barmode = 'stack')\r\n",
        "fig.update_layout(title = \"Survival by Gender\",\r\n",
        "     xaxis_title = 'Survival', yaxis_title = 'Counts', \r\n",
        "     width = 1000, height = 1000)\r\n",
        "fig.update_xaxes(type='category')\r\n",
        "fig.show()"
      ],
      "outputs": [
        {
          "output_type": "display_data",
          "data": {
            "application/vnd.plotly.v1+json": {
              "config": {
                "plotlyServerURL": "https://plot.ly"
              },
              "data": [
                {
                  "alignmentgroup": "True",
                  "hovertemplate": "Sex=female<br>Survived=%{x}<br>Count=%{y}<extra></extra>",
                  "legendgroup": "female",
                  "marker": {
                    "color": "#636efa"
                  },
                  "name": "female",
                  "offsetgroup": "female",
                  "orientation": "v",
                  "showlegend": true,
                  "textposition": "auto",
                  "type": "bar",
                  "x": [
                    0,
                    1
                  ],
                  "xaxis": "x",
                  "y": [
                    81,
                    233
                  ],
                  "yaxis": "y"
                },
                {
                  "alignmentgroup": "True",
                  "hovertemplate": "Sex=male<br>Survived=%{x}<br>Count=%{y}<extra></extra>",
                  "legendgroup": "male",
                  "marker": {
                    "color": "#EF553B"
                  },
                  "name": "male",
                  "offsetgroup": "male",
                  "orientation": "v",
                  "showlegend": true,
                  "textposition": "auto",
                  "type": "bar",
                  "x": [
                    0,
                    1
                  ],
                  "xaxis": "x",
                  "y": [
                    468,
                    109
                  ],
                  "yaxis": "y"
                }
              ],
              "layout": {
                "barmode": "stack",
                "height": 1000,
                "legend": {
                  "title": {
                    "text": "Sex"
                  },
                  "tracegroupgap": 0
                },
                "margin": {
                  "t": 60
                },
                "template": {
                  "data": {
                    "bar": [
                      {
                        "error_x": {
                          "color": "#2a3f5f"
                        },
                        "error_y": {
                          "color": "#2a3f5f"
                        },
                        "marker": {
                          "line": {
                            "color": "#E5ECF6",
                            "width": 0.5
                          }
                        },
                        "type": "bar"
                      }
                    ],
                    "barpolar": [
                      {
                        "marker": {
                          "line": {
                            "color": "#E5ECF6",
                            "width": 0.5
                          }
                        },
                        "type": "barpolar"
                      }
                    ],
                    "carpet": [
                      {
                        "aaxis": {
                          "endlinecolor": "#2a3f5f",
                          "gridcolor": "white",
                          "linecolor": "white",
                          "minorgridcolor": "white",
                          "startlinecolor": "#2a3f5f"
                        },
                        "baxis": {
                          "endlinecolor": "#2a3f5f",
                          "gridcolor": "white",
                          "linecolor": "white",
                          "minorgridcolor": "white",
                          "startlinecolor": "#2a3f5f"
                        },
                        "type": "carpet"
                      }
                    ],
                    "choropleth": [
                      {
                        "colorbar": {
                          "outlinewidth": 0,
                          "ticks": ""
                        },
                        "type": "choropleth"
                      }
                    ],
                    "contour": [
                      {
                        "colorbar": {
                          "outlinewidth": 0,
                          "ticks": ""
                        },
                        "colorscale": [
                          [
                            0,
                            "#0d0887"
                          ],
                          [
                            0.1111111111111111,
                            "#46039f"
                          ],
                          [
                            0.2222222222222222,
                            "#7201a8"
                          ],
                          [
                            0.3333333333333333,
                            "#9c179e"
                          ],
                          [
                            0.4444444444444444,
                            "#bd3786"
                          ],
                          [
                            0.5555555555555556,
                            "#d8576b"
                          ],
                          [
                            0.6666666666666666,
                            "#ed7953"
                          ],
                          [
                            0.7777777777777778,
                            "#fb9f3a"
                          ],
                          [
                            0.8888888888888888,
                            "#fdca26"
                          ],
                          [
                            1,
                            "#f0f921"
                          ]
                        ],
                        "type": "contour"
                      }
                    ],
                    "contourcarpet": [
                      {
                        "colorbar": {
                          "outlinewidth": 0,
                          "ticks": ""
                        },
                        "type": "contourcarpet"
                      }
                    ],
                    "heatmap": [
                      {
                        "colorbar": {
                          "outlinewidth": 0,
                          "ticks": ""
                        },
                        "colorscale": [
                          [
                            0,
                            "#0d0887"
                          ],
                          [
                            0.1111111111111111,
                            "#46039f"
                          ],
                          [
                            0.2222222222222222,
                            "#7201a8"
                          ],
                          [
                            0.3333333333333333,
                            "#9c179e"
                          ],
                          [
                            0.4444444444444444,
                            "#bd3786"
                          ],
                          [
                            0.5555555555555556,
                            "#d8576b"
                          ],
                          [
                            0.6666666666666666,
                            "#ed7953"
                          ],
                          [
                            0.7777777777777778,
                            "#fb9f3a"
                          ],
                          [
                            0.8888888888888888,
                            "#fdca26"
                          ],
                          [
                            1,
                            "#f0f921"
                          ]
                        ],
                        "type": "heatmap"
                      }
                    ],
                    "heatmapgl": [
                      {
                        "colorbar": {
                          "outlinewidth": 0,
                          "ticks": ""
                        },
                        "colorscale": [
                          [
                            0,
                            "#0d0887"
                          ],
                          [
                            0.1111111111111111,
                            "#46039f"
                          ],
                          [
                            0.2222222222222222,
                            "#7201a8"
                          ],
                          [
                            0.3333333333333333,
                            "#9c179e"
                          ],
                          [
                            0.4444444444444444,
                            "#bd3786"
                          ],
                          [
                            0.5555555555555556,
                            "#d8576b"
                          ],
                          [
                            0.6666666666666666,
                            "#ed7953"
                          ],
                          [
                            0.7777777777777778,
                            "#fb9f3a"
                          ],
                          [
                            0.8888888888888888,
                            "#fdca26"
                          ],
                          [
                            1,
                            "#f0f921"
                          ]
                        ],
                        "type": "heatmapgl"
                      }
                    ],
                    "histogram": [
                      {
                        "marker": {
                          "colorbar": {
                            "outlinewidth": 0,
                            "ticks": ""
                          }
                        },
                        "type": "histogram"
                      }
                    ],
                    "histogram2d": [
                      {
                        "colorbar": {
                          "outlinewidth": 0,
                          "ticks": ""
                        },
                        "colorscale": [
                          [
                            0,
                            "#0d0887"
                          ],
                          [
                            0.1111111111111111,
                            "#46039f"
                          ],
                          [
                            0.2222222222222222,
                            "#7201a8"
                          ],
                          [
                            0.3333333333333333,
                            "#9c179e"
                          ],
                          [
                            0.4444444444444444,
                            "#bd3786"
                          ],
                          [
                            0.5555555555555556,
                            "#d8576b"
                          ],
                          [
                            0.6666666666666666,
                            "#ed7953"
                          ],
                          [
                            0.7777777777777778,
                            "#fb9f3a"
                          ],
                          [
                            0.8888888888888888,
                            "#fdca26"
                          ],
                          [
                            1,
                            "#f0f921"
                          ]
                        ],
                        "type": "histogram2d"
                      }
                    ],
                    "histogram2dcontour": [
                      {
                        "colorbar": {
                          "outlinewidth": 0,
                          "ticks": ""
                        },
                        "colorscale": [
                          [
                            0,
                            "#0d0887"
                          ],
                          [
                            0.1111111111111111,
                            "#46039f"
                          ],
                          [
                            0.2222222222222222,
                            "#7201a8"
                          ],
                          [
                            0.3333333333333333,
                            "#9c179e"
                          ],
                          [
                            0.4444444444444444,
                            "#bd3786"
                          ],
                          [
                            0.5555555555555556,
                            "#d8576b"
                          ],
                          [
                            0.6666666666666666,
                            "#ed7953"
                          ],
                          [
                            0.7777777777777778,
                            "#fb9f3a"
                          ],
                          [
                            0.8888888888888888,
                            "#fdca26"
                          ],
                          [
                            1,
                            "#f0f921"
                          ]
                        ],
                        "type": "histogram2dcontour"
                      }
                    ],
                    "mesh3d": [
                      {
                        "colorbar": {
                          "outlinewidth": 0,
                          "ticks": ""
                        },
                        "type": "mesh3d"
                      }
                    ],
                    "parcoords": [
                      {
                        "line": {
                          "colorbar": {
                            "outlinewidth": 0,
                            "ticks": ""
                          }
                        },
                        "type": "parcoords"
                      }
                    ],
                    "pie": [
                      {
                        "automargin": true,
                        "type": "pie"
                      }
                    ],
                    "scatter": [
                      {
                        "marker": {
                          "colorbar": {
                            "outlinewidth": 0,
                            "ticks": ""
                          }
                        },
                        "type": "scatter"
                      }
                    ],
                    "scatter3d": [
                      {
                        "line": {
                          "colorbar": {
                            "outlinewidth": 0,
                            "ticks": ""
                          }
                        },
                        "marker": {
                          "colorbar": {
                            "outlinewidth": 0,
                            "ticks": ""
                          }
                        },
                        "type": "scatter3d"
                      }
                    ],
                    "scattercarpet": [
                      {
                        "marker": {
                          "colorbar": {
                            "outlinewidth": 0,
                            "ticks": ""
                          }
                        },
                        "type": "scattercarpet"
                      }
                    ],
                    "scattergeo": [
                      {
                        "marker": {
                          "colorbar": {
                            "outlinewidth": 0,
                            "ticks": ""
                          }
                        },
                        "type": "scattergeo"
                      }
                    ],
                    "scattergl": [
                      {
                        "marker": {
                          "colorbar": {
                            "outlinewidth": 0,
                            "ticks": ""
                          }
                        },
                        "type": "scattergl"
                      }
                    ],
                    "scattermapbox": [
                      {
                        "marker": {
                          "colorbar": {
                            "outlinewidth": 0,
                            "ticks": ""
                          }
                        },
                        "type": "scattermapbox"
                      }
                    ],
                    "scatterpolar": [
                      {
                        "marker": {
                          "colorbar": {
                            "outlinewidth": 0,
                            "ticks": ""
                          }
                        },
                        "type": "scatterpolar"
                      }
                    ],
                    "scatterpolargl": [
                      {
                        "marker": {
                          "colorbar": {
                            "outlinewidth": 0,
                            "ticks": ""
                          }
                        },
                        "type": "scatterpolargl"
                      }
                    ],
                    "scatterternary": [
                      {
                        "marker": {
                          "colorbar": {
                            "outlinewidth": 0,
                            "ticks": ""
                          }
                        },
                        "type": "scatterternary"
                      }
                    ],
                    "surface": [
                      {
                        "colorbar": {
                          "outlinewidth": 0,
                          "ticks": ""
                        },
                        "colorscale": [
                          [
                            0,
                            "#0d0887"
                          ],
                          [
                            0.1111111111111111,
                            "#46039f"
                          ],
                          [
                            0.2222222222222222,
                            "#7201a8"
                          ],
                          [
                            0.3333333333333333,
                            "#9c179e"
                          ],
                          [
                            0.4444444444444444,
                            "#bd3786"
                          ],
                          [
                            0.5555555555555556,
                            "#d8576b"
                          ],
                          [
                            0.6666666666666666,
                            "#ed7953"
                          ],
                          [
                            0.7777777777777778,
                            "#fb9f3a"
                          ],
                          [
                            0.8888888888888888,
                            "#fdca26"
                          ],
                          [
                            1,
                            "#f0f921"
                          ]
                        ],
                        "type": "surface"
                      }
                    ],
                    "table": [
                      {
                        "cells": {
                          "fill": {
                            "color": "#EBF0F8"
                          },
                          "line": {
                            "color": "white"
                          }
                        },
                        "header": {
                          "fill": {
                            "color": "#C8D4E3"
                          },
                          "line": {
                            "color": "white"
                          }
                        },
                        "type": "table"
                      }
                    ]
                  },
                  "layout": {
                    "annotationdefaults": {
                      "arrowcolor": "#2a3f5f",
                      "arrowhead": 0,
                      "arrowwidth": 1
                    },
                    "autotypenumbers": "strict",
                    "coloraxis": {
                      "colorbar": {
                        "outlinewidth": 0,
                        "ticks": ""
                      }
                    },
                    "colorscale": {
                      "diverging": [
                        [
                          0,
                          "#8e0152"
                        ],
                        [
                          0.1,
                          "#c51b7d"
                        ],
                        [
                          0.2,
                          "#de77ae"
                        ],
                        [
                          0.3,
                          "#f1b6da"
                        ],
                        [
                          0.4,
                          "#fde0ef"
                        ],
                        [
                          0.5,
                          "#f7f7f7"
                        ],
                        [
                          0.6,
                          "#e6f5d0"
                        ],
                        [
                          0.7,
                          "#b8e186"
                        ],
                        [
                          0.8,
                          "#7fbc41"
                        ],
                        [
                          0.9,
                          "#4d9221"
                        ],
                        [
                          1,
                          "#276419"
                        ]
                      ],
                      "sequential": [
                        [
                          0,
                          "#0d0887"
                        ],
                        [
                          0.1111111111111111,
                          "#46039f"
                        ],
                        [
                          0.2222222222222222,
                          "#7201a8"
                        ],
                        [
                          0.3333333333333333,
                          "#9c179e"
                        ],
                        [
                          0.4444444444444444,
                          "#bd3786"
                        ],
                        [
                          0.5555555555555556,
                          "#d8576b"
                        ],
                        [
                          0.6666666666666666,
                          "#ed7953"
                        ],
                        [
                          0.7777777777777778,
                          "#fb9f3a"
                        ],
                        [
                          0.8888888888888888,
                          "#fdca26"
                        ],
                        [
                          1,
                          "#f0f921"
                        ]
                      ],
                      "sequentialminus": [
                        [
                          0,
                          "#0d0887"
                        ],
                        [
                          0.1111111111111111,
                          "#46039f"
                        ],
                        [
                          0.2222222222222222,
                          "#7201a8"
                        ],
                        [
                          0.3333333333333333,
                          "#9c179e"
                        ],
                        [
                          0.4444444444444444,
                          "#bd3786"
                        ],
                        [
                          0.5555555555555556,
                          "#d8576b"
                        ],
                        [
                          0.6666666666666666,
                          "#ed7953"
                        ],
                        [
                          0.7777777777777778,
                          "#fb9f3a"
                        ],
                        [
                          0.8888888888888888,
                          "#fdca26"
                        ],
                        [
                          1,
                          "#f0f921"
                        ]
                      ]
                    },
                    "colorway": [
                      "#636efa",
                      "#EF553B",
                      "#00cc96",
                      "#ab63fa",
                      "#FFA15A",
                      "#19d3f3",
                      "#FF6692",
                      "#B6E880",
                      "#FF97FF",
                      "#FECB52"
                    ],
                    "font": {
                      "color": "#2a3f5f"
                    },
                    "geo": {
                      "bgcolor": "white",
                      "lakecolor": "white",
                      "landcolor": "#E5ECF6",
                      "showlakes": true,
                      "showland": true,
                      "subunitcolor": "white"
                    },
                    "hoverlabel": {
                      "align": "left"
                    },
                    "hovermode": "closest",
                    "mapbox": {
                      "style": "light"
                    },
                    "paper_bgcolor": "white",
                    "plot_bgcolor": "#E5ECF6",
                    "polar": {
                      "angularaxis": {
                        "gridcolor": "white",
                        "linecolor": "white",
                        "ticks": ""
                      },
                      "bgcolor": "#E5ECF6",
                      "radialaxis": {
                        "gridcolor": "white",
                        "linecolor": "white",
                        "ticks": ""
                      }
                    },
                    "scene": {
                      "xaxis": {
                        "backgroundcolor": "#E5ECF6",
                        "gridcolor": "white",
                        "gridwidth": 2,
                        "linecolor": "white",
                        "showbackground": true,
                        "ticks": "",
                        "zerolinecolor": "white"
                      },
                      "yaxis": {
                        "backgroundcolor": "#E5ECF6",
                        "gridcolor": "white",
                        "gridwidth": 2,
                        "linecolor": "white",
                        "showbackground": true,
                        "ticks": "",
                        "zerolinecolor": "white"
                      },
                      "zaxis": {
                        "backgroundcolor": "#E5ECF6",
                        "gridcolor": "white",
                        "gridwidth": 2,
                        "linecolor": "white",
                        "showbackground": true,
                        "ticks": "",
                        "zerolinecolor": "white"
                      }
                    },
                    "shapedefaults": {
                      "line": {
                        "color": "#2a3f5f"
                      }
                    },
                    "ternary": {
                      "aaxis": {
                        "gridcolor": "white",
                        "linecolor": "white",
                        "ticks": ""
                      },
                      "baxis": {
                        "gridcolor": "white",
                        "linecolor": "white",
                        "ticks": ""
                      },
                      "bgcolor": "#E5ECF6",
                      "caxis": {
                        "gridcolor": "white",
                        "linecolor": "white",
                        "ticks": ""
                      }
                    },
                    "title": {
                      "x": 0.05
                    },
                    "xaxis": {
                      "automargin": true,
                      "gridcolor": "white",
                      "linecolor": "white",
                      "ticks": "",
                      "title": {
                        "standoff": 15
                      },
                      "zerolinecolor": "white",
                      "zerolinewidth": 2
                    },
                    "yaxis": {
                      "automargin": true,
                      "gridcolor": "white",
                      "linecolor": "white",
                      "ticks": "",
                      "title": {
                        "standoff": 15
                      },
                      "zerolinecolor": "white",
                      "zerolinewidth": 2
                    }
                  }
                },
                "title": {
                  "text": "Survival by Gender"
                },
                "width": 1000,
                "xaxis": {
                  "anchor": "y",
                  "domain": [
                    0,
                    1
                  ],
                  "title": {
                    "text": "Survival"
                  },
                  "type": "category"
                },
                "yaxis": {
                  "anchor": "x",
                  "domain": [
                    0,
                    1
                  ],
                  "title": {
                    "text": "Counts"
                  }
                }
              }
            },
            "text/html": "<div>                            <div id=\"1b1c65bc-812f-4f72-93b5-5bd6a6946dc0\" class=\"plotly-graph-div\" style=\"height:1000px; width:1000px;\"></div>            <script type=\"text/javascript\">                require([\"plotly\"], function(Plotly) {                    window.PLOTLYENV=window.PLOTLYENV || {};                                    if (document.getElementById(\"1b1c65bc-812f-4f72-93b5-5bd6a6946dc0\")) {                    Plotly.newPlot(                        \"1b1c65bc-812f-4f72-93b5-5bd6a6946dc0\",                        [{\"alignmentgroup\": \"True\", \"hovertemplate\": \"Sex=female<br>Survived=%{x}<br>Count=%{y}<extra></extra>\", \"legendgroup\": \"female\", \"marker\": {\"color\": \"#636efa\"}, \"name\": \"female\", \"offsetgroup\": \"female\", \"orientation\": \"v\", \"showlegend\": true, \"textposition\": \"auto\", \"type\": \"bar\", \"x\": [0, 1], \"xaxis\": \"x\", \"y\": [81, 233], \"yaxis\": \"y\"}, {\"alignmentgroup\": \"True\", \"hovertemplate\": \"Sex=male<br>Survived=%{x}<br>Count=%{y}<extra></extra>\", \"legendgroup\": \"male\", \"marker\": {\"color\": \"#EF553B\"}, \"name\": \"male\", \"offsetgroup\": \"male\", \"orientation\": \"v\", \"showlegend\": true, \"textposition\": \"auto\", \"type\": \"bar\", \"x\": [0, 1], \"xaxis\": \"x\", \"y\": [468, 109], \"yaxis\": \"y\"}],                        {\"barmode\": \"stack\", \"height\": 1000, \"legend\": {\"title\": {\"text\": \"Sex\"}, \"tracegroupgap\": 0}, \"margin\": {\"t\": 60}, \"template\": {\"data\": {\"bar\": [{\"error_x\": {\"color\": \"#2a3f5f\"}, \"error_y\": {\"color\": \"#2a3f5f\"}, \"marker\": {\"line\": {\"color\": \"#E5ECF6\", \"width\": 0.5}}, \"type\": \"bar\"}], \"barpolar\": [{\"marker\": {\"line\": {\"color\": \"#E5ECF6\", \"width\": 0.5}}, \"type\": \"barpolar\"}], \"carpet\": [{\"aaxis\": {\"endlinecolor\": \"#2a3f5f\", \"gridcolor\": \"white\", \"linecolor\": \"white\", \"minorgridcolor\": \"white\", \"startlinecolor\": \"#2a3f5f\"}, \"baxis\": {\"endlinecolor\": \"#2a3f5f\", \"gridcolor\": \"white\", \"linecolor\": \"white\", \"minorgridcolor\": \"white\", \"startlinecolor\": \"#2a3f5f\"}, \"type\": \"carpet\"}], \"choropleth\": [{\"colorbar\": {\"outlinewidth\": 0, \"ticks\": \"\"}, \"type\": \"choropleth\"}], \"contour\": [{\"colorbar\": {\"outlinewidth\": 0, \"ticks\": \"\"}, \"colorscale\": [[0.0, \"#0d0887\"], [0.1111111111111111, \"#46039f\"], [0.2222222222222222, \"#7201a8\"], [0.3333333333333333, \"#9c179e\"], [0.4444444444444444, \"#bd3786\"], [0.5555555555555556, \"#d8576b\"], [0.6666666666666666, \"#ed7953\"], [0.7777777777777778, \"#fb9f3a\"], [0.8888888888888888, \"#fdca26\"], [1.0, \"#f0f921\"]], \"type\": \"contour\"}], \"contourcarpet\": [{\"colorbar\": {\"outlinewidth\": 0, \"ticks\": \"\"}, \"type\": \"contourcarpet\"}], \"heatmap\": [{\"colorbar\": {\"outlinewidth\": 0, \"ticks\": \"\"}, \"colorscale\": [[0.0, \"#0d0887\"], [0.1111111111111111, \"#46039f\"], [0.2222222222222222, \"#7201a8\"], [0.3333333333333333, \"#9c179e\"], [0.4444444444444444, \"#bd3786\"], [0.5555555555555556, \"#d8576b\"], [0.6666666666666666, \"#ed7953\"], [0.7777777777777778, \"#fb9f3a\"], [0.8888888888888888, \"#fdca26\"], [1.0, \"#f0f921\"]], \"type\": \"heatmap\"}], \"heatmapgl\": [{\"colorbar\": {\"outlinewidth\": 0, \"ticks\": \"\"}, \"colorscale\": [[0.0, \"#0d0887\"], [0.1111111111111111, \"#46039f\"], [0.2222222222222222, \"#7201a8\"], [0.3333333333333333, \"#9c179e\"], [0.4444444444444444, \"#bd3786\"], [0.5555555555555556, \"#d8576b\"], [0.6666666666666666, \"#ed7953\"], [0.7777777777777778, \"#fb9f3a\"], [0.8888888888888888, \"#fdca26\"], [1.0, \"#f0f921\"]], \"type\": \"heatmapgl\"}], \"histogram\": [{\"marker\": {\"colorbar\": {\"outlinewidth\": 0, \"ticks\": \"\"}}, \"type\": \"histogram\"}], \"histogram2d\": [{\"colorbar\": {\"outlinewidth\": 0, \"ticks\": \"\"}, \"colorscale\": [[0.0, \"#0d0887\"], [0.1111111111111111, \"#46039f\"], [0.2222222222222222, \"#7201a8\"], [0.3333333333333333, \"#9c179e\"], [0.4444444444444444, \"#bd3786\"], [0.5555555555555556, \"#d8576b\"], [0.6666666666666666, \"#ed7953\"], [0.7777777777777778, \"#fb9f3a\"], [0.8888888888888888, \"#fdca26\"], [1.0, \"#f0f921\"]], \"type\": \"histogram2d\"}], \"histogram2dcontour\": [{\"colorbar\": {\"outlinewidth\": 0, \"ticks\": \"\"}, \"colorscale\": [[0.0, \"#0d0887\"], [0.1111111111111111, \"#46039f\"], [0.2222222222222222, \"#7201a8\"], [0.3333333333333333, \"#9c179e\"], [0.4444444444444444, \"#bd3786\"], [0.5555555555555556, \"#d8576b\"], [0.6666666666666666, \"#ed7953\"], [0.7777777777777778, \"#fb9f3a\"], [0.8888888888888888, \"#fdca26\"], [1.0, \"#f0f921\"]], \"type\": \"histogram2dcontour\"}], \"mesh3d\": [{\"colorbar\": {\"outlinewidth\": 0, \"ticks\": \"\"}, \"type\": \"mesh3d\"}], \"parcoords\": [{\"line\": {\"colorbar\": {\"outlinewidth\": 0, \"ticks\": \"\"}}, \"type\": \"parcoords\"}], \"pie\": [{\"automargin\": true, \"type\": \"pie\"}], \"scatter\": [{\"marker\": {\"colorbar\": {\"outlinewidth\": 0, \"ticks\": \"\"}}, \"type\": \"scatter\"}], \"scatter3d\": [{\"line\": {\"colorbar\": {\"outlinewidth\": 0, \"ticks\": \"\"}}, \"marker\": {\"colorbar\": {\"outlinewidth\": 0, \"ticks\": \"\"}}, \"type\": \"scatter3d\"}], \"scattercarpet\": [{\"marker\": {\"colorbar\": {\"outlinewidth\": 0, \"ticks\": \"\"}}, \"type\": \"scattercarpet\"}], \"scattergeo\": [{\"marker\": {\"colorbar\": {\"outlinewidth\": 0, \"ticks\": \"\"}}, \"type\": \"scattergeo\"}], \"scattergl\": [{\"marker\": {\"colorbar\": {\"outlinewidth\": 0, \"ticks\": \"\"}}, \"type\": \"scattergl\"}], \"scattermapbox\": [{\"marker\": {\"colorbar\": {\"outlinewidth\": 0, \"ticks\": \"\"}}, \"type\": \"scattermapbox\"}], \"scatterpolar\": [{\"marker\": {\"colorbar\": {\"outlinewidth\": 0, \"ticks\": \"\"}}, \"type\": \"scatterpolar\"}], \"scatterpolargl\": [{\"marker\": {\"colorbar\": {\"outlinewidth\": 0, \"ticks\": \"\"}}, \"type\": \"scatterpolargl\"}], \"scatterternary\": [{\"marker\": {\"colorbar\": {\"outlinewidth\": 0, \"ticks\": \"\"}}, \"type\": \"scatterternary\"}], \"surface\": [{\"colorbar\": {\"outlinewidth\": 0, \"ticks\": \"\"}, \"colorscale\": [[0.0, \"#0d0887\"], [0.1111111111111111, \"#46039f\"], [0.2222222222222222, \"#7201a8\"], [0.3333333333333333, \"#9c179e\"], [0.4444444444444444, \"#bd3786\"], [0.5555555555555556, \"#d8576b\"], [0.6666666666666666, \"#ed7953\"], [0.7777777777777778, \"#fb9f3a\"], [0.8888888888888888, \"#fdca26\"], [1.0, \"#f0f921\"]], \"type\": \"surface\"}], \"table\": [{\"cells\": {\"fill\": {\"color\": \"#EBF0F8\"}, \"line\": {\"color\": \"white\"}}, \"header\": {\"fill\": {\"color\": \"#C8D4E3\"}, \"line\": {\"color\": \"white\"}}, \"type\": \"table\"}]}, \"layout\": {\"annotationdefaults\": {\"arrowcolor\": \"#2a3f5f\", \"arrowhead\": 0, \"arrowwidth\": 1}, \"autotypenumbers\": \"strict\", \"coloraxis\": {\"colorbar\": {\"outlinewidth\": 0, \"ticks\": \"\"}}, \"colorscale\": {\"diverging\": [[0, \"#8e0152\"], [0.1, \"#c51b7d\"], [0.2, \"#de77ae\"], [0.3, \"#f1b6da\"], [0.4, \"#fde0ef\"], [0.5, \"#f7f7f7\"], [0.6, \"#e6f5d0\"], [0.7, \"#b8e186\"], [0.8, \"#7fbc41\"], [0.9, \"#4d9221\"], [1, \"#276419\"]], \"sequential\": [[0.0, \"#0d0887\"], [0.1111111111111111, \"#46039f\"], [0.2222222222222222, \"#7201a8\"], [0.3333333333333333, \"#9c179e\"], [0.4444444444444444, \"#bd3786\"], [0.5555555555555556, \"#d8576b\"], [0.6666666666666666, \"#ed7953\"], [0.7777777777777778, \"#fb9f3a\"], [0.8888888888888888, \"#fdca26\"], [1.0, \"#f0f921\"]], \"sequentialminus\": [[0.0, \"#0d0887\"], [0.1111111111111111, \"#46039f\"], [0.2222222222222222, \"#7201a8\"], [0.3333333333333333, \"#9c179e\"], [0.4444444444444444, \"#bd3786\"], [0.5555555555555556, \"#d8576b\"], [0.6666666666666666, \"#ed7953\"], [0.7777777777777778, \"#fb9f3a\"], [0.8888888888888888, \"#fdca26\"], [1.0, \"#f0f921\"]]}, \"colorway\": [\"#636efa\", \"#EF553B\", \"#00cc96\", \"#ab63fa\", \"#FFA15A\", \"#19d3f3\", \"#FF6692\", \"#B6E880\", \"#FF97FF\", \"#FECB52\"], \"font\": {\"color\": \"#2a3f5f\"}, \"geo\": {\"bgcolor\": \"white\", \"lakecolor\": \"white\", \"landcolor\": \"#E5ECF6\", \"showlakes\": true, \"showland\": true, \"subunitcolor\": \"white\"}, \"hoverlabel\": {\"align\": \"left\"}, \"hovermode\": \"closest\", \"mapbox\": {\"style\": \"light\"}, \"paper_bgcolor\": \"white\", \"plot_bgcolor\": \"#E5ECF6\", \"polar\": {\"angularaxis\": {\"gridcolor\": \"white\", \"linecolor\": \"white\", \"ticks\": \"\"}, \"bgcolor\": \"#E5ECF6\", \"radialaxis\": {\"gridcolor\": \"white\", \"linecolor\": \"white\", \"ticks\": \"\"}}, \"scene\": {\"xaxis\": {\"backgroundcolor\": \"#E5ECF6\", \"gridcolor\": \"white\", \"gridwidth\": 2, \"linecolor\": \"white\", \"showbackground\": true, \"ticks\": \"\", \"zerolinecolor\": \"white\"}, \"yaxis\": {\"backgroundcolor\": \"#E5ECF6\", \"gridcolor\": \"white\", \"gridwidth\": 2, \"linecolor\": \"white\", \"showbackground\": true, \"ticks\": \"\", \"zerolinecolor\": \"white\"}, \"zaxis\": {\"backgroundcolor\": \"#E5ECF6\", \"gridcolor\": \"white\", \"gridwidth\": 2, \"linecolor\": \"white\", \"showbackground\": true, \"ticks\": \"\", \"zerolinecolor\": \"white\"}}, \"shapedefaults\": {\"line\": {\"color\": \"#2a3f5f\"}}, \"ternary\": {\"aaxis\": {\"gridcolor\": \"white\", \"linecolor\": \"white\", \"ticks\": \"\"}, \"baxis\": {\"gridcolor\": \"white\", \"linecolor\": \"white\", \"ticks\": \"\"}, \"bgcolor\": \"#E5ECF6\", \"caxis\": {\"gridcolor\": \"white\", \"linecolor\": \"white\", \"ticks\": \"\"}}, \"title\": {\"x\": 0.05}, \"xaxis\": {\"automargin\": true, \"gridcolor\": \"white\", \"linecolor\": \"white\", \"ticks\": \"\", \"title\": {\"standoff\": 15}, \"zerolinecolor\": \"white\", \"zerolinewidth\": 2}, \"yaxis\": {\"automargin\": true, \"gridcolor\": \"white\", \"linecolor\": \"white\", \"ticks\": \"\", \"title\": {\"standoff\": 15}, \"zerolinecolor\": \"white\", \"zerolinewidth\": 2}}}, \"title\": {\"text\": \"Survival by Gender\"}, \"width\": 1000, \"xaxis\": {\"anchor\": \"y\", \"domain\": [0.0, 1.0], \"title\": {\"text\": \"Survival\"}, \"type\": \"category\"}, \"yaxis\": {\"anchor\": \"x\", \"domain\": [0.0, 1.0], \"title\": {\"text\": \"Counts\"}}},                        {\"responsive\": true}                    ).then(function(){\n                            \nvar gd = document.getElementById('1b1c65bc-812f-4f72-93b5-5bd6a6946dc0');\nvar x = new MutationObserver(function (mutations, observer) {{\n        var display = window.getComputedStyle(gd).display;\n        if (!display || display === 'none') {{\n            console.log([gd, 'removed!']);\n            Plotly.purge(gd);\n            observer.disconnect();\n        }}\n}});\n\n// Listen for the removal of the full notebook cells\nvar notebookContainer = gd.closest('#notebook-container');\nif (notebookContainer) {{\n    x.observe(notebookContainer, {childList: true});\n}}\n\n// Listen for the clearing of the current output cell\nvar outputEl = gd.closest('.output');\nif (outputEl) {{\n    x.observe(outputEl, {childList: true});\n}}\n\n                        })                };                });            </script>        </div>"
          },
          "metadata": {}
        }
      ],
      "execution_count": 63,
      "metadata": {
        "collapsed": true,
        "jupyter": {
          "source_hidden": false,
          "outputs_hidden": false
        },
        "nteract": {
          "transient": {
            "deleting": false
          }
        },
        "gather": {
          "logged": 1618340955420
        }
      }
    },
    {
      "cell_type": "markdown",
      "source": [
        "## 6. Using a scatter plot, plot the ages to the fare paid by the each passenger based on their gender."
      ],
      "metadata": {
        "nteract": {
          "transient": {
            "deleting": false
          }
        }
      }
    },
    {
      "cell_type": "code",
      "source": [
        "fig = px.scatter(passengers, x = 'PassengerId', y = 'Fare', color = \r\n",
        "    'Sex')\r\n",
        "fig.show()\r\n"
      ],
      "outputs": [
        {
          "output_type": "display_data",
          "data": {
            "application/vnd.plotly.v1+json": {
              "config": {
                "plotlyServerURL": "https://plot.ly"
              },
              "data": [
                {
                  "hovertemplate": "Sex=male<br>PassengerId=%{x}<br>Fare=%{y}<extra></extra>",
                  "legendgroup": "male",
                  "marker": {
                    "color": "#636efa",
                    "symbol": "circle"
                  },
                  "mode": "markers",
                  "name": "male",
                  "orientation": "v",
                  "showlegend": true,
                  "type": "scatter",
                  "x": [
                    1,
                    5,
                    6,
                    7,
                    8,
                    13,
                    14,
                    17,
                    18,
                    21,
                    22,
                    24,
                    27,
                    28,
                    30,
                    31,
                    34,
                    35,
                    36,
                    37,
                    38,
                    43,
                    46,
                    47,
                    49,
                    51,
                    52,
                    55,
                    56,
                    58,
                    60,
                    61,
                    63,
                    64,
                    65,
                    66,
                    68,
                    70,
                    71,
                    73,
                    74,
                    75,
                    76,
                    77,
                    78,
                    79,
                    81,
                    82,
                    84,
                    87,
                    88,
                    90,
                    91,
                    92,
                    93,
                    94,
                    95,
                    96,
                    97,
                    98,
                    100,
                    102,
                    103,
                    104,
                    105,
                    106,
                    108,
                    109,
                    111,
                    113,
                    116,
                    117,
                    118,
                    119,
                    121,
                    122,
                    123,
                    125,
                    126,
                    127,
                    128,
                    130,
                    131,
                    132,
                    135,
                    136,
                    138,
                    139,
                    140,
                    144,
                    145,
                    146,
                    147,
                    149,
                    150,
                    151,
                    153,
                    154,
                    155,
                    156,
                    158,
                    159,
                    160,
                    161,
                    163,
                    164,
                    165,
                    166,
                    169,
                    170,
                    171,
                    172,
                    174,
                    175,
                    176,
                    177,
                    179,
                    180,
                    182,
                    183,
                    184,
                    186,
                    188,
                    189,
                    190,
                    192,
                    194,
                    197,
                    198,
                    201,
                    202,
                    203,
                    204,
                    205,
                    207,
                    208,
                    210,
                    211,
                    213,
                    214,
                    215,
                    218,
                    220,
                    221,
                    222,
                    223,
                    224,
                    225,
                    226,
                    227,
                    228,
                    229,
                    232,
                    233,
                    235,
                    237,
                    239,
                    240,
                    243,
                    244,
                    245,
                    246,
                    249,
                    250,
                    251,
                    253,
                    254,
                    261,
                    262,
                    263,
                    264,
                    266,
                    267,
                    268,
                    271,
                    272,
                    274,
                    278,
                    279,
                    281,
                    282,
                    283,
                    284,
                    285,
                    286,
                    287,
                    288,
                    289,
                    293,
                    295,
                    296,
                    297,
                    299,
                    302,
                    303,
                    305,
                    306,
                    309,
                    314,
                    315,
                    318,
                    321,
                    322,
                    325,
                    327,
                    332,
                    333,
                    334,
                    336,
                    337,
                    339,
                    340,
                    341,
                    343,
                    344,
                    345,
                    349,
                    350,
                    351,
                    352,
                    353,
                    354,
                    355,
                    356,
                    361,
                    362,
                    364,
                    365,
                    366,
                    371,
                    372,
                    373,
                    374,
                    378,
                    379,
                    380,
                    383,
                    385,
                    386,
                    387,
                    389,
                    391,
                    392,
                    393,
                    396,
                    398,
                    399,
                    401,
                    402,
                    404,
                    406,
                    407,
                    408,
                    409,
                    411,
                    412,
                    414,
                    415,
                    419,
                    421,
                    422,
                    423,
                    425,
                    426,
                    429,
                    430,
                    431,
                    434,
                    435,
                    439,
                    440,
                    442,
                    443,
                    445,
                    446,
                    448,
                    450,
                    451,
                    452,
                    453,
                    454,
                    455,
                    456,
                    457,
                    460,
                    461,
                    462,
                    463,
                    464,
                    465,
                    466,
                    467,
                    468,
                    469,
                    471,
                    472,
                    476,
                    477,
                    478,
                    479,
                    481,
                    482,
                    483,
                    485,
                    488,
                    489,
                    490,
                    491,
                    492,
                    493,
                    494,
                    495,
                    496,
                    498,
                    500,
                    501,
                    506,
                    508,
                    509,
                    510,
                    511,
                    512,
                    513,
                    515,
                    516,
                    518,
                    520,
                    522,
                    523,
                    525,
                    526,
                    528,
                    529,
                    530,
                    532,
                    533,
                    537,
                    539,
                    544,
                    545,
                    546,
                    548,
                    549,
                    550,
                    551,
                    552,
                    553,
                    554,
                    556,
                    558,
                    561,
                    562,
                    563,
                    564,
                    566,
                    567,
                    569,
                    570,
                    571,
                    573,
                    575,
                    576,
                    580,
                    583,
                    584,
                    585,
                    587,
                    588,
                    589,
                    590,
                    591,
                    593,
                    595,
                    596,
                    598,
                    599,
                    600,
                    602,
                    603,
                    604,
                    605,
                    606,
                    607,
                    608,
                    612,
                    614,
                    615,
                    617,
                    620,
                    621,
                    622,
                    623,
                    624,
                    625,
                    626,
                    627,
                    629,
                    630,
                    631,
                    632,
                    633,
                    634,
                    637,
                    638,
                    640,
                    641,
                    644,
                    646,
                    647,
                    648,
                    649,
                    651,
                    653,
                    656,
                    657,
                    659,
                    660,
                    661,
                    662,
                    663,
                    664,
                    665,
                    666,
                    667,
                    668,
                    669,
                    672,
                    673,
                    674,
                    675,
                    676,
                    677,
                    680,
                    682,
                    683,
                    684,
                    685,
                    686,
                    687,
                    688,
                    689,
                    691,
                    693,
                    694,
                    695,
                    696,
                    697,
                    699,
                    700,
                    702,
                    704,
                    705,
                    706,
                    708,
                    710,
                    712,
                    713,
                    714,
                    715,
                    716,
                    719,
                    720,
                    722,
                    723,
                    724,
                    725,
                    726,
                    729,
                    732,
                    733,
                    734,
                    735,
                    736,
                    738,
                    739,
                    740,
                    741,
                    742,
                    744,
                    745,
                    746,
                    747,
                    749,
                    750,
                    752,
                    753,
                    754,
                    756,
                    757,
                    758,
                    759,
                    761,
                    762,
                    763,
                    765,
                    767,
                    769,
                    770,
                    771,
                    772,
                    774,
                    776,
                    777,
                    779,
                    783,
                    784,
                    785,
                    786,
                    788,
                    789,
                    790,
                    791,
                    792,
                    794,
                    795,
                    796,
                    799,
                    801,
                    803,
                    804,
                    805,
                    806,
                    807,
                    809,
                    811,
                    812,
                    813,
                    815,
                    816,
                    818,
                    819,
                    820,
                    822,
                    823,
                    825,
                    826,
                    827,
                    828,
                    829,
                    832,
                    833,
                    834,
                    835,
                    837,
                    838,
                    839,
                    840,
                    841,
                    842,
                    844,
                    845,
                    846,
                    847,
                    848,
                    849,
                    851,
                    852,
                    858,
                    860,
                    861,
                    862,
                    865,
                    868,
                    869,
                    870,
                    871,
                    873,
                    874,
                    877,
                    878,
                    879,
                    882,
                    884,
                    885,
                    887,
                    890,
                    891
                  ],
                  "xaxis": "x",
                  "y": [
                    7.25,
                    8.05,
                    8.4583,
                    51.8625,
                    21.075,
                    8.05,
                    31.275,
                    29.125,
                    13,
                    26,
                    13,
                    35.5,
                    7.225,
                    263,
                    7.8958,
                    27.7208,
                    10.5,
                    82.1708,
                    52,
                    7.2292,
                    8.05,
                    7.8958,
                    8.05,
                    15.5,
                    21.6792,
                    39.6875,
                    7.8,
                    61.9792,
                    35.5,
                    7.2292,
                    46.9,
                    7.2292,
                    83.475,
                    27.9,
                    27.7208,
                    15.2458,
                    8.1583,
                    8.6625,
                    10.5,
                    73.5,
                    14.4542,
                    56.4958,
                    7.65,
                    7.8958,
                    8.05,
                    29,
                    9,
                    9.5,
                    47.1,
                    34.375,
                    8.05,
                    8.05,
                    8.05,
                    7.8542,
                    61.175,
                    20.575,
                    7.25,
                    8.05,
                    34.6542,
                    63.3583,
                    26,
                    7.8958,
                    77.2875,
                    8.6542,
                    7.925,
                    7.8958,
                    7.775,
                    7.8958,
                    52,
                    8.05,
                    7.925,
                    7.75,
                    21,
                    247.5208,
                    73.5,
                    8.05,
                    30.0708,
                    77.2875,
                    11.2417,
                    7.75,
                    7.1417,
                    6.975,
                    7.8958,
                    7.05,
                    13,
                    15.0458,
                    53.1,
                    9.2167,
                    79.2,
                    6.75,
                    11.5,
                    36.75,
                    7.7958,
                    26,
                    13,
                    12.525,
                    8.05,
                    14.5,
                    7.3125,
                    61.3792,
                    8.05,
                    8.6625,
                    69.55,
                    16.1,
                    7.775,
                    8.6625,
                    39.6875,
                    20.525,
                    25.925,
                    56.4958,
                    33.5,
                    29.125,
                    7.925,
                    30.6958,
                    7.8542,
                    25.4667,
                    13,
                    0,
                    15.05,
                    31.3875,
                    39,
                    50,
                    26.55,
                    15.5,
                    7.8958,
                    13,
                    26,
                    7.75,
                    8.4042,
                    9.5,
                    69.55,
                    6.4958,
                    7.225,
                    8.05,
                    15.85,
                    18.7875,
                    31,
                    7.05,
                    7.25,
                    13,
                    7.75,
                    27,
                    10.5,
                    8.05,
                    13,
                    8.05,
                    7.8958,
                    90,
                    9.35,
                    10.5,
                    7.25,
                    13,
                    7.775,
                    13.5,
                    10.5,
                    26,
                    10.5,
                    12.275,
                    10.5,
                    7.125,
                    7.225,
                    90,
                    52.5542,
                    26,
                    7.25,
                    26.55,
                    16.1,
                    7.75,
                    31.3875,
                    79.65,
                    0,
                    10.5,
                    39.6875,
                    7.775,
                    31,
                    0,
                    29.7,
                    0,
                    29.125,
                    7.75,
                    7.8542,
                    9.5,
                    8.05,
                    26,
                    8.6625,
                    9.5,
                    7.8958,
                    13,
                    12.875,
                    7.8958,
                    27.7208,
                    7.2292,
                    30.5,
                    23.25,
                    0,
                    8.05,
                    151.55,
                    24,
                    7.8958,
                    26.25,
                    14,
                    7.25,
                    7.8958,
                    69.55,
                    6.2375,
                    28.5,
                    153.4625,
                    18,
                    7.8958,
                    66.6,
                    8.05,
                    35.5,
                    26,
                    13,
                    13,
                    13,
                    15.9,
                    8.6625,
                    9.225,
                    35,
                    7.2292,
                    17.8,
                    7.225,
                    9.5,
                    27.9,
                    27.7208,
                    7.05,
                    15.5,
                    7.25,
                    55.4417,
                    6.4958,
                    8.05,
                    135.6333,
                    211.5,
                    4.0125,
                    7.775,
                    7.925,
                    7.8958,
                    73.5,
                    46.9,
                    7.7292,
                    120,
                    7.7958,
                    7.925,
                    7.7958,
                    26,
                    10.5,
                    7.925,
                    8.05,
                    15.85,
                    21,
                    7.75,
                    18.75,
                    7.775,
                    7.8958,
                    6.8583,
                    0,
                    7.925,
                    13,
                    7.8958,
                    7.7333,
                    7.875,
                    20.2125,
                    7.25,
                    7.75,
                    8.05,
                    26.55,
                    7.125,
                    55.9,
                    263,
                    10.5,
                    9.5,
                    7.775,
                    8.1125,
                    81.8583,
                    26.55,
                    30.5,
                    27.75,
                    19.9667,
                    27.75,
                    89.1042,
                    8.05,
                    7.8958,
                    26.55,
                    7.75,
                    26.55,
                    8.05,
                    38.5,
                    13,
                    8.05,
                    7.05,
                    0,
                    26.55,
                    7.725,
                    7.25,
                    8.6625,
                    52,
                    21,
                    7.0458,
                    7.5208,
                    46.9,
                    0,
                    8.05,
                    91.0792,
                    29.7,
                    8.05,
                    15.9,
                    19.9667,
                    7.25,
                    30.5,
                    49.5042,
                    8.05,
                    14.4583,
                    15.1,
                    7.7958,
                    8.6625,
                    108.9,
                    26.55,
                    22.525,
                    56.4958,
                    7.75,
                    8.05,
                    26.2875,
                    7.4958,
                    34.0208,
                    24.15,
                    7.8958,
                    7.8958,
                    7.225,
                    7.2292,
                    7.75,
                    221.7792,
                    7.925,
                    11.5,
                    7.2292,
                    7.2292,
                    26.55,
                    14.5,
                    26,
                    106.425,
                    26,
                    13.8625,
                    20.525,
                    36.75,
                    110.8833,
                    26,
                    7.8292,
                    7.225,
                    26.55,
                    227.525,
                    7.75,
                    7.8958,
                    13.5,
                    8.05,
                    24.15,
                    7.8958,
                    7.2292,
                    7.8542,
                    10.5,
                    26.3875,
                    8.05,
                    14.5,
                    7.925,
                    26,
                    40.125,
                    8.7125,
                    15,
                    79.2,
                    8.05,
                    8.05,
                    7.125,
                    7.25,
                    26,
                    24.15,
                    0,
                    7.225,
                    56.9292,
                    7.8958,
                    42.4,
                    8.05,
                    26.55,
                    15.55,
                    7.8958,
                    30.5,
                    7.05,
                    7.75,
                    8.05,
                    14.4,
                    10.5,
                    14.4542,
                    52.5542,
                    15.7417,
                    7.8542,
                    16.1,
                    32.3208,
                    12.35,
                    7.8958,
                    7.7333,
                    30,
                    7.0542,
                    30.5,
                    0,
                    7.925,
                    26.25,
                    16.1,
                    7.8542,
                    56.4958,
                    76.7292,
                    7.8958,
                    35.5,
                    7.55,
                    7.8958,
                    8.4333,
                    73.5,
                    7.8958,
                    13,
                    113.275,
                    133.65,
                    7.225,
                    25.5875,
                    7.4958,
                    7.925,
                    73.5,
                    13,
                    7.775,
                    8.05,
                    52,
                    10.5,
                    13,
                    0,
                    7.775,
                    8.05,
                    512.3292,
                    76.7292,
                    9.225,
                    46.9,
                    39,
                    41.5792,
                    39.6875,
                    10.1708,
                    7.7958,
                    57,
                    56.4958,
                    7.225,
                    26.55,
                    13.5,
                    8.05,
                    110.8833,
                    7.65,
                    26.2875,
                    7.7417,
                    7.8542,
                    26,
                    26.2875,
                    15.2458,
                    26.55,
                    52,
                    9.4833,
                    13,
                    7.65,
                    15.5,
                    7.775,
                    7.0542,
                    13,
                    13,
                    53.1,
                    8.6625,
                    26,
                    18.7875,
                    0,
                    13,
                    13,
                    16.1,
                    512.3292,
                    7.8958,
                    7.8958,
                    30,
                    78.85,
                    16.1,
                    7.925,
                    71,
                    20.25,
                    53.1,
                    7.75,
                    12.475,
                    9.5,
                    7.8958,
                    14.5,
                    7.7958,
                    11.5,
                    8.05,
                    14.5,
                    7.125,
                    7.2292,
                    7.775,
                    39.6,
                    24.15,
                    8.3625,
                    9.5,
                    7.8542,
                    7.225,
                    7.75,
                    7.75,
                    7.7375,
                    30,
                    23.45,
                    7.05,
                    7.25,
                    29.125,
                    20.575,
                    79.2,
                    7.75,
                    26,
                    30.6958,
                    7.8958,
                    13,
                    7.2292,
                    13,
                    120,
                    8.5167,
                    6.975,
                    7.775,
                    0,
                    13,
                    7.8875,
                    24.15,
                    10.5,
                    8.05,
                    0,
                    37.0042,
                    6.45,
                    27.9,
                    8.6625,
                    0,
                    39.6875,
                    6.95,
                    56.4958,
                    37.0042,
                    7.75,
                    18.75,
                    7.2292,
                    7.8542,
                    8.3,
                    8.6625,
                    8.05,
                    56.4958,
                    29.7,
                    7.925,
                    10.5,
                    6.4375,
                    8.6625,
                    7.55,
                    69.55,
                    7.8958,
                    33,
                    31.275,
                    7.775,
                    26.55,
                    7.2292,
                    14.1083,
                    11.5,
                    13,
                    50.4958,
                    9.5,
                    11.1333,
                    7.8958,
                    5,
                    9,
                    9.8458,
                    7.8958,
                    7.8958,
                    7.8958,
                    10.5,
                    7.05,
                    13,
                    30,
                    7.75
                  ],
                  "yaxis": "y"
                },
                {
                  "hovertemplate": "Sex=female<br>PassengerId=%{x}<br>Fare=%{y}<extra></extra>",
                  "legendgroup": "female",
                  "marker": {
                    "color": "#EF553B",
                    "symbol": "circle"
                  },
                  "mode": "markers",
                  "name": "female",
                  "orientation": "v",
                  "showlegend": true,
                  "type": "scatter",
                  "x": [
                    2,
                    3,
                    4,
                    9,
                    10,
                    11,
                    12,
                    15,
                    16,
                    19,
                    20,
                    23,
                    25,
                    26,
                    29,
                    32,
                    33,
                    39,
                    40,
                    41,
                    42,
                    44,
                    45,
                    48,
                    50,
                    53,
                    54,
                    57,
                    59,
                    62,
                    67,
                    69,
                    72,
                    80,
                    83,
                    85,
                    86,
                    89,
                    99,
                    101,
                    107,
                    110,
                    112,
                    114,
                    115,
                    120,
                    124,
                    129,
                    133,
                    134,
                    137,
                    141,
                    142,
                    143,
                    148,
                    152,
                    157,
                    162,
                    167,
                    168,
                    173,
                    178,
                    181,
                    185,
                    187,
                    191,
                    193,
                    195,
                    196,
                    199,
                    200,
                    206,
                    209,
                    212,
                    216,
                    217,
                    219,
                    230,
                    231,
                    234,
                    236,
                    238,
                    241,
                    242,
                    247,
                    248,
                    252,
                    255,
                    256,
                    257,
                    258,
                    259,
                    260,
                    265,
                    269,
                    270,
                    273,
                    275,
                    276,
                    277,
                    280,
                    290,
                    291,
                    292,
                    294,
                    298,
                    300,
                    301,
                    304,
                    307,
                    308,
                    310,
                    311,
                    312,
                    313,
                    316,
                    317,
                    319,
                    320,
                    323,
                    324,
                    326,
                    328,
                    329,
                    330,
                    331,
                    335,
                    338,
                    342,
                    346,
                    347,
                    348,
                    357,
                    358,
                    359,
                    360,
                    363,
                    367,
                    368,
                    369,
                    370,
                    375,
                    376,
                    377,
                    381,
                    382,
                    384,
                    388,
                    390,
                    394,
                    395,
                    397,
                    400,
                    403,
                    405,
                    410,
                    413,
                    416,
                    417,
                    418,
                    420,
                    424,
                    427,
                    428,
                    432,
                    433,
                    436,
                    437,
                    438,
                    441,
                    444,
                    447,
                    449,
                    458,
                    459,
                    470,
                    473,
                    474,
                    475,
                    480,
                    484,
                    486,
                    487,
                    497,
                    499,
                    502,
                    503,
                    504,
                    505,
                    507,
                    514,
                    517,
                    519,
                    521,
                    524,
                    527,
                    531,
                    534,
                    535,
                    536,
                    538,
                    540,
                    541,
                    542,
                    543,
                    547,
                    555,
                    557,
                    559,
                    560,
                    565,
                    568,
                    572,
                    574,
                    577,
                    578,
                    579,
                    581,
                    582,
                    586,
                    592,
                    594,
                    597,
                    601,
                    609,
                    610,
                    611,
                    613,
                    616,
                    618,
                    619,
                    628,
                    635,
                    636,
                    639,
                    642,
                    643,
                    645,
                    650,
                    652,
                    654,
                    655,
                    658,
                    670,
                    671,
                    678,
                    679,
                    681,
                    690,
                    692,
                    698,
                    701,
                    703,
                    707,
                    709,
                    711,
                    717,
                    718,
                    721,
                    727,
                    728,
                    730,
                    731,
                    737,
                    743,
                    748,
                    751,
                    755,
                    760,
                    764,
                    766,
                    768,
                    773,
                    775,
                    778,
                    780,
                    781,
                    782,
                    787,
                    793,
                    797,
                    798,
                    800,
                    802,
                    808,
                    810,
                    814,
                    817,
                    821,
                    824,
                    830,
                    831,
                    836,
                    843,
                    850,
                    853,
                    854,
                    855,
                    856,
                    857,
                    859,
                    863,
                    864,
                    866,
                    867,
                    872,
                    875,
                    876,
                    880,
                    881,
                    883,
                    886,
                    888,
                    889
                  ],
                  "xaxis": "x",
                  "y": [
                    71.2833,
                    7.925,
                    53.1,
                    11.1333,
                    30.0708,
                    16.7,
                    26.55,
                    7.8542,
                    16,
                    18,
                    7.225,
                    8.0292,
                    21.075,
                    31.3875,
                    7.8792,
                    146.5208,
                    7.75,
                    18,
                    11.2417,
                    9.475,
                    21,
                    41.5792,
                    7.8792,
                    7.75,
                    17.8,
                    76.7292,
                    26,
                    10.5,
                    27.75,
                    80,
                    10.5,
                    7.925,
                    46.9,
                    12.475,
                    7.7875,
                    10.5,
                    15.85,
                    263,
                    23,
                    7.8958,
                    7.65,
                    24.15,
                    14.4542,
                    9.825,
                    14.4583,
                    31.275,
                    13,
                    22.3583,
                    14.5,
                    26,
                    26.2833,
                    15.2458,
                    7.75,
                    15.85,
                    34.375,
                    66.6,
                    7.7333,
                    15.75,
                    55,
                    27.9,
                    11.1333,
                    28.7125,
                    69.55,
                    22.025,
                    15.5,
                    13,
                    7.8542,
                    27.7208,
                    146.5208,
                    7.75,
                    13,
                    10.4625,
                    7.75,
                    21,
                    113.275,
                    7.925,
                    76.2917,
                    25.4667,
                    83.475,
                    31.3875,
                    7.55,
                    26.25,
                    14.4542,
                    15.5,
                    7.775,
                    14.5,
                    10.4625,
                    20.2125,
                    15.2458,
                    79.2,
                    86.5,
                    512.3292,
                    26,
                    7.75,
                    153.4625,
                    135.6333,
                    19.5,
                    7.75,
                    77.9583,
                    7.75,
                    20.25,
                    7.75,
                    78.85,
                    91.0792,
                    8.85,
                    151.55,
                    247.5208,
                    7.75,
                    12.35,
                    110.8833,
                    108.9,
                    56.9292,
                    83.1583,
                    262.375,
                    26,
                    7.8542,
                    26,
                    164.8667,
                    134.5,
                    12.35,
                    29,
                    135.6333,
                    13,
                    20.525,
                    57.9792,
                    23.25,
                    133.65,
                    134.5,
                    263,
                    13,
                    13,
                    16.1,
                    55,
                    13,
                    7.8792,
                    7.8792,
                    14.4542,
                    75.25,
                    7.2292,
                    7.75,
                    69.3,
                    21.075,
                    82.1708,
                    7.25,
                    227.525,
                    15.7417,
                    52,
                    13,
                    12,
                    113.275,
                    16.7,
                    7.8542,
                    12.65,
                    9.825,
                    8.6625,
                    25.4667,
                    90,
                    8.05,
                    32.5,
                    13,
                    24.15,
                    14.4,
                    26,
                    26,
                    16.1,
                    26,
                    120,
                    34.375,
                    18.75,
                    26.25,
                    13,
                    19.5,
                    19.2583,
                    51.8625,
                    10.5,
                    19.2583,
                    27.75,
                    13.7917,
                    9.8375,
                    12.2875,
                    9.5875,
                    25.4667,
                    90,
                    78.2667,
                    151.55,
                    7.75,
                    7.6292,
                    9.5875,
                    86.5,
                    26,
                    59.4,
                    10.5,
                    26,
                    93.5,
                    57.9792,
                    10.5,
                    26,
                    22.3583,
                    8.6625,
                    26.25,
                    106.425,
                    49.5,
                    71,
                    31.275,
                    31.275,
                    26,
                    7.775,
                    39.6,
                    79.65,
                    17.4,
                    8.05,
                    21.075,
                    51.4792,
                    7.75,
                    13,
                    55.9,
                    14.4583,
                    30,
                    110.8833,
                    79.65,
                    78.2667,
                    7.75,
                    33,
                    27,
                    41.5792,
                    153.4625,
                    31.275,
                    15.5,
                    65,
                    16.1,
                    39,
                    77.9583,
                    27.9,
                    13,
                    39.6875,
                    69.3,
                    27.9,
                    19.2583,
                    7.55,
                    23,
                    7.8292,
                    6.75,
                    15.5,
                    52,
                    39,
                    9.8417,
                    46.9,
                    8.1375,
                    211.3375,
                    13.4167,
                    7.7333,
                    227.525,
                    14.4542,
                    13.5,
                    151.55,
                    49.5042,
                    227.525,
                    10.5,
                    33,
                    21,
                    7.7375,
                    7.925,
                    211.3375,
                    34.375,
                    262.375,
                    13,
                    23,
                    65,
                    86.5,
                    120,
                    77.9583,
                    7.75,
                    10.5,
                    23,
                    12.475,
                    211.3375,
                    7.2292,
                    57,
                    7.4958,
                    69.55,
                    25.9292,
                    8.6833,
                    24.15,
                    26.25,
                    7.775,
                    53.1,
                    31.275,
                    7.925,
                    93.5,
                    12.475,
                    80,
                    14.4542,
                    83.1583,
                    31,
                    89.1042,
                    15.2458,
                    39.4,
                    26,
                    9.35,
                    164.8667,
                    19.2583,
                    25.9292,
                    69.55,
                    13,
                    13.8583,
                    52.5542,
                    24,
                    7.225,
                    83.1583,
                    26,
                    10.5167,
                    29.125,
                    30,
                    23.45
                  ],
                  "yaxis": "y"
                }
              ],
              "layout": {
                "legend": {
                  "title": {
                    "text": "Sex"
                  },
                  "tracegroupgap": 0
                },
                "margin": {
                  "t": 60
                },
                "template": {
                  "data": {
                    "bar": [
                      {
                        "error_x": {
                          "color": "#2a3f5f"
                        },
                        "error_y": {
                          "color": "#2a3f5f"
                        },
                        "marker": {
                          "line": {
                            "color": "#E5ECF6",
                            "width": 0.5
                          }
                        },
                        "type": "bar"
                      }
                    ],
                    "barpolar": [
                      {
                        "marker": {
                          "line": {
                            "color": "#E5ECF6",
                            "width": 0.5
                          }
                        },
                        "type": "barpolar"
                      }
                    ],
                    "carpet": [
                      {
                        "aaxis": {
                          "endlinecolor": "#2a3f5f",
                          "gridcolor": "white",
                          "linecolor": "white",
                          "minorgridcolor": "white",
                          "startlinecolor": "#2a3f5f"
                        },
                        "baxis": {
                          "endlinecolor": "#2a3f5f",
                          "gridcolor": "white",
                          "linecolor": "white",
                          "minorgridcolor": "white",
                          "startlinecolor": "#2a3f5f"
                        },
                        "type": "carpet"
                      }
                    ],
                    "choropleth": [
                      {
                        "colorbar": {
                          "outlinewidth": 0,
                          "ticks": ""
                        },
                        "type": "choropleth"
                      }
                    ],
                    "contour": [
                      {
                        "colorbar": {
                          "outlinewidth": 0,
                          "ticks": ""
                        },
                        "colorscale": [
                          [
                            0,
                            "#0d0887"
                          ],
                          [
                            0.1111111111111111,
                            "#46039f"
                          ],
                          [
                            0.2222222222222222,
                            "#7201a8"
                          ],
                          [
                            0.3333333333333333,
                            "#9c179e"
                          ],
                          [
                            0.4444444444444444,
                            "#bd3786"
                          ],
                          [
                            0.5555555555555556,
                            "#d8576b"
                          ],
                          [
                            0.6666666666666666,
                            "#ed7953"
                          ],
                          [
                            0.7777777777777778,
                            "#fb9f3a"
                          ],
                          [
                            0.8888888888888888,
                            "#fdca26"
                          ],
                          [
                            1,
                            "#f0f921"
                          ]
                        ],
                        "type": "contour"
                      }
                    ],
                    "contourcarpet": [
                      {
                        "colorbar": {
                          "outlinewidth": 0,
                          "ticks": ""
                        },
                        "type": "contourcarpet"
                      }
                    ],
                    "heatmap": [
                      {
                        "colorbar": {
                          "outlinewidth": 0,
                          "ticks": ""
                        },
                        "colorscale": [
                          [
                            0,
                            "#0d0887"
                          ],
                          [
                            0.1111111111111111,
                            "#46039f"
                          ],
                          [
                            0.2222222222222222,
                            "#7201a8"
                          ],
                          [
                            0.3333333333333333,
                            "#9c179e"
                          ],
                          [
                            0.4444444444444444,
                            "#bd3786"
                          ],
                          [
                            0.5555555555555556,
                            "#d8576b"
                          ],
                          [
                            0.6666666666666666,
                            "#ed7953"
                          ],
                          [
                            0.7777777777777778,
                            "#fb9f3a"
                          ],
                          [
                            0.8888888888888888,
                            "#fdca26"
                          ],
                          [
                            1,
                            "#f0f921"
                          ]
                        ],
                        "type": "heatmap"
                      }
                    ],
                    "heatmapgl": [
                      {
                        "colorbar": {
                          "outlinewidth": 0,
                          "ticks": ""
                        },
                        "colorscale": [
                          [
                            0,
                            "#0d0887"
                          ],
                          [
                            0.1111111111111111,
                            "#46039f"
                          ],
                          [
                            0.2222222222222222,
                            "#7201a8"
                          ],
                          [
                            0.3333333333333333,
                            "#9c179e"
                          ],
                          [
                            0.4444444444444444,
                            "#bd3786"
                          ],
                          [
                            0.5555555555555556,
                            "#d8576b"
                          ],
                          [
                            0.6666666666666666,
                            "#ed7953"
                          ],
                          [
                            0.7777777777777778,
                            "#fb9f3a"
                          ],
                          [
                            0.8888888888888888,
                            "#fdca26"
                          ],
                          [
                            1,
                            "#f0f921"
                          ]
                        ],
                        "type": "heatmapgl"
                      }
                    ],
                    "histogram": [
                      {
                        "marker": {
                          "colorbar": {
                            "outlinewidth": 0,
                            "ticks": ""
                          }
                        },
                        "type": "histogram"
                      }
                    ],
                    "histogram2d": [
                      {
                        "colorbar": {
                          "outlinewidth": 0,
                          "ticks": ""
                        },
                        "colorscale": [
                          [
                            0,
                            "#0d0887"
                          ],
                          [
                            0.1111111111111111,
                            "#46039f"
                          ],
                          [
                            0.2222222222222222,
                            "#7201a8"
                          ],
                          [
                            0.3333333333333333,
                            "#9c179e"
                          ],
                          [
                            0.4444444444444444,
                            "#bd3786"
                          ],
                          [
                            0.5555555555555556,
                            "#d8576b"
                          ],
                          [
                            0.6666666666666666,
                            "#ed7953"
                          ],
                          [
                            0.7777777777777778,
                            "#fb9f3a"
                          ],
                          [
                            0.8888888888888888,
                            "#fdca26"
                          ],
                          [
                            1,
                            "#f0f921"
                          ]
                        ],
                        "type": "histogram2d"
                      }
                    ],
                    "histogram2dcontour": [
                      {
                        "colorbar": {
                          "outlinewidth": 0,
                          "ticks": ""
                        },
                        "colorscale": [
                          [
                            0,
                            "#0d0887"
                          ],
                          [
                            0.1111111111111111,
                            "#46039f"
                          ],
                          [
                            0.2222222222222222,
                            "#7201a8"
                          ],
                          [
                            0.3333333333333333,
                            "#9c179e"
                          ],
                          [
                            0.4444444444444444,
                            "#bd3786"
                          ],
                          [
                            0.5555555555555556,
                            "#d8576b"
                          ],
                          [
                            0.6666666666666666,
                            "#ed7953"
                          ],
                          [
                            0.7777777777777778,
                            "#fb9f3a"
                          ],
                          [
                            0.8888888888888888,
                            "#fdca26"
                          ],
                          [
                            1,
                            "#f0f921"
                          ]
                        ],
                        "type": "histogram2dcontour"
                      }
                    ],
                    "mesh3d": [
                      {
                        "colorbar": {
                          "outlinewidth": 0,
                          "ticks": ""
                        },
                        "type": "mesh3d"
                      }
                    ],
                    "parcoords": [
                      {
                        "line": {
                          "colorbar": {
                            "outlinewidth": 0,
                            "ticks": ""
                          }
                        },
                        "type": "parcoords"
                      }
                    ],
                    "pie": [
                      {
                        "automargin": true,
                        "type": "pie"
                      }
                    ],
                    "scatter": [
                      {
                        "marker": {
                          "colorbar": {
                            "outlinewidth": 0,
                            "ticks": ""
                          }
                        },
                        "type": "scatter"
                      }
                    ],
                    "scatter3d": [
                      {
                        "line": {
                          "colorbar": {
                            "outlinewidth": 0,
                            "ticks": ""
                          }
                        },
                        "marker": {
                          "colorbar": {
                            "outlinewidth": 0,
                            "ticks": ""
                          }
                        },
                        "type": "scatter3d"
                      }
                    ],
                    "scattercarpet": [
                      {
                        "marker": {
                          "colorbar": {
                            "outlinewidth": 0,
                            "ticks": ""
                          }
                        },
                        "type": "scattercarpet"
                      }
                    ],
                    "scattergeo": [
                      {
                        "marker": {
                          "colorbar": {
                            "outlinewidth": 0,
                            "ticks": ""
                          }
                        },
                        "type": "scattergeo"
                      }
                    ],
                    "scattergl": [
                      {
                        "marker": {
                          "colorbar": {
                            "outlinewidth": 0,
                            "ticks": ""
                          }
                        },
                        "type": "scattergl"
                      }
                    ],
                    "scattermapbox": [
                      {
                        "marker": {
                          "colorbar": {
                            "outlinewidth": 0,
                            "ticks": ""
                          }
                        },
                        "type": "scattermapbox"
                      }
                    ],
                    "scatterpolar": [
                      {
                        "marker": {
                          "colorbar": {
                            "outlinewidth": 0,
                            "ticks": ""
                          }
                        },
                        "type": "scatterpolar"
                      }
                    ],
                    "scatterpolargl": [
                      {
                        "marker": {
                          "colorbar": {
                            "outlinewidth": 0,
                            "ticks": ""
                          }
                        },
                        "type": "scatterpolargl"
                      }
                    ],
                    "scatterternary": [
                      {
                        "marker": {
                          "colorbar": {
                            "outlinewidth": 0,
                            "ticks": ""
                          }
                        },
                        "type": "scatterternary"
                      }
                    ],
                    "surface": [
                      {
                        "colorbar": {
                          "outlinewidth": 0,
                          "ticks": ""
                        },
                        "colorscale": [
                          [
                            0,
                            "#0d0887"
                          ],
                          [
                            0.1111111111111111,
                            "#46039f"
                          ],
                          [
                            0.2222222222222222,
                            "#7201a8"
                          ],
                          [
                            0.3333333333333333,
                            "#9c179e"
                          ],
                          [
                            0.4444444444444444,
                            "#bd3786"
                          ],
                          [
                            0.5555555555555556,
                            "#d8576b"
                          ],
                          [
                            0.6666666666666666,
                            "#ed7953"
                          ],
                          [
                            0.7777777777777778,
                            "#fb9f3a"
                          ],
                          [
                            0.8888888888888888,
                            "#fdca26"
                          ],
                          [
                            1,
                            "#f0f921"
                          ]
                        ],
                        "type": "surface"
                      }
                    ],
                    "table": [
                      {
                        "cells": {
                          "fill": {
                            "color": "#EBF0F8"
                          },
                          "line": {
                            "color": "white"
                          }
                        },
                        "header": {
                          "fill": {
                            "color": "#C8D4E3"
                          },
                          "line": {
                            "color": "white"
                          }
                        },
                        "type": "table"
                      }
                    ]
                  },
                  "layout": {
                    "annotationdefaults": {
                      "arrowcolor": "#2a3f5f",
                      "arrowhead": 0,
                      "arrowwidth": 1
                    },
                    "autotypenumbers": "strict",
                    "coloraxis": {
                      "colorbar": {
                        "outlinewidth": 0,
                        "ticks": ""
                      }
                    },
                    "colorscale": {
                      "diverging": [
                        [
                          0,
                          "#8e0152"
                        ],
                        [
                          0.1,
                          "#c51b7d"
                        ],
                        [
                          0.2,
                          "#de77ae"
                        ],
                        [
                          0.3,
                          "#f1b6da"
                        ],
                        [
                          0.4,
                          "#fde0ef"
                        ],
                        [
                          0.5,
                          "#f7f7f7"
                        ],
                        [
                          0.6,
                          "#e6f5d0"
                        ],
                        [
                          0.7,
                          "#b8e186"
                        ],
                        [
                          0.8,
                          "#7fbc41"
                        ],
                        [
                          0.9,
                          "#4d9221"
                        ],
                        [
                          1,
                          "#276419"
                        ]
                      ],
                      "sequential": [
                        [
                          0,
                          "#0d0887"
                        ],
                        [
                          0.1111111111111111,
                          "#46039f"
                        ],
                        [
                          0.2222222222222222,
                          "#7201a8"
                        ],
                        [
                          0.3333333333333333,
                          "#9c179e"
                        ],
                        [
                          0.4444444444444444,
                          "#bd3786"
                        ],
                        [
                          0.5555555555555556,
                          "#d8576b"
                        ],
                        [
                          0.6666666666666666,
                          "#ed7953"
                        ],
                        [
                          0.7777777777777778,
                          "#fb9f3a"
                        ],
                        [
                          0.8888888888888888,
                          "#fdca26"
                        ],
                        [
                          1,
                          "#f0f921"
                        ]
                      ],
                      "sequentialminus": [
                        [
                          0,
                          "#0d0887"
                        ],
                        [
                          0.1111111111111111,
                          "#46039f"
                        ],
                        [
                          0.2222222222222222,
                          "#7201a8"
                        ],
                        [
                          0.3333333333333333,
                          "#9c179e"
                        ],
                        [
                          0.4444444444444444,
                          "#bd3786"
                        ],
                        [
                          0.5555555555555556,
                          "#d8576b"
                        ],
                        [
                          0.6666666666666666,
                          "#ed7953"
                        ],
                        [
                          0.7777777777777778,
                          "#fb9f3a"
                        ],
                        [
                          0.8888888888888888,
                          "#fdca26"
                        ],
                        [
                          1,
                          "#f0f921"
                        ]
                      ]
                    },
                    "colorway": [
                      "#636efa",
                      "#EF553B",
                      "#00cc96",
                      "#ab63fa",
                      "#FFA15A",
                      "#19d3f3",
                      "#FF6692",
                      "#B6E880",
                      "#FF97FF",
                      "#FECB52"
                    ],
                    "font": {
                      "color": "#2a3f5f"
                    },
                    "geo": {
                      "bgcolor": "white",
                      "lakecolor": "white",
                      "landcolor": "#E5ECF6",
                      "showlakes": true,
                      "showland": true,
                      "subunitcolor": "white"
                    },
                    "hoverlabel": {
                      "align": "left"
                    },
                    "hovermode": "closest",
                    "mapbox": {
                      "style": "light"
                    },
                    "paper_bgcolor": "white",
                    "plot_bgcolor": "#E5ECF6",
                    "polar": {
                      "angularaxis": {
                        "gridcolor": "white",
                        "linecolor": "white",
                        "ticks": ""
                      },
                      "bgcolor": "#E5ECF6",
                      "radialaxis": {
                        "gridcolor": "white",
                        "linecolor": "white",
                        "ticks": ""
                      }
                    },
                    "scene": {
                      "xaxis": {
                        "backgroundcolor": "#E5ECF6",
                        "gridcolor": "white",
                        "gridwidth": 2,
                        "linecolor": "white",
                        "showbackground": true,
                        "ticks": "",
                        "zerolinecolor": "white"
                      },
                      "yaxis": {
                        "backgroundcolor": "#E5ECF6",
                        "gridcolor": "white",
                        "gridwidth": 2,
                        "linecolor": "white",
                        "showbackground": true,
                        "ticks": "",
                        "zerolinecolor": "white"
                      },
                      "zaxis": {
                        "backgroundcolor": "#E5ECF6",
                        "gridcolor": "white",
                        "gridwidth": 2,
                        "linecolor": "white",
                        "showbackground": true,
                        "ticks": "",
                        "zerolinecolor": "white"
                      }
                    },
                    "shapedefaults": {
                      "line": {
                        "color": "#2a3f5f"
                      }
                    },
                    "ternary": {
                      "aaxis": {
                        "gridcolor": "white",
                        "linecolor": "white",
                        "ticks": ""
                      },
                      "baxis": {
                        "gridcolor": "white",
                        "linecolor": "white",
                        "ticks": ""
                      },
                      "bgcolor": "#E5ECF6",
                      "caxis": {
                        "gridcolor": "white",
                        "linecolor": "white",
                        "ticks": ""
                      }
                    },
                    "title": {
                      "x": 0.05
                    },
                    "xaxis": {
                      "automargin": true,
                      "gridcolor": "white",
                      "linecolor": "white",
                      "ticks": "",
                      "title": {
                        "standoff": 15
                      },
                      "zerolinecolor": "white",
                      "zerolinewidth": 2
                    },
                    "yaxis": {
                      "automargin": true,
                      "gridcolor": "white",
                      "linecolor": "white",
                      "ticks": "",
                      "title": {
                        "standoff": 15
                      },
                      "zerolinecolor": "white",
                      "zerolinewidth": 2
                    }
                  }
                },
                "xaxis": {
                  "anchor": "y",
                  "domain": [
                    0,
                    1
                  ],
                  "title": {
                    "text": "PassengerId"
                  }
                },
                "yaxis": {
                  "anchor": "x",
                  "domain": [
                    0,
                    1
                  ],
                  "title": {
                    "text": "Fare"
                  }
                }
              }
            },
            "text/html": "<div>                            <div id=\"92eb73ba-3907-4791-b74e-3da6d5dde0d5\" class=\"plotly-graph-div\" style=\"height:525px; width:100%;\"></div>            <script type=\"text/javascript\">                require([\"plotly\"], function(Plotly) {                    window.PLOTLYENV=window.PLOTLYENV || {};                                    if (document.getElementById(\"92eb73ba-3907-4791-b74e-3da6d5dde0d5\")) {                    Plotly.newPlot(                        \"92eb73ba-3907-4791-b74e-3da6d5dde0d5\",                        [{\"hovertemplate\": \"Sex=male<br>PassengerId=%{x}<br>Fare=%{y}<extra></extra>\", \"legendgroup\": \"male\", \"marker\": {\"color\": \"#636efa\", \"symbol\": \"circle\"}, \"mode\": \"markers\", \"name\": \"male\", \"orientation\": \"v\", \"showlegend\": true, \"type\": \"scatter\", \"x\": [1, 5, 6, 7, 8, 13, 14, 17, 18, 21, 22, 24, 27, 28, 30, 31, 34, 35, 36, 37, 38, 43, 46, 47, 49, 51, 52, 55, 56, 58, 60, 61, 63, 64, 65, 66, 68, 70, 71, 73, 74, 75, 76, 77, 78, 79, 81, 82, 84, 87, 88, 90, 91, 92, 93, 94, 95, 96, 97, 98, 100, 102, 103, 104, 105, 106, 108, 109, 111, 113, 116, 117, 118, 119, 121, 122, 123, 125, 126, 127, 128, 130, 131, 132, 135, 136, 138, 139, 140, 144, 145, 146, 147, 149, 150, 151, 153, 154, 155, 156, 158, 159, 160, 161, 163, 164, 165, 166, 169, 170, 171, 172, 174, 175, 176, 177, 179, 180, 182, 183, 184, 186, 188, 189, 190, 192, 194, 197, 198, 201, 202, 203, 204, 205, 207, 208, 210, 211, 213, 214, 215, 218, 220, 221, 222, 223, 224, 225, 226, 227, 228, 229, 232, 233, 235, 237, 239, 240, 243, 244, 245, 246, 249, 250, 251, 253, 254, 261, 262, 263, 264, 266, 267, 268, 271, 272, 274, 278, 279, 281, 282, 283, 284, 285, 286, 287, 288, 289, 293, 295, 296, 297, 299, 302, 303, 305, 306, 309, 314, 315, 318, 321, 322, 325, 327, 332, 333, 334, 336, 337, 339, 340, 341, 343, 344, 345, 349, 350, 351, 352, 353, 354, 355, 356, 361, 362, 364, 365, 366, 371, 372, 373, 374, 378, 379, 380, 383, 385, 386, 387, 389, 391, 392, 393, 396, 398, 399, 401, 402, 404, 406, 407, 408, 409, 411, 412, 414, 415, 419, 421, 422, 423, 425, 426, 429, 430, 431, 434, 435, 439, 440, 442, 443, 445, 446, 448, 450, 451, 452, 453, 454, 455, 456, 457, 460, 461, 462, 463, 464, 465, 466, 467, 468, 469, 471, 472, 476, 477, 478, 479, 481, 482, 483, 485, 488, 489, 490, 491, 492, 493, 494, 495, 496, 498, 500, 501, 506, 508, 509, 510, 511, 512, 513, 515, 516, 518, 520, 522, 523, 525, 526, 528, 529, 530, 532, 533, 537, 539, 544, 545, 546, 548, 549, 550, 551, 552, 553, 554, 556, 558, 561, 562, 563, 564, 566, 567, 569, 570, 571, 573, 575, 576, 580, 583, 584, 585, 587, 588, 589, 590, 591, 593, 595, 596, 598, 599, 600, 602, 603, 604, 605, 606, 607, 608, 612, 614, 615, 617, 620, 621, 622, 623, 624, 625, 626, 627, 629, 630, 631, 632, 633, 634, 637, 638, 640, 641, 644, 646, 647, 648, 649, 651, 653, 656, 657, 659, 660, 661, 662, 663, 664, 665, 666, 667, 668, 669, 672, 673, 674, 675, 676, 677, 680, 682, 683, 684, 685, 686, 687, 688, 689, 691, 693, 694, 695, 696, 697, 699, 700, 702, 704, 705, 706, 708, 710, 712, 713, 714, 715, 716, 719, 720, 722, 723, 724, 725, 726, 729, 732, 733, 734, 735, 736, 738, 739, 740, 741, 742, 744, 745, 746, 747, 749, 750, 752, 753, 754, 756, 757, 758, 759, 761, 762, 763, 765, 767, 769, 770, 771, 772, 774, 776, 777, 779, 783, 784, 785, 786, 788, 789, 790, 791, 792, 794, 795, 796, 799, 801, 803, 804, 805, 806, 807, 809, 811, 812, 813, 815, 816, 818, 819, 820, 822, 823, 825, 826, 827, 828, 829, 832, 833, 834, 835, 837, 838, 839, 840, 841, 842, 844, 845, 846, 847, 848, 849, 851, 852, 858, 860, 861, 862, 865, 868, 869, 870, 871, 873, 874, 877, 878, 879, 882, 884, 885, 887, 890, 891], \"xaxis\": \"x\", \"y\": [7.25, 8.05, 8.4583, 51.8625, 21.075, 8.05, 31.275, 29.125, 13.0, 26.0, 13.0, 35.5, 7.225, 263.0, 7.8958, 27.7208, 10.5, 82.1708, 52.0, 7.2292, 8.05, 7.8958, 8.05, 15.5, 21.6792, 39.6875, 7.8, 61.9792, 35.5, 7.2292, 46.9, 7.2292, 83.475, 27.9, 27.7208, 15.2458, 8.1583, 8.6625, 10.5, 73.5, 14.4542, 56.4958, 7.65, 7.8958, 8.05, 29.0, 9.0, 9.5, 47.1, 34.375, 8.05, 8.05, 8.05, 7.8542, 61.175, 20.575, 7.25, 8.05, 34.6542, 63.3583, 26.0, 7.8958, 77.2875, 8.6542, 7.925, 7.8958, 7.775, 7.8958, 52.0, 8.05, 7.925, 7.75, 21.0, 247.5208, 73.5, 8.05, 30.0708, 77.2875, 11.2417, 7.75, 7.1417, 6.975, 7.8958, 7.05, 13.0, 15.0458, 53.1, 9.2167, 79.2, 6.75, 11.5, 36.75, 7.7958, 26.0, 13.0, 12.525, 8.05, 14.5, 7.3125, 61.3792, 8.05, 8.6625, 69.55, 16.1, 7.775, 8.6625, 39.6875, 20.525, 25.925, 56.4958, 33.5, 29.125, 7.925, 30.6958, 7.8542, 25.4667, 13.0, 0.0, 15.05, 31.3875, 39.0, 50.0, 26.55, 15.5, 7.8958, 13.0, 26.0, 7.75, 8.4042, 9.5, 69.55, 6.4958, 7.225, 8.05, 15.85, 18.7875, 31.0, 7.05, 7.25, 13.0, 7.75, 27.0, 10.5, 8.05, 13.0, 8.05, 7.8958, 90.0, 9.35, 10.5, 7.25, 13.0, 7.775, 13.5, 10.5, 26.0, 10.5, 12.275, 10.5, 7.125, 7.225, 90.0, 52.5542, 26.0, 7.25, 26.55, 16.1, 7.75, 31.3875, 79.65, 0.0, 10.5, 39.6875, 7.775, 31.0, 0.0, 29.7, 0.0, 29.125, 7.75, 7.8542, 9.5, 8.05, 26.0, 8.6625, 9.5, 7.8958, 13.0, 12.875, 7.8958, 27.7208, 7.2292, 30.5, 23.25, 0.0, 8.05, 151.55, 24.0, 7.8958, 26.25, 14.0, 7.25, 7.8958, 69.55, 6.2375, 28.5, 153.4625, 18.0, 7.8958, 66.6, 8.05, 35.5, 26.0, 13.0, 13.0, 13.0, 15.9, 8.6625, 9.225, 35.0, 7.2292, 17.8, 7.225, 9.5, 27.9, 27.7208, 7.05, 15.5, 7.25, 55.4417, 6.4958, 8.05, 135.6333, 211.5, 4.0125, 7.775, 7.925, 7.8958, 73.5, 46.9, 7.7292, 120.0, 7.7958, 7.925, 7.7958, 26.0, 10.5, 7.925, 8.05, 15.85, 21.0, 7.75, 18.75, 7.775, 7.8958, 6.8583, 0.0, 7.925, 13.0, 7.8958, 7.7333, 7.875, 20.2125, 7.25, 7.75, 8.05, 26.55, 7.125, 55.9, 263.0, 10.5, 9.5, 7.775, 8.1125, 81.8583, 26.55, 30.5, 27.75, 19.9667, 27.75, 89.1042, 8.05, 7.8958, 26.55, 7.75, 26.55, 8.05, 38.5, 13.0, 8.05, 7.05, 0.0, 26.55, 7.725, 7.25, 8.6625, 52.0, 21.0, 7.0458, 7.5208, 46.9, 0.0, 8.05, 91.0792, 29.7, 8.05, 15.9, 19.9667, 7.25, 30.5, 49.5042, 8.05, 14.4583, 15.1, 7.7958, 8.6625, 108.9, 26.55, 22.525, 56.4958, 7.75, 8.05, 26.2875, 7.4958, 34.0208, 24.15, 7.8958, 7.8958, 7.225, 7.2292, 7.75, 221.7792, 7.925, 11.5, 7.2292, 7.2292, 26.55, 14.5, 26.0, 106.425, 26.0, 13.8625, 20.525, 36.75, 110.8833, 26.0, 7.8292, 7.225, 26.55, 227.525, 7.75, 7.8958, 13.5, 8.05, 24.15, 7.8958, 7.2292, 7.8542, 10.5, 26.3875, 8.05, 14.5, 7.925, 26.0, 40.125, 8.7125, 15.0, 79.2, 8.05, 8.05, 7.125, 7.25, 26.0, 24.15, 0.0, 7.225, 56.9292, 7.8958, 42.4, 8.05, 26.55, 15.55, 7.8958, 30.5, 7.05, 7.75, 8.05, 14.4, 10.5, 14.4542, 52.5542, 15.7417, 7.8542, 16.1, 32.3208, 12.35, 7.8958, 7.7333, 30.0, 7.0542, 30.5, 0.0, 7.925, 26.25, 16.1, 7.8542, 56.4958, 76.7292, 7.8958, 35.5, 7.55, 7.8958, 8.4333, 73.5, 7.8958, 13.0, 113.275, 133.65, 7.225, 25.5875, 7.4958, 7.925, 73.5, 13.0, 7.775, 8.05, 52.0, 10.5, 13.0, 0.0, 7.775, 8.05, 512.3292, 76.7292, 9.225, 46.9, 39.0, 41.5792, 39.6875, 10.1708, 7.7958, 57.0, 56.4958, 7.225, 26.55, 13.5, 8.05, 110.8833, 7.65, 26.2875, 7.7417, 7.8542, 26.0, 26.2875, 15.2458, 26.55, 52.0, 9.4833, 13.0, 7.65, 15.5, 7.775, 7.0542, 13.0, 13.0, 53.1, 8.6625, 26.0, 18.7875, 0.0, 13.0, 13.0, 16.1, 512.3292, 7.8958, 7.8958, 30.0, 78.85, 16.1, 7.925, 71.0, 20.25, 53.1, 7.75, 12.475, 9.5, 7.8958, 14.5, 7.7958, 11.5, 8.05, 14.5, 7.125, 7.2292, 7.775, 39.6, 24.15, 8.3625, 9.5, 7.8542, 7.225, 7.75, 7.75, 7.7375, 30.0, 23.45, 7.05, 7.25, 29.125, 20.575, 79.2, 7.75, 26.0, 30.6958, 7.8958, 13.0, 7.2292, 13.0, 120.0, 8.5167, 6.975, 7.775, 0.0, 13.0, 7.8875, 24.15, 10.5, 8.05, 0.0, 37.0042, 6.45, 27.9, 8.6625, 0.0, 39.6875, 6.95, 56.4958, 37.0042, 7.75, 18.75, 7.2292, 7.8542, 8.3, 8.6625, 8.05, 56.4958, 29.7, 7.925, 10.5, 6.4375, 8.6625, 7.55, 69.55, 7.8958, 33.0, 31.275, 7.775, 26.55, 7.2292, 14.1083, 11.5, 13.0, 50.4958, 9.5, 11.1333, 7.8958, 5.0, 9.0, 9.8458, 7.8958, 7.8958, 7.8958, 10.5, 7.05, 13.0, 30.0, 7.75], \"yaxis\": \"y\"}, {\"hovertemplate\": \"Sex=female<br>PassengerId=%{x}<br>Fare=%{y}<extra></extra>\", \"legendgroup\": \"female\", \"marker\": {\"color\": \"#EF553B\", \"symbol\": \"circle\"}, \"mode\": \"markers\", \"name\": \"female\", \"orientation\": \"v\", \"showlegend\": true, \"type\": \"scatter\", \"x\": [2, 3, 4, 9, 10, 11, 12, 15, 16, 19, 20, 23, 25, 26, 29, 32, 33, 39, 40, 41, 42, 44, 45, 48, 50, 53, 54, 57, 59, 62, 67, 69, 72, 80, 83, 85, 86, 89, 99, 101, 107, 110, 112, 114, 115, 120, 124, 129, 133, 134, 137, 141, 142, 143, 148, 152, 157, 162, 167, 168, 173, 178, 181, 185, 187, 191, 193, 195, 196, 199, 200, 206, 209, 212, 216, 217, 219, 230, 231, 234, 236, 238, 241, 242, 247, 248, 252, 255, 256, 257, 258, 259, 260, 265, 269, 270, 273, 275, 276, 277, 280, 290, 291, 292, 294, 298, 300, 301, 304, 307, 308, 310, 311, 312, 313, 316, 317, 319, 320, 323, 324, 326, 328, 329, 330, 331, 335, 338, 342, 346, 347, 348, 357, 358, 359, 360, 363, 367, 368, 369, 370, 375, 376, 377, 381, 382, 384, 388, 390, 394, 395, 397, 400, 403, 405, 410, 413, 416, 417, 418, 420, 424, 427, 428, 432, 433, 436, 437, 438, 441, 444, 447, 449, 458, 459, 470, 473, 474, 475, 480, 484, 486, 487, 497, 499, 502, 503, 504, 505, 507, 514, 517, 519, 521, 524, 527, 531, 534, 535, 536, 538, 540, 541, 542, 543, 547, 555, 557, 559, 560, 565, 568, 572, 574, 577, 578, 579, 581, 582, 586, 592, 594, 597, 601, 609, 610, 611, 613, 616, 618, 619, 628, 635, 636, 639, 642, 643, 645, 650, 652, 654, 655, 658, 670, 671, 678, 679, 681, 690, 692, 698, 701, 703, 707, 709, 711, 717, 718, 721, 727, 728, 730, 731, 737, 743, 748, 751, 755, 760, 764, 766, 768, 773, 775, 778, 780, 781, 782, 787, 793, 797, 798, 800, 802, 808, 810, 814, 817, 821, 824, 830, 831, 836, 843, 850, 853, 854, 855, 856, 857, 859, 863, 864, 866, 867, 872, 875, 876, 880, 881, 883, 886, 888, 889], \"xaxis\": \"x\", \"y\": [71.2833, 7.925, 53.1, 11.1333, 30.0708, 16.7, 26.55, 7.8542, 16.0, 18.0, 7.225, 8.0292, 21.075, 31.3875, 7.8792, 146.5208, 7.75, 18.0, 11.2417, 9.475, 21.0, 41.5792, 7.8792, 7.75, 17.8, 76.7292, 26.0, 10.5, 27.75, 80.0, 10.5, 7.925, 46.9, 12.475, 7.7875, 10.5, 15.85, 263.0, 23.0, 7.8958, 7.65, 24.15, 14.4542, 9.825, 14.4583, 31.275, 13.0, 22.3583, 14.5, 26.0, 26.2833, 15.2458, 7.75, 15.85, 34.375, 66.6, 7.7333, 15.75, 55.0, 27.9, 11.1333, 28.7125, 69.55, 22.025, 15.5, 13.0, 7.8542, 27.7208, 146.5208, 7.75, 13.0, 10.4625, 7.75, 21.0, 113.275, 7.925, 76.2917, 25.4667, 83.475, 31.3875, 7.55, 26.25, 14.4542, 15.5, 7.775, 14.5, 10.4625, 20.2125, 15.2458, 79.2, 86.5, 512.3292, 26.0, 7.75, 153.4625, 135.6333, 19.5, 7.75, 77.9583, 7.75, 20.25, 7.75, 78.85, 91.0792, 8.85, 151.55, 247.5208, 7.75, 12.35, 110.8833, 108.9, 56.9292, 83.1583, 262.375, 26.0, 7.8542, 26.0, 164.8667, 134.5, 12.35, 29.0, 135.6333, 13.0, 20.525, 57.9792, 23.25, 133.65, 134.5, 263.0, 13.0, 13.0, 16.1, 55.0, 13.0, 7.8792, 7.8792, 14.4542, 75.25, 7.2292, 7.75, 69.3, 21.075, 82.1708, 7.25, 227.525, 15.7417, 52.0, 13.0, 12.0, 113.275, 16.7, 7.8542, 12.65, 9.825, 8.6625, 25.4667, 90.0, 8.05, 32.5, 13.0, 24.15, 14.4, 26.0, 26.0, 16.1, 26.0, 120.0, 34.375, 18.75, 26.25, 13.0, 19.5, 19.2583, 51.8625, 10.5, 19.2583, 27.75, 13.7917, 9.8375, 12.2875, 9.5875, 25.4667, 90.0, 78.2667, 151.55, 7.75, 7.6292, 9.5875, 86.5, 26.0, 59.4, 10.5, 26.0, 93.5, 57.9792, 10.5, 26.0, 22.3583, 8.6625, 26.25, 106.425, 49.5, 71.0, 31.275, 31.275, 26.0, 7.775, 39.6, 79.65, 17.4, 8.05, 21.075, 51.4792, 7.75, 13.0, 55.9, 14.4583, 30.0, 110.8833, 79.65, 78.2667, 7.75, 33.0, 27.0, 41.5792, 153.4625, 31.275, 15.5, 65.0, 16.1, 39.0, 77.9583, 27.9, 13.0, 39.6875, 69.3, 27.9, 19.2583, 7.55, 23.0, 7.8292, 6.75, 15.5, 52.0, 39.0, 9.8417, 46.9, 8.1375, 211.3375, 13.4167, 7.7333, 227.525, 14.4542, 13.5, 151.55, 49.5042, 227.525, 10.5, 33.0, 21.0, 7.7375, 7.925, 211.3375, 34.375, 262.375, 13.0, 23.0, 65.0, 86.5, 120.0, 77.9583, 7.75, 10.5, 23.0, 12.475, 211.3375, 7.2292, 57.0, 7.4958, 69.55, 25.9292, 8.6833, 24.15, 26.25, 7.775, 53.1, 31.275, 7.925, 93.5, 12.475, 80.0, 14.4542, 83.1583, 31.0, 89.1042, 15.2458, 39.4, 26.0, 9.35, 164.8667, 19.2583, 25.9292, 69.55, 13.0, 13.8583, 52.5542, 24.0, 7.225, 83.1583, 26.0, 10.5167, 29.125, 30.0, 23.45], \"yaxis\": \"y\"}],                        {\"legend\": {\"title\": {\"text\": \"Sex\"}, \"tracegroupgap\": 0}, \"margin\": {\"t\": 60}, \"template\": {\"data\": {\"bar\": [{\"error_x\": {\"color\": \"#2a3f5f\"}, \"error_y\": {\"color\": \"#2a3f5f\"}, \"marker\": {\"line\": {\"color\": \"#E5ECF6\", \"width\": 0.5}}, \"type\": \"bar\"}], \"barpolar\": [{\"marker\": {\"line\": {\"color\": \"#E5ECF6\", \"width\": 0.5}}, \"type\": \"barpolar\"}], \"carpet\": [{\"aaxis\": {\"endlinecolor\": \"#2a3f5f\", \"gridcolor\": \"white\", \"linecolor\": \"white\", \"minorgridcolor\": \"white\", \"startlinecolor\": \"#2a3f5f\"}, \"baxis\": {\"endlinecolor\": \"#2a3f5f\", \"gridcolor\": \"white\", \"linecolor\": \"white\", \"minorgridcolor\": \"white\", \"startlinecolor\": \"#2a3f5f\"}, \"type\": \"carpet\"}], \"choropleth\": [{\"colorbar\": {\"outlinewidth\": 0, \"ticks\": \"\"}, \"type\": \"choropleth\"}], \"contour\": [{\"colorbar\": {\"outlinewidth\": 0, \"ticks\": \"\"}, \"colorscale\": [[0.0, \"#0d0887\"], [0.1111111111111111, \"#46039f\"], [0.2222222222222222, \"#7201a8\"], [0.3333333333333333, \"#9c179e\"], [0.4444444444444444, \"#bd3786\"], [0.5555555555555556, \"#d8576b\"], [0.6666666666666666, \"#ed7953\"], [0.7777777777777778, \"#fb9f3a\"], [0.8888888888888888, \"#fdca26\"], [1.0, \"#f0f921\"]], \"type\": \"contour\"}], \"contourcarpet\": [{\"colorbar\": {\"outlinewidth\": 0, \"ticks\": \"\"}, \"type\": \"contourcarpet\"}], \"heatmap\": [{\"colorbar\": {\"outlinewidth\": 0, \"ticks\": \"\"}, \"colorscale\": [[0.0, \"#0d0887\"], [0.1111111111111111, \"#46039f\"], [0.2222222222222222, \"#7201a8\"], [0.3333333333333333, \"#9c179e\"], [0.4444444444444444, \"#bd3786\"], [0.5555555555555556, \"#d8576b\"], [0.6666666666666666, \"#ed7953\"], [0.7777777777777778, \"#fb9f3a\"], [0.8888888888888888, \"#fdca26\"], [1.0, \"#f0f921\"]], \"type\": \"heatmap\"}], \"heatmapgl\": [{\"colorbar\": {\"outlinewidth\": 0, \"ticks\": \"\"}, \"colorscale\": [[0.0, \"#0d0887\"], [0.1111111111111111, \"#46039f\"], [0.2222222222222222, \"#7201a8\"], [0.3333333333333333, \"#9c179e\"], [0.4444444444444444, \"#bd3786\"], [0.5555555555555556, \"#d8576b\"], [0.6666666666666666, \"#ed7953\"], [0.7777777777777778, \"#fb9f3a\"], [0.8888888888888888, \"#fdca26\"], [1.0, \"#f0f921\"]], \"type\": \"heatmapgl\"}], \"histogram\": [{\"marker\": {\"colorbar\": {\"outlinewidth\": 0, \"ticks\": \"\"}}, \"type\": \"histogram\"}], \"histogram2d\": [{\"colorbar\": {\"outlinewidth\": 0, \"ticks\": \"\"}, \"colorscale\": [[0.0, \"#0d0887\"], [0.1111111111111111, \"#46039f\"], [0.2222222222222222, \"#7201a8\"], [0.3333333333333333, \"#9c179e\"], [0.4444444444444444, \"#bd3786\"], [0.5555555555555556, \"#d8576b\"], [0.6666666666666666, \"#ed7953\"], [0.7777777777777778, \"#fb9f3a\"], [0.8888888888888888, \"#fdca26\"], [1.0, \"#f0f921\"]], \"type\": \"histogram2d\"}], \"histogram2dcontour\": [{\"colorbar\": {\"outlinewidth\": 0, \"ticks\": \"\"}, \"colorscale\": [[0.0, \"#0d0887\"], [0.1111111111111111, \"#46039f\"], [0.2222222222222222, \"#7201a8\"], [0.3333333333333333, \"#9c179e\"], [0.4444444444444444, \"#bd3786\"], [0.5555555555555556, \"#d8576b\"], [0.6666666666666666, \"#ed7953\"], [0.7777777777777778, \"#fb9f3a\"], [0.8888888888888888, \"#fdca26\"], [1.0, \"#f0f921\"]], \"type\": \"histogram2dcontour\"}], \"mesh3d\": [{\"colorbar\": {\"outlinewidth\": 0, \"ticks\": \"\"}, \"type\": \"mesh3d\"}], \"parcoords\": [{\"line\": {\"colorbar\": {\"outlinewidth\": 0, \"ticks\": \"\"}}, \"type\": \"parcoords\"}], \"pie\": [{\"automargin\": true, \"type\": \"pie\"}], \"scatter\": [{\"marker\": {\"colorbar\": {\"outlinewidth\": 0, \"ticks\": \"\"}}, \"type\": \"scatter\"}], \"scatter3d\": [{\"line\": {\"colorbar\": {\"outlinewidth\": 0, \"ticks\": \"\"}}, \"marker\": {\"colorbar\": {\"outlinewidth\": 0, \"ticks\": \"\"}}, \"type\": \"scatter3d\"}], \"scattercarpet\": [{\"marker\": {\"colorbar\": {\"outlinewidth\": 0, \"ticks\": \"\"}}, \"type\": \"scattercarpet\"}], \"scattergeo\": [{\"marker\": {\"colorbar\": {\"outlinewidth\": 0, \"ticks\": \"\"}}, \"type\": \"scattergeo\"}], \"scattergl\": [{\"marker\": {\"colorbar\": {\"outlinewidth\": 0, \"ticks\": \"\"}}, \"type\": \"scattergl\"}], \"scattermapbox\": [{\"marker\": {\"colorbar\": {\"outlinewidth\": 0, \"ticks\": \"\"}}, \"type\": \"scattermapbox\"}], \"scatterpolar\": [{\"marker\": {\"colorbar\": {\"outlinewidth\": 0, \"ticks\": \"\"}}, \"type\": \"scatterpolar\"}], \"scatterpolargl\": [{\"marker\": {\"colorbar\": {\"outlinewidth\": 0, \"ticks\": \"\"}}, \"type\": \"scatterpolargl\"}], \"scatterternary\": [{\"marker\": {\"colorbar\": {\"outlinewidth\": 0, \"ticks\": \"\"}}, \"type\": \"scatterternary\"}], \"surface\": [{\"colorbar\": {\"outlinewidth\": 0, \"ticks\": \"\"}, \"colorscale\": [[0.0, \"#0d0887\"], [0.1111111111111111, \"#46039f\"], [0.2222222222222222, \"#7201a8\"], [0.3333333333333333, \"#9c179e\"], [0.4444444444444444, \"#bd3786\"], [0.5555555555555556, \"#d8576b\"], [0.6666666666666666, \"#ed7953\"], [0.7777777777777778, \"#fb9f3a\"], [0.8888888888888888, \"#fdca26\"], [1.0, \"#f0f921\"]], \"type\": \"surface\"}], \"table\": [{\"cells\": {\"fill\": {\"color\": \"#EBF0F8\"}, \"line\": {\"color\": \"white\"}}, \"header\": {\"fill\": {\"color\": \"#C8D4E3\"}, \"line\": {\"color\": \"white\"}}, \"type\": \"table\"}]}, \"layout\": {\"annotationdefaults\": {\"arrowcolor\": \"#2a3f5f\", \"arrowhead\": 0, \"arrowwidth\": 1}, \"autotypenumbers\": \"strict\", \"coloraxis\": {\"colorbar\": {\"outlinewidth\": 0, \"ticks\": \"\"}}, \"colorscale\": {\"diverging\": [[0, \"#8e0152\"], [0.1, \"#c51b7d\"], [0.2, \"#de77ae\"], [0.3, \"#f1b6da\"], [0.4, \"#fde0ef\"], [0.5, \"#f7f7f7\"], [0.6, \"#e6f5d0\"], [0.7, \"#b8e186\"], [0.8, \"#7fbc41\"], [0.9, \"#4d9221\"], [1, \"#276419\"]], \"sequential\": [[0.0, \"#0d0887\"], [0.1111111111111111, \"#46039f\"], [0.2222222222222222, \"#7201a8\"], [0.3333333333333333, \"#9c179e\"], [0.4444444444444444, \"#bd3786\"], [0.5555555555555556, \"#d8576b\"], [0.6666666666666666, \"#ed7953\"], [0.7777777777777778, \"#fb9f3a\"], [0.8888888888888888, \"#fdca26\"], [1.0, \"#f0f921\"]], \"sequentialminus\": [[0.0, \"#0d0887\"], [0.1111111111111111, \"#46039f\"], [0.2222222222222222, \"#7201a8\"], [0.3333333333333333, \"#9c179e\"], [0.4444444444444444, \"#bd3786\"], [0.5555555555555556, \"#d8576b\"], [0.6666666666666666, \"#ed7953\"], [0.7777777777777778, \"#fb9f3a\"], [0.8888888888888888, \"#fdca26\"], [1.0, \"#f0f921\"]]}, \"colorway\": [\"#636efa\", \"#EF553B\", \"#00cc96\", \"#ab63fa\", \"#FFA15A\", \"#19d3f3\", \"#FF6692\", \"#B6E880\", \"#FF97FF\", \"#FECB52\"], \"font\": {\"color\": \"#2a3f5f\"}, \"geo\": {\"bgcolor\": \"white\", \"lakecolor\": \"white\", \"landcolor\": \"#E5ECF6\", \"showlakes\": true, \"showland\": true, \"subunitcolor\": \"white\"}, \"hoverlabel\": {\"align\": \"left\"}, \"hovermode\": \"closest\", \"mapbox\": {\"style\": \"light\"}, \"paper_bgcolor\": \"white\", \"plot_bgcolor\": \"#E5ECF6\", \"polar\": {\"angularaxis\": {\"gridcolor\": \"white\", \"linecolor\": \"white\", \"ticks\": \"\"}, \"bgcolor\": \"#E5ECF6\", \"radialaxis\": {\"gridcolor\": \"white\", \"linecolor\": \"white\", \"ticks\": \"\"}}, \"scene\": {\"xaxis\": {\"backgroundcolor\": \"#E5ECF6\", \"gridcolor\": \"white\", \"gridwidth\": 2, \"linecolor\": \"white\", \"showbackground\": true, \"ticks\": \"\", \"zerolinecolor\": \"white\"}, \"yaxis\": {\"backgroundcolor\": \"#E5ECF6\", \"gridcolor\": \"white\", \"gridwidth\": 2, \"linecolor\": \"white\", \"showbackground\": true, \"ticks\": \"\", \"zerolinecolor\": \"white\"}, \"zaxis\": {\"backgroundcolor\": \"#E5ECF6\", \"gridcolor\": \"white\", \"gridwidth\": 2, \"linecolor\": \"white\", \"showbackground\": true, \"ticks\": \"\", \"zerolinecolor\": \"white\"}}, \"shapedefaults\": {\"line\": {\"color\": \"#2a3f5f\"}}, \"ternary\": {\"aaxis\": {\"gridcolor\": \"white\", \"linecolor\": \"white\", \"ticks\": \"\"}, \"baxis\": {\"gridcolor\": \"white\", \"linecolor\": \"white\", \"ticks\": \"\"}, \"bgcolor\": \"#E5ECF6\", \"caxis\": {\"gridcolor\": \"white\", \"linecolor\": \"white\", \"ticks\": \"\"}}, \"title\": {\"x\": 0.05}, \"xaxis\": {\"automargin\": true, \"gridcolor\": \"white\", \"linecolor\": \"white\", \"ticks\": \"\", \"title\": {\"standoff\": 15}, \"zerolinecolor\": \"white\", \"zerolinewidth\": 2}, \"yaxis\": {\"automargin\": true, \"gridcolor\": \"white\", \"linecolor\": \"white\", \"ticks\": \"\", \"title\": {\"standoff\": 15}, \"zerolinecolor\": \"white\", \"zerolinewidth\": 2}}}, \"xaxis\": {\"anchor\": \"y\", \"domain\": [0.0, 1.0], \"title\": {\"text\": \"PassengerId\"}}, \"yaxis\": {\"anchor\": \"x\", \"domain\": [0.0, 1.0], \"title\": {\"text\": \"Fare\"}}},                        {\"responsive\": true}                    ).then(function(){\n                            \nvar gd = document.getElementById('92eb73ba-3907-4791-b74e-3da6d5dde0d5');\nvar x = new MutationObserver(function (mutations, observer) {{\n        var display = window.getComputedStyle(gd).display;\n        if (!display || display === 'none') {{\n            console.log([gd, 'removed!']);\n            Plotly.purge(gd);\n            observer.disconnect();\n        }}\n}});\n\n// Listen for the removal of the full notebook cells\nvar notebookContainer = gd.closest('#notebook-container');\nif (notebookContainer) {{\n    x.observe(notebookContainer, {childList: true});\n}}\n\n// Listen for the clearing of the current output cell\nvar outputEl = gd.closest('.output');\nif (outputEl) {{\n    x.observe(outputEl, {childList: true});\n}}\n\n                        })                };                });            </script>        </div>"
          },
          "metadata": {}
        }
      ],
      "execution_count": 72,
      "metadata": {
        "collapsed": true,
        "jupyter": {
          "source_hidden": false,
          "outputs_hidden": false
        },
        "nteract": {
          "transient": {
            "deleting": false
          }
        },
        "gather": {
          "logged": 1618341634821
        }
      }
    },
    {
      "cell_type": "markdown",
      "source": [
        "## 7. Plot  a bubble  plot  of  the  ages to the fare  paid by  each  passenger  categorizing  whether they survived or not. The size of each bubble should be determined by the passenger class and the name of each individual as the hover name."
      ],
      "metadata": {
        "nteract": {
          "transient": {
            "deleting": false
          }
        }
      }
    },
    {
      "cell_type": "code",
      "source": [
        "passengers.Age.value_counts()"
      ],
      "outputs": [
        {
          "output_type": "execute_result",
          "execution_count": 75,
          "data": {
            "text/plain": "24.00    30\n22.00    27\n18.00    26\n19.00    25\n30.00    25\n         ..\n55.50     1\n70.50     1\n66.00     1\n23.50     1\n0.42      1\nName: Age, Length: 88, dtype: int64"
          },
          "metadata": {}
        }
      ],
      "execution_count": 75,
      "metadata": {
        "collapsed": true,
        "jupyter": {
          "source_hidden": false,
          "outputs_hidden": false
        },
        "nteract": {
          "transient": {
            "deleting": false
          }
        },
        "gather": {
          "logged": 1618342447012
        }
      }
    },
    {
      "cell_type": "code",
      "source": [
        "passengers.Fare.value_counts()"
      ],
      "outputs": [
        {
          "output_type": "execute_result",
          "execution_count": 74,
          "data": {
            "text/plain": "8.0500     43\n13.0000    42\n7.8958     38\n7.7500     34\n26.0000    31\n           ..\n8.4583      1\n9.8375      1\n8.3625      1\n14.1083     1\n17.4000     1\nName: Fare, Length: 248, dtype: int64"
          },
          "metadata": {}
        }
      ],
      "execution_count": 74,
      "metadata": {
        "collapsed": true,
        "jupyter": {
          "source_hidden": false,
          "outputs_hidden": false
        },
        "nteract": {
          "transient": {
            "deleting": false
          }
        },
        "gather": {
          "logged": 1618342414171
        }
      }
    },
    {
      "cell_type": "code",
      "source": [
        "fig = px.scatter(passengers, x=\"Age\", y=\"Fare\",\r\n",
        "\t         size=\"Pclass\", color=\"Sex\",\r\n",
        "                 hover_name=\"Name\", width=1500, height=1600)\r\n",
        "fig.show()"
      ],
      "outputs": [
        {
          "output_type": "display_data",
          "data": {
            "application/vnd.plotly.v1+json": {
              "config": {
                "plotlyServerURL": "https://plot.ly"
              },
              "data": [
                {
                  "hovertemplate": "<b>%{hovertext}</b><br><br>Sex=male<br>Age=%{x}<br>Fare=%{y}<br>Pclass=%{marker.size}<extra></extra>",
                  "hovertext": [
                    "Braund, Mr. Owen Harris",
                    "Allen, Mr. William Henry",
                    "Moran, Mr. James",
                    "McCarthy, Mr. Timothy J",
                    "Palsson, Master. Gosta Leonard",
                    "Saundercock, Mr. William Henry",
                    "Andersson, Mr. Anders Johan",
                    "Rice, Master. Eugene",
                    "Williams, Mr. Charles Eugene",
                    "Fynney, Mr. Joseph J",
                    "Beesley, Mr. Lawrence",
                    "Sloper, Mr. William Thompson",
                    "Emir, Mr. Farred Chehab",
                    "Fortune, Mr. Charles Alexander",
                    "Todoroff, Mr. Lalio",
                    "Uruchurtu, Don. Manuel E",
                    "Wheadon, Mr. Edward H",
                    "Meyer, Mr. Edgar Joseph",
                    "Holverson, Mr. Alexander Oskar",
                    "Mamee, Mr. Hanna",
                    "Cann, Mr. Ernest Charles",
                    "Kraeff, Mr. Theodor",
                    "Rogers, Mr. William John",
                    "Lennon, Mr. Denis",
                    "Samaan, Mr. Youssef",
                    "Panula, Master. Juha Niilo",
                    "Nosworthy, Mr. Richard Cater",
                    "Ostby, Mr. Engelhart Cornelius",
                    "Woolner, Mr. Hugh",
                    "Novel, Mr. Mansouer",
                    "Goodwin, Master. William Frederick",
                    "Sirayanian, Mr. Orsen",
                    "Harris, Mr. Henry Birkhardt",
                    "Skoog, Master. Harald",
                    "Stewart, Mr. Albert A",
                    "Moubarek, Master. Gerios",
                    "Crease, Mr. Ernest James",
                    "Kink, Mr. Vincenz",
                    "Jenkin, Mr. Stephen Curnow",
                    "Hood, Mr. Ambrose Jr",
                    "Chronopoulos, Mr. Apostolos",
                    "Bing, Mr. Lee",
                    "Moen, Mr. Sigurd Hansen",
                    "Staneff, Mr. Ivan",
                    "Moutal, Mr. Rahamin Haim",
                    "Caldwell, Master. Alden Gates",
                    "Waelens, Mr. Achille",
                    "Sheerlinck, Mr. Jan Baptist",
                    "Carrau, Mr. Francisco M",
                    "Ford, Mr. William Neal",
                    "Slocovski, Mr. Selman Francis",
                    "Celotti, Mr. Francesco",
                    "Christmann, Mr. Emil",
                    "Andreasson, Mr. Paul Edvin",
                    "Chaffee, Mr. Herbert Fuller",
                    "Dean, Mr. Bertram Frank",
                    "Coxon, Mr. Daniel",
                    "Shorney, Mr. Charles Joseph",
                    "Goldschmidt, Mr. George B",
                    "Greenfield, Mr. William Bertram",
                    "Kantor, Mr. Sinai",
                    "Petroff, Mr. Pastcho (\"Pentcho\")",
                    "White, Mr. Richard Frasar",
                    "Johansson, Mr. Gustaf Joel",
                    "Gustafsson, Mr. Anders Vilhelm",
                    "Mionoff, Mr. Stoytcho",
                    "Moss, Mr. Albert Johan",
                    "Rekic, Mr. Tido",
                    "Porter, Mr. Walter Chamberlain",
                    "Barton, Mr. David John",
                    "Pekoniemi, Mr. Edvard",
                    "Connors, Mr. Patrick",
                    "Turpin, Mr. William John Robert",
                    "Baxter, Mr. Quigg Edmond",
                    "Hickman, Mr. Stanley George",
                    "Moore, Mr. Leonard Charles",
                    "Nasser, Mr. Nicholas",
                    "White, Mr. Percival Wayland",
                    "Nicola-Yarred, Master. Elias",
                    "McMahon, Mr. Martin",
                    "Madsen, Mr. Fridtjof Arne",
                    "Ekstrom, Mr. Johan",
                    "Drazenoic, Mr. Jozef",
                    "Coelho, Mr. Domingos Fernandeo",
                    "Sobey, Mr. Samuel James Hayden",
                    "Richard, Mr. Emile",
                    "Futrelle, Mr. Jacques Heath",
                    "Osen, Mr. Olaf Elon",
                    "Giglio, Mr. Victor",
                    "Burke, Mr. Jeremiah",
                    "Andrew, Mr. Edgardo Samuel",
                    "Nicholls, Mr. Joseph Charles",
                    "Andersson, Mr. August Edvard (\"Wennerstrom\")",
                    "Navratil, Mr. Michel (\"Louis M Hoffman\")",
                    "Byles, Rev. Thomas Roussel Davids",
                    "Bateman, Rev. Robert James",
                    "Meo, Mr. Alfonzo",
                    "van Billiard, Mr. Austin Blyler",
                    "Olsen, Mr. Ole Martin",
                    "Williams, Mr. Charles Duane",
                    "Corn, Mr. Harry",
                    "Smiljanic, Mr. Mile",
                    "Sage, Master. Thomas Henry",
                    "Cribb, Mr. John Hatfield",
                    "Bengtsson, Mr. John Viktor",
                    "Calic, Mr. Jovo",
                    "Panula, Master. Eino Viljami",
                    "Goldsmith, Master. Frank John William \"Frankie\"",
                    "Baumann, Mr. John D",
                    "Ling, Mr. Lee",
                    "Van der hoef, Mr. Wyckoff",
                    "Rice, Master. Arthur",
                    "Sivola, Mr. Antti Wilhelm",
                    "Smith, Mr. James Clinch",
                    "Klasen, Mr. Klas Albin",
                    "Lefebre, Master. Henry Forbes",
                    "Hale, Mr. Reginald",
                    "Leonard, Mr. Lionel",
                    "Pernot, Mr. Rene",
                    "Asplund, Master. Clarence Gustaf Hugo",
                    "Becker, Master. Richard F",
                    "Rood, Mr. Hugh Roscoe",
                    "Romaine, Mr. Charles Hallace (\"Mr C Rolmane\")",
                    "Bourke, Mr. John",
                    "Turcin, Mr. Stjepan",
                    "Carbines, Mr. William",
                    "Navratil, Master. Michel M",
                    "Mernagh, Mr. Robert",
                    "Olsen, Mr. Karl Siegwart Andreas",
                    "Vande Walle, Mr. Nestor Cyriel",
                    "Sage, Mr. Frederick",
                    "Johanson, Mr. Jakob Alfred",
                    "Youseff, Mr. Gerious",
                    "Cohen, Mr. Gurshon \"Gus\"",
                    "Backstrom, Mr. Karl Alfred",
                    "Albimona, Mr. Nassef Cassem",
                    "Blank, Mr. Henry",
                    "Ali, Mr. Ahmed",
                    "Perkin, Mr. John Henry",
                    "Givard, Mr. Hans Kristensen",
                    "Kiernan, Mr. Philip",
                    "Jacobsohn, Mr. Sidney Samuel",
                    "Harris, Mr. Walter",
                    "Sunderland, Mr. Victor Francis",
                    "Bracken, Mr. James H",
                    "Green, Mr. George Henry",
                    "Nenkoff, Mr. Christo",
                    "Hoyt, Mr. Frederick Maxfield",
                    "Berglund, Mr. Karl Ivar Sven",
                    "Mellors, Mr. William John",
                    "Lovell, Mr. John Hall (\"Henry\")",
                    "Fahlstrom, Mr. Arne Jonas",
                    "Larsson, Mr. Bengt Edvin",
                    "Sjostedt, Mr. Ernst Adolf",
                    "Leyson, Mr. Robert William Norman",
                    "Hold, Mr. Stephen",
                    "Pengelly, Mr. Frederick William",
                    "Hunt, Mr. George Henry",
                    "Coleridge, Mr. Reginald Charles",
                    "Maenpaa, Mr. Matti Alexanteri",
                    "Attalah, Mr. Sleiman",
                    "Minahan, Dr. William Edward",
                    "Beckwith, Mr. Richard Leonard",
                    "Carter, Rev. Ernest Courtenay",
                    "Reed, Mr. James George",
                    "Stead, Mr. William Thomas",
                    "Lobb, Mr. William Arthur",
                    "Smith, Mr. Thomas",
                    "Asplund, Master. Edvin Rojj Felix",
                    "Taussig, Mr. Emil",
                    "Harrison, Mr. William",
                    "Reeves, Mr. David",
                    "Panula, Mr. Ernesti Arvid",
                    "Persson, Mr. Ernst Ulrik",
                    "Cairns, Mr. Alexander",
                    "Tornquist, Mr. William Henry",
                    "Natsch, Mr. Charles H",
                    "Parkes, Mr. Francis \"Frank\"",
                    "Rice, Master. Eric",
                    "Duane, Mr. Frank",
                    "Olsson, Mr. Nils Johan Goransson",
                    "de Pelsmaeker, Mr. Alfons",
                    "Dorking, Mr. Edward Arthur",
                    "Smith, Mr. Richard William",
                    "Stankovic, Mr. Ivan",
                    "de Mulder, Mr. Theodore",
                    "Naidenoff, Mr. Penko",
                    "Hosono, Mr. Masabumi",
                    "Levy, Mr. Rene Jacques",
                    "Mineff, Mr. Ivan",
                    "Lewy, Mr. Ervin G",
                    "Hanna, Mr. Mansour",
                    "Saalfeld, Mr. Adolphe",
                    "McCoy, Mr. Bernard",
                    "Johnson, Mr. William Cahoone Jr",
                    "Williams, Mr. Howard Hugh \"Harry\"",
                    "Allison, Master. Hudson Trevor",
                    "Abelson, Mr. Samuel",
                    "Hendekovic, Mr. Ignjac",
                    "Hart, Mr. Benjamin",
                    "Moraweck, Dr. Ernest",
                    "Dennis, Mr. Samuel",
                    "Danoff, Mr. Yoto",
                    "Sage, Mr. George John Jr",
                    "Nysveen, Mr. Johan Hansen",
                    "Partner, Mr. Austen",
                    "Graham, Mr. George Edward",
                    "Vander Planke, Mr. Leo Edmondus",
                    "Denkoff, Mr. Mitto",
                    "Pears, Mr. Thomas Clinton",
                    "Dahl, Mr. Karl Edwart",
                    "Blackwell, Mr. Stephen Weart",
                    "Navratil, Master. Edmond Roger",
                    "Collander, Mr. Erik Gustaf",
                    "Sedgwick, Mr. Charles Frederick Waddington",
                    "Fox, Mr. Stanley Hubert",
                    "Coutts, Master. William Loch \"William\"",
                    "Dimic, Mr. Jovan",
                    "Odahl, Mr. Nils Martin",
                    "Williams-Lambert, Mr. Fletcher Fellows",
                    "Elias, Mr. Tannous",
                    "Arnold-Franchi, Mr. Josef",
                    "Yousif, Mr. Wazli",
                    "Vanden Steen, Mr. Leo Peter",
                    "Skoog, Mr. Wilhelm",
                    "del Carlo, Mr. Sebastiano",
                    "Asim, Mr. Adola",
                    "O'Brien, Mr. Thomas",
                    "Adahl, Mr. Mauritz Nils Martin",
                    "Harder, Mr. George Achilles",
                    "Wiklund, Mr. Jakob Alfred",
                    "Beavan, Mr. William Thomas",
                    "Ringhini, Mr. Sante",
                    "Widener, Mr. Harry Elkins",
                    "Betros, Mr. Tannous",
                    "Gustafsson, Mr. Karl Gideon",
                    "Tikkanen, Mr. Juho",
                    "Plotcharsky, Mr. Vasil",
                    "Davies, Mr. Charles Henry",
                    "Goodwin, Master. Sidney Leonard",
                    "Sadlier, Mr. Matthew",
                    "Carter, Mr. William Ernest",
                    "Jansson, Mr. Carl Olof",
                    "Gustafsson, Mr. Johan Birger",
                    "Johansson, Mr. Erik",
                    "McKane, Mr. Peter David",
                    "Pain, Dr. Alfred",
                    "Niskanen, Mr. Juha",
                    "Adams, Mr. John",
                    "Hakkarainen, Mr. Pekka Pietari",
                    "Gale, Mr. Shadrach",
                    "Widegren, Mr. Carl/Charles Peter",
                    "Richards, Master. William Rowe",
                    "Birkeland, Mr. Hans Martin Monsen",
                    "Sdycoff, Mr. Todor",
                    "Hart, Mr. Henry",
                    "Cunningham, Mr. Alfred Fleming",
                    "Sundman, Mr. Johan Julian",
                    "Matthews, Mr. William John",
                    "Gheorgheff, Mr. Stanio",
                    "Charters, Mr. David",
                    "Zimmerman, Mr. Leo",
                    "Rosblom, Mr. Viktor Richard",
                    "Wiseman, Mr. Phillippe",
                    "Flynn, Mr. James",
                    "Pickard, Mr. Berk (Berk Trembisky)",
                    "Bjornstrom-Steffansson, Mr. Mauritz Hakan",
                    "Kallio, Mr. Nikolai Erland",
                    "Silvey, Mr. William Baird",
                    "Fortune, Mr. Mark",
                    "Kvillner, Mr. Johan Henrik Johannesson",
                    "Hampe, Mr. Leon",
                    "Petterson, Mr. Johan Emil",
                    "Johannesen-Bratthammer, Mr. Bernt",
                    "Dodge, Master. Washington",
                    "Seward, Mr. Frederic Kimber",
                    "Peuchen, Major. Arthur Godfrey",
                    "West, Mr. Edwy Arthur",
                    "Hagland, Mr. Ingvald Olai Olsen",
                    "Foreman, Mr. Benjamin Laventall",
                    "Goldenberg, Mr. Samuel L",
                    "Peduzzi, Mr. Joseph",
                    "Jalsevac, Mr. Ivan",
                    "Millet, Mr. Francis Davis",
                    "O'Connor, Mr. Maurice",
                    "Anderson, Mr. Harry",
                    "Morley, Mr. William",
                    "Gee, Mr. Arthur H",
                    "Milling, Mr. Jacob Christian",
                    "Maisner, Mr. Simon",
                    "Goncalves, Mr. Manuel Estanslas",
                    "Campbell, Mr. William",
                    "Smart, Mr. John Montgomery",
                    "Scanlan, Mr. James",
                    "Keefe, Mr. Arthur",
                    "Cacic, Mr. Luka",
                    "Clifford, Mr. George Quincy",
                    "Renouf, Mr. Peter Henry",
                    "Braund, Mr. Lewis Richard",
                    "Karlsson, Mr. Nils August",
                    "Goodwin, Master. Harold Victor",
                    "Frost, Mr. Anthony Wood \"Archie\"",
                    "Rouse, Mr. Richard Henry",
                    "Bishop, Mr. Dickinson H",
                    "Kent, Mr. Edward Austin",
                    "Somerton, Mr. Francis William",
                    "Coutts, Master. Eden Leslie \"Neville\"",
                    "Hagland, Mr. Konrad Mathias Reiersen",
                    "Windelov, Mr. Einar",
                    "Molson, Mr. Harry Markland",
                    "Artagaveytia, Mr. Ramon",
                    "Stanley, Mr. Edward Roland",
                    "Yousseff, Mr. Gerious",
                    "Shellard, Mr. Frederick William",
                    "Svensson, Mr. Olof",
                    "Calic, Mr. Petar",
                    "Penasco y Castellana, Mr. Victor de Satode",
                    "Bradley, Mr. George (\"George Arthur Brayton\")",
                    "Olsen, Mr. Henry Margido",
                    "Lang, Mr. Fang",
                    "Daly, Mr. Eugene Patrick",
                    "Webber, Mr. James",
                    "McGough, Mr. James Robert",
                    "Coleff, Mr. Satio",
                    "Walker, Mr. William Anderson",
                    "Ryan, Mr. Patrick",
                    "Pavlovic, Mr. Stefo",
                    "Vovk, Mr. Janko",
                    "Lahoud, Mr. Sarkis",
                    "Kassem, Mr. Fared",
                    "Farrell, Mr. James",
                    "Farthing, Mr. John",
                    "Salonen, Mr. Johan Werner",
                    "Hocking, Mr. Richard George",
                    "Toufik, Mr. Nakli",
                    "Elias, Mr. Joseph Jr",
                    "Butt, Major. Archibald Willingham",
                    "Risien, Mr. Samuel Beard",
                    "Beane, Mr. Edward",
                    "Douglas, Mr. Walter Donald",
                    "Nicholson, Mr. Arthur Ernest",
                    "Padro y Manent, Mr. Julian",
                    "Goldsmith, Mr. Frank John",
                    "Davies, Master. John Morgan Jr",
                    "Thayer, Mr. John Borland Jr",
                    "Sharp, Mr. Percival James R",
                    "O'Brien, Mr. Timothy",
                    "Leeni, Mr. Fahim (\"Philip Zenni\")",
                    "Wright, Mr. George",
                    "Robbins, Mr. Victor",
                    "Morrow, Mr. Thomas Rowan",
                    "Sivic, Mr. Husein",
                    "Norman, Mr. Robert Douglas",
                    "Simmons, Mr. John",
                    "Davies, Mr. Alfred J",
                    "Stoytcheff, Mr. Ilia",
                    "Doharr, Mr. Tannous",
                    "Jonsson, Mr. Carl",
                    "Harris, Mr. George",
                    "Flynn, Mr. John Irwin (\"Irving\")",
                    "Rush, Mr. Alfred George John",
                    "Patchett, Mr. George",
                    "Jussila, Mr. Eiriik",
                    "Downton, Mr. William James",
                    "Ross, Mr. John Hugo",
                    "Paulner, Mr. Uscher",
                    "Jarvis, Mr. John Denzil",
                    "Frolicher-Stehli, Mr. Maxmillian",
                    "Gilinski, Mr. Eliezer",
                    "Murdlin, Mr. Joseph",
                    "Rintamaki, Mr. Matti",
                    "Elsbury, Mr. William James",
                    "Chapman, Mr. John Henry",
                    "Van Impe, Mr. Jean Baptiste",
                    "Johnson, Mr. Alfred",
                    "Boulos, Mr. Hanna",
                    "Duff Gordon, Sir. Cosmo Edmund (\"Mr Morgan\")",
                    "Slabenoff, Mr. Petco",
                    "Harrington, Mr. Charles H",
                    "Torber, Mr. Ernst William",
                    "Homer, Mr. Harry (\"Mr E Haven\")",
                    "Lindell, Mr. Edvard Bengtsson",
                    "Karaic, Mr. Milan",
                    "Daniel, Mr. Robert Williams",
                    "Jardin, Mr. Jose Neto",
                    "Horgan, Mr. John",
                    "Brocklebank, Mr. William Alfred",
                    "Danbom, Mr. Ernst Gilbert",
                    "Gavey, Mr. Lawrence",
                    "Yasbeck, Mr. Antoni",
                    "Kimball, Mr. Edwin Nelson Jr",
                    "Nakid, Mr. Sahid",
                    "Hansen, Mr. Henry Damsgaard",
                    "Bowen, Mr. David John \"Dai\"",
                    "Sutton, Mr. Frederick",
                    "Kirkland, Rev. Charles Leonard",
                    "Bostandyeff, Mr. Guentcho",
                    "O'Connell, Mr. Patrick D",
                    "Barkworth, Mr. Algernon Henry Wilson",
                    "Lundahl, Mr. Johan Svensson",
                    "Stahelin-Maeglin, Dr. Max",
                    "Parr, Mr. William Henry Marsh",
                    "Leinonen, Mr. Antti Gustaf",
                    "Collyer, Mr. Harvey",
                    "Thorneycroft, Mr. Percival",
                    "Jensen, Mr. Hans Peder",
                    "Foo, Mr. Choong",
                    "Harper, Mr. Henry Sleeper",
                    "Cor, Mr. Liudevit",
                    "Simonius-Blumer, Col. Oberst Alfons",
                    "Willey, Mr. Edward",
                    "Mitkoff, Mr. Mito",
                    "Kalvik, Mr. Johannes Halvorsen",
                    "Hickman, Mr. Leonard Mark",
                    "Radeff, Mr. Alexander",
                    "Eitemiller, Mr. George Floyd",
                    "Newell, Mr. Arthur Webster",
                    "Frauenthal, Dr. Henry William",
                    "Badt, Mr. Mohamed",
                    "Colley, Mr. Edward Pomeroy",
                    "Coleff, Mr. Peju",
                    "Lindqvist, Mr. Eino William",
                    "Hickman, Mr. Lewis",
                    "Butler, Mr. Reginald Fenton",
                    "Rommetvedt, Mr. Knud Paust",
                    "Cook, Mr. Jacob",
                    "Davidson, Mr. Thornton",
                    "Mitchell, Mr. Henry Michael",
                    "Wilhelms, Mr. Charles",
                    "Watson, Mr. Ennis Hastings",
                    "Edvardsson, Mr. Gustaf Hjalmar",
                    "Sawyer, Mr. Frederick Charles",
                    "Cardeza, Mr. Thomas Drake Martinez",
                    "Hassab, Mr. Hammad",
                    "Olsvigen, Mr. Thor Anderson",
                    "Goodwin, Mr. Charles Edward",
                    "Brown, Mr. Thomas William Solomon",
                    "Laroche, Mr. Joseph Philippe Lemercier",
                    "Panula, Mr. Jaako Arnold",
                    "Dakic, Mr. Branko",
                    "Fischer, Mr. Eberhard Thelander",
                    "Dick, Mr. Albert Adrian",
                    "Lam, Mr. Ali",
                    "Saad, Mr. Khalil",
                    "Weir, Col. John",
                    "Chapman, Mr. Charles Henry",
                    "Kelly, Mr. James",
                    "Thayer, Mr. John Borland",
                    "Humblen, Mr. Adolf Mathias Nicolai Olsen",
                    "Silverthorne, Mr. Spencer Victor",
                    "Gallagher, Mr. Martin",
                    "Hansen, Mr. Henrik Juul",
                    "Morley, Mr. Henry Samuel (\"Mr Henry Marshall\")",
                    "Calderhead, Mr. Edward Pennington",
                    "Moubarek, Master. Halim Gonios (\"William George\")",
                    "Klaber, Mr. Herman",
                    "Taylor, Mr. Elmer Zebley",
                    "Larsson, Mr. August Viktor",
                    "Greenberg, Mr. Samuel",
                    "Soholt, Mr. Peter Andreas Lauritz Andersen",
                    "McEvoy, Mr. Michael",
                    "Johnson, Mr. Malkolm Joackim",
                    "Jensen, Mr. Svend Lauritz",
                    "Gillespie, Mr. William Henry",
                    "Hodges, Mr. Henry Price",
                    "Chambers, Mr. Norman Campbell",
                    "Oreskovic, Mr. Luka",
                    "Bryhl, Mr. Kurt Arnold Gottfrid",
                    "Hassan, Mr. Houssein G N",
                    "Knight, Mr. Robert J",
                    "Berriman, Mr. William John",
                    "Troupiansky, Mr. Moses Aaron",
                    "Williams, Mr. Leslie",
                    "Lesurer, Mr. Gustave J",
                    "Ivanoff, Mr. Kanio",
                    "Nankoff, Mr. Minko",
                    "Hawksford, Mr. Walter James",
                    "Cavendish, Mr. Tyrell William",
                    "McNamee, Mr. Neal",
                    "Stranden, Mr. Juho",
                    "Crosby, Capt. Edward Gifford",
                    "Abbott, Mr. Rossmore Edward",
                    "Marvin, Mr. Daniel Warner",
                    "Connaghton, Mr. Michael",
                    "Moor, Master. Meier",
                    "Vande Velde, Mr. Johannes Joseph",
                    "Jonkoff, Mr. Lalio",
                    "Hamalainen, Master. Viljo",
                    "Carlsson, Mr. August Sigfrid",
                    "Bailey, Mr. Percy Andrew",
                    "Theobald, Mr. Thomas Leonard",
                    "Garfirth, Mr. John",
                    "Nirva, Mr. Iisakki Antino Aijo",
                    "Barah, Mr. Hanna Assi",
                    "Eklund, Mr. Hans Linus",
                    "Brewe, Dr. Arthur Jackson",
                    "Moran, Mr. Daniel J",
                    "Gronnestad, Mr. Daniel Danielsen",
                    "Lievens, Mr. Rene Aime",
                    "Jensen, Mr. Niels Peder",
                    "Elias, Mr. Dibo",
                    "Myhrman, Mr. Pehr Fabian Oliver Malkolm",
                    "Tobin, Mr. Roger",
                    "Kilgannon, Mr. Thomas J",
                    "Long, Mr. Milton Clyde",
                    "Johnston, Mr. Andrew G",
                    "Ali, Mr. William",
                    "Harmer, Mr. Abraham (David Lishin)",
                    "Rice, Master. George Hugh",
                    "Dean, Master. Bertram Vere",
                    "Guggenheim, Mr. Benjamin",
                    "Keane, Mr. Andrew \"Andy\"",
                    "Gaskell, Mr. Alfred",
                    "Hoyt, Mr. William Fisher",
                    "Dantcheff, Mr. Ristiu",
                    "Otter, Mr. Richard",
                    "Ibrahim Shawah, Mr. Yousseff",
                    "Ponesell, Mr. Martin",
                    "Carter, Master. William Thornton II",
                    "Thomas, Master. Assad Alexander",
                    "Hedman, Mr. Oskar Arvid",
                    "Johansson, Mr. Karl Johan",
                    "Andrews, Mr. Thomas Jr",
                    "Meyer, Mr. August",
                    "Alexander, Mr. William",
                    "Lester, Mr. James",
                    "Slemen, Mr. Richard James",
                    "Tomlin, Mr. Ernest Portage",
                    "Fry, Mr. Richard",
                    "Mallet, Mr. Albert",
                    "Holm, Mr. John Fredrik Alexander",
                    "Skoog, Master. Karl Thorsten",
                    "Lulic, Mr. Nikola",
                    "Reuchlin, Jonkheer. John George",
                    "Panula, Master. Urho Abraham",
                    "Flynn, Mr. John",
                    "Lam, Mr. Len",
                    "Mallet, Master. Andre",
                    "McCormack, Mr. Thomas Joseph",
                    "Richards, Master. George Sibley",
                    "Saad, Mr. Amin",
                    "Augustsson, Mr. Albert",
                    "Allum, Mr. Owen George",
                    "Pasic, Mr. Jakob",
                    "Sirota, Mr. Maurice",
                    "Chip, Mr. Chang",
                    "Marechal, Mr. Pierre",
                    "Alhomaki, Mr. Ilmari Rudolf",
                    "Mudd, Mr. Thomas Charles",
                    "Lemberopolous, Mr. Peter L",
                    "Culumovic, Mr. Jeso",
                    "Abbing, Mr. Anthony",
                    "Sage, Mr. Douglas Bullen",
                    "Markoff, Mr. Marin",
                    "Harper, Rev. John",
                    "Andersson, Master. Sigvard Harald Elias",
                    "Svensson, Mr. Johan",
                    "Daly, Mr. Peter Denis ",
                    "Razi, Mr. Raihed",
                    "Hansen, Mr. Claus Peter",
                    "Giles, Mr. Frederick Edward",
                    "Gill, Mr. John William",
                    "Roebling, Mr. Washington Augustus II",
                    "van Melkebeke, Mr. Philemon",
                    "Johnson, Master. Harold Theodor",
                    "Balkic, Mr. Cerin",
                    "Carlsson, Mr. Frans Olof",
                    "Vander Cruyssen, Mr. Victor",
                    "Gustafsson, Mr. Alfred Ossian",
                    "Petroff, Mr. Nedelio",
                    "Laleff, Mr. Kristo",
                    "Markun, Mr. Johann",
                    "Banfield, Mr. Frederick James",
                    "Sutehall, Mr. Henry Jr",
                    "Montvila, Rev. Juozas",
                    "Behr, Mr. Karl Howell",
                    "Dooley, Mr. Patrick"
                  ],
                  "legendgroup": "male",
                  "marker": {
                    "color": "#636efa",
                    "size": [
                      3,
                      3,
                      3,
                      1,
                      3,
                      3,
                      3,
                      3,
                      2,
                      2,
                      2,
                      1,
                      3,
                      1,
                      3,
                      1,
                      2,
                      1,
                      1,
                      3,
                      3,
                      3,
                      3,
                      3,
                      3,
                      3,
                      3,
                      1,
                      1,
                      3,
                      3,
                      3,
                      1,
                      3,
                      1,
                      3,
                      3,
                      3,
                      2,
                      2,
                      3,
                      3,
                      3,
                      3,
                      3,
                      2,
                      3,
                      3,
                      1,
                      3,
                      3,
                      3,
                      3,
                      3,
                      1,
                      3,
                      3,
                      3,
                      1,
                      1,
                      2,
                      3,
                      1,
                      3,
                      3,
                      3,
                      3,
                      3,
                      1,
                      3,
                      3,
                      3,
                      2,
                      1,
                      2,
                      3,
                      2,
                      1,
                      3,
                      3,
                      3,
                      3,
                      3,
                      3,
                      2,
                      2,
                      1,
                      3,
                      1,
                      3,
                      2,
                      2,
                      3,
                      2,
                      2,
                      2,
                      3,
                      3,
                      3,
                      1,
                      3,
                      3,
                      3,
                      3,
                      3,
                      3,
                      3,
                      3,
                      1,
                      3,
                      1,
                      3,
                      3,
                      1,
                      3,
                      3,
                      2,
                      3,
                      2,
                      3,
                      2,
                      1,
                      1,
                      3,
                      3,
                      2,
                      2,
                      3,
                      3,
                      3,
                      3,
                      3,
                      3,
                      3,
                      3,
                      3,
                      1,
                      3,
                      3,
                      2,
                      3,
                      2,
                      2,
                      3,
                      2,
                      3,
                      3,
                      1,
                      3,
                      2,
                      3,
                      2,
                      3,
                      2,
                      2,
                      2,
                      2,
                      2,
                      2,
                      3,
                      3,
                      1,
                      1,
                      2,
                      3,
                      1,
                      3,
                      3,
                      3,
                      1,
                      1,
                      2,
                      3,
                      3,
                      1,
                      3,
                      1,
                      2,
                      3,
                      3,
                      3,
                      3,
                      3,
                      1,
                      3,
                      3,
                      3,
                      2,
                      2,
                      3,
                      1,
                      3,
                      1,
                      3,
                      3,
                      3,
                      1,
                      2,
                      3,
                      2,
                      2,
                      3,
                      3,
                      3,
                      3,
                      1,
                      1,
                      3,
                      3,
                      1,
                      3,
                      1,
                      2,
                      2,
                      2,
                      2,
                      3,
                      3,
                      3,
                      1,
                      3,
                      3,
                      3,
                      3,
                      3,
                      2,
                      3,
                      3,
                      3,
                      1,
                      3,
                      3,
                      1,
                      1,
                      3,
                      3,
                      3,
                      3,
                      2,
                      3,
                      3,
                      1,
                      3,
                      3,
                      3,
                      2,
                      2,
                      3,
                      3,
                      3,
                      2,
                      3,
                      2,
                      3,
                      3,
                      3,
                      2,
                      3,
                      2,
                      3,
                      3,
                      3,
                      3,
                      3,
                      3,
                      3,
                      1,
                      3,
                      1,
                      1,
                      2,
                      3,
                      3,
                      3,
                      1,
                      1,
                      1,
                      2,
                      3,
                      1,
                      1,
                      3,
                      3,
                      1,
                      3,
                      1,
                      3,
                      1,
                      2,
                      3,
                      3,
                      2,
                      1,
                      3,
                      3,
                      3,
                      1,
                      2,
                      3,
                      3,
                      3,
                      2,
                      3,
                      1,
                      1,
                      3,
                      3,
                      3,
                      3,
                      1,
                      1,
                      3,
                      3,
                      3,
                      3,
                      3,
                      1,
                      1,
                      3,
                      3,
                      3,
                      3,
                      1,
                      3,
                      1,
                      3,
                      3,
                      3,
                      3,
                      3,
                      3,
                      1,
                      3,
                      2,
                      3,
                      3,
                      1,
                      3,
                      2,
                      1,
                      1,
                      2,
                      3,
                      2,
                      1,
                      2,
                      3,
                      3,
                      1,
                      1,
                      3,
                      3,
                      2,
                      3,
                      3,
                      3,
                      3,
                      3,
                      2,
                      1,
                      3,
                      3,
                      3,
                      2,
                      1,
                      3,
                      2,
                      1,
                      3,
                      3,
                      3,
                      3,
                      2,
                      3,
                      3,
                      3,
                      1,
                      3,
                      1,
                      3,
                      1,
                      3,
                      3,
                      1,
                      3,
                      3,
                      3,
                      3,
                      2,
                      3,
                      1,
                      3,
                      3,
                      3,
                      1,
                      2,
                      3,
                      3,
                      1,
                      3,
                      1,
                      1,
                      3,
                      2,
                      3,
                      3,
                      3,
                      1,
                      3,
                      1,
                      3,
                      3,
                      3,
                      2,
                      3,
                      2,
                      1,
                      1,
                      3,
                      1,
                      3,
                      3,
                      2,
                      2,
                      3,
                      3,
                      1,
                      2,
                      2,
                      2,
                      3,
                      3,
                      1,
                      1,
                      3,
                      3,
                      2,
                      2,
                      3,
                      3,
                      3,
                      1,
                      3,
                      3,
                      1,
                      2,
                      3,
                      1,
                      3,
                      1,
                      3,
                      3,
                      2,
                      1,
                      3,
                      1,
                      1,
                      3,
                      2,
                      3,
                      3,
                      3,
                      3,
                      2,
                      2,
                      1,
                      3,
                      2,
                      3,
                      2,
                      2,
                      2,
                      3,
                      1,
                      3,
                      3,
                      1,
                      1,
                      3,
                      3,
                      1,
                      3,
                      1,
                      3,
                      3,
                      3,
                      3,
                      2,
                      3,
                      2,
                      3,
                      3,
                      3,
                      3,
                      3,
                      1,
                      3,
                      3,
                      3,
                      3,
                      3,
                      3,
                      3,
                      3,
                      1,
                      3,
                      3,
                      3,
                      3,
                      3,
                      1,
                      3,
                      2,
                      1,
                      3,
                      2,
                      3,
                      2,
                      1,
                      3,
                      3,
                      3,
                      1,
                      2,
                      3,
                      3,
                      2,
                      3,
                      1,
                      2,
                      3,
                      3,
                      3,
                      1,
                      3,
                      3,
                      3,
                      2,
                      3,
                      2,
                      3,
                      3,
                      3,
                      3,
                      3,
                      3,
                      1,
                      3,
                      2,
                      3,
                      3,
                      3,
                      3,
                      3,
                      2,
                      3,
                      3,
                      1,
                      3,
                      3,
                      2,
                      2,
                      1,
                      3,
                      3,
                      3,
                      1,
                      3,
                      3,
                      3,
                      3,
                      3,
                      2,
                      3,
                      2,
                      1,
                      3
                    ],
                    "sizemode": "area",
                    "sizeref": 0.0075,
                    "symbol": "circle"
                  },
                  "mode": "markers",
                  "name": "male",
                  "orientation": "v",
                  "showlegend": true,
                  "type": "scatter",
                  "x": [
                    22,
                    35,
                    null,
                    54,
                    2,
                    20,
                    39,
                    2,
                    null,
                    35,
                    34,
                    28,
                    null,
                    19,
                    null,
                    40,
                    66,
                    28,
                    42,
                    null,
                    21,
                    null,
                    null,
                    null,
                    null,
                    7,
                    21,
                    65,
                    null,
                    28.5,
                    11,
                    22,
                    45,
                    4,
                    null,
                    null,
                    19,
                    26,
                    32,
                    21,
                    26,
                    32,
                    25,
                    null,
                    null,
                    0.83,
                    22,
                    29,
                    28,
                    16,
                    null,
                    24,
                    29,
                    20,
                    46,
                    26,
                    59,
                    null,
                    71,
                    23,
                    34,
                    null,
                    21,
                    33,
                    37,
                    28,
                    null,
                    38,
                    47,
                    22,
                    21,
                    70.5,
                    29,
                    24,
                    21,
                    null,
                    32.5,
                    54,
                    12,
                    null,
                    24,
                    45,
                    33,
                    20,
                    25,
                    23,
                    37,
                    16,
                    24,
                    19,
                    18,
                    19,
                    27,
                    36.5,
                    42,
                    51,
                    55.5,
                    40.5,
                    null,
                    51,
                    30,
                    null,
                    null,
                    44,
                    26,
                    17,
                    1,
                    9,
                    null,
                    28,
                    61,
                    4,
                    21,
                    56,
                    18,
                    null,
                    30,
                    36,
                    null,
                    9,
                    1,
                    null,
                    45,
                    40,
                    36,
                    19,
                    3,
                    null,
                    42,
                    28,
                    null,
                    34,
                    45.5,
                    18,
                    32,
                    26,
                    40,
                    24,
                    22,
                    30,
                    null,
                    42,
                    30,
                    16,
                    27,
                    51,
                    null,
                    38,
                    22,
                    19,
                    20.5,
                    18,
                    29,
                    59,
                    24,
                    44,
                    19,
                    33,
                    29,
                    22,
                    30,
                    44,
                    37,
                    54,
                    null,
                    62,
                    30,
                    null,
                    3,
                    52,
                    40,
                    36,
                    16,
                    25,
                    null,
                    25,
                    37,
                    null,
                    7,
                    65,
                    28,
                    16,
                    19,
                    null,
                    33,
                    30,
                    22,
                    42,
                    36,
                    24,
                    null,
                    23.5,
                    null,
                    null,
                    19,
                    null,
                    0.92,
                    30,
                    28,
                    43,
                    54,
                    22,
                    27,
                    null,
                    61,
                    45.5,
                    38,
                    16,
                    null,
                    29,
                    45,
                    45,
                    2,
                    28,
                    25,
                    36,
                    3,
                    42,
                    23,
                    null,
                    15,
                    25,
                    null,
                    28,
                    40,
                    29,
                    35,
                    null,
                    30,
                    25,
                    18,
                    19,
                    22,
                    27,
                    20,
                    19,
                    32,
                    null,
                    18,
                    1,
                    null,
                    36,
                    21,
                    28,
                    22,
                    46,
                    23,
                    39,
                    26,
                    28,
                    34,
                    51,
                    3,
                    21,
                    null,
                    null,
                    null,
                    44,
                    30,
                    null,
                    21,
                    29,
                    18,
                    null,
                    null,
                    32,
                    28,
                    17,
                    50,
                    64,
                    31,
                    20,
                    25,
                    null,
                    4,
                    34,
                    52,
                    36,
                    null,
                    30,
                    49,
                    null,
                    29,
                    65,
                    null,
                    48,
                    34,
                    47,
                    48,
                    null,
                    38,
                    null,
                    56,
                    null,
                    null,
                    38,
                    null,
                    34,
                    29,
                    22,
                    9,
                    null,
                    50,
                    25,
                    58,
                    30,
                    9,
                    null,
                    21,
                    55,
                    71,
                    21,
                    null,
                    null,
                    24,
                    17,
                    18,
                    null,
                    28,
                    26,
                    29,
                    null,
                    36,
                    24,
                    47,
                    null,
                    32,
                    22,
                    null,
                    null,
                    40.5,
                    null,
                    39,
                    23,
                    null,
                    17,
                    45,
                    null,
                    32,
                    50,
                    64,
                    null,
                    33,
                    8,
                    17,
                    27,
                    null,
                    22,
                    62,
                    null,
                    null,
                    40,
                    28,
                    null,
                    24,
                    19,
                    null,
                    32,
                    62,
                    36,
                    16,
                    19,
                    32,
                    54,
                    36,
                    null,
                    47,
                    60,
                    22,
                    null,
                    35,
                    47,
                    37,
                    36,
                    49,
                    null,
                    49,
                    null,
                    null,
                    44,
                    35,
                    36,
                    30,
                    27,
                    null,
                    null,
                    35,
                    34,
                    26,
                    27,
                    42,
                    20,
                    21,
                    21,
                    61,
                    57,
                    26,
                    null,
                    80,
                    51,
                    32,
                    null,
                    32,
                    31,
                    null,
                    20,
                    null,
                    48,
                    19,
                    56,
                    null,
                    null,
                    21,
                    24,
                    null,
                    23,
                    58,
                    50,
                    40,
                    47,
                    36,
                    20,
                    32,
                    25,
                    null,
                    43,
                    31,
                    70,
                    31,
                    null,
                    18,
                    24.5,
                    36,
                    27,
                    20,
                    14,
                    60,
                    25,
                    14,
                    19,
                    18,
                    31,
                    null,
                    25,
                    60,
                    52,
                    44,
                    49,
                    42,
                    35,
                    25,
                    26,
                    39,
                    42,
                    null,
                    null,
                    48,
                    29,
                    52,
                    19,
                    null,
                    33,
                    17,
                    34,
                    50,
                    27,
                    20,
                    25,
                    11,
                    null,
                    23,
                    23,
                    28.5,
                    35,
                    null,
                    null,
                    null,
                    36,
                    24,
                    31,
                    70,
                    16,
                    19,
                    31,
                    6,
                    33,
                    23,
                    0.67,
                    28,
                    18,
                    34,
                    null,
                    41,
                    20,
                    16,
                    null,
                    null,
                    32,
                    24,
                    48,
                    null,
                    18,
                    null,
                    null,
                    29,
                    null,
                    25,
                    25,
                    8,
                    1,
                    46,
                    null,
                    16,
                    null,
                    25,
                    39,
                    30,
                    34,
                    11,
                    0.42,
                    27,
                    31,
                    39,
                    39,
                    26,
                    39,
                    35,
                    30.5,
                    null,
                    31,
                    43,
                    10,
                    27,
                    38,
                    2,
                    null,
                    null,
                    1,
                    null,
                    0.83,
                    null,
                    23,
                    18,
                    21,
                    null,
                    32,
                    null,
                    20,
                    16,
                    34.5,
                    17,
                    42,
                    null,
                    35,
                    28,
                    4,
                    74,
                    51,
                    null,
                    41,
                    21,
                    24,
                    31,
                    null,
                    4,
                    26,
                    33,
                    47,
                    20,
                    19,
                    null,
                    33,
                    28,
                    25,
                    27,
                    26,
                    32
                  ],
                  "xaxis": "x",
                  "y": [
                    7.25,
                    8.05,
                    8.4583,
                    51.8625,
                    21.075,
                    8.05,
                    31.275,
                    29.125,
                    13,
                    26,
                    13,
                    35.5,
                    7.225,
                    263,
                    7.8958,
                    27.7208,
                    10.5,
                    82.1708,
                    52,
                    7.2292,
                    8.05,
                    7.8958,
                    8.05,
                    15.5,
                    21.6792,
                    39.6875,
                    7.8,
                    61.9792,
                    35.5,
                    7.2292,
                    46.9,
                    7.2292,
                    83.475,
                    27.9,
                    27.7208,
                    15.2458,
                    8.1583,
                    8.6625,
                    10.5,
                    73.5,
                    14.4542,
                    56.4958,
                    7.65,
                    7.8958,
                    8.05,
                    29,
                    9,
                    9.5,
                    47.1,
                    34.375,
                    8.05,
                    8.05,
                    8.05,
                    7.8542,
                    61.175,
                    20.575,
                    7.25,
                    8.05,
                    34.6542,
                    63.3583,
                    26,
                    7.8958,
                    77.2875,
                    8.6542,
                    7.925,
                    7.8958,
                    7.775,
                    7.8958,
                    52,
                    8.05,
                    7.925,
                    7.75,
                    21,
                    247.5208,
                    73.5,
                    8.05,
                    30.0708,
                    77.2875,
                    11.2417,
                    7.75,
                    7.1417,
                    6.975,
                    7.8958,
                    7.05,
                    13,
                    15.0458,
                    53.1,
                    9.2167,
                    79.2,
                    6.75,
                    11.5,
                    36.75,
                    7.7958,
                    26,
                    13,
                    12.525,
                    8.05,
                    14.5,
                    7.3125,
                    61.3792,
                    8.05,
                    8.6625,
                    69.55,
                    16.1,
                    7.775,
                    8.6625,
                    39.6875,
                    20.525,
                    25.925,
                    56.4958,
                    33.5,
                    29.125,
                    7.925,
                    30.6958,
                    7.8542,
                    25.4667,
                    13,
                    0,
                    15.05,
                    31.3875,
                    39,
                    50,
                    26.55,
                    15.5,
                    7.8958,
                    13,
                    26,
                    7.75,
                    8.4042,
                    9.5,
                    69.55,
                    6.4958,
                    7.225,
                    8.05,
                    15.85,
                    18.7875,
                    31,
                    7.05,
                    7.25,
                    13,
                    7.75,
                    27,
                    10.5,
                    8.05,
                    13,
                    8.05,
                    7.8958,
                    90,
                    9.35,
                    10.5,
                    7.25,
                    13,
                    7.775,
                    13.5,
                    10.5,
                    26,
                    10.5,
                    12.275,
                    10.5,
                    7.125,
                    7.225,
                    90,
                    52.5542,
                    26,
                    7.25,
                    26.55,
                    16.1,
                    7.75,
                    31.3875,
                    79.65,
                    0,
                    10.5,
                    39.6875,
                    7.775,
                    31,
                    0,
                    29.7,
                    0,
                    29.125,
                    7.75,
                    7.8542,
                    9.5,
                    8.05,
                    26,
                    8.6625,
                    9.5,
                    7.8958,
                    13,
                    12.875,
                    7.8958,
                    27.7208,
                    7.2292,
                    30.5,
                    23.25,
                    0,
                    8.05,
                    151.55,
                    24,
                    7.8958,
                    26.25,
                    14,
                    7.25,
                    7.8958,
                    69.55,
                    6.2375,
                    28.5,
                    153.4625,
                    18,
                    7.8958,
                    66.6,
                    8.05,
                    35.5,
                    26,
                    13,
                    13,
                    13,
                    15.9,
                    8.6625,
                    9.225,
                    35,
                    7.2292,
                    17.8,
                    7.225,
                    9.5,
                    27.9,
                    27.7208,
                    7.05,
                    15.5,
                    7.25,
                    55.4417,
                    6.4958,
                    8.05,
                    135.6333,
                    211.5,
                    4.0125,
                    7.775,
                    7.925,
                    7.8958,
                    73.5,
                    46.9,
                    7.7292,
                    120,
                    7.7958,
                    7.925,
                    7.7958,
                    26,
                    10.5,
                    7.925,
                    8.05,
                    15.85,
                    21,
                    7.75,
                    18.75,
                    7.775,
                    7.8958,
                    6.8583,
                    0,
                    7.925,
                    13,
                    7.8958,
                    7.7333,
                    7.875,
                    20.2125,
                    7.25,
                    7.75,
                    8.05,
                    26.55,
                    7.125,
                    55.9,
                    263,
                    10.5,
                    9.5,
                    7.775,
                    8.1125,
                    81.8583,
                    26.55,
                    30.5,
                    27.75,
                    19.9667,
                    27.75,
                    89.1042,
                    8.05,
                    7.8958,
                    26.55,
                    7.75,
                    26.55,
                    8.05,
                    38.5,
                    13,
                    8.05,
                    7.05,
                    0,
                    26.55,
                    7.725,
                    7.25,
                    8.6625,
                    52,
                    21,
                    7.0458,
                    7.5208,
                    46.9,
                    0,
                    8.05,
                    91.0792,
                    29.7,
                    8.05,
                    15.9,
                    19.9667,
                    7.25,
                    30.5,
                    49.5042,
                    8.05,
                    14.4583,
                    15.1,
                    7.7958,
                    8.6625,
                    108.9,
                    26.55,
                    22.525,
                    56.4958,
                    7.75,
                    8.05,
                    26.2875,
                    7.4958,
                    34.0208,
                    24.15,
                    7.8958,
                    7.8958,
                    7.225,
                    7.2292,
                    7.75,
                    221.7792,
                    7.925,
                    11.5,
                    7.2292,
                    7.2292,
                    26.55,
                    14.5,
                    26,
                    106.425,
                    26,
                    13.8625,
                    20.525,
                    36.75,
                    110.8833,
                    26,
                    7.8292,
                    7.225,
                    26.55,
                    227.525,
                    7.75,
                    7.8958,
                    13.5,
                    8.05,
                    24.15,
                    7.8958,
                    7.2292,
                    7.8542,
                    10.5,
                    26.3875,
                    8.05,
                    14.5,
                    7.925,
                    26,
                    40.125,
                    8.7125,
                    15,
                    79.2,
                    8.05,
                    8.05,
                    7.125,
                    7.25,
                    26,
                    24.15,
                    0,
                    7.225,
                    56.9292,
                    7.8958,
                    42.4,
                    8.05,
                    26.55,
                    15.55,
                    7.8958,
                    30.5,
                    7.05,
                    7.75,
                    8.05,
                    14.4,
                    10.5,
                    14.4542,
                    52.5542,
                    15.7417,
                    7.8542,
                    16.1,
                    32.3208,
                    12.35,
                    7.8958,
                    7.7333,
                    30,
                    7.0542,
                    30.5,
                    0,
                    7.925,
                    26.25,
                    16.1,
                    7.8542,
                    56.4958,
                    76.7292,
                    7.8958,
                    35.5,
                    7.55,
                    7.8958,
                    8.4333,
                    73.5,
                    7.8958,
                    13,
                    113.275,
                    133.65,
                    7.225,
                    25.5875,
                    7.4958,
                    7.925,
                    73.5,
                    13,
                    7.775,
                    8.05,
                    52,
                    10.5,
                    13,
                    0,
                    7.775,
                    8.05,
                    512.3292,
                    76.7292,
                    9.225,
                    46.9,
                    39,
                    41.5792,
                    39.6875,
                    10.1708,
                    7.7958,
                    57,
                    56.4958,
                    7.225,
                    26.55,
                    13.5,
                    8.05,
                    110.8833,
                    7.65,
                    26.2875,
                    7.7417,
                    7.8542,
                    26,
                    26.2875,
                    15.2458,
                    26.55,
                    52,
                    9.4833,
                    13,
                    7.65,
                    15.5,
                    7.775,
                    7.0542,
                    13,
                    13,
                    53.1,
                    8.6625,
                    26,
                    18.7875,
                    0,
                    13,
                    13,
                    16.1,
                    512.3292,
                    7.8958,
                    7.8958,
                    30,
                    78.85,
                    16.1,
                    7.925,
                    71,
                    20.25,
                    53.1,
                    7.75,
                    12.475,
                    9.5,
                    7.8958,
                    14.5,
                    7.7958,
                    11.5,
                    8.05,
                    14.5,
                    7.125,
                    7.2292,
                    7.775,
                    39.6,
                    24.15,
                    8.3625,
                    9.5,
                    7.8542,
                    7.225,
                    7.75,
                    7.75,
                    7.7375,
                    30,
                    23.45,
                    7.05,
                    7.25,
                    29.125,
                    20.575,
                    79.2,
                    7.75,
                    26,
                    30.6958,
                    7.8958,
                    13,
                    7.2292,
                    13,
                    120,
                    8.5167,
                    6.975,
                    7.775,
                    0,
                    13,
                    7.8875,
                    24.15,
                    10.5,
                    8.05,
                    0,
                    37.0042,
                    6.45,
                    27.9,
                    8.6625,
                    0,
                    39.6875,
                    6.95,
                    56.4958,
                    37.0042,
                    7.75,
                    18.75,
                    7.2292,
                    7.8542,
                    8.3,
                    8.6625,
                    8.05,
                    56.4958,
                    29.7,
                    7.925,
                    10.5,
                    6.4375,
                    8.6625,
                    7.55,
                    69.55,
                    7.8958,
                    33,
                    31.275,
                    7.775,
                    26.55,
                    7.2292,
                    14.1083,
                    11.5,
                    13,
                    50.4958,
                    9.5,
                    11.1333,
                    7.8958,
                    5,
                    9,
                    9.8458,
                    7.8958,
                    7.8958,
                    7.8958,
                    10.5,
                    7.05,
                    13,
                    30,
                    7.75
                  ],
                  "yaxis": "y"
                },
                {
                  "hovertemplate": "<b>%{hovertext}</b><br><br>Sex=female<br>Age=%{x}<br>Fare=%{y}<br>Pclass=%{marker.size}<extra></extra>",
                  "hovertext": [
                    "Cumings, Mrs. John Bradley (Florence Briggs Thayer)",
                    "Heikkinen, Miss. Laina",
                    "Futrelle, Mrs. Jacques Heath (Lily May Peel)",
                    "Johnson, Mrs. Oscar W (Elisabeth Vilhelmina Berg)",
                    "Nasser, Mrs. Nicholas (Adele Achem)",
                    "Sandstrom, Miss. Marguerite Rut",
                    "Bonnell, Miss. Elizabeth",
                    "Vestrom, Miss. Hulda Amanda Adolfina",
                    "Hewlett, Mrs. (Mary D Kingcome) ",
                    "Vander Planke, Mrs. Julius (Emelia Maria Vandemoortele)",
                    "Masselmani, Mrs. Fatima",
                    "McGowan, Miss. Anna \"Annie\"",
                    "Palsson, Miss. Torborg Danira",
                    "Asplund, Mrs. Carl Oscar (Selma Augusta Emilia Johansson)",
                    "O'Dwyer, Miss. Ellen \"Nellie\"",
                    "Spencer, Mrs. William Augustus (Marie Eugenie)",
                    "Glynn, Miss. Mary Agatha",
                    "Vander Planke, Miss. Augusta Maria",
                    "Nicola-Yarred, Miss. Jamila",
                    "Ahlin, Mrs. Johan (Johanna Persdotter Larsson)",
                    "Turpin, Mrs. William John Robert (Dorothy Ann Wonnacott)",
                    "Laroche, Miss. Simonne Marie Anne Andree",
                    "Devaney, Miss. Margaret Delia",
                    "O'Driscoll, Miss. Bridget",
                    "Arnold-Franchi, Mrs. Josef (Josefine Franchi)",
                    "Harper, Mrs. Henry Sleeper (Myna Haxtun)",
                    "Faunthorpe, Mrs. Lizzie (Elizabeth Anne Wilkinson)",
                    "Rugg, Miss. Emily",
                    "West, Miss. Constance Mirium",
                    "Icard, Miss. Amelie",
                    "Nye, Mrs. (Elizabeth Ramell)",
                    "Andersson, Miss. Erna Alexandra",
                    "Goodwin, Miss. Lillian Amy",
                    "Dowdell, Miss. Elizabeth",
                    "McDermott, Miss. Brigdet Delia",
                    "Ilett, Miss. Bertha",
                    "Backstrom, Mrs. Karl Alfred (Maria Mathilda Gustafsson)",
                    "Fortune, Miss. Mabel Helen",
                    "Doling, Mrs. John T (Ada Julia Bone)",
                    "Petranec, Miss. Matilda",
                    "Salkjelsvik, Miss. Anna Kristine",
                    "Moran, Miss. Bertha",
                    "Zabour, Miss. Hileni",
                    "Jussila, Miss. Katriina",
                    "Attalah, Miss. Malake",
                    "Andersson, Miss. Ellis Anna Maria",
                    "Webber, Miss. Susan",
                    "Peter, Miss. Anna",
                    "Robins, Mrs. Alexander A (Grace Charity Laury)",
                    "Weisz, Mrs. Leopold (Mathilde Francoise Pede)",
                    "Newsom, Miss. Helen Monypeny",
                    "Boulos, Mrs. Joseph (Sultana)",
                    "Nysten, Miss. Anna Sofia",
                    "Hakkarainen, Mrs. Pekka Pietari (Elin Matilda Dolck)",
                    "Ford, Miss. Robina Maggie \"Ruby\"",
                    "Pears, Mrs. Thomas (Edith Wearne)",
                    "Gilnagh, Miss. Katherine \"Katie\"",
                    "Watt, Mrs. James (Elizabeth \"Bessie\" Inglis Milne)",
                    "Chibnall, Mrs. (Edith Martha Bowerman)",
                    "Skoog, Mrs. William (Anna Bernhardina Karlsson)",
                    "Johnson, Miss. Eleanor Ileen",
                    "Isham, Miss. Ann Elizabeth",
                    "Sage, Miss. Constance Gladys",
                    "Kink-Heilmann, Miss. Luise Gretchen",
                    "O'Brien, Mrs. Thomas (Johanna \"Hannah\" Godfrey)",
                    "Pinsky, Mrs. (Rosa)",
                    "Andersen-Jensen, Miss. Carla Christine Nielsine",
                    "Brown, Mrs. James Joseph (Margaret Tobin)",
                    "Lurette, Miss. Elise",
                    "Madigan, Miss. Margaret \"Maggie\"",
                    "Yrois, Miss. Henriette (\"Mrs Harbeck\")",
                    "Strom, Miss. Telma Matilda",
                    "Carr, Miss. Helen \"Ellen\"",
                    "Cameron, Miss. Clear Annie",
                    "Newell, Miss. Madeleine",
                    "Honkanen, Miss. Eliina",
                    "Bazzani, Miss. Albina",
                    "Lefebre, Miss. Mathilde",
                    "Harris, Mrs. Henry Birkhardt (Irene Wallach)",
                    "Asplund, Miss. Lillian Gertrud",
                    "Harknett, Miss. Alice Phoebe",
                    "Collyer, Miss. Marjorie \"Lottie\"",
                    "Zabour, Miss. Thamine",
                    "Murphy, Miss. Katherine \"Kate\"",
                    "Lindahl, Miss. Agda Thorilda Viktoria",
                    "Hamalainen, Mrs. William (Anna)",
                    "Strom, Mrs. Wilhelm (Elna Matilda Persson)",
                    "Rosblom, Mrs. Viktor (Helena Wilhelmina)",
                    "Touma, Mrs. Darwis (Hanne Youssef Razi)",
                    "Thorne, Mrs. Gertrude Maybelle",
                    "Cherry, Miss. Gladys",
                    "Ward, Miss. Anna",
                    "Parrish, Mrs. (Lutie Davis)",
                    "Henry, Miss. Delia",
                    "Graham, Mrs. William Thompson (Edith Junkins)",
                    "Bissette, Miss. Amelia",
                    "Mellinger, Mrs. (Elizabeth Anne Maidment)",
                    "Healy, Miss. Hanora \"Nora\"",
                    "Andrews, Miss. Kornelia Theodosia",
                    "Lindblom, Miss. Augusta Charlotta",
                    "Abbott, Mrs. Stanton (Rosa Hunt)",
                    "Connolly, Miss. Kate",
                    "Barber, Miss. Ellen \"Nellie\"",
                    "Bishop, Mrs. Dickinson H (Helen Walton)",
                    "Haas, Miss. Aloisia",
                    "Allison, Miss. Helen Loraine",
                    "Baxter, Mrs. James (Helene DeLaudeniere Chaput)",
                    "Kelly, Miss. Anna Katherine \"Annie Kate\"",
                    "Keane, Miss. Nora A",
                    "Fleming, Miss. Margaret",
                    "Penasco y Castellana, Mrs. Victor de Satode (Maria Josefa Perez de Soto y Vallejo)",
                    "Francatelli, Miss. Laura Mabel",
                    "Hays, Miss. Margaret Bechstein",
                    "Ryerson, Miss. Emily Borie",
                    "Lahtinen, Mrs. William (Anna Sylfven)",
                    "Nilsson, Miss. Helmina Josefina",
                    "Kantor, Mrs. Sinai (Miriam Sternin)",
                    "Wick, Miss. Mary Natalie",
                    "Spedden, Mrs. Frederic Oakley (Margaretta Corning Stone)",
                    "Slayter, Miss. Hilda Mary",
                    "Caldwell, Mrs. Albert Francis (Sylvia Mae Harbaugh)",
                    "Young, Miss. Marie Grice",
                    "Ball, Mrs. (Ada E Hall)",
                    "Goldsmith, Mrs. Frank John (Emily Alice Brown)",
                    "Hippach, Miss. Jean Gertrude",
                    "McCoy, Miss. Agnes",
                    "Frauenthal, Mrs. Henry William (Clara Heinsheimer)",
                    "Burns, Miss. Elizabeth Margaret",
                    "Fortune, Miss. Alice Elizabeth",
                    "Brown, Miss. Amelia \"Mildred\"",
                    "Smith, Miss. Marion Elsie",
                    "Davison, Mrs. Thomas Henry (Mary E Finck)",
                    "Bowerman, Miss. Elsie Edith",
                    "Funk, Miss. Annie Clemmer",
                    "McGovern, Miss. Mary",
                    "Mockler, Miss. Helen Mary \"Ellie\"",
                    "Barbara, Mrs. (Catherine David)",
                    "Warren, Mrs. Frank Manley (Anna Sophia Atkinson)",
                    "Moussa, Mrs. (Mantoura Boulos)",
                    "Jermyn, Miss. Annie",
                    "Aubart, Mme. Leontine Pauline",
                    "Palsson, Miss. Stina Viola",
                    "Meyer, Mrs. Edgar Joseph (Leila Saks)",
                    "Landergren, Miss. Aurora Adelia",
                    "Bidois, Miss. Rosalie",
                    "Nakid, Miss. Maria (\"Mary\")",
                    "Holverson, Mrs. Alexander Oskar (Mary Aline Towner)",
                    "Buss, Miss. Kate",
                    "Lehmann, Miss. Bertha",
                    "Newell, Miss. Marjorie",
                    "Sandstrom, Mrs. Hjalmar (Agnes Charlotta Bengtsson)",
                    "Olsson, Miss. Elina",
                    "Trout, Mrs. William H (Jessie L)",
                    "Jussila, Miss. Mari Aina",
                    "Oreskovic, Miss. Marija",
                    "Lefebre, Miss. Ida",
                    "Minahan, Miss. Daisy E",
                    "Meek, Mrs. Thomas (Annie Louise Rowley)",
                    "Drew, Mrs. James Vivian (Lulu Thorne Christian)",
                    "Silven, Miss. Lyyli Karoliina",
                    "Van Impe, Miss. Catharina",
                    "Danbom, Mrs. Ernst Gilbert (Anna Sigrid Maria Brogren)",
                    "Clarke, Mrs. Charles V (Ada Maria Winfield)",
                    "Phillips, Miss. Kate Florence (\"Mrs Kate Louise Phillips Marshall\")",
                    "Thorneycroft, Mrs. Percival (Florence Kate White)",
                    "Louch, Mrs. Charles Alexander (Alice Adelaide Slow)",
                    "Carter, Miss. Lucile Polk",
                    "Ford, Miss. Doolina Margaret \"Daisy\"",
                    "Richards, Mrs. Sidney (Emily Hocking)",
                    "Hart, Mrs. Benjamin (Esther Ada Bloomfield)",
                    "Reynaldo, Ms. Encarnacion",
                    "Mellinger, Miss. Madeleine Violet",
                    "Baclini, Miss. Marie Catherine",
                    "Kenyon, Mrs. Frederick R (Marion)",
                    "Toomey, Miss. Ellen",
                    "Baclini, Miss. Helene Barbara",
                    "West, Mrs. Edwy Arthur (Ada Mary Worth)",
                    "Jerwan, Mrs. Amin S (Marie Marthe Thuillard)",
                    "Strandberg, Miss. Ida Sofia",
                    "Hirvonen, Miss. Hildur E",
                    "Turkula, Mrs. (Hedwig)",
                    "Lefebre, Miss. Jeannie",
                    "Hoyt, Mrs. Frederick Maxfield (Jane Anne Forby)",
                    "Eustis, Miss. Elizabeth Mussey",
                    "Allison, Mrs. Hudson J C (Bessie Waldo Daniels)",
                    "Canavan, Miss. Mary",
                    "O'Sullivan, Miss. Bridget Mary",
                    "Laitinen, Miss. Kristina Sofia",
                    "Maioni, Miss. Roberta",
                    "Quick, Mrs. Frederick Charles (Jane Richards)",
                    "Rothschild, Mrs. Martin (Elizabeth L. Barrett)",
                    "Lemore, Mrs. (Amelia Milley)",
                    "Angle, Mrs. William A (Florence \"Mary\" Agnes Hughes)",
                    "Perreault, Miss. Anne",
                    "Hippach, Mrs. Louis Albert (Ida Sophia Fischer)",
                    "Ridsdale, Miss. Lucy",
                    "Quick, Miss. Phyllis May",
                    "Peter, Mrs. Catherine (Catherine Rizk)",
                    "Cacic, Miss. Marija",
                    "Hart, Miss. Eva Miriam",
                    "LeRoy, Miss. Bertha",
                    "Frolicher, Miss. Hedwig Margaritha",
                    "Crosby, Miss. Harriet R",
                    "Andersson, Miss. Ingeborg Constanzia",
                    "Andersson, Miss. Sigrid Elisabeth",
                    "Beane, Mrs. Edward (Ethel Clarke)",
                    "Ohman, Miss. Velin",
                    "Duff Gordon, Lady. (Lucille Christiana Sutherland) (\"Mrs Morgan\")",
                    "Taussig, Mrs. Emil (Tillie Mandelbaum)",
                    "de Messemaeker, Mrs. Guillaume Joseph (Emma)",
                    "Meanwell, Miss. (Marion Ogden)",
                    "Palsson, Mrs. Nils (Alma Cornelia Berglund)",
                    "Appleton, Mrs. Edward Dale (Charlotte Lamson)",
                    "Kelly, Miss. Mary",
                    "Garside, Miss. Ethel",
                    "Silvey, Mrs. William Baird (Alice Munger)",
                    "Caram, Mrs. Joseph (Maria Elias)",
                    "Christy, Miss. Julie Rachel",
                    "Thayer, Mrs. John Borland (Marian Longstreth Morris)",
                    "Taussig, Miss. Ruth",
                    "Stephenson, Mrs. Walter Bertram (Martha Eustis)",
                    "Bourke, Miss. Mary",
                    "Leitch, Miss. Jessie Wills",
                    "Jacobsohn, Mrs. Sidney Samuel (Amy Frances Christy)",
                    "Laroche, Mrs. Joseph (Juliette Marie Louise Lafargue)",
                    "Shutes, Miss. Elizabeth W",
                    "Andersson, Mrs. Anders Johan (Alfrida Konstantia Brogren)",
                    "Murphy, Miss. Margaret Jane",
                    "Herman, Miss. Alice",
                    "Lobb, Mrs. William Arthur (Cordelia K Stanlick)",
                    "Becker, Miss. Marion Louise",
                    "Longley, Miss. Gretchen Fiske",
                    "Skoog, Miss. Mabel",
                    "Davis, Miss. Mary",
                    "Panula, Mrs. Juha (Maria Emilia Ojala)",
                    "Sagesser, Mlle. Emma",
                    "Skoog, Miss. Margit Elizabeth",
                    "Baclini, Miss. Eugenie",
                    "Stanley, Miss. Amy Zillah Elsie",
                    "Doling, Miss. Elsie",
                    "O'Leary, Miss. Hanora \"Norah\"",
                    "Hegarty, Miss. Hanora \"Nora\"",
                    "Bourke, Mrs. John (Catherine)",
                    "Taylor, Mrs. Elmer Zebley (Juliet Cummins Wright)",
                    "Brown, Mrs. Thomas William Solomon (Elizabeth Catherine Ford)",
                    "Turja, Miss. Anna Sofia",
                    "Goodwin, Mrs. Frederick (Augusta Tyler)",
                    "Peters, Miss. Katie",
                    "Madill, Miss. Georgette Alexandra",
                    "Karun, Miss. Manca",
                    "Mullens, Miss. Katherine \"Katie\"",
                    "Astor, Mrs. John Jacob (Madeleine Talmadge Force)",
                    "Barbara, Miss. Saiide",
                    "Kelly, Mrs. Florence \"Fannie\"",
                    "Cleaver, Miss. Alice",
                    "Mayne, Mlle. Berthe Antonine (\"Mrs de Villiers\")",
                    "Endres, Miss. Caroline Louise",
                    "Troutt, Miss. Edwina Celia \"Winnie\"",
                    "Harper, Miss. Annie Jessie \"Nina\"",
                    "Renouf, Mrs. Peter Henry (Lillian Jefferys)",
                    "Mannion, Miss. Margareth",
                    "Ilmakangas, Miss. Pieta Sofia",
                    "Allen, Miss. Elisabeth Walton",
                    "Ford, Mrs. Edward (Margaret Ann Watson)",
                    "Ryerson, Miss. Susan Parker \"Suzette\"",
                    "Sinkkonen, Miss. Anna",
                    "Wells, Miss. Joan",
                    "Herman, Mrs. Samuel (Jane Laver)",
                    "Rothes, the Countess. of (Lucy Noel Martha Dyer-Edwards)",
                    "Carter, Mrs. William Ernest (Lucile Polk)",
                    "Hogeboom, Mrs. John C (Anna Andrews)",
                    "Mangan, Miss. Mary",
                    "Mack, Mrs. (Mary)",
                    "Hocking, Mrs. Elizabeth (Eliza Needs)",
                    "Emanuel, Miss. Virginia Ethel",
                    "Robert, Mrs. Edward Scott (Elisabeth Walton McMillan)",
                    "Ayoub, Miss. Banoura",
                    "Dick, Mrs. Albert Adrian (Vera Gillespie)",
                    "Sjoblom, Miss. Anna Sofia",
                    "Sage, Miss. Stella Anna",
                    "Leader, Dr. Alice (Farnham)",
                    "Osman, Mrs. Mara",
                    "Van Impe, Mrs. Jean Baptiste (Rosalie Paula Govaert)",
                    "Collyer, Mrs. Harvey (Charlotte Annie Tate)",
                    "Pettersson, Miss. Ellen Natalia",
                    "Chambers, Mrs. Norman Campbell (Bertha Griggs)",
                    "Andersson, Miss. Ebba Iris Alfrida",
                    "Heininen, Miss. Wendla Maria",
                    "Hays, Mrs. Charles Melville (Clara Jennings Gregg)",
                    "Moor, Mrs. (Beila)",
                    "Stone, Mrs. George Nelson (Martha Evelyn)",
                    "Yasbeck, Mrs. Antoni (Selini Alexander)",
                    "Compton, Miss. Sara Rebecca",
                    "Serepeca, Miss. Augusta",
                    "Goldenberg, Mrs. Samuel L (Edwiga Grabowska)",
                    "Boulos, Miss. Nourelain",
                    "Lines, Miss. Mary Conover",
                    "Carter, Mrs. Ernest Courtenay (Lilian Hughes)",
                    "Aks, Mrs. Sam (Leah Rosen)",
                    "Wick, Mrs. George Dennick (Mary Hitchcock)",
                    "Baclini, Mrs. Solomon (Latifa Qurban)",
                    "Swift, Mrs. Frederick Joel (Margaret Welles Barron)",
                    "Sage, Miss. Dorothy Edith \"Dolly\"",
                    "Bystrom, Mrs. (Karolina)",
                    "Duran y More, Miss. Asuncion",
                    "Beckwith, Mrs. Richard Leonard (Sallie Monypeny)",
                    "Abelson, Mrs. Samuel (Hannah Wizosky)",
                    "Najib, Miss. Adele Kiamie \"Jane\"",
                    "Potter, Mrs. Thomas Jr (Lily Alexenia Wilson)",
                    "Shelley, Mrs. William (Imanita Parrish Hall)",
                    "Dahlberg, Miss. Gerda Ulrika",
                    "Rice, Mrs. William (Margaret Norton)",
                    "Graham, Miss. Margaret Edith",
                    "Johnston, Miss. Catherine Helen \"Carrie\""
                  ],
                  "legendgroup": "female",
                  "marker": {
                    "color": "#EF553B",
                    "size": [
                      1,
                      3,
                      1,
                      3,
                      2,
                      3,
                      1,
                      3,
                      2,
                      3,
                      3,
                      3,
                      3,
                      3,
                      3,
                      1,
                      3,
                      3,
                      3,
                      3,
                      2,
                      2,
                      3,
                      3,
                      3,
                      1,
                      2,
                      2,
                      2,
                      1,
                      2,
                      3,
                      3,
                      3,
                      3,
                      2,
                      3,
                      1,
                      2,
                      3,
                      3,
                      3,
                      3,
                      3,
                      3,
                      3,
                      2,
                      3,
                      3,
                      2,
                      1,
                      3,
                      3,
                      3,
                      3,
                      1,
                      3,
                      2,
                      1,
                      3,
                      3,
                      1,
                      3,
                      3,
                      3,
                      2,
                      3,
                      1,
                      1,
                      3,
                      2,
                      3,
                      3,
                      2,
                      1,
                      3,
                      1,
                      3,
                      1,
                      3,
                      3,
                      2,
                      3,
                      3,
                      3,
                      2,
                      3,
                      3,
                      3,
                      1,
                      1,
                      1,
                      2,
                      3,
                      1,
                      1,
                      2,
                      3,
                      1,
                      3,
                      3,
                      3,
                      1,
                      1,
                      3,
                      1,
                      1,
                      3,
                      2,
                      1,
                      1,
                      1,
                      1,
                      1,
                      2,
                      3,
                      2,
                      1,
                      1,
                      2,
                      2,
                      1,
                      2,
                      3,
                      1,
                      3,
                      1,
                      1,
                      1,
                      2,
                      2,
                      3,
                      1,
                      2,
                      3,
                      3,
                      3,
                      1,
                      3,
                      3,
                      1,
                      3,
                      1,
                      3,
                      1,
                      3,
                      1,
                      2,
                      2,
                      1,
                      3,
                      3,
                      2,
                      3,
                      3,
                      3,
                      1,
                      3,
                      2,
                      2,
                      3,
                      3,
                      2,
                      2,
                      3,
                      2,
                      1,
                      3,
                      2,
                      2,
                      2,
                      2,
                      3,
                      1,
                      2,
                      3,
                      2,
                      2,
                      3,
                      3,
                      3,
                      3,
                      1,
                      1,
                      1,
                      3,
                      3,
                      3,
                      1,
                      2,
                      1,
                      2,
                      2,
                      1,
                      1,
                      2,
                      2,
                      3,
                      3,
                      2,
                      1,
                      1,
                      1,
                      3,
                      3,
                      2,
                      3,
                      1,
                      1,
                      3,
                      3,
                      3,
                      1,
                      3,
                      2,
                      1,
                      3,
                      2,
                      1,
                      1,
                      1,
                      3,
                      2,
                      2,
                      2,
                      1,
                      3,
                      3,
                      2,
                      3,
                      2,
                      1,
                      3,
                      2,
                      3,
                      1,
                      3,
                      3,
                      3,
                      2,
                      3,
                      3,
                      3,
                      1,
                      2,
                      3,
                      3,
                      3,
                      1,
                      3,
                      3,
                      1,
                      3,
                      2,
                      1,
                      1,
                      1,
                      2,
                      2,
                      2,
                      3,
                      3,
                      1,
                      3,
                      1,
                      2,
                      2,
                      2,
                      1,
                      1,
                      1,
                      3,
                      2,
                      2,
                      3,
                      1,
                      3,
                      1,
                      3,
                      3,
                      1,
                      3,
                      3,
                      2,
                      3,
                      1,
                      3,
                      3,
                      1,
                      3,
                      1,
                      3,
                      1,
                      1,
                      1,
                      3,
                      1,
                      2,
                      3,
                      1,
                      3,
                      1,
                      3,
                      2,
                      2,
                      1,
                      2,
                      3,
                      1,
                      2,
                      3,
                      3,
                      1,
                      3
                    ],
                    "sizemode": "area",
                    "sizeref": 0.0075,
                    "symbol": "circle"
                  },
                  "mode": "markers",
                  "name": "female",
                  "orientation": "v",
                  "showlegend": true,
                  "type": "scatter",
                  "x": [
                    38,
                    26,
                    35,
                    27,
                    14,
                    4,
                    58,
                    14,
                    55,
                    31,
                    null,
                    15,
                    8,
                    38,
                    null,
                    null,
                    null,
                    18,
                    14,
                    40,
                    27,
                    3,
                    19,
                    null,
                    18,
                    49,
                    29,
                    21,
                    5,
                    38,
                    29,
                    17,
                    16,
                    30,
                    null,
                    17,
                    33,
                    23,
                    34,
                    28,
                    21,
                    null,
                    14.5,
                    20,
                    17,
                    2,
                    32.5,
                    null,
                    47,
                    29,
                    19,
                    null,
                    22,
                    24,
                    9,
                    22,
                    16,
                    40,
                    null,
                    45,
                    1,
                    50,
                    null,
                    4,
                    null,
                    32,
                    19,
                    44,
                    58,
                    null,
                    24,
                    2,
                    16,
                    35,
                    31,
                    27,
                    32,
                    null,
                    35,
                    5,
                    null,
                    8,
                    null,
                    null,
                    25,
                    24,
                    29,
                    41,
                    29,
                    null,
                    30,
                    35,
                    50,
                    null,
                    58,
                    35,
                    41,
                    null,
                    63,
                    45,
                    35,
                    22,
                    26,
                    19,
                    24,
                    2,
                    50,
                    null,
                    null,
                    null,
                    17,
                    30,
                    24,
                    18,
                    26,
                    26,
                    24,
                    31,
                    40,
                    30,
                    22,
                    36,
                    36,
                    31,
                    16,
                    null,
                    null,
                    41,
                    24,
                    24,
                    40,
                    null,
                    22,
                    38,
                    null,
                    null,
                    45,
                    60,
                    null,
                    null,
                    24,
                    3,
                    null,
                    22,
                    42,
                    1,
                    35,
                    36,
                    17,
                    23,
                    24,
                    31,
                    28,
                    21,
                    20,
                    null,
                    33,
                    null,
                    34,
                    18,
                    10,
                    28,
                    28,
                    19,
                    null,
                    42,
                    14,
                    21,
                    24,
                    45,
                    28,
                    13,
                    5,
                    null,
                    50,
                    0.75,
                    33,
                    23,
                    22,
                    2,
                    63,
                    null,
                    35,
                    54,
                    25,
                    21,
                    null,
                    37,
                    16,
                    33,
                    54,
                    34,
                    36,
                    30,
                    44,
                    50,
                    2,
                    null,
                    30,
                    7,
                    30,
                    22,
                    36,
                    9,
                    11,
                    19,
                    22,
                    48,
                    39,
                    36,
                    null,
                    29,
                    53,
                    null,
                    34,
                    39,
                    null,
                    25,
                    39,
                    18,
                    52,
                    null,
                    null,
                    24,
                    22,
                    40,
                    39,
                    null,
                    24,
                    26,
                    4,
                    21,
                    9,
                    28,
                    41,
                    24,
                    2,
                    0.75,
                    23,
                    18,
                    null,
                    18,
                    32,
                    null,
                    40,
                    18,
                    43,
                    null,
                    15,
                    4,
                    null,
                    18,
                    18,
                    45,
                    22,
                    24,
                    38,
                    27,
                    6,
                    30,
                    null,
                    25,
                    29,
                    48,
                    21,
                    30,
                    4,
                    48,
                    33,
                    36,
                    51,
                    30.5,
                    57,
                    54,
                    5,
                    43,
                    13,
                    17,
                    18,
                    null,
                    49,
                    31,
                    30,
                    31,
                    18,
                    33,
                    6,
                    23,
                    52,
                    27,
                    62,
                    15,
                    39,
                    30,
                    null,
                    9,
                    16,
                    44,
                    18,
                    45,
                    24,
                    48,
                    null,
                    42,
                    27,
                    47,
                    28,
                    15,
                    56,
                    25,
                    22,
                    39,
                    19,
                    null
                  ],
                  "xaxis": "x",
                  "y": [
                    71.2833,
                    7.925,
                    53.1,
                    11.1333,
                    30.0708,
                    16.7,
                    26.55,
                    7.8542,
                    16,
                    18,
                    7.225,
                    8.0292,
                    21.075,
                    31.3875,
                    7.8792,
                    146.5208,
                    7.75,
                    18,
                    11.2417,
                    9.475,
                    21,
                    41.5792,
                    7.8792,
                    7.75,
                    17.8,
                    76.7292,
                    26,
                    10.5,
                    27.75,
                    80,
                    10.5,
                    7.925,
                    46.9,
                    12.475,
                    7.7875,
                    10.5,
                    15.85,
                    263,
                    23,
                    7.8958,
                    7.65,
                    24.15,
                    14.4542,
                    9.825,
                    14.4583,
                    31.275,
                    13,
                    22.3583,
                    14.5,
                    26,
                    26.2833,
                    15.2458,
                    7.75,
                    15.85,
                    34.375,
                    66.6,
                    7.7333,
                    15.75,
                    55,
                    27.9,
                    11.1333,
                    28.7125,
                    69.55,
                    22.025,
                    15.5,
                    13,
                    7.8542,
                    27.7208,
                    146.5208,
                    7.75,
                    13,
                    10.4625,
                    7.75,
                    21,
                    113.275,
                    7.925,
                    76.2917,
                    25.4667,
                    83.475,
                    31.3875,
                    7.55,
                    26.25,
                    14.4542,
                    15.5,
                    7.775,
                    14.5,
                    10.4625,
                    20.2125,
                    15.2458,
                    79.2,
                    86.5,
                    512.3292,
                    26,
                    7.75,
                    153.4625,
                    135.6333,
                    19.5,
                    7.75,
                    77.9583,
                    7.75,
                    20.25,
                    7.75,
                    78.85,
                    91.0792,
                    8.85,
                    151.55,
                    247.5208,
                    7.75,
                    12.35,
                    110.8833,
                    108.9,
                    56.9292,
                    83.1583,
                    262.375,
                    26,
                    7.8542,
                    26,
                    164.8667,
                    134.5,
                    12.35,
                    29,
                    135.6333,
                    13,
                    20.525,
                    57.9792,
                    23.25,
                    133.65,
                    134.5,
                    263,
                    13,
                    13,
                    16.1,
                    55,
                    13,
                    7.8792,
                    7.8792,
                    14.4542,
                    75.25,
                    7.2292,
                    7.75,
                    69.3,
                    21.075,
                    82.1708,
                    7.25,
                    227.525,
                    15.7417,
                    52,
                    13,
                    12,
                    113.275,
                    16.7,
                    7.8542,
                    12.65,
                    9.825,
                    8.6625,
                    25.4667,
                    90,
                    8.05,
                    32.5,
                    13,
                    24.15,
                    14.4,
                    26,
                    26,
                    16.1,
                    26,
                    120,
                    34.375,
                    18.75,
                    26.25,
                    13,
                    19.5,
                    19.2583,
                    51.8625,
                    10.5,
                    19.2583,
                    27.75,
                    13.7917,
                    9.8375,
                    12.2875,
                    9.5875,
                    25.4667,
                    90,
                    78.2667,
                    151.55,
                    7.75,
                    7.6292,
                    9.5875,
                    86.5,
                    26,
                    59.4,
                    10.5,
                    26,
                    93.5,
                    57.9792,
                    10.5,
                    26,
                    22.3583,
                    8.6625,
                    26.25,
                    106.425,
                    49.5,
                    71,
                    31.275,
                    31.275,
                    26,
                    7.775,
                    39.6,
                    79.65,
                    17.4,
                    8.05,
                    21.075,
                    51.4792,
                    7.75,
                    13,
                    55.9,
                    14.4583,
                    30,
                    110.8833,
                    79.65,
                    78.2667,
                    7.75,
                    33,
                    27,
                    41.5792,
                    153.4625,
                    31.275,
                    15.5,
                    65,
                    16.1,
                    39,
                    77.9583,
                    27.9,
                    13,
                    39.6875,
                    69.3,
                    27.9,
                    19.2583,
                    7.55,
                    23,
                    7.8292,
                    6.75,
                    15.5,
                    52,
                    39,
                    9.8417,
                    46.9,
                    8.1375,
                    211.3375,
                    13.4167,
                    7.7333,
                    227.525,
                    14.4542,
                    13.5,
                    151.55,
                    49.5042,
                    227.525,
                    10.5,
                    33,
                    21,
                    7.7375,
                    7.925,
                    211.3375,
                    34.375,
                    262.375,
                    13,
                    23,
                    65,
                    86.5,
                    120,
                    77.9583,
                    7.75,
                    10.5,
                    23,
                    12.475,
                    211.3375,
                    7.2292,
                    57,
                    7.4958,
                    69.55,
                    25.9292,
                    8.6833,
                    24.15,
                    26.25,
                    7.775,
                    53.1,
                    31.275,
                    7.925,
                    93.5,
                    12.475,
                    80,
                    14.4542,
                    83.1583,
                    31,
                    89.1042,
                    15.2458,
                    39.4,
                    26,
                    9.35,
                    164.8667,
                    19.2583,
                    25.9292,
                    69.55,
                    13,
                    13.8583,
                    52.5542,
                    24,
                    7.225,
                    83.1583,
                    26,
                    10.5167,
                    29.125,
                    30,
                    23.45
                  ],
                  "yaxis": "y"
                }
              ],
              "layout": {
                "height": 1600,
                "legend": {
                  "itemsizing": "constant",
                  "title": {
                    "text": "Sex"
                  },
                  "tracegroupgap": 0
                },
                "margin": {
                  "t": 60
                },
                "template": {
                  "data": {
                    "bar": [
                      {
                        "error_x": {
                          "color": "#2a3f5f"
                        },
                        "error_y": {
                          "color": "#2a3f5f"
                        },
                        "marker": {
                          "line": {
                            "color": "#E5ECF6",
                            "width": 0.5
                          }
                        },
                        "type": "bar"
                      }
                    ],
                    "barpolar": [
                      {
                        "marker": {
                          "line": {
                            "color": "#E5ECF6",
                            "width": 0.5
                          }
                        },
                        "type": "barpolar"
                      }
                    ],
                    "carpet": [
                      {
                        "aaxis": {
                          "endlinecolor": "#2a3f5f",
                          "gridcolor": "white",
                          "linecolor": "white",
                          "minorgridcolor": "white",
                          "startlinecolor": "#2a3f5f"
                        },
                        "baxis": {
                          "endlinecolor": "#2a3f5f",
                          "gridcolor": "white",
                          "linecolor": "white",
                          "minorgridcolor": "white",
                          "startlinecolor": "#2a3f5f"
                        },
                        "type": "carpet"
                      }
                    ],
                    "choropleth": [
                      {
                        "colorbar": {
                          "outlinewidth": 0,
                          "ticks": ""
                        },
                        "type": "choropleth"
                      }
                    ],
                    "contour": [
                      {
                        "colorbar": {
                          "outlinewidth": 0,
                          "ticks": ""
                        },
                        "colorscale": [
                          [
                            0,
                            "#0d0887"
                          ],
                          [
                            0.1111111111111111,
                            "#46039f"
                          ],
                          [
                            0.2222222222222222,
                            "#7201a8"
                          ],
                          [
                            0.3333333333333333,
                            "#9c179e"
                          ],
                          [
                            0.4444444444444444,
                            "#bd3786"
                          ],
                          [
                            0.5555555555555556,
                            "#d8576b"
                          ],
                          [
                            0.6666666666666666,
                            "#ed7953"
                          ],
                          [
                            0.7777777777777778,
                            "#fb9f3a"
                          ],
                          [
                            0.8888888888888888,
                            "#fdca26"
                          ],
                          [
                            1,
                            "#f0f921"
                          ]
                        ],
                        "type": "contour"
                      }
                    ],
                    "contourcarpet": [
                      {
                        "colorbar": {
                          "outlinewidth": 0,
                          "ticks": ""
                        },
                        "type": "contourcarpet"
                      }
                    ],
                    "heatmap": [
                      {
                        "colorbar": {
                          "outlinewidth": 0,
                          "ticks": ""
                        },
                        "colorscale": [
                          [
                            0,
                            "#0d0887"
                          ],
                          [
                            0.1111111111111111,
                            "#46039f"
                          ],
                          [
                            0.2222222222222222,
                            "#7201a8"
                          ],
                          [
                            0.3333333333333333,
                            "#9c179e"
                          ],
                          [
                            0.4444444444444444,
                            "#bd3786"
                          ],
                          [
                            0.5555555555555556,
                            "#d8576b"
                          ],
                          [
                            0.6666666666666666,
                            "#ed7953"
                          ],
                          [
                            0.7777777777777778,
                            "#fb9f3a"
                          ],
                          [
                            0.8888888888888888,
                            "#fdca26"
                          ],
                          [
                            1,
                            "#f0f921"
                          ]
                        ],
                        "type": "heatmap"
                      }
                    ],
                    "heatmapgl": [
                      {
                        "colorbar": {
                          "outlinewidth": 0,
                          "ticks": ""
                        },
                        "colorscale": [
                          [
                            0,
                            "#0d0887"
                          ],
                          [
                            0.1111111111111111,
                            "#46039f"
                          ],
                          [
                            0.2222222222222222,
                            "#7201a8"
                          ],
                          [
                            0.3333333333333333,
                            "#9c179e"
                          ],
                          [
                            0.4444444444444444,
                            "#bd3786"
                          ],
                          [
                            0.5555555555555556,
                            "#d8576b"
                          ],
                          [
                            0.6666666666666666,
                            "#ed7953"
                          ],
                          [
                            0.7777777777777778,
                            "#fb9f3a"
                          ],
                          [
                            0.8888888888888888,
                            "#fdca26"
                          ],
                          [
                            1,
                            "#f0f921"
                          ]
                        ],
                        "type": "heatmapgl"
                      }
                    ],
                    "histogram": [
                      {
                        "marker": {
                          "colorbar": {
                            "outlinewidth": 0,
                            "ticks": ""
                          }
                        },
                        "type": "histogram"
                      }
                    ],
                    "histogram2d": [
                      {
                        "colorbar": {
                          "outlinewidth": 0,
                          "ticks": ""
                        },
                        "colorscale": [
                          [
                            0,
                            "#0d0887"
                          ],
                          [
                            0.1111111111111111,
                            "#46039f"
                          ],
                          [
                            0.2222222222222222,
                            "#7201a8"
                          ],
                          [
                            0.3333333333333333,
                            "#9c179e"
                          ],
                          [
                            0.4444444444444444,
                            "#bd3786"
                          ],
                          [
                            0.5555555555555556,
                            "#d8576b"
                          ],
                          [
                            0.6666666666666666,
                            "#ed7953"
                          ],
                          [
                            0.7777777777777778,
                            "#fb9f3a"
                          ],
                          [
                            0.8888888888888888,
                            "#fdca26"
                          ],
                          [
                            1,
                            "#f0f921"
                          ]
                        ],
                        "type": "histogram2d"
                      }
                    ],
                    "histogram2dcontour": [
                      {
                        "colorbar": {
                          "outlinewidth": 0,
                          "ticks": ""
                        },
                        "colorscale": [
                          [
                            0,
                            "#0d0887"
                          ],
                          [
                            0.1111111111111111,
                            "#46039f"
                          ],
                          [
                            0.2222222222222222,
                            "#7201a8"
                          ],
                          [
                            0.3333333333333333,
                            "#9c179e"
                          ],
                          [
                            0.4444444444444444,
                            "#bd3786"
                          ],
                          [
                            0.5555555555555556,
                            "#d8576b"
                          ],
                          [
                            0.6666666666666666,
                            "#ed7953"
                          ],
                          [
                            0.7777777777777778,
                            "#fb9f3a"
                          ],
                          [
                            0.8888888888888888,
                            "#fdca26"
                          ],
                          [
                            1,
                            "#f0f921"
                          ]
                        ],
                        "type": "histogram2dcontour"
                      }
                    ],
                    "mesh3d": [
                      {
                        "colorbar": {
                          "outlinewidth": 0,
                          "ticks": ""
                        },
                        "type": "mesh3d"
                      }
                    ],
                    "parcoords": [
                      {
                        "line": {
                          "colorbar": {
                            "outlinewidth": 0,
                            "ticks": ""
                          }
                        },
                        "type": "parcoords"
                      }
                    ],
                    "pie": [
                      {
                        "automargin": true,
                        "type": "pie"
                      }
                    ],
                    "scatter": [
                      {
                        "marker": {
                          "colorbar": {
                            "outlinewidth": 0,
                            "ticks": ""
                          }
                        },
                        "type": "scatter"
                      }
                    ],
                    "scatter3d": [
                      {
                        "line": {
                          "colorbar": {
                            "outlinewidth": 0,
                            "ticks": ""
                          }
                        },
                        "marker": {
                          "colorbar": {
                            "outlinewidth": 0,
                            "ticks": ""
                          }
                        },
                        "type": "scatter3d"
                      }
                    ],
                    "scattercarpet": [
                      {
                        "marker": {
                          "colorbar": {
                            "outlinewidth": 0,
                            "ticks": ""
                          }
                        },
                        "type": "scattercarpet"
                      }
                    ],
                    "scattergeo": [
                      {
                        "marker": {
                          "colorbar": {
                            "outlinewidth": 0,
                            "ticks": ""
                          }
                        },
                        "type": "scattergeo"
                      }
                    ],
                    "scattergl": [
                      {
                        "marker": {
                          "colorbar": {
                            "outlinewidth": 0,
                            "ticks": ""
                          }
                        },
                        "type": "scattergl"
                      }
                    ],
                    "scattermapbox": [
                      {
                        "marker": {
                          "colorbar": {
                            "outlinewidth": 0,
                            "ticks": ""
                          }
                        },
                        "type": "scattermapbox"
                      }
                    ],
                    "scatterpolar": [
                      {
                        "marker": {
                          "colorbar": {
                            "outlinewidth": 0,
                            "ticks": ""
                          }
                        },
                        "type": "scatterpolar"
                      }
                    ],
                    "scatterpolargl": [
                      {
                        "marker": {
                          "colorbar": {
                            "outlinewidth": 0,
                            "ticks": ""
                          }
                        },
                        "type": "scatterpolargl"
                      }
                    ],
                    "scatterternary": [
                      {
                        "marker": {
                          "colorbar": {
                            "outlinewidth": 0,
                            "ticks": ""
                          }
                        },
                        "type": "scatterternary"
                      }
                    ],
                    "surface": [
                      {
                        "colorbar": {
                          "outlinewidth": 0,
                          "ticks": ""
                        },
                        "colorscale": [
                          [
                            0,
                            "#0d0887"
                          ],
                          [
                            0.1111111111111111,
                            "#46039f"
                          ],
                          [
                            0.2222222222222222,
                            "#7201a8"
                          ],
                          [
                            0.3333333333333333,
                            "#9c179e"
                          ],
                          [
                            0.4444444444444444,
                            "#bd3786"
                          ],
                          [
                            0.5555555555555556,
                            "#d8576b"
                          ],
                          [
                            0.6666666666666666,
                            "#ed7953"
                          ],
                          [
                            0.7777777777777778,
                            "#fb9f3a"
                          ],
                          [
                            0.8888888888888888,
                            "#fdca26"
                          ],
                          [
                            1,
                            "#f0f921"
                          ]
                        ],
                        "type": "surface"
                      }
                    ],
                    "table": [
                      {
                        "cells": {
                          "fill": {
                            "color": "#EBF0F8"
                          },
                          "line": {
                            "color": "white"
                          }
                        },
                        "header": {
                          "fill": {
                            "color": "#C8D4E3"
                          },
                          "line": {
                            "color": "white"
                          }
                        },
                        "type": "table"
                      }
                    ]
                  },
                  "layout": {
                    "annotationdefaults": {
                      "arrowcolor": "#2a3f5f",
                      "arrowhead": 0,
                      "arrowwidth": 1
                    },
                    "autotypenumbers": "strict",
                    "coloraxis": {
                      "colorbar": {
                        "outlinewidth": 0,
                        "ticks": ""
                      }
                    },
                    "colorscale": {
                      "diverging": [
                        [
                          0,
                          "#8e0152"
                        ],
                        [
                          0.1,
                          "#c51b7d"
                        ],
                        [
                          0.2,
                          "#de77ae"
                        ],
                        [
                          0.3,
                          "#f1b6da"
                        ],
                        [
                          0.4,
                          "#fde0ef"
                        ],
                        [
                          0.5,
                          "#f7f7f7"
                        ],
                        [
                          0.6,
                          "#e6f5d0"
                        ],
                        [
                          0.7,
                          "#b8e186"
                        ],
                        [
                          0.8,
                          "#7fbc41"
                        ],
                        [
                          0.9,
                          "#4d9221"
                        ],
                        [
                          1,
                          "#276419"
                        ]
                      ],
                      "sequential": [
                        [
                          0,
                          "#0d0887"
                        ],
                        [
                          0.1111111111111111,
                          "#46039f"
                        ],
                        [
                          0.2222222222222222,
                          "#7201a8"
                        ],
                        [
                          0.3333333333333333,
                          "#9c179e"
                        ],
                        [
                          0.4444444444444444,
                          "#bd3786"
                        ],
                        [
                          0.5555555555555556,
                          "#d8576b"
                        ],
                        [
                          0.6666666666666666,
                          "#ed7953"
                        ],
                        [
                          0.7777777777777778,
                          "#fb9f3a"
                        ],
                        [
                          0.8888888888888888,
                          "#fdca26"
                        ],
                        [
                          1,
                          "#f0f921"
                        ]
                      ],
                      "sequentialminus": [
                        [
                          0,
                          "#0d0887"
                        ],
                        [
                          0.1111111111111111,
                          "#46039f"
                        ],
                        [
                          0.2222222222222222,
                          "#7201a8"
                        ],
                        [
                          0.3333333333333333,
                          "#9c179e"
                        ],
                        [
                          0.4444444444444444,
                          "#bd3786"
                        ],
                        [
                          0.5555555555555556,
                          "#d8576b"
                        ],
                        [
                          0.6666666666666666,
                          "#ed7953"
                        ],
                        [
                          0.7777777777777778,
                          "#fb9f3a"
                        ],
                        [
                          0.8888888888888888,
                          "#fdca26"
                        ],
                        [
                          1,
                          "#f0f921"
                        ]
                      ]
                    },
                    "colorway": [
                      "#636efa",
                      "#EF553B",
                      "#00cc96",
                      "#ab63fa",
                      "#FFA15A",
                      "#19d3f3",
                      "#FF6692",
                      "#B6E880",
                      "#FF97FF",
                      "#FECB52"
                    ],
                    "font": {
                      "color": "#2a3f5f"
                    },
                    "geo": {
                      "bgcolor": "white",
                      "lakecolor": "white",
                      "landcolor": "#E5ECF6",
                      "showlakes": true,
                      "showland": true,
                      "subunitcolor": "white"
                    },
                    "hoverlabel": {
                      "align": "left"
                    },
                    "hovermode": "closest",
                    "mapbox": {
                      "style": "light"
                    },
                    "paper_bgcolor": "white",
                    "plot_bgcolor": "#E5ECF6",
                    "polar": {
                      "angularaxis": {
                        "gridcolor": "white",
                        "linecolor": "white",
                        "ticks": ""
                      },
                      "bgcolor": "#E5ECF6",
                      "radialaxis": {
                        "gridcolor": "white",
                        "linecolor": "white",
                        "ticks": ""
                      }
                    },
                    "scene": {
                      "xaxis": {
                        "backgroundcolor": "#E5ECF6",
                        "gridcolor": "white",
                        "gridwidth": 2,
                        "linecolor": "white",
                        "showbackground": true,
                        "ticks": "",
                        "zerolinecolor": "white"
                      },
                      "yaxis": {
                        "backgroundcolor": "#E5ECF6",
                        "gridcolor": "white",
                        "gridwidth": 2,
                        "linecolor": "white",
                        "showbackground": true,
                        "ticks": "",
                        "zerolinecolor": "white"
                      },
                      "zaxis": {
                        "backgroundcolor": "#E5ECF6",
                        "gridcolor": "white",
                        "gridwidth": 2,
                        "linecolor": "white",
                        "showbackground": true,
                        "ticks": "",
                        "zerolinecolor": "white"
                      }
                    },
                    "shapedefaults": {
                      "line": {
                        "color": "#2a3f5f"
                      }
                    },
                    "ternary": {
                      "aaxis": {
                        "gridcolor": "white",
                        "linecolor": "white",
                        "ticks": ""
                      },
                      "baxis": {
                        "gridcolor": "white",
                        "linecolor": "white",
                        "ticks": ""
                      },
                      "bgcolor": "#E5ECF6",
                      "caxis": {
                        "gridcolor": "white",
                        "linecolor": "white",
                        "ticks": ""
                      }
                    },
                    "title": {
                      "x": 0.05
                    },
                    "xaxis": {
                      "automargin": true,
                      "gridcolor": "white",
                      "linecolor": "white",
                      "ticks": "",
                      "title": {
                        "standoff": 15
                      },
                      "zerolinecolor": "white",
                      "zerolinewidth": 2
                    },
                    "yaxis": {
                      "automargin": true,
                      "gridcolor": "white",
                      "linecolor": "white",
                      "ticks": "",
                      "title": {
                        "standoff": 15
                      },
                      "zerolinecolor": "white",
                      "zerolinewidth": 2
                    }
                  }
                },
                "width": 1500,
                "xaxis": {
                  "anchor": "y",
                  "domain": [
                    0,
                    1
                  ],
                  "title": {
                    "text": "Age"
                  }
                },
                "yaxis": {
                  "anchor": "x",
                  "domain": [
                    0,
                    1
                  ],
                  "title": {
                    "text": "Fare"
                  }
                }
              }
            },
            "text/html": "<div>                            <div id=\"284899e1-aed4-4ab9-a943-d4a5891b4418\" class=\"plotly-graph-div\" style=\"height:1600px; width:1500px;\"></div>            <script type=\"text/javascript\">                require([\"plotly\"], function(Plotly) {                    window.PLOTLYENV=window.PLOTLYENV || {};                                    if (document.getElementById(\"284899e1-aed4-4ab9-a943-d4a5891b4418\")) {                    Plotly.newPlot(                        \"284899e1-aed4-4ab9-a943-d4a5891b4418\",                        [{\"hovertemplate\": \"<b>%{hovertext}</b><br><br>Sex=male<br>Age=%{x}<br>Fare=%{y}<br>Pclass=%{marker.size}<extra></extra>\", \"hovertext\": [\"Braund, Mr. Owen Harris\", \"Allen, Mr. William Henry\", \"Moran, Mr. James\", \"McCarthy, Mr. Timothy J\", \"Palsson, Master. Gosta Leonard\", \"Saundercock, Mr. William Henry\", \"Andersson, Mr. Anders Johan\", \"Rice, Master. Eugene\", \"Williams, Mr. Charles Eugene\", \"Fynney, Mr. Joseph J\", \"Beesley, Mr. Lawrence\", \"Sloper, Mr. William Thompson\", \"Emir, Mr. Farred Chehab\", \"Fortune, Mr. Charles Alexander\", \"Todoroff, Mr. Lalio\", \"Uruchurtu, Don. Manuel E\", \"Wheadon, Mr. Edward H\", \"Meyer, Mr. Edgar Joseph\", \"Holverson, Mr. Alexander Oskar\", \"Mamee, Mr. Hanna\", \"Cann, Mr. Ernest Charles\", \"Kraeff, Mr. Theodor\", \"Rogers, Mr. William John\", \"Lennon, Mr. Denis\", \"Samaan, Mr. Youssef\", \"Panula, Master. Juha Niilo\", \"Nosworthy, Mr. Richard Cater\", \"Ostby, Mr. Engelhart Cornelius\", \"Woolner, Mr. Hugh\", \"Novel, Mr. Mansouer\", \"Goodwin, Master. William Frederick\", \"Sirayanian, Mr. Orsen\", \"Harris, Mr. Henry Birkhardt\", \"Skoog, Master. Harald\", \"Stewart, Mr. Albert A\", \"Moubarek, Master. Gerios\", \"Crease, Mr. Ernest James\", \"Kink, Mr. Vincenz\", \"Jenkin, Mr. Stephen Curnow\", \"Hood, Mr. Ambrose Jr\", \"Chronopoulos, Mr. Apostolos\", \"Bing, Mr. Lee\", \"Moen, Mr. Sigurd Hansen\", \"Staneff, Mr. Ivan\", \"Moutal, Mr. Rahamin Haim\", \"Caldwell, Master. Alden Gates\", \"Waelens, Mr. Achille\", \"Sheerlinck, Mr. Jan Baptist\", \"Carrau, Mr. Francisco M\", \"Ford, Mr. William Neal\", \"Slocovski, Mr. Selman Francis\", \"Celotti, Mr. Francesco\", \"Christmann, Mr. Emil\", \"Andreasson, Mr. Paul Edvin\", \"Chaffee, Mr. Herbert Fuller\", \"Dean, Mr. Bertram Frank\", \"Coxon, Mr. Daniel\", \"Shorney, Mr. Charles Joseph\", \"Goldschmidt, Mr. George B\", \"Greenfield, Mr. William Bertram\", \"Kantor, Mr. Sinai\", \"Petroff, Mr. Pastcho (\\\"Pentcho\\\")\", \"White, Mr. Richard Frasar\", \"Johansson, Mr. Gustaf Joel\", \"Gustafsson, Mr. Anders Vilhelm\", \"Mionoff, Mr. Stoytcho\", \"Moss, Mr. Albert Johan\", \"Rekic, Mr. Tido\", \"Porter, Mr. Walter Chamberlain\", \"Barton, Mr. David John\", \"Pekoniemi, Mr. Edvard\", \"Connors, Mr. Patrick\", \"Turpin, Mr. William John Robert\", \"Baxter, Mr. Quigg Edmond\", \"Hickman, Mr. Stanley George\", \"Moore, Mr. Leonard Charles\", \"Nasser, Mr. Nicholas\", \"White, Mr. Percival Wayland\", \"Nicola-Yarred, Master. Elias\", \"McMahon, Mr. Martin\", \"Madsen, Mr. Fridtjof Arne\", \"Ekstrom, Mr. Johan\", \"Drazenoic, Mr. Jozef\", \"Coelho, Mr. Domingos Fernandeo\", \"Sobey, Mr. Samuel James Hayden\", \"Richard, Mr. Emile\", \"Futrelle, Mr. Jacques Heath\", \"Osen, Mr. Olaf Elon\", \"Giglio, Mr. Victor\", \"Burke, Mr. Jeremiah\", \"Andrew, Mr. Edgardo Samuel\", \"Nicholls, Mr. Joseph Charles\", \"Andersson, Mr. August Edvard (\\\"Wennerstrom\\\")\", \"Navratil, Mr. Michel (\\\"Louis M Hoffman\\\")\", \"Byles, Rev. Thomas Roussel Davids\", \"Bateman, Rev. Robert James\", \"Meo, Mr. Alfonzo\", \"van Billiard, Mr. Austin Blyler\", \"Olsen, Mr. Ole Martin\", \"Williams, Mr. Charles Duane\", \"Corn, Mr. Harry\", \"Smiljanic, Mr. Mile\", \"Sage, Master. Thomas Henry\", \"Cribb, Mr. John Hatfield\", \"Bengtsson, Mr. John Viktor\", \"Calic, Mr. Jovo\", \"Panula, Master. Eino Viljami\", \"Goldsmith, Master. Frank John William \\\"Frankie\\\"\", \"Baumann, Mr. John D\", \"Ling, Mr. Lee\", \"Van der hoef, Mr. Wyckoff\", \"Rice, Master. Arthur\", \"Sivola, Mr. Antti Wilhelm\", \"Smith, Mr. James Clinch\", \"Klasen, Mr. Klas Albin\", \"Lefebre, Master. Henry Forbes\", \"Hale, Mr. Reginald\", \"Leonard, Mr. Lionel\", \"Pernot, Mr. Rene\", \"Asplund, Master. Clarence Gustaf Hugo\", \"Becker, Master. Richard F\", \"Rood, Mr. Hugh Roscoe\", \"Romaine, Mr. Charles Hallace (\\\"Mr C Rolmane\\\")\", \"Bourke, Mr. John\", \"Turcin, Mr. Stjepan\", \"Carbines, Mr. William\", \"Navratil, Master. Michel M\", \"Mernagh, Mr. Robert\", \"Olsen, Mr. Karl Siegwart Andreas\", \"Vande Walle, Mr. Nestor Cyriel\", \"Sage, Mr. Frederick\", \"Johanson, Mr. Jakob Alfred\", \"Youseff, Mr. Gerious\", \"Cohen, Mr. Gurshon \\\"Gus\\\"\", \"Backstrom, Mr. Karl Alfred\", \"Albimona, Mr. Nassef Cassem\", \"Blank, Mr. Henry\", \"Ali, Mr. Ahmed\", \"Perkin, Mr. John Henry\", \"Givard, Mr. Hans Kristensen\", \"Kiernan, Mr. Philip\", \"Jacobsohn, Mr. Sidney Samuel\", \"Harris, Mr. Walter\", \"Sunderland, Mr. Victor Francis\", \"Bracken, Mr. James H\", \"Green, Mr. George Henry\", \"Nenkoff, Mr. Christo\", \"Hoyt, Mr. Frederick Maxfield\", \"Berglund, Mr. Karl Ivar Sven\", \"Mellors, Mr. William John\", \"Lovell, Mr. John Hall (\\\"Henry\\\")\", \"Fahlstrom, Mr. Arne Jonas\", \"Larsson, Mr. Bengt Edvin\", \"Sjostedt, Mr. Ernst Adolf\", \"Leyson, Mr. Robert William Norman\", \"Hold, Mr. Stephen\", \"Pengelly, Mr. Frederick William\", \"Hunt, Mr. George Henry\", \"Coleridge, Mr. Reginald Charles\", \"Maenpaa, Mr. Matti Alexanteri\", \"Attalah, Mr. Sleiman\", \"Minahan, Dr. William Edward\", \"Beckwith, Mr. Richard Leonard\", \"Carter, Rev. Ernest Courtenay\", \"Reed, Mr. James George\", \"Stead, Mr. William Thomas\", \"Lobb, Mr. William Arthur\", \"Smith, Mr. Thomas\", \"Asplund, Master. Edvin Rojj Felix\", \"Taussig, Mr. Emil\", \"Harrison, Mr. William\", \"Reeves, Mr. David\", \"Panula, Mr. Ernesti Arvid\", \"Persson, Mr. Ernst Ulrik\", \"Cairns, Mr. Alexander\", \"Tornquist, Mr. William Henry\", \"Natsch, Mr. Charles H\", \"Parkes, Mr. Francis \\\"Frank\\\"\", \"Rice, Master. Eric\", \"Duane, Mr. Frank\", \"Olsson, Mr. Nils Johan Goransson\", \"de Pelsmaeker, Mr. Alfons\", \"Dorking, Mr. Edward Arthur\", \"Smith, Mr. Richard William\", \"Stankovic, Mr. Ivan\", \"de Mulder, Mr. Theodore\", \"Naidenoff, Mr. Penko\", \"Hosono, Mr. Masabumi\", \"Levy, Mr. Rene Jacques\", \"Mineff, Mr. Ivan\", \"Lewy, Mr. Ervin G\", \"Hanna, Mr. Mansour\", \"Saalfeld, Mr. Adolphe\", \"McCoy, Mr. Bernard\", \"Johnson, Mr. William Cahoone Jr\", \"Williams, Mr. Howard Hugh \\\"Harry\\\"\", \"Allison, Master. Hudson Trevor\", \"Abelson, Mr. Samuel\", \"Hendekovic, Mr. Ignjac\", \"Hart, Mr. Benjamin\", \"Moraweck, Dr. Ernest\", \"Dennis, Mr. Samuel\", \"Danoff, Mr. Yoto\", \"Sage, Mr. George John Jr\", \"Nysveen, Mr. Johan Hansen\", \"Partner, Mr. Austen\", \"Graham, Mr. George Edward\", \"Vander Planke, Mr. Leo Edmondus\", \"Denkoff, Mr. Mitto\", \"Pears, Mr. Thomas Clinton\", \"Dahl, Mr. Karl Edwart\", \"Blackwell, Mr. Stephen Weart\", \"Navratil, Master. Edmond Roger\", \"Collander, Mr. Erik Gustaf\", \"Sedgwick, Mr. Charles Frederick Waddington\", \"Fox, Mr. Stanley Hubert\", \"Coutts, Master. William Loch \\\"William\\\"\", \"Dimic, Mr. Jovan\", \"Odahl, Mr. Nils Martin\", \"Williams-Lambert, Mr. Fletcher Fellows\", \"Elias, Mr. Tannous\", \"Arnold-Franchi, Mr. Josef\", \"Yousif, Mr. Wazli\", \"Vanden Steen, Mr. Leo Peter\", \"Skoog, Mr. Wilhelm\", \"del Carlo, Mr. Sebastiano\", \"Asim, Mr. Adola\", \"O'Brien, Mr. Thomas\", \"Adahl, Mr. Mauritz Nils Martin\", \"Harder, Mr. George Achilles\", \"Wiklund, Mr. Jakob Alfred\", \"Beavan, Mr. William Thomas\", \"Ringhini, Mr. Sante\", \"Widener, Mr. Harry Elkins\", \"Betros, Mr. Tannous\", \"Gustafsson, Mr. Karl Gideon\", \"Tikkanen, Mr. Juho\", \"Plotcharsky, Mr. Vasil\", \"Davies, Mr. Charles Henry\", \"Goodwin, Master. Sidney Leonard\", \"Sadlier, Mr. Matthew\", \"Carter, Mr. William Ernest\", \"Jansson, Mr. Carl Olof\", \"Gustafsson, Mr. Johan Birger\", \"Johansson, Mr. Erik\", \"McKane, Mr. Peter David\", \"Pain, Dr. Alfred\", \"Niskanen, Mr. Juha\", \"Adams, Mr. John\", \"Hakkarainen, Mr. Pekka Pietari\", \"Gale, Mr. Shadrach\", \"Widegren, Mr. Carl/Charles Peter\", \"Richards, Master. William Rowe\", \"Birkeland, Mr. Hans Martin Monsen\", \"Sdycoff, Mr. Todor\", \"Hart, Mr. Henry\", \"Cunningham, Mr. Alfred Fleming\", \"Sundman, Mr. Johan Julian\", \"Matthews, Mr. William John\", \"Gheorgheff, Mr. Stanio\", \"Charters, Mr. David\", \"Zimmerman, Mr. Leo\", \"Rosblom, Mr. Viktor Richard\", \"Wiseman, Mr. Phillippe\", \"Flynn, Mr. James\", \"Pickard, Mr. Berk (Berk Trembisky)\", \"Bjornstrom-Steffansson, Mr. Mauritz Hakan\", \"Kallio, Mr. Nikolai Erland\", \"Silvey, Mr. William Baird\", \"Fortune, Mr. Mark\", \"Kvillner, Mr. Johan Henrik Johannesson\", \"Hampe, Mr. Leon\", \"Petterson, Mr. Johan Emil\", \"Johannesen-Bratthammer, Mr. Bernt\", \"Dodge, Master. Washington\", \"Seward, Mr. Frederic Kimber\", \"Peuchen, Major. Arthur Godfrey\", \"West, Mr. Edwy Arthur\", \"Hagland, Mr. Ingvald Olai Olsen\", \"Foreman, Mr. Benjamin Laventall\", \"Goldenberg, Mr. Samuel L\", \"Peduzzi, Mr. Joseph\", \"Jalsevac, Mr. Ivan\", \"Millet, Mr. Francis Davis\", \"O'Connor, Mr. Maurice\", \"Anderson, Mr. Harry\", \"Morley, Mr. William\", \"Gee, Mr. Arthur H\", \"Milling, Mr. Jacob Christian\", \"Maisner, Mr. Simon\", \"Goncalves, Mr. Manuel Estanslas\", \"Campbell, Mr. William\", \"Smart, Mr. John Montgomery\", \"Scanlan, Mr. James\", \"Keefe, Mr. Arthur\", \"Cacic, Mr. Luka\", \"Clifford, Mr. George Quincy\", \"Renouf, Mr. Peter Henry\", \"Braund, Mr. Lewis Richard\", \"Karlsson, Mr. Nils August\", \"Goodwin, Master. Harold Victor\", \"Frost, Mr. Anthony Wood \\\"Archie\\\"\", \"Rouse, Mr. Richard Henry\", \"Bishop, Mr. Dickinson H\", \"Kent, Mr. Edward Austin\", \"Somerton, Mr. Francis William\", \"Coutts, Master. Eden Leslie \\\"Neville\\\"\", \"Hagland, Mr. Konrad Mathias Reiersen\", \"Windelov, Mr. Einar\", \"Molson, Mr. Harry Markland\", \"Artagaveytia, Mr. Ramon\", \"Stanley, Mr. Edward Roland\", \"Yousseff, Mr. Gerious\", \"Shellard, Mr. Frederick William\", \"Svensson, Mr. Olof\", \"Calic, Mr. Petar\", \"Penasco y Castellana, Mr. Victor de Satode\", \"Bradley, Mr. George (\\\"George Arthur Brayton\\\")\", \"Olsen, Mr. Henry Margido\", \"Lang, Mr. Fang\", \"Daly, Mr. Eugene Patrick\", \"Webber, Mr. James\", \"McGough, Mr. James Robert\", \"Coleff, Mr. Satio\", \"Walker, Mr. William Anderson\", \"Ryan, Mr. Patrick\", \"Pavlovic, Mr. Stefo\", \"Vovk, Mr. Janko\", \"Lahoud, Mr. Sarkis\", \"Kassem, Mr. Fared\", \"Farrell, Mr. James\", \"Farthing, Mr. John\", \"Salonen, Mr. Johan Werner\", \"Hocking, Mr. Richard George\", \"Toufik, Mr. Nakli\", \"Elias, Mr. Joseph Jr\", \"Butt, Major. Archibald Willingham\", \"Risien, Mr. Samuel Beard\", \"Beane, Mr. Edward\", \"Douglas, Mr. Walter Donald\", \"Nicholson, Mr. Arthur Ernest\", \"Padro y Manent, Mr. Julian\", \"Goldsmith, Mr. Frank John\", \"Davies, Master. John Morgan Jr\", \"Thayer, Mr. John Borland Jr\", \"Sharp, Mr. Percival James R\", \"O'Brien, Mr. Timothy\", \"Leeni, Mr. Fahim (\\\"Philip Zenni\\\")\", \"Wright, Mr. George\", \"Robbins, Mr. Victor\", \"Morrow, Mr. Thomas Rowan\", \"Sivic, Mr. Husein\", \"Norman, Mr. Robert Douglas\", \"Simmons, Mr. John\", \"Davies, Mr. Alfred J\", \"Stoytcheff, Mr. Ilia\", \"Doharr, Mr. Tannous\", \"Jonsson, Mr. Carl\", \"Harris, Mr. George\", \"Flynn, Mr. John Irwin (\\\"Irving\\\")\", \"Rush, Mr. Alfred George John\", \"Patchett, Mr. George\", \"Jussila, Mr. Eiriik\", \"Downton, Mr. William James\", \"Ross, Mr. John Hugo\", \"Paulner, Mr. Uscher\", \"Jarvis, Mr. John Denzil\", \"Frolicher-Stehli, Mr. Maxmillian\", \"Gilinski, Mr. Eliezer\", \"Murdlin, Mr. Joseph\", \"Rintamaki, Mr. Matti\", \"Elsbury, Mr. William James\", \"Chapman, Mr. John Henry\", \"Van Impe, Mr. Jean Baptiste\", \"Johnson, Mr. Alfred\", \"Boulos, Mr. Hanna\", \"Duff Gordon, Sir. Cosmo Edmund (\\\"Mr Morgan\\\")\", \"Slabenoff, Mr. Petco\", \"Harrington, Mr. Charles H\", \"Torber, Mr. Ernst William\", \"Homer, Mr. Harry (\\\"Mr E Haven\\\")\", \"Lindell, Mr. Edvard Bengtsson\", \"Karaic, Mr. Milan\", \"Daniel, Mr. Robert Williams\", \"Jardin, Mr. Jose Neto\", \"Horgan, Mr. John\", \"Brocklebank, Mr. William Alfred\", \"Danbom, Mr. Ernst Gilbert\", \"Gavey, Mr. Lawrence\", \"Yasbeck, Mr. Antoni\", \"Kimball, Mr. Edwin Nelson Jr\", \"Nakid, Mr. Sahid\", \"Hansen, Mr. Henry Damsgaard\", \"Bowen, Mr. David John \\\"Dai\\\"\", \"Sutton, Mr. Frederick\", \"Kirkland, Rev. Charles Leonard\", \"Bostandyeff, Mr. Guentcho\", \"O'Connell, Mr. Patrick D\", \"Barkworth, Mr. Algernon Henry Wilson\", \"Lundahl, Mr. Johan Svensson\", \"Stahelin-Maeglin, Dr. Max\", \"Parr, Mr. William Henry Marsh\", \"Leinonen, Mr. Antti Gustaf\", \"Collyer, Mr. Harvey\", \"Thorneycroft, Mr. Percival\", \"Jensen, Mr. Hans Peder\", \"Foo, Mr. Choong\", \"Harper, Mr. Henry Sleeper\", \"Cor, Mr. Liudevit\", \"Simonius-Blumer, Col. Oberst Alfons\", \"Willey, Mr. Edward\", \"Mitkoff, Mr. Mito\", \"Kalvik, Mr. Johannes Halvorsen\", \"Hickman, Mr. Leonard Mark\", \"Radeff, Mr. Alexander\", \"Eitemiller, Mr. George Floyd\", \"Newell, Mr. Arthur Webster\", \"Frauenthal, Dr. Henry William\", \"Badt, Mr. Mohamed\", \"Colley, Mr. Edward Pomeroy\", \"Coleff, Mr. Peju\", \"Lindqvist, Mr. Eino William\", \"Hickman, Mr. Lewis\", \"Butler, Mr. Reginald Fenton\", \"Rommetvedt, Mr. Knud Paust\", \"Cook, Mr. Jacob\", \"Davidson, Mr. Thornton\", \"Mitchell, Mr. Henry Michael\", \"Wilhelms, Mr. Charles\", \"Watson, Mr. Ennis Hastings\", \"Edvardsson, Mr. Gustaf Hjalmar\", \"Sawyer, Mr. Frederick Charles\", \"Cardeza, Mr. Thomas Drake Martinez\", \"Hassab, Mr. Hammad\", \"Olsvigen, Mr. Thor Anderson\", \"Goodwin, Mr. Charles Edward\", \"Brown, Mr. Thomas William Solomon\", \"Laroche, Mr. Joseph Philippe Lemercier\", \"Panula, Mr. Jaako Arnold\", \"Dakic, Mr. Branko\", \"Fischer, Mr. Eberhard Thelander\", \"Dick, Mr. Albert Adrian\", \"Lam, Mr. Ali\", \"Saad, Mr. Khalil\", \"Weir, Col. John\", \"Chapman, Mr. Charles Henry\", \"Kelly, Mr. James\", \"Thayer, Mr. John Borland\", \"Humblen, Mr. Adolf Mathias Nicolai Olsen\", \"Silverthorne, Mr. Spencer Victor\", \"Gallagher, Mr. Martin\", \"Hansen, Mr. Henrik Juul\", \"Morley, Mr. Henry Samuel (\\\"Mr Henry Marshall\\\")\", \"Calderhead, Mr. Edward Pennington\", \"Moubarek, Master. Halim Gonios (\\\"William George\\\")\", \"Klaber, Mr. Herman\", \"Taylor, Mr. Elmer Zebley\", \"Larsson, Mr. August Viktor\", \"Greenberg, Mr. Samuel\", \"Soholt, Mr. Peter Andreas Lauritz Andersen\", \"McEvoy, Mr. Michael\", \"Johnson, Mr. Malkolm Joackim\", \"Jensen, Mr. Svend Lauritz\", \"Gillespie, Mr. William Henry\", \"Hodges, Mr. Henry Price\", \"Chambers, Mr. Norman Campbell\", \"Oreskovic, Mr. Luka\", \"Bryhl, Mr. Kurt Arnold Gottfrid\", \"Hassan, Mr. Houssein G N\", \"Knight, Mr. Robert J\", \"Berriman, Mr. William John\", \"Troupiansky, Mr. Moses Aaron\", \"Williams, Mr. Leslie\", \"Lesurer, Mr. Gustave J\", \"Ivanoff, Mr. Kanio\", \"Nankoff, Mr. Minko\", \"Hawksford, Mr. Walter James\", \"Cavendish, Mr. Tyrell William\", \"McNamee, Mr. Neal\", \"Stranden, Mr. Juho\", \"Crosby, Capt. Edward Gifford\", \"Abbott, Mr. Rossmore Edward\", \"Marvin, Mr. Daniel Warner\", \"Connaghton, Mr. Michael\", \"Moor, Master. Meier\", \"Vande Velde, Mr. Johannes Joseph\", \"Jonkoff, Mr. Lalio\", \"Hamalainen, Master. Viljo\", \"Carlsson, Mr. August Sigfrid\", \"Bailey, Mr. Percy Andrew\", \"Theobald, Mr. Thomas Leonard\", \"Garfirth, Mr. John\", \"Nirva, Mr. Iisakki Antino Aijo\", \"Barah, Mr. Hanna Assi\", \"Eklund, Mr. Hans Linus\", \"Brewe, Dr. Arthur Jackson\", \"Moran, Mr. Daniel J\", \"Gronnestad, Mr. Daniel Danielsen\", \"Lievens, Mr. Rene Aime\", \"Jensen, Mr. Niels Peder\", \"Elias, Mr. Dibo\", \"Myhrman, Mr. Pehr Fabian Oliver Malkolm\", \"Tobin, Mr. Roger\", \"Kilgannon, Mr. Thomas J\", \"Long, Mr. Milton Clyde\", \"Johnston, Mr. Andrew G\", \"Ali, Mr. William\", \"Harmer, Mr. Abraham (David Lishin)\", \"Rice, Master. George Hugh\", \"Dean, Master. Bertram Vere\", \"Guggenheim, Mr. Benjamin\", \"Keane, Mr. Andrew \\\"Andy\\\"\", \"Gaskell, Mr. Alfred\", \"Hoyt, Mr. William Fisher\", \"Dantcheff, Mr. Ristiu\", \"Otter, Mr. Richard\", \"Ibrahim Shawah, Mr. Yousseff\", \"Ponesell, Mr. Martin\", \"Carter, Master. William Thornton II\", \"Thomas, Master. Assad Alexander\", \"Hedman, Mr. Oskar Arvid\", \"Johansson, Mr. Karl Johan\", \"Andrews, Mr. Thomas Jr\", \"Meyer, Mr. August\", \"Alexander, Mr. William\", \"Lester, Mr. James\", \"Slemen, Mr. Richard James\", \"Tomlin, Mr. Ernest Portage\", \"Fry, Mr. Richard\", \"Mallet, Mr. Albert\", \"Holm, Mr. John Fredrik Alexander\", \"Skoog, Master. Karl Thorsten\", \"Lulic, Mr. Nikola\", \"Reuchlin, Jonkheer. John George\", \"Panula, Master. Urho Abraham\", \"Flynn, Mr. John\", \"Lam, Mr. Len\", \"Mallet, Master. Andre\", \"McCormack, Mr. Thomas Joseph\", \"Richards, Master. George Sibley\", \"Saad, Mr. Amin\", \"Augustsson, Mr. Albert\", \"Allum, Mr. Owen George\", \"Pasic, Mr. Jakob\", \"Sirota, Mr. Maurice\", \"Chip, Mr. Chang\", \"Marechal, Mr. Pierre\", \"Alhomaki, Mr. Ilmari Rudolf\", \"Mudd, Mr. Thomas Charles\", \"Lemberopolous, Mr. Peter L\", \"Culumovic, Mr. Jeso\", \"Abbing, Mr. Anthony\", \"Sage, Mr. Douglas Bullen\", \"Markoff, Mr. Marin\", \"Harper, Rev. John\", \"Andersson, Master. Sigvard Harald Elias\", \"Svensson, Mr. Johan\", \"Daly, Mr. Peter Denis \", \"Razi, Mr. Raihed\", \"Hansen, Mr. Claus Peter\", \"Giles, Mr. Frederick Edward\", \"Gill, Mr. John William\", \"Roebling, Mr. Washington Augustus II\", \"van Melkebeke, Mr. Philemon\", \"Johnson, Master. Harold Theodor\", \"Balkic, Mr. Cerin\", \"Carlsson, Mr. Frans Olof\", \"Vander Cruyssen, Mr. Victor\", \"Gustafsson, Mr. Alfred Ossian\", \"Petroff, Mr. Nedelio\", \"Laleff, Mr. Kristo\", \"Markun, Mr. Johann\", \"Banfield, Mr. Frederick James\", \"Sutehall, Mr. Henry Jr\", \"Montvila, Rev. Juozas\", \"Behr, Mr. Karl Howell\", \"Dooley, Mr. Patrick\"], \"legendgroup\": \"male\", \"marker\": {\"color\": \"#636efa\", \"size\": [3, 3, 3, 1, 3, 3, 3, 3, 2, 2, 2, 1, 3, 1, 3, 1, 2, 1, 1, 3, 3, 3, 3, 3, 3, 3, 3, 1, 1, 3, 3, 3, 1, 3, 1, 3, 3, 3, 2, 2, 3, 3, 3, 3, 3, 2, 3, 3, 1, 3, 3, 3, 3, 3, 1, 3, 3, 3, 1, 1, 2, 3, 1, 3, 3, 3, 3, 3, 1, 3, 3, 3, 2, 1, 2, 3, 2, 1, 3, 3, 3, 3, 3, 3, 2, 2, 1, 3, 1, 3, 2, 2, 3, 2, 2, 2, 3, 3, 3, 1, 3, 3, 3, 3, 3, 3, 3, 3, 1, 3, 1, 3, 3, 1, 3, 3, 2, 3, 2, 3, 2, 1, 1, 3, 3, 2, 2, 3, 3, 3, 3, 3, 3, 3, 3, 3, 1, 3, 3, 2, 3, 2, 2, 3, 2, 3, 3, 1, 3, 2, 3, 2, 3, 2, 2, 2, 2, 2, 2, 3, 3, 1, 1, 2, 3, 1, 3, 3, 3, 1, 1, 2, 3, 3, 1, 3, 1, 2, 3, 3, 3, 3, 3, 1, 3, 3, 3, 2, 2, 3, 1, 3, 1, 3, 3, 3, 1, 2, 3, 2, 2, 3, 3, 3, 3, 1, 1, 3, 3, 1, 3, 1, 2, 2, 2, 2, 3, 3, 3, 1, 3, 3, 3, 3, 3, 2, 3, 3, 3, 1, 3, 3, 1, 1, 3, 3, 3, 3, 2, 3, 3, 1, 3, 3, 3, 2, 2, 3, 3, 3, 2, 3, 2, 3, 3, 3, 2, 3, 2, 3, 3, 3, 3, 3, 3, 3, 1, 3, 1, 1, 2, 3, 3, 3, 1, 1, 1, 2, 3, 1, 1, 3, 3, 1, 3, 1, 3, 1, 2, 3, 3, 2, 1, 3, 3, 3, 1, 2, 3, 3, 3, 2, 3, 1, 1, 3, 3, 3, 3, 1, 1, 3, 3, 3, 3, 3, 1, 1, 3, 3, 3, 3, 1, 3, 1, 3, 3, 3, 3, 3, 3, 1, 3, 2, 3, 3, 1, 3, 2, 1, 1, 2, 3, 2, 1, 2, 3, 3, 1, 1, 3, 3, 2, 3, 3, 3, 3, 3, 2, 1, 3, 3, 3, 2, 1, 3, 2, 1, 3, 3, 3, 3, 2, 3, 3, 3, 1, 3, 1, 3, 1, 3, 3, 1, 3, 3, 3, 3, 2, 3, 1, 3, 3, 3, 1, 2, 3, 3, 1, 3, 1, 1, 3, 2, 3, 3, 3, 1, 3, 1, 3, 3, 3, 2, 3, 2, 1, 1, 3, 1, 3, 3, 2, 2, 3, 3, 1, 2, 2, 2, 3, 3, 1, 1, 3, 3, 2, 2, 3, 3, 3, 1, 3, 3, 1, 2, 3, 1, 3, 1, 3, 3, 2, 1, 3, 1, 1, 3, 2, 3, 3, 3, 3, 2, 2, 1, 3, 2, 3, 2, 2, 2, 3, 1, 3, 3, 1, 1, 3, 3, 1, 3, 1, 3, 3, 3, 3, 2, 3, 2, 3, 3, 3, 3, 3, 1, 3, 3, 3, 3, 3, 3, 3, 3, 1, 3, 3, 3, 3, 3, 1, 3, 2, 1, 3, 2, 3, 2, 1, 3, 3, 3, 1, 2, 3, 3, 2, 3, 1, 2, 3, 3, 3, 1, 3, 3, 3, 2, 3, 2, 3, 3, 3, 3, 3, 3, 1, 3, 2, 3, 3, 3, 3, 3, 2, 3, 3, 1, 3, 3, 2, 2, 1, 3, 3, 3, 1, 3, 3, 3, 3, 3, 2, 3, 2, 1, 3], \"sizemode\": \"area\", \"sizeref\": 0.0075, \"symbol\": \"circle\"}, \"mode\": \"markers\", \"name\": \"male\", \"orientation\": \"v\", \"showlegend\": true, \"type\": \"scatter\", \"x\": [22.0, 35.0, null, 54.0, 2.0, 20.0, 39.0, 2.0, null, 35.0, 34.0, 28.0, null, 19.0, null, 40.0, 66.0, 28.0, 42.0, null, 21.0, null, null, null, null, 7.0, 21.0, 65.0, null, 28.5, 11.0, 22.0, 45.0, 4.0, null, null, 19.0, 26.0, 32.0, 21.0, 26.0, 32.0, 25.0, null, null, 0.83, 22.0, 29.0, 28.0, 16.0, null, 24.0, 29.0, 20.0, 46.0, 26.0, 59.0, null, 71.0, 23.0, 34.0, null, 21.0, 33.0, 37.0, 28.0, null, 38.0, 47.0, 22.0, 21.0, 70.5, 29.0, 24.0, 21.0, null, 32.5, 54.0, 12.0, null, 24.0, 45.0, 33.0, 20.0, 25.0, 23.0, 37.0, 16.0, 24.0, 19.0, 18.0, 19.0, 27.0, 36.5, 42.0, 51.0, 55.5, 40.5, null, 51.0, 30.0, null, null, 44.0, 26.0, 17.0, 1.0, 9.0, null, 28.0, 61.0, 4.0, 21.0, 56.0, 18.0, null, 30.0, 36.0, null, 9.0, 1.0, null, 45.0, 40.0, 36.0, 19.0, 3.0, null, 42.0, 28.0, null, 34.0, 45.5, 18.0, 32.0, 26.0, 40.0, 24.0, 22.0, 30.0, null, 42.0, 30.0, 16.0, 27.0, 51.0, null, 38.0, 22.0, 19.0, 20.5, 18.0, 29.0, 59.0, 24.0, 44.0, 19.0, 33.0, 29.0, 22.0, 30.0, 44.0, 37.0, 54.0, null, 62.0, 30.0, null, 3.0, 52.0, 40.0, 36.0, 16.0, 25.0, null, 25.0, 37.0, null, 7.0, 65.0, 28.0, 16.0, 19.0, null, 33.0, 30.0, 22.0, 42.0, 36.0, 24.0, null, 23.5, null, null, 19.0, null, 0.92, 30.0, 28.0, 43.0, 54.0, 22.0, 27.0, null, 61.0, 45.5, 38.0, 16.0, null, 29.0, 45.0, 45.0, 2.0, 28.0, 25.0, 36.0, 3.0, 42.0, 23.0, null, 15.0, 25.0, null, 28.0, 40.0, 29.0, 35.0, null, 30.0, 25.0, 18.0, 19.0, 22.0, 27.0, 20.0, 19.0, 32.0, null, 18.0, 1.0, null, 36.0, 21.0, 28.0, 22.0, 46.0, 23.0, 39.0, 26.0, 28.0, 34.0, 51.0, 3.0, 21.0, null, null, null, 44.0, 30.0, null, 21.0, 29.0, 18.0, null, null, 32.0, 28.0, 17.0, 50.0, 64.0, 31.0, 20.0, 25.0, null, 4.0, 34.0, 52.0, 36.0, null, 30.0, 49.0, null, 29.0, 65.0, null, 48.0, 34.0, 47.0, 48.0, null, 38.0, null, 56.0, null, null, 38.0, null, 34.0, 29.0, 22.0, 9.0, null, 50.0, 25.0, 58.0, 30.0, 9.0, null, 21.0, 55.0, 71.0, 21.0, null, null, 24.0, 17.0, 18.0, null, 28.0, 26.0, 29.0, null, 36.0, 24.0, 47.0, null, 32.0, 22.0, null, null, 40.5, null, 39.0, 23.0, null, 17.0, 45.0, null, 32.0, 50.0, 64.0, null, 33.0, 8.0, 17.0, 27.0, null, 22.0, 62.0, null, null, 40.0, 28.0, null, 24.0, 19.0, null, 32.0, 62.0, 36.0, 16.0, 19.0, 32.0, 54.0, 36.0, null, 47.0, 60.0, 22.0, null, 35.0, 47.0, 37.0, 36.0, 49.0, null, 49.0, null, null, 44.0, 35.0, 36.0, 30.0, 27.0, null, null, 35.0, 34.0, 26.0, 27.0, 42.0, 20.0, 21.0, 21.0, 61.0, 57.0, 26.0, null, 80.0, 51.0, 32.0, null, 32.0, 31.0, null, 20.0, null, 48.0, 19.0, 56.0, null, null, 21.0, 24.0, null, 23.0, 58.0, 50.0, 40.0, 47.0, 36.0, 20.0, 32.0, 25.0, null, 43.0, 31.0, 70.0, 31.0, null, 18.0, 24.5, 36.0, 27.0, 20.0, 14.0, 60.0, 25.0, 14.0, 19.0, 18.0, 31.0, null, 25.0, 60.0, 52.0, 44.0, 49.0, 42.0, 35.0, 25.0, 26.0, 39.0, 42.0, null, null, 48.0, 29.0, 52.0, 19.0, null, 33.0, 17.0, 34.0, 50.0, 27.0, 20.0, 25.0, 11.0, null, 23.0, 23.0, 28.5, 35.0, null, null, null, 36.0, 24.0, 31.0, 70.0, 16.0, 19.0, 31.0, 6.0, 33.0, 23.0, 0.67, 28.0, 18.0, 34.0, null, 41.0, 20.0, 16.0, null, null, 32.0, 24.0, 48.0, null, 18.0, null, null, 29.0, null, 25.0, 25.0, 8.0, 1.0, 46.0, null, 16.0, null, 25.0, 39.0, 30.0, 34.0, 11.0, 0.42, 27.0, 31.0, 39.0, 39.0, 26.0, 39.0, 35.0, 30.5, null, 31.0, 43.0, 10.0, 27.0, 38.0, 2.0, null, null, 1.0, null, 0.83, null, 23.0, 18.0, 21.0, null, 32.0, null, 20.0, 16.0, 34.5, 17.0, 42.0, null, 35.0, 28.0, 4.0, 74.0, 51.0, null, 41.0, 21.0, 24.0, 31.0, null, 4.0, 26.0, 33.0, 47.0, 20.0, 19.0, null, 33.0, 28.0, 25.0, 27.0, 26.0, 32.0], \"xaxis\": \"x\", \"y\": [7.25, 8.05, 8.4583, 51.8625, 21.075, 8.05, 31.275, 29.125, 13.0, 26.0, 13.0, 35.5, 7.225, 263.0, 7.8958, 27.7208, 10.5, 82.1708, 52.0, 7.2292, 8.05, 7.8958, 8.05, 15.5, 21.6792, 39.6875, 7.8, 61.9792, 35.5, 7.2292, 46.9, 7.2292, 83.475, 27.9, 27.7208, 15.2458, 8.1583, 8.6625, 10.5, 73.5, 14.4542, 56.4958, 7.65, 7.8958, 8.05, 29.0, 9.0, 9.5, 47.1, 34.375, 8.05, 8.05, 8.05, 7.8542, 61.175, 20.575, 7.25, 8.05, 34.6542, 63.3583, 26.0, 7.8958, 77.2875, 8.6542, 7.925, 7.8958, 7.775, 7.8958, 52.0, 8.05, 7.925, 7.75, 21.0, 247.5208, 73.5, 8.05, 30.0708, 77.2875, 11.2417, 7.75, 7.1417, 6.975, 7.8958, 7.05, 13.0, 15.0458, 53.1, 9.2167, 79.2, 6.75, 11.5, 36.75, 7.7958, 26.0, 13.0, 12.525, 8.05, 14.5, 7.3125, 61.3792, 8.05, 8.6625, 69.55, 16.1, 7.775, 8.6625, 39.6875, 20.525, 25.925, 56.4958, 33.5, 29.125, 7.925, 30.6958, 7.8542, 25.4667, 13.0, 0.0, 15.05, 31.3875, 39.0, 50.0, 26.55, 15.5, 7.8958, 13.0, 26.0, 7.75, 8.4042, 9.5, 69.55, 6.4958, 7.225, 8.05, 15.85, 18.7875, 31.0, 7.05, 7.25, 13.0, 7.75, 27.0, 10.5, 8.05, 13.0, 8.05, 7.8958, 90.0, 9.35, 10.5, 7.25, 13.0, 7.775, 13.5, 10.5, 26.0, 10.5, 12.275, 10.5, 7.125, 7.225, 90.0, 52.5542, 26.0, 7.25, 26.55, 16.1, 7.75, 31.3875, 79.65, 0.0, 10.5, 39.6875, 7.775, 31.0, 0.0, 29.7, 0.0, 29.125, 7.75, 7.8542, 9.5, 8.05, 26.0, 8.6625, 9.5, 7.8958, 13.0, 12.875, 7.8958, 27.7208, 7.2292, 30.5, 23.25, 0.0, 8.05, 151.55, 24.0, 7.8958, 26.25, 14.0, 7.25, 7.8958, 69.55, 6.2375, 28.5, 153.4625, 18.0, 7.8958, 66.6, 8.05, 35.5, 26.0, 13.0, 13.0, 13.0, 15.9, 8.6625, 9.225, 35.0, 7.2292, 17.8, 7.225, 9.5, 27.9, 27.7208, 7.05, 15.5, 7.25, 55.4417, 6.4958, 8.05, 135.6333, 211.5, 4.0125, 7.775, 7.925, 7.8958, 73.5, 46.9, 7.7292, 120.0, 7.7958, 7.925, 7.7958, 26.0, 10.5, 7.925, 8.05, 15.85, 21.0, 7.75, 18.75, 7.775, 7.8958, 6.8583, 0.0, 7.925, 13.0, 7.8958, 7.7333, 7.875, 20.2125, 7.25, 7.75, 8.05, 26.55, 7.125, 55.9, 263.0, 10.5, 9.5, 7.775, 8.1125, 81.8583, 26.55, 30.5, 27.75, 19.9667, 27.75, 89.1042, 8.05, 7.8958, 26.55, 7.75, 26.55, 8.05, 38.5, 13.0, 8.05, 7.05, 0.0, 26.55, 7.725, 7.25, 8.6625, 52.0, 21.0, 7.0458, 7.5208, 46.9, 0.0, 8.05, 91.0792, 29.7, 8.05, 15.9, 19.9667, 7.25, 30.5, 49.5042, 8.05, 14.4583, 15.1, 7.7958, 8.6625, 108.9, 26.55, 22.525, 56.4958, 7.75, 8.05, 26.2875, 7.4958, 34.0208, 24.15, 7.8958, 7.8958, 7.225, 7.2292, 7.75, 221.7792, 7.925, 11.5, 7.2292, 7.2292, 26.55, 14.5, 26.0, 106.425, 26.0, 13.8625, 20.525, 36.75, 110.8833, 26.0, 7.8292, 7.225, 26.55, 227.525, 7.75, 7.8958, 13.5, 8.05, 24.15, 7.8958, 7.2292, 7.8542, 10.5, 26.3875, 8.05, 14.5, 7.925, 26.0, 40.125, 8.7125, 15.0, 79.2, 8.05, 8.05, 7.125, 7.25, 26.0, 24.15, 0.0, 7.225, 56.9292, 7.8958, 42.4, 8.05, 26.55, 15.55, 7.8958, 30.5, 7.05, 7.75, 8.05, 14.4, 10.5, 14.4542, 52.5542, 15.7417, 7.8542, 16.1, 32.3208, 12.35, 7.8958, 7.7333, 30.0, 7.0542, 30.5, 0.0, 7.925, 26.25, 16.1, 7.8542, 56.4958, 76.7292, 7.8958, 35.5, 7.55, 7.8958, 8.4333, 73.5, 7.8958, 13.0, 113.275, 133.65, 7.225, 25.5875, 7.4958, 7.925, 73.5, 13.0, 7.775, 8.05, 52.0, 10.5, 13.0, 0.0, 7.775, 8.05, 512.3292, 76.7292, 9.225, 46.9, 39.0, 41.5792, 39.6875, 10.1708, 7.7958, 57.0, 56.4958, 7.225, 26.55, 13.5, 8.05, 110.8833, 7.65, 26.2875, 7.7417, 7.8542, 26.0, 26.2875, 15.2458, 26.55, 52.0, 9.4833, 13.0, 7.65, 15.5, 7.775, 7.0542, 13.0, 13.0, 53.1, 8.6625, 26.0, 18.7875, 0.0, 13.0, 13.0, 16.1, 512.3292, 7.8958, 7.8958, 30.0, 78.85, 16.1, 7.925, 71.0, 20.25, 53.1, 7.75, 12.475, 9.5, 7.8958, 14.5, 7.7958, 11.5, 8.05, 14.5, 7.125, 7.2292, 7.775, 39.6, 24.15, 8.3625, 9.5, 7.8542, 7.225, 7.75, 7.75, 7.7375, 30.0, 23.45, 7.05, 7.25, 29.125, 20.575, 79.2, 7.75, 26.0, 30.6958, 7.8958, 13.0, 7.2292, 13.0, 120.0, 8.5167, 6.975, 7.775, 0.0, 13.0, 7.8875, 24.15, 10.5, 8.05, 0.0, 37.0042, 6.45, 27.9, 8.6625, 0.0, 39.6875, 6.95, 56.4958, 37.0042, 7.75, 18.75, 7.2292, 7.8542, 8.3, 8.6625, 8.05, 56.4958, 29.7, 7.925, 10.5, 6.4375, 8.6625, 7.55, 69.55, 7.8958, 33.0, 31.275, 7.775, 26.55, 7.2292, 14.1083, 11.5, 13.0, 50.4958, 9.5, 11.1333, 7.8958, 5.0, 9.0, 9.8458, 7.8958, 7.8958, 7.8958, 10.5, 7.05, 13.0, 30.0, 7.75], \"yaxis\": \"y\"}, {\"hovertemplate\": \"<b>%{hovertext}</b><br><br>Sex=female<br>Age=%{x}<br>Fare=%{y}<br>Pclass=%{marker.size}<extra></extra>\", \"hovertext\": [\"Cumings, Mrs. John Bradley (Florence Briggs Thayer)\", \"Heikkinen, Miss. Laina\", \"Futrelle, Mrs. Jacques Heath (Lily May Peel)\", \"Johnson, Mrs. Oscar W (Elisabeth Vilhelmina Berg)\", \"Nasser, Mrs. Nicholas (Adele Achem)\", \"Sandstrom, Miss. Marguerite Rut\", \"Bonnell, Miss. Elizabeth\", \"Vestrom, Miss. Hulda Amanda Adolfina\", \"Hewlett, Mrs. (Mary D Kingcome) \", \"Vander Planke, Mrs. Julius (Emelia Maria Vandemoortele)\", \"Masselmani, Mrs. Fatima\", \"McGowan, Miss. Anna \\\"Annie\\\"\", \"Palsson, Miss. Torborg Danira\", \"Asplund, Mrs. Carl Oscar (Selma Augusta Emilia Johansson)\", \"O'Dwyer, Miss. Ellen \\\"Nellie\\\"\", \"Spencer, Mrs. William Augustus (Marie Eugenie)\", \"Glynn, Miss. Mary Agatha\", \"Vander Planke, Miss. Augusta Maria\", \"Nicola-Yarred, Miss. Jamila\", \"Ahlin, Mrs. Johan (Johanna Persdotter Larsson)\", \"Turpin, Mrs. William John Robert (Dorothy Ann Wonnacott)\", \"Laroche, Miss. Simonne Marie Anne Andree\", \"Devaney, Miss. Margaret Delia\", \"O'Driscoll, Miss. Bridget\", \"Arnold-Franchi, Mrs. Josef (Josefine Franchi)\", \"Harper, Mrs. Henry Sleeper (Myna Haxtun)\", \"Faunthorpe, Mrs. Lizzie (Elizabeth Anne Wilkinson)\", \"Rugg, Miss. Emily\", \"West, Miss. Constance Mirium\", \"Icard, Miss. Amelie\", \"Nye, Mrs. (Elizabeth Ramell)\", \"Andersson, Miss. Erna Alexandra\", \"Goodwin, Miss. Lillian Amy\", \"Dowdell, Miss. Elizabeth\", \"McDermott, Miss. Brigdet Delia\", \"Ilett, Miss. Bertha\", \"Backstrom, Mrs. Karl Alfred (Maria Mathilda Gustafsson)\", \"Fortune, Miss. Mabel Helen\", \"Doling, Mrs. John T (Ada Julia Bone)\", \"Petranec, Miss. Matilda\", \"Salkjelsvik, Miss. Anna Kristine\", \"Moran, Miss. Bertha\", \"Zabour, Miss. Hileni\", \"Jussila, Miss. Katriina\", \"Attalah, Miss. Malake\", \"Andersson, Miss. Ellis Anna Maria\", \"Webber, Miss. Susan\", \"Peter, Miss. Anna\", \"Robins, Mrs. Alexander A (Grace Charity Laury)\", \"Weisz, Mrs. Leopold (Mathilde Francoise Pede)\", \"Newsom, Miss. Helen Monypeny\", \"Boulos, Mrs. Joseph (Sultana)\", \"Nysten, Miss. Anna Sofia\", \"Hakkarainen, Mrs. Pekka Pietari (Elin Matilda Dolck)\", \"Ford, Miss. Robina Maggie \\\"Ruby\\\"\", \"Pears, Mrs. Thomas (Edith Wearne)\", \"Gilnagh, Miss. Katherine \\\"Katie\\\"\", \"Watt, Mrs. James (Elizabeth \\\"Bessie\\\" Inglis Milne)\", \"Chibnall, Mrs. (Edith Martha Bowerman)\", \"Skoog, Mrs. William (Anna Bernhardina Karlsson)\", \"Johnson, Miss. Eleanor Ileen\", \"Isham, Miss. Ann Elizabeth\", \"Sage, Miss. Constance Gladys\", \"Kink-Heilmann, Miss. Luise Gretchen\", \"O'Brien, Mrs. Thomas (Johanna \\\"Hannah\\\" Godfrey)\", \"Pinsky, Mrs. (Rosa)\", \"Andersen-Jensen, Miss. Carla Christine Nielsine\", \"Brown, Mrs. James Joseph (Margaret Tobin)\", \"Lurette, Miss. Elise\", \"Madigan, Miss. Margaret \\\"Maggie\\\"\", \"Yrois, Miss. Henriette (\\\"Mrs Harbeck\\\")\", \"Strom, Miss. Telma Matilda\", \"Carr, Miss. Helen \\\"Ellen\\\"\", \"Cameron, Miss. Clear Annie\", \"Newell, Miss. Madeleine\", \"Honkanen, Miss. Eliina\", \"Bazzani, Miss. Albina\", \"Lefebre, Miss. Mathilde\", \"Harris, Mrs. Henry Birkhardt (Irene Wallach)\", \"Asplund, Miss. Lillian Gertrud\", \"Harknett, Miss. Alice Phoebe\", \"Collyer, Miss. Marjorie \\\"Lottie\\\"\", \"Zabour, Miss. Thamine\", \"Murphy, Miss. Katherine \\\"Kate\\\"\", \"Lindahl, Miss. Agda Thorilda Viktoria\", \"Hamalainen, Mrs. William (Anna)\", \"Strom, Mrs. Wilhelm (Elna Matilda Persson)\", \"Rosblom, Mrs. Viktor (Helena Wilhelmina)\", \"Touma, Mrs. Darwis (Hanne Youssef Razi)\", \"Thorne, Mrs. Gertrude Maybelle\", \"Cherry, Miss. Gladys\", \"Ward, Miss. Anna\", \"Parrish, Mrs. (Lutie Davis)\", \"Henry, Miss. Delia\", \"Graham, Mrs. William Thompson (Edith Junkins)\", \"Bissette, Miss. Amelia\", \"Mellinger, Mrs. (Elizabeth Anne Maidment)\", \"Healy, Miss. Hanora \\\"Nora\\\"\", \"Andrews, Miss. Kornelia Theodosia\", \"Lindblom, Miss. Augusta Charlotta\", \"Abbott, Mrs. Stanton (Rosa Hunt)\", \"Connolly, Miss. Kate\", \"Barber, Miss. Ellen \\\"Nellie\\\"\", \"Bishop, Mrs. Dickinson H (Helen Walton)\", \"Haas, Miss. Aloisia\", \"Allison, Miss. Helen Loraine\", \"Baxter, Mrs. James (Helene DeLaudeniere Chaput)\", \"Kelly, Miss. Anna Katherine \\\"Annie Kate\\\"\", \"Keane, Miss. Nora A\", \"Fleming, Miss. Margaret\", \"Penasco y Castellana, Mrs. Victor de Satode (Maria Josefa Perez de Soto y Vallejo)\", \"Francatelli, Miss. Laura Mabel\", \"Hays, Miss. Margaret Bechstein\", \"Ryerson, Miss. Emily Borie\", \"Lahtinen, Mrs. William (Anna Sylfven)\", \"Nilsson, Miss. Helmina Josefina\", \"Kantor, Mrs. Sinai (Miriam Sternin)\", \"Wick, Miss. Mary Natalie\", \"Spedden, Mrs. Frederic Oakley (Margaretta Corning Stone)\", \"Slayter, Miss. Hilda Mary\", \"Caldwell, Mrs. Albert Francis (Sylvia Mae Harbaugh)\", \"Young, Miss. Marie Grice\", \"Ball, Mrs. (Ada E Hall)\", \"Goldsmith, Mrs. Frank John (Emily Alice Brown)\", \"Hippach, Miss. Jean Gertrude\", \"McCoy, Miss. Agnes\", \"Frauenthal, Mrs. Henry William (Clara Heinsheimer)\", \"Burns, Miss. Elizabeth Margaret\", \"Fortune, Miss. Alice Elizabeth\", \"Brown, Miss. Amelia \\\"Mildred\\\"\", \"Smith, Miss. Marion Elsie\", \"Davison, Mrs. Thomas Henry (Mary E Finck)\", \"Bowerman, Miss. Elsie Edith\", \"Funk, Miss. Annie Clemmer\", \"McGovern, Miss. Mary\", \"Mockler, Miss. Helen Mary \\\"Ellie\\\"\", \"Barbara, Mrs. (Catherine David)\", \"Warren, Mrs. Frank Manley (Anna Sophia Atkinson)\", \"Moussa, Mrs. (Mantoura Boulos)\", \"Jermyn, Miss. Annie\", \"Aubart, Mme. Leontine Pauline\", \"Palsson, Miss. Stina Viola\", \"Meyer, Mrs. Edgar Joseph (Leila Saks)\", \"Landergren, Miss. Aurora Adelia\", \"Bidois, Miss. Rosalie\", \"Nakid, Miss. Maria (\\\"Mary\\\")\", \"Holverson, Mrs. Alexander Oskar (Mary Aline Towner)\", \"Buss, Miss. Kate\", \"Lehmann, Miss. Bertha\", \"Newell, Miss. Marjorie\", \"Sandstrom, Mrs. Hjalmar (Agnes Charlotta Bengtsson)\", \"Olsson, Miss. Elina\", \"Trout, Mrs. William H (Jessie L)\", \"Jussila, Miss. Mari Aina\", \"Oreskovic, Miss. Marija\", \"Lefebre, Miss. Ida\", \"Minahan, Miss. Daisy E\", \"Meek, Mrs. Thomas (Annie Louise Rowley)\", \"Drew, Mrs. James Vivian (Lulu Thorne Christian)\", \"Silven, Miss. Lyyli Karoliina\", \"Van Impe, Miss. Catharina\", \"Danbom, Mrs. Ernst Gilbert (Anna Sigrid Maria Brogren)\", \"Clarke, Mrs. Charles V (Ada Maria Winfield)\", \"Phillips, Miss. Kate Florence (\\\"Mrs Kate Louise Phillips Marshall\\\")\", \"Thorneycroft, Mrs. Percival (Florence Kate White)\", \"Louch, Mrs. Charles Alexander (Alice Adelaide Slow)\", \"Carter, Miss. Lucile Polk\", \"Ford, Miss. Doolina Margaret \\\"Daisy\\\"\", \"Richards, Mrs. Sidney (Emily Hocking)\", \"Hart, Mrs. Benjamin (Esther Ada Bloomfield)\", \"Reynaldo, Ms. Encarnacion\", \"Mellinger, Miss. Madeleine Violet\", \"Baclini, Miss. Marie Catherine\", \"Kenyon, Mrs. Frederick R (Marion)\", \"Toomey, Miss. Ellen\", \"Baclini, Miss. Helene Barbara\", \"West, Mrs. Edwy Arthur (Ada Mary Worth)\", \"Jerwan, Mrs. Amin S (Marie Marthe Thuillard)\", \"Strandberg, Miss. Ida Sofia\", \"Hirvonen, Miss. Hildur E\", \"Turkula, Mrs. (Hedwig)\", \"Lefebre, Miss. Jeannie\", \"Hoyt, Mrs. Frederick Maxfield (Jane Anne Forby)\", \"Eustis, Miss. Elizabeth Mussey\", \"Allison, Mrs. Hudson J C (Bessie Waldo Daniels)\", \"Canavan, Miss. Mary\", \"O'Sullivan, Miss. Bridget Mary\", \"Laitinen, Miss. Kristina Sofia\", \"Maioni, Miss. Roberta\", \"Quick, Mrs. Frederick Charles (Jane Richards)\", \"Rothschild, Mrs. Martin (Elizabeth L. Barrett)\", \"Lemore, Mrs. (Amelia Milley)\", \"Angle, Mrs. William A (Florence \\\"Mary\\\" Agnes Hughes)\", \"Perreault, Miss. Anne\", \"Hippach, Mrs. Louis Albert (Ida Sophia Fischer)\", \"Ridsdale, Miss. Lucy\", \"Quick, Miss. Phyllis May\", \"Peter, Mrs. Catherine (Catherine Rizk)\", \"Cacic, Miss. Marija\", \"Hart, Miss. Eva Miriam\", \"LeRoy, Miss. Bertha\", \"Frolicher, Miss. Hedwig Margaritha\", \"Crosby, Miss. Harriet R\", \"Andersson, Miss. Ingeborg Constanzia\", \"Andersson, Miss. Sigrid Elisabeth\", \"Beane, Mrs. Edward (Ethel Clarke)\", \"Ohman, Miss. Velin\", \"Duff Gordon, Lady. (Lucille Christiana Sutherland) (\\\"Mrs Morgan\\\")\", \"Taussig, Mrs. Emil (Tillie Mandelbaum)\", \"de Messemaeker, Mrs. Guillaume Joseph (Emma)\", \"Meanwell, Miss. (Marion Ogden)\", \"Palsson, Mrs. Nils (Alma Cornelia Berglund)\", \"Appleton, Mrs. Edward Dale (Charlotte Lamson)\", \"Kelly, Miss. Mary\", \"Garside, Miss. Ethel\", \"Silvey, Mrs. William Baird (Alice Munger)\", \"Caram, Mrs. Joseph (Maria Elias)\", \"Christy, Miss. Julie Rachel\", \"Thayer, Mrs. John Borland (Marian Longstreth Morris)\", \"Taussig, Miss. Ruth\", \"Stephenson, Mrs. Walter Bertram (Martha Eustis)\", \"Bourke, Miss. Mary\", \"Leitch, Miss. Jessie Wills\", \"Jacobsohn, Mrs. Sidney Samuel (Amy Frances Christy)\", \"Laroche, Mrs. Joseph (Juliette Marie Louise Lafargue)\", \"Shutes, Miss. Elizabeth W\", \"Andersson, Mrs. Anders Johan (Alfrida Konstantia Brogren)\", \"Murphy, Miss. Margaret Jane\", \"Herman, Miss. Alice\", \"Lobb, Mrs. William Arthur (Cordelia K Stanlick)\", \"Becker, Miss. Marion Louise\", \"Longley, Miss. Gretchen Fiske\", \"Skoog, Miss. Mabel\", \"Davis, Miss. Mary\", \"Panula, Mrs. Juha (Maria Emilia Ojala)\", \"Sagesser, Mlle. Emma\", \"Skoog, Miss. Margit Elizabeth\", \"Baclini, Miss. Eugenie\", \"Stanley, Miss. Amy Zillah Elsie\", \"Doling, Miss. Elsie\", \"O'Leary, Miss. Hanora \\\"Norah\\\"\", \"Hegarty, Miss. Hanora \\\"Nora\\\"\", \"Bourke, Mrs. John (Catherine)\", \"Taylor, Mrs. Elmer Zebley (Juliet Cummins Wright)\", \"Brown, Mrs. Thomas William Solomon (Elizabeth Catherine Ford)\", \"Turja, Miss. Anna Sofia\", \"Goodwin, Mrs. Frederick (Augusta Tyler)\", \"Peters, Miss. Katie\", \"Madill, Miss. Georgette Alexandra\", \"Karun, Miss. Manca\", \"Mullens, Miss. Katherine \\\"Katie\\\"\", \"Astor, Mrs. John Jacob (Madeleine Talmadge Force)\", \"Barbara, Miss. Saiide\", \"Kelly, Mrs. Florence \\\"Fannie\\\"\", \"Cleaver, Miss. Alice\", \"Mayne, Mlle. Berthe Antonine (\\\"Mrs de Villiers\\\")\", \"Endres, Miss. Caroline Louise\", \"Troutt, Miss. Edwina Celia \\\"Winnie\\\"\", \"Harper, Miss. Annie Jessie \\\"Nina\\\"\", \"Renouf, Mrs. Peter Henry (Lillian Jefferys)\", \"Mannion, Miss. Margareth\", \"Ilmakangas, Miss. Pieta Sofia\", \"Allen, Miss. Elisabeth Walton\", \"Ford, Mrs. Edward (Margaret Ann Watson)\", \"Ryerson, Miss. Susan Parker \\\"Suzette\\\"\", \"Sinkkonen, Miss. Anna\", \"Wells, Miss. Joan\", \"Herman, Mrs. Samuel (Jane Laver)\", \"Rothes, the Countess. of (Lucy Noel Martha Dyer-Edwards)\", \"Carter, Mrs. William Ernest (Lucile Polk)\", \"Hogeboom, Mrs. John C (Anna Andrews)\", \"Mangan, Miss. Mary\", \"Mack, Mrs. (Mary)\", \"Hocking, Mrs. Elizabeth (Eliza Needs)\", \"Emanuel, Miss. Virginia Ethel\", \"Robert, Mrs. Edward Scott (Elisabeth Walton McMillan)\", \"Ayoub, Miss. Banoura\", \"Dick, Mrs. Albert Adrian (Vera Gillespie)\", \"Sjoblom, Miss. Anna Sofia\", \"Sage, Miss. Stella Anna\", \"Leader, Dr. Alice (Farnham)\", \"Osman, Mrs. Mara\", \"Van Impe, Mrs. Jean Baptiste (Rosalie Paula Govaert)\", \"Collyer, Mrs. Harvey (Charlotte Annie Tate)\", \"Pettersson, Miss. Ellen Natalia\", \"Chambers, Mrs. Norman Campbell (Bertha Griggs)\", \"Andersson, Miss. Ebba Iris Alfrida\", \"Heininen, Miss. Wendla Maria\", \"Hays, Mrs. Charles Melville (Clara Jennings Gregg)\", \"Moor, Mrs. (Beila)\", \"Stone, Mrs. George Nelson (Martha Evelyn)\", \"Yasbeck, Mrs. Antoni (Selini Alexander)\", \"Compton, Miss. Sara Rebecca\", \"Serepeca, Miss. Augusta\", \"Goldenberg, Mrs. Samuel L (Edwiga Grabowska)\", \"Boulos, Miss. Nourelain\", \"Lines, Miss. Mary Conover\", \"Carter, Mrs. Ernest Courtenay (Lilian Hughes)\", \"Aks, Mrs. Sam (Leah Rosen)\", \"Wick, Mrs. George Dennick (Mary Hitchcock)\", \"Baclini, Mrs. Solomon (Latifa Qurban)\", \"Swift, Mrs. Frederick Joel (Margaret Welles Barron)\", \"Sage, Miss. Dorothy Edith \\\"Dolly\\\"\", \"Bystrom, Mrs. (Karolina)\", \"Duran y More, Miss. Asuncion\", \"Beckwith, Mrs. Richard Leonard (Sallie Monypeny)\", \"Abelson, Mrs. Samuel (Hannah Wizosky)\", \"Najib, Miss. Adele Kiamie \\\"Jane\\\"\", \"Potter, Mrs. Thomas Jr (Lily Alexenia Wilson)\", \"Shelley, Mrs. William (Imanita Parrish Hall)\", \"Dahlberg, Miss. Gerda Ulrika\", \"Rice, Mrs. William (Margaret Norton)\", \"Graham, Miss. Margaret Edith\", \"Johnston, Miss. Catherine Helen \\\"Carrie\\\"\"], \"legendgroup\": \"female\", \"marker\": {\"color\": \"#EF553B\", \"size\": [1, 3, 1, 3, 2, 3, 1, 3, 2, 3, 3, 3, 3, 3, 3, 1, 3, 3, 3, 3, 2, 2, 3, 3, 3, 1, 2, 2, 2, 1, 2, 3, 3, 3, 3, 2, 3, 1, 2, 3, 3, 3, 3, 3, 3, 3, 2, 3, 3, 2, 1, 3, 3, 3, 3, 1, 3, 2, 1, 3, 3, 1, 3, 3, 3, 2, 3, 1, 1, 3, 2, 3, 3, 2, 1, 3, 1, 3, 1, 3, 3, 2, 3, 3, 3, 2, 3, 3, 3, 1, 1, 1, 2, 3, 1, 1, 2, 3, 1, 3, 3, 3, 1, 1, 3, 1, 1, 3, 2, 1, 1, 1, 1, 1, 2, 3, 2, 1, 1, 2, 2, 1, 2, 3, 1, 3, 1, 1, 1, 2, 2, 3, 1, 2, 3, 3, 3, 1, 3, 3, 1, 3, 1, 3, 1, 3, 1, 2, 2, 1, 3, 3, 2, 3, 3, 3, 1, 3, 2, 2, 3, 3, 2, 2, 3, 2, 1, 3, 2, 2, 2, 2, 3, 1, 2, 3, 2, 2, 3, 3, 3, 3, 1, 1, 1, 3, 3, 3, 1, 2, 1, 2, 2, 1, 1, 2, 2, 3, 3, 2, 1, 1, 1, 3, 3, 2, 3, 1, 1, 3, 3, 3, 1, 3, 2, 1, 3, 2, 1, 1, 1, 3, 2, 2, 2, 1, 3, 3, 2, 3, 2, 1, 3, 2, 3, 1, 3, 3, 3, 2, 3, 3, 3, 1, 2, 3, 3, 3, 1, 3, 3, 1, 3, 2, 1, 1, 1, 2, 2, 2, 3, 3, 1, 3, 1, 2, 2, 2, 1, 1, 1, 3, 2, 2, 3, 1, 3, 1, 3, 3, 1, 3, 3, 2, 3, 1, 3, 3, 1, 3, 1, 3, 1, 1, 1, 3, 1, 2, 3, 1, 3, 1, 3, 2, 2, 1, 2, 3, 1, 2, 3, 3, 1, 3], \"sizemode\": \"area\", \"sizeref\": 0.0075, \"symbol\": \"circle\"}, \"mode\": \"markers\", \"name\": \"female\", \"orientation\": \"v\", \"showlegend\": true, \"type\": \"scatter\", \"x\": [38.0, 26.0, 35.0, 27.0, 14.0, 4.0, 58.0, 14.0, 55.0, 31.0, null, 15.0, 8.0, 38.0, null, null, null, 18.0, 14.0, 40.0, 27.0, 3.0, 19.0, null, 18.0, 49.0, 29.0, 21.0, 5.0, 38.0, 29.0, 17.0, 16.0, 30.0, null, 17.0, 33.0, 23.0, 34.0, 28.0, 21.0, null, 14.5, 20.0, 17.0, 2.0, 32.5, null, 47.0, 29.0, 19.0, null, 22.0, 24.0, 9.0, 22.0, 16.0, 40.0, null, 45.0, 1.0, 50.0, null, 4.0, null, 32.0, 19.0, 44.0, 58.0, null, 24.0, 2.0, 16.0, 35.0, 31.0, 27.0, 32.0, null, 35.0, 5.0, null, 8.0, null, null, 25.0, 24.0, 29.0, 41.0, 29.0, null, 30.0, 35.0, 50.0, null, 58.0, 35.0, 41.0, null, 63.0, 45.0, 35.0, 22.0, 26.0, 19.0, 24.0, 2.0, 50.0, null, null, null, 17.0, 30.0, 24.0, 18.0, 26.0, 26.0, 24.0, 31.0, 40.0, 30.0, 22.0, 36.0, 36.0, 31.0, 16.0, null, null, 41.0, 24.0, 24.0, 40.0, null, 22.0, 38.0, null, null, 45.0, 60.0, null, null, 24.0, 3.0, null, 22.0, 42.0, 1.0, 35.0, 36.0, 17.0, 23.0, 24.0, 31.0, 28.0, 21.0, 20.0, null, 33.0, null, 34.0, 18.0, 10.0, 28.0, 28.0, 19.0, null, 42.0, 14.0, 21.0, 24.0, 45.0, 28.0, 13.0, 5.0, null, 50.0, 0.75, 33.0, 23.0, 22.0, 2.0, 63.0, null, 35.0, 54.0, 25.0, 21.0, null, 37.0, 16.0, 33.0, 54.0, 34.0, 36.0, 30.0, 44.0, 50.0, 2.0, null, 30.0, 7.0, 30.0, 22.0, 36.0, 9.0, 11.0, 19.0, 22.0, 48.0, 39.0, 36.0, null, 29.0, 53.0, null, 34.0, 39.0, null, 25.0, 39.0, 18.0, 52.0, null, null, 24.0, 22.0, 40.0, 39.0, null, 24.0, 26.0, 4.0, 21.0, 9.0, 28.0, 41.0, 24.0, 2.0, 0.75, 23.0, 18.0, null, 18.0, 32.0, null, 40.0, 18.0, 43.0, null, 15.0, 4.0, null, 18.0, 18.0, 45.0, 22.0, 24.0, 38.0, 27.0, 6.0, 30.0, null, 25.0, 29.0, 48.0, 21.0, 30.0, 4.0, 48.0, 33.0, 36.0, 51.0, 30.5, 57.0, 54.0, 5.0, 43.0, 13.0, 17.0, 18.0, null, 49.0, 31.0, 30.0, 31.0, 18.0, 33.0, 6.0, 23.0, 52.0, 27.0, 62.0, 15.0, 39.0, 30.0, null, 9.0, 16.0, 44.0, 18.0, 45.0, 24.0, 48.0, null, 42.0, 27.0, 47.0, 28.0, 15.0, 56.0, 25.0, 22.0, 39.0, 19.0, null], \"xaxis\": \"x\", \"y\": [71.2833, 7.925, 53.1, 11.1333, 30.0708, 16.7, 26.55, 7.8542, 16.0, 18.0, 7.225, 8.0292, 21.075, 31.3875, 7.8792, 146.5208, 7.75, 18.0, 11.2417, 9.475, 21.0, 41.5792, 7.8792, 7.75, 17.8, 76.7292, 26.0, 10.5, 27.75, 80.0, 10.5, 7.925, 46.9, 12.475, 7.7875, 10.5, 15.85, 263.0, 23.0, 7.8958, 7.65, 24.15, 14.4542, 9.825, 14.4583, 31.275, 13.0, 22.3583, 14.5, 26.0, 26.2833, 15.2458, 7.75, 15.85, 34.375, 66.6, 7.7333, 15.75, 55.0, 27.9, 11.1333, 28.7125, 69.55, 22.025, 15.5, 13.0, 7.8542, 27.7208, 146.5208, 7.75, 13.0, 10.4625, 7.75, 21.0, 113.275, 7.925, 76.2917, 25.4667, 83.475, 31.3875, 7.55, 26.25, 14.4542, 15.5, 7.775, 14.5, 10.4625, 20.2125, 15.2458, 79.2, 86.5, 512.3292, 26.0, 7.75, 153.4625, 135.6333, 19.5, 7.75, 77.9583, 7.75, 20.25, 7.75, 78.85, 91.0792, 8.85, 151.55, 247.5208, 7.75, 12.35, 110.8833, 108.9, 56.9292, 83.1583, 262.375, 26.0, 7.8542, 26.0, 164.8667, 134.5, 12.35, 29.0, 135.6333, 13.0, 20.525, 57.9792, 23.25, 133.65, 134.5, 263.0, 13.0, 13.0, 16.1, 55.0, 13.0, 7.8792, 7.8792, 14.4542, 75.25, 7.2292, 7.75, 69.3, 21.075, 82.1708, 7.25, 227.525, 15.7417, 52.0, 13.0, 12.0, 113.275, 16.7, 7.8542, 12.65, 9.825, 8.6625, 25.4667, 90.0, 8.05, 32.5, 13.0, 24.15, 14.4, 26.0, 26.0, 16.1, 26.0, 120.0, 34.375, 18.75, 26.25, 13.0, 19.5, 19.2583, 51.8625, 10.5, 19.2583, 27.75, 13.7917, 9.8375, 12.2875, 9.5875, 25.4667, 90.0, 78.2667, 151.55, 7.75, 7.6292, 9.5875, 86.5, 26.0, 59.4, 10.5, 26.0, 93.5, 57.9792, 10.5, 26.0, 22.3583, 8.6625, 26.25, 106.425, 49.5, 71.0, 31.275, 31.275, 26.0, 7.775, 39.6, 79.65, 17.4, 8.05, 21.075, 51.4792, 7.75, 13.0, 55.9, 14.4583, 30.0, 110.8833, 79.65, 78.2667, 7.75, 33.0, 27.0, 41.5792, 153.4625, 31.275, 15.5, 65.0, 16.1, 39.0, 77.9583, 27.9, 13.0, 39.6875, 69.3, 27.9, 19.2583, 7.55, 23.0, 7.8292, 6.75, 15.5, 52.0, 39.0, 9.8417, 46.9, 8.1375, 211.3375, 13.4167, 7.7333, 227.525, 14.4542, 13.5, 151.55, 49.5042, 227.525, 10.5, 33.0, 21.0, 7.7375, 7.925, 211.3375, 34.375, 262.375, 13.0, 23.0, 65.0, 86.5, 120.0, 77.9583, 7.75, 10.5, 23.0, 12.475, 211.3375, 7.2292, 57.0, 7.4958, 69.55, 25.9292, 8.6833, 24.15, 26.25, 7.775, 53.1, 31.275, 7.925, 93.5, 12.475, 80.0, 14.4542, 83.1583, 31.0, 89.1042, 15.2458, 39.4, 26.0, 9.35, 164.8667, 19.2583, 25.9292, 69.55, 13.0, 13.8583, 52.5542, 24.0, 7.225, 83.1583, 26.0, 10.5167, 29.125, 30.0, 23.45], \"yaxis\": \"y\"}],                        {\"height\": 1600, \"legend\": {\"itemsizing\": \"constant\", \"title\": {\"text\": \"Sex\"}, \"tracegroupgap\": 0}, \"margin\": {\"t\": 60}, \"template\": {\"data\": {\"bar\": [{\"error_x\": {\"color\": \"#2a3f5f\"}, \"error_y\": {\"color\": \"#2a3f5f\"}, \"marker\": {\"line\": {\"color\": \"#E5ECF6\", \"width\": 0.5}}, \"type\": \"bar\"}], \"barpolar\": [{\"marker\": {\"line\": {\"color\": \"#E5ECF6\", \"width\": 0.5}}, \"type\": \"barpolar\"}], \"carpet\": [{\"aaxis\": {\"endlinecolor\": \"#2a3f5f\", \"gridcolor\": \"white\", \"linecolor\": \"white\", \"minorgridcolor\": \"white\", \"startlinecolor\": \"#2a3f5f\"}, \"baxis\": {\"endlinecolor\": \"#2a3f5f\", \"gridcolor\": \"white\", \"linecolor\": \"white\", \"minorgridcolor\": \"white\", \"startlinecolor\": \"#2a3f5f\"}, \"type\": \"carpet\"}], \"choropleth\": [{\"colorbar\": {\"outlinewidth\": 0, \"ticks\": \"\"}, \"type\": \"choropleth\"}], \"contour\": [{\"colorbar\": {\"outlinewidth\": 0, \"ticks\": \"\"}, \"colorscale\": [[0.0, \"#0d0887\"], [0.1111111111111111, \"#46039f\"], [0.2222222222222222, \"#7201a8\"], [0.3333333333333333, \"#9c179e\"], [0.4444444444444444, \"#bd3786\"], [0.5555555555555556, \"#d8576b\"], [0.6666666666666666, \"#ed7953\"], [0.7777777777777778, \"#fb9f3a\"], [0.8888888888888888, \"#fdca26\"], [1.0, \"#f0f921\"]], \"type\": \"contour\"}], \"contourcarpet\": [{\"colorbar\": {\"outlinewidth\": 0, \"ticks\": \"\"}, \"type\": \"contourcarpet\"}], \"heatmap\": [{\"colorbar\": {\"outlinewidth\": 0, \"ticks\": \"\"}, \"colorscale\": [[0.0, \"#0d0887\"], [0.1111111111111111, \"#46039f\"], [0.2222222222222222, \"#7201a8\"], [0.3333333333333333, \"#9c179e\"], [0.4444444444444444, \"#bd3786\"], [0.5555555555555556, \"#d8576b\"], [0.6666666666666666, \"#ed7953\"], [0.7777777777777778, \"#fb9f3a\"], [0.8888888888888888, \"#fdca26\"], [1.0, \"#f0f921\"]], \"type\": \"heatmap\"}], \"heatmapgl\": [{\"colorbar\": {\"outlinewidth\": 0, \"ticks\": \"\"}, \"colorscale\": [[0.0, \"#0d0887\"], [0.1111111111111111, \"#46039f\"], [0.2222222222222222, \"#7201a8\"], [0.3333333333333333, \"#9c179e\"], [0.4444444444444444, \"#bd3786\"], [0.5555555555555556, \"#d8576b\"], [0.6666666666666666, \"#ed7953\"], [0.7777777777777778, \"#fb9f3a\"], [0.8888888888888888, \"#fdca26\"], [1.0, \"#f0f921\"]], \"type\": \"heatmapgl\"}], \"histogram\": [{\"marker\": {\"colorbar\": {\"outlinewidth\": 0, \"ticks\": \"\"}}, \"type\": \"histogram\"}], \"histogram2d\": [{\"colorbar\": {\"outlinewidth\": 0, \"ticks\": \"\"}, \"colorscale\": [[0.0, \"#0d0887\"], [0.1111111111111111, \"#46039f\"], [0.2222222222222222, \"#7201a8\"], [0.3333333333333333, \"#9c179e\"], [0.4444444444444444, \"#bd3786\"], [0.5555555555555556, \"#d8576b\"], [0.6666666666666666, \"#ed7953\"], [0.7777777777777778, \"#fb9f3a\"], [0.8888888888888888, \"#fdca26\"], [1.0, \"#f0f921\"]], \"type\": \"histogram2d\"}], \"histogram2dcontour\": [{\"colorbar\": {\"outlinewidth\": 0, \"ticks\": \"\"}, \"colorscale\": [[0.0, \"#0d0887\"], [0.1111111111111111, \"#46039f\"], [0.2222222222222222, \"#7201a8\"], [0.3333333333333333, \"#9c179e\"], [0.4444444444444444, \"#bd3786\"], [0.5555555555555556, \"#d8576b\"], [0.6666666666666666, \"#ed7953\"], [0.7777777777777778, \"#fb9f3a\"], [0.8888888888888888, \"#fdca26\"], [1.0, \"#f0f921\"]], \"type\": \"histogram2dcontour\"}], \"mesh3d\": [{\"colorbar\": {\"outlinewidth\": 0, \"ticks\": \"\"}, \"type\": \"mesh3d\"}], \"parcoords\": [{\"line\": {\"colorbar\": {\"outlinewidth\": 0, \"ticks\": \"\"}}, \"type\": \"parcoords\"}], \"pie\": [{\"automargin\": true, \"type\": \"pie\"}], \"scatter\": [{\"marker\": {\"colorbar\": {\"outlinewidth\": 0, \"ticks\": \"\"}}, \"type\": \"scatter\"}], \"scatter3d\": [{\"line\": {\"colorbar\": {\"outlinewidth\": 0, \"ticks\": \"\"}}, \"marker\": {\"colorbar\": {\"outlinewidth\": 0, \"ticks\": \"\"}}, \"type\": \"scatter3d\"}], \"scattercarpet\": [{\"marker\": {\"colorbar\": {\"outlinewidth\": 0, \"ticks\": \"\"}}, \"type\": \"scattercarpet\"}], \"scattergeo\": [{\"marker\": {\"colorbar\": {\"outlinewidth\": 0, \"ticks\": \"\"}}, \"type\": \"scattergeo\"}], \"scattergl\": [{\"marker\": {\"colorbar\": {\"outlinewidth\": 0, \"ticks\": \"\"}}, \"type\": \"scattergl\"}], \"scattermapbox\": [{\"marker\": {\"colorbar\": {\"outlinewidth\": 0, \"ticks\": \"\"}}, \"type\": \"scattermapbox\"}], \"scatterpolar\": [{\"marker\": {\"colorbar\": {\"outlinewidth\": 0, \"ticks\": \"\"}}, \"type\": \"scatterpolar\"}], \"scatterpolargl\": [{\"marker\": {\"colorbar\": {\"outlinewidth\": 0, \"ticks\": \"\"}}, \"type\": \"scatterpolargl\"}], \"scatterternary\": [{\"marker\": {\"colorbar\": {\"outlinewidth\": 0, \"ticks\": \"\"}}, \"type\": \"scatterternary\"}], \"surface\": [{\"colorbar\": {\"outlinewidth\": 0, \"ticks\": \"\"}, \"colorscale\": [[0.0, \"#0d0887\"], [0.1111111111111111, \"#46039f\"], [0.2222222222222222, \"#7201a8\"], [0.3333333333333333, \"#9c179e\"], [0.4444444444444444, \"#bd3786\"], [0.5555555555555556, \"#d8576b\"], [0.6666666666666666, \"#ed7953\"], [0.7777777777777778, \"#fb9f3a\"], [0.8888888888888888, \"#fdca26\"], [1.0, \"#f0f921\"]], \"type\": \"surface\"}], \"table\": [{\"cells\": {\"fill\": {\"color\": \"#EBF0F8\"}, \"line\": {\"color\": \"white\"}}, \"header\": {\"fill\": {\"color\": \"#C8D4E3\"}, \"line\": {\"color\": \"white\"}}, \"type\": \"table\"}]}, \"layout\": {\"annotationdefaults\": {\"arrowcolor\": \"#2a3f5f\", \"arrowhead\": 0, \"arrowwidth\": 1}, \"autotypenumbers\": \"strict\", \"coloraxis\": {\"colorbar\": {\"outlinewidth\": 0, \"ticks\": \"\"}}, \"colorscale\": {\"diverging\": [[0, \"#8e0152\"], [0.1, \"#c51b7d\"], [0.2, \"#de77ae\"], [0.3, \"#f1b6da\"], [0.4, \"#fde0ef\"], [0.5, \"#f7f7f7\"], [0.6, \"#e6f5d0\"], [0.7, \"#b8e186\"], [0.8, \"#7fbc41\"], [0.9, \"#4d9221\"], [1, \"#276419\"]], \"sequential\": [[0.0, \"#0d0887\"], [0.1111111111111111, \"#46039f\"], [0.2222222222222222, \"#7201a8\"], [0.3333333333333333, \"#9c179e\"], [0.4444444444444444, \"#bd3786\"], [0.5555555555555556, \"#d8576b\"], [0.6666666666666666, \"#ed7953\"], [0.7777777777777778, \"#fb9f3a\"], [0.8888888888888888, \"#fdca26\"], [1.0, \"#f0f921\"]], \"sequentialminus\": [[0.0, \"#0d0887\"], [0.1111111111111111, \"#46039f\"], [0.2222222222222222, \"#7201a8\"], [0.3333333333333333, \"#9c179e\"], [0.4444444444444444, \"#bd3786\"], [0.5555555555555556, \"#d8576b\"], [0.6666666666666666, \"#ed7953\"], [0.7777777777777778, \"#fb9f3a\"], [0.8888888888888888, \"#fdca26\"], [1.0, \"#f0f921\"]]}, \"colorway\": [\"#636efa\", \"#EF553B\", \"#00cc96\", \"#ab63fa\", \"#FFA15A\", \"#19d3f3\", \"#FF6692\", \"#B6E880\", \"#FF97FF\", \"#FECB52\"], \"font\": {\"color\": \"#2a3f5f\"}, \"geo\": {\"bgcolor\": \"white\", \"lakecolor\": \"white\", \"landcolor\": \"#E5ECF6\", \"showlakes\": true, \"showland\": true, \"subunitcolor\": \"white\"}, \"hoverlabel\": {\"align\": \"left\"}, \"hovermode\": \"closest\", \"mapbox\": {\"style\": \"light\"}, \"paper_bgcolor\": \"white\", \"plot_bgcolor\": \"#E5ECF6\", \"polar\": {\"angularaxis\": {\"gridcolor\": \"white\", \"linecolor\": \"white\", \"ticks\": \"\"}, \"bgcolor\": \"#E5ECF6\", \"radialaxis\": {\"gridcolor\": \"white\", \"linecolor\": \"white\", \"ticks\": \"\"}}, \"scene\": {\"xaxis\": {\"backgroundcolor\": \"#E5ECF6\", \"gridcolor\": \"white\", \"gridwidth\": 2, \"linecolor\": \"white\", \"showbackground\": true, \"ticks\": \"\", \"zerolinecolor\": \"white\"}, \"yaxis\": {\"backgroundcolor\": \"#E5ECF6\", \"gridcolor\": \"white\", \"gridwidth\": 2, \"linecolor\": \"white\", \"showbackground\": true, \"ticks\": \"\", \"zerolinecolor\": \"white\"}, \"zaxis\": {\"backgroundcolor\": \"#E5ECF6\", \"gridcolor\": \"white\", \"gridwidth\": 2, \"linecolor\": \"white\", \"showbackground\": true, \"ticks\": \"\", \"zerolinecolor\": \"white\"}}, \"shapedefaults\": {\"line\": {\"color\": \"#2a3f5f\"}}, \"ternary\": {\"aaxis\": {\"gridcolor\": \"white\", \"linecolor\": \"white\", \"ticks\": \"\"}, \"baxis\": {\"gridcolor\": \"white\", \"linecolor\": \"white\", \"ticks\": \"\"}, \"bgcolor\": \"#E5ECF6\", \"caxis\": {\"gridcolor\": \"white\", \"linecolor\": \"white\", \"ticks\": \"\"}}, \"title\": {\"x\": 0.05}, \"xaxis\": {\"automargin\": true, \"gridcolor\": \"white\", \"linecolor\": \"white\", \"ticks\": \"\", \"title\": {\"standoff\": 15}, \"zerolinecolor\": \"white\", \"zerolinewidth\": 2}, \"yaxis\": {\"automargin\": true, \"gridcolor\": \"white\", \"linecolor\": \"white\", \"ticks\": \"\", \"title\": {\"standoff\": 15}, \"zerolinecolor\": \"white\", \"zerolinewidth\": 2}}}, \"width\": 1500, \"xaxis\": {\"anchor\": \"y\", \"domain\": [0.0, 1.0], \"title\": {\"text\": \"Age\"}}, \"yaxis\": {\"anchor\": \"x\", \"domain\": [0.0, 1.0], \"title\": {\"text\": \"Fare\"}}},                        {\"responsive\": true}                    ).then(function(){\n                            \nvar gd = document.getElementById('284899e1-aed4-4ab9-a943-d4a5891b4418');\nvar x = new MutationObserver(function (mutations, observer) {{\n        var display = window.getComputedStyle(gd).display;\n        if (!display || display === 'none') {{\n            console.log([gd, 'removed!']);\n            Plotly.purge(gd);\n            observer.disconnect();\n        }}\n}});\n\n// Listen for the removal of the full notebook cells\nvar notebookContainer = gd.closest('#notebook-container');\nif (notebookContainer) {{\n    x.observe(notebookContainer, {childList: true});\n}}\n\n// Listen for the clearing of the current output cell\nvar outputEl = gd.closest('.output');\nif (outputEl) {{\n    x.observe(outputEl, {childList: true});\n}}\n\n                        })                };                });            </script>        </div>"
          },
          "metadata": {}
        }
      ],
      "execution_count": 80,
      "metadata": {
        "collapsed": true,
        "jupyter": {
          "source_hidden": false,
          "outputs_hidden": false
        },
        "nteract": {
          "transient": {
            "deleting": false
          }
        },
        "gather": {
          "logged": 1618342594583
        }
      }
    },
    {
      "cell_type": "code",
      "source": [],
      "outputs": [],
      "execution_count": null,
      "metadata": {
        "collapsed": true,
        "jupyter": {
          "source_hidden": false,
          "outputs_hidden": false
        },
        "nteract": {
          "transient": {
            "deleting": false
          }
        }
      }
    }
  ],
  "metadata": {
    "kernelspec": {
      "name": "python3-azureml",
      "language": "python",
      "display_name": "Python 3.6 - AzureML"
    },
    "language_info": {
      "name": "python",
      "version": "3.6.9",
      "mimetype": "text/x-python",
      "codemirror_mode": {
        "name": "ipython",
        "version": 3
      },
      "pygments_lexer": "ipython3",
      "nbconvert_exporter": "python",
      "file_extension": ".py"
    },
    "kernel_info": {
      "name": "python3-azureml"
    },
    "nteract": {
      "version": "nteract-front-end@1.0.0"
    },
    "microsoft": {
      "host": {
        "AzureML": {
          "notebookHasBeenCompleted": true
        }
      }
    }
  },
  "nbformat": 4,
  "nbformat_minor": 2
}